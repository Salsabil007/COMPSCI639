{
 "cells": [
  {
   "cell_type": "code",
   "execution_count": 2,
   "metadata": {},
   "outputs": [],
   "source": [
    "import matplotlib.pyplot as plots\n",
    "plots.style.use('fivethirtyeight')\n",
    "import pandas as pd\n",
    "import numpy as np"
   ]
  },
  {
   "cell_type": "code",
   "execution_count": 3,
   "metadata": {},
   "outputs": [],
   "source": [
    "sf2019 = pd.read_csv('san_francisco_2019.csv')"
   ]
  },
  {
   "cell_type": "code",
   "execution_count": 5,
   "metadata": {},
   "outputs": [
    {
     "data": {
      "text/html": [
       "<div>\n",
       "<style scoped>\n",
       "    .dataframe tbody tr th:only-of-type {\n",
       "        vertical-align: middle;\n",
       "    }\n",
       "\n",
       "    .dataframe tbody tr th {\n",
       "        vertical-align: top;\n",
       "    }\n",
       "\n",
       "    .dataframe thead th {\n",
       "        text-align: right;\n",
       "    }\n",
       "</style>\n",
       "<table border=\"1\" class=\"dataframe\">\n",
       "  <thead>\n",
       "    <tr style=\"text-align: right;\">\n",
       "      <th></th>\n",
       "      <th>Organization Group</th>\n",
       "      <th>Department</th>\n",
       "      <th>Job Family</th>\n",
       "      <th>Job</th>\n",
       "      <th>Salary</th>\n",
       "      <th>Overtime</th>\n",
       "      <th>Benefits</th>\n",
       "      <th>Total Compensation</th>\n",
       "    </tr>\n",
       "  </thead>\n",
       "  <tbody>\n",
       "    <tr>\n",
       "      <th>0</th>\n",
       "      <td>Public Protection</td>\n",
       "      <td>Adult Probation</td>\n",
       "      <td>Information Systems</td>\n",
       "      <td>IS Trainer-Journey</td>\n",
       "      <td>91332.0</td>\n",
       "      <td>0.0</td>\n",
       "      <td>40059.0</td>\n",
       "      <td>131391.0</td>\n",
       "    </tr>\n",
       "    <tr>\n",
       "      <th>1</th>\n",
       "      <td>Public Protection</td>\n",
       "      <td>Adult Probation</td>\n",
       "      <td>Information Systems</td>\n",
       "      <td>IS Engineer-Assistant</td>\n",
       "      <td>123241.0</td>\n",
       "      <td>0.0</td>\n",
       "      <td>49279.0</td>\n",
       "      <td>172520.0</td>\n",
       "    </tr>\n",
       "    <tr>\n",
       "      <th>2</th>\n",
       "      <td>Public Protection</td>\n",
       "      <td>Adult Probation</td>\n",
       "      <td>Information Systems</td>\n",
       "      <td>IS Business Analyst-Senior</td>\n",
       "      <td>115715.0</td>\n",
       "      <td>0.0</td>\n",
       "      <td>46752.0</td>\n",
       "      <td>162468.0</td>\n",
       "    </tr>\n",
       "    <tr>\n",
       "      <th>3</th>\n",
       "      <td>Public Protection</td>\n",
       "      <td>Adult Probation</td>\n",
       "      <td>Information Systems</td>\n",
       "      <td>IS Business Analyst-Principal</td>\n",
       "      <td>159394.0</td>\n",
       "      <td>0.0</td>\n",
       "      <td>57312.0</td>\n",
       "      <td>216706.0</td>\n",
       "    </tr>\n",
       "    <tr>\n",
       "      <th>4</th>\n",
       "      <td>Public Protection</td>\n",
       "      <td>Adult Probation</td>\n",
       "      <td>Information Systems</td>\n",
       "      <td>IS Programmer Analyst</td>\n",
       "      <td>70035.0</td>\n",
       "      <td>0.0</td>\n",
       "      <td>28671.0</td>\n",
       "      <td>98706.0</td>\n",
       "    </tr>\n",
       "    <tr>\n",
       "      <th>...</th>\n",
       "      <td>...</td>\n",
       "      <td>...</td>\n",
       "      <td>...</td>\n",
       "      <td>...</td>\n",
       "      <td>...</td>\n",
       "      <td>...</td>\n",
       "      <td>...</td>\n",
       "      <td>...</td>\n",
       "    </tr>\n",
       "    <tr>\n",
       "      <th>44520</th>\n",
       "      <td>General Administration &amp; Finance</td>\n",
       "      <td>Treasurer/Tax Collector</td>\n",
       "      <td>Revenue</td>\n",
       "      <td>Investigator, Tax Collector</td>\n",
       "      <td>44961.0</td>\n",
       "      <td>42.0</td>\n",
       "      <td>19546.0</td>\n",
       "      <td>64549.0</td>\n",
       "    </tr>\n",
       "    <tr>\n",
       "      <th>44521</th>\n",
       "      <td>General Administration &amp; Finance</td>\n",
       "      <td>Treasurer/Tax Collector</td>\n",
       "      <td>Revenue</td>\n",
       "      <td>Investigator, Tax Collector</td>\n",
       "      <td>85706.0</td>\n",
       "      <td>107.0</td>\n",
       "      <td>38924.0</td>\n",
       "      <td>124737.0</td>\n",
       "    </tr>\n",
       "    <tr>\n",
       "      <th>44522</th>\n",
       "      <td>General Administration &amp; Finance</td>\n",
       "      <td>Treasurer/Tax Collector</td>\n",
       "      <td>Revenue</td>\n",
       "      <td>Investigator, Tax Collector</td>\n",
       "      <td>101403.0</td>\n",
       "      <td>0.0</td>\n",
       "      <td>43185.0</td>\n",
       "      <td>144587.0</td>\n",
       "    </tr>\n",
       "    <tr>\n",
       "      <th>44523</th>\n",
       "      <td>General Administration &amp; Finance</td>\n",
       "      <td>Treasurer/Tax Collector</td>\n",
       "      <td>Revenue</td>\n",
       "      <td>Pr Investigator, Tax Collector</td>\n",
       "      <td>113738.0</td>\n",
       "      <td>397.0</td>\n",
       "      <td>47104.0</td>\n",
       "      <td>161240.0</td>\n",
       "    </tr>\n",
       "    <tr>\n",
       "      <th>44524</th>\n",
       "      <td>General Administration &amp; Finance</td>\n",
       "      <td>Treasurer/Tax Collector</td>\n",
       "      <td>Revenue</td>\n",
       "      <td>Pr Investigator, Tax Collector</td>\n",
       "      <td>113237.0</td>\n",
       "      <td>0.0</td>\n",
       "      <td>49749.0</td>\n",
       "      <td>162986.0</td>\n",
       "    </tr>\n",
       "  </tbody>\n",
       "</table>\n",
       "<p>44525 rows × 8 columns</p>\n",
       "</div>"
      ],
      "text/plain": [
       "                     Organization Group               Department  \\\n",
       "0                     Public Protection          Adult Probation   \n",
       "1                     Public Protection          Adult Probation   \n",
       "2                     Public Protection          Adult Probation   \n",
       "3                     Public Protection          Adult Probation   \n",
       "4                     Public Protection          Adult Probation   \n",
       "...                                 ...                      ...   \n",
       "44520  General Administration & Finance  Treasurer/Tax Collector   \n",
       "44521  General Administration & Finance  Treasurer/Tax Collector   \n",
       "44522  General Administration & Finance  Treasurer/Tax Collector   \n",
       "44523  General Administration & Finance  Treasurer/Tax Collector   \n",
       "44524  General Administration & Finance  Treasurer/Tax Collector   \n",
       "\n",
       "                Job Family                             Job    Salary  \\\n",
       "0      Information Systems              IS Trainer-Journey   91332.0   \n",
       "1      Information Systems           IS Engineer-Assistant  123241.0   \n",
       "2      Information Systems      IS Business Analyst-Senior  115715.0   \n",
       "3      Information Systems   IS Business Analyst-Principal  159394.0   \n",
       "4      Information Systems           IS Programmer Analyst   70035.0   \n",
       "...                    ...                             ...       ...   \n",
       "44520              Revenue     Investigator, Tax Collector   44961.0   \n",
       "44521              Revenue     Investigator, Tax Collector   85706.0   \n",
       "44522              Revenue     Investigator, Tax Collector  101403.0   \n",
       "44523              Revenue  Pr Investigator, Tax Collector  113738.0   \n",
       "44524              Revenue  Pr Investigator, Tax Collector  113237.0   \n",
       "\n",
       "       Overtime  Benefits  Total Compensation  \n",
       "0           0.0   40059.0            131391.0  \n",
       "1           0.0   49279.0            172520.0  \n",
       "2           0.0   46752.0            162468.0  \n",
       "3           0.0   57312.0            216706.0  \n",
       "4           0.0   28671.0             98706.0  \n",
       "...         ...       ...                 ...  \n",
       "44520      42.0   19546.0             64549.0  \n",
       "44521     107.0   38924.0            124737.0  \n",
       "44522       0.0   43185.0            144587.0  \n",
       "44523     397.0   47104.0            161240.0  \n",
       "44524       0.0   49749.0            162986.0  \n",
       "\n",
       "[44525 rows x 8 columns]"
      ]
     },
     "execution_count": 5,
     "metadata": {},
     "output_type": "execute_result"
    }
   ],
   "source": [
    "sf2019"
   ]
  },
  {
   "cell_type": "markdown",
   "metadata": {},
   "source": [
    "There is one row for each of over 44,500 employees. There are numerous columns containing information about City departmental affiliation and details of the different parts of the employee's compensation package."
   ]
  },
  {
   "cell_type": "markdown",
   "metadata": {},
   "source": [
    "We are going to study the final column, `Total Compensation`. That's the employee's salary plus the City's contribution towards their retirement and benefit plans.\n",
    "\n",
    "Financial packages in a calendar year can sometimes be hard to understand as they depend on the date of hire, whether the employee is changing jobs within the City, and so on. For example, the lowest values in the `Total Compensation` column look a little strange."
   ]
  },
  {
   "cell_type": "code",
   "execution_count": 9,
   "metadata": {},
   "outputs": [
    {
     "data": {
      "text/plain": [
       "count     44525.000000\n",
       "mean     119842.301494\n",
       "std       79868.070136\n",
       "min           0.000000\n",
       "25%       53002.000000\n",
       "50%      121630.000000\n",
       "75%      172834.000000\n",
       "max      724031.000000\n",
       "Name: Total Compensation, dtype: float64"
      ]
     },
     "execution_count": 9,
     "metadata": {},
     "output_type": "execute_result"
    }
   ],
   "source": [
    "sf2019['Total Compensation'].describe()"
   ]
  },
  {
   "cell_type": "markdown",
   "metadata": {},
   "source": [
    "For clarity of interpretation, we will focus our attention on those who had roughly the equivalent of a half-time job or more for the whole year. At a minimum wage of about 15 dollars per hour, and 20 hours per week for 52 weeks, that's a salary of over 15,000 dollars."
   ]
  },
  {
   "cell_type": "code",
   "execution_count": 12,
   "metadata": {},
   "outputs": [],
   "source": [
    "sf2019 = sf2019[sf2019[\"Salary\"] >= 15000]"
   ]
  },
  {
   "cell_type": "code",
   "execution_count": 14,
   "metadata": {},
   "outputs": [
    {
     "data": {
      "text/html": [
       "<div>\n",
       "<style scoped>\n",
       "    .dataframe tbody tr th:only-of-type {\n",
       "        vertical-align: middle;\n",
       "    }\n",
       "\n",
       "    .dataframe tbody tr th {\n",
       "        vertical-align: top;\n",
       "    }\n",
       "\n",
       "    .dataframe thead th {\n",
       "        text-align: right;\n",
       "    }\n",
       "</style>\n",
       "<table border=\"1\" class=\"dataframe\">\n",
       "  <thead>\n",
       "    <tr style=\"text-align: right;\">\n",
       "      <th></th>\n",
       "      <th>Organization Group</th>\n",
       "      <th>Department</th>\n",
       "      <th>Job Family</th>\n",
       "      <th>Job</th>\n",
       "      <th>Salary</th>\n",
       "      <th>Overtime</th>\n",
       "      <th>Benefits</th>\n",
       "      <th>Total Compensation</th>\n",
       "    </tr>\n",
       "  </thead>\n",
       "  <tbody>\n",
       "    <tr>\n",
       "      <th>0</th>\n",
       "      <td>Public Protection</td>\n",
       "      <td>Adult Probation</td>\n",
       "      <td>Information Systems</td>\n",
       "      <td>IS Trainer-Journey</td>\n",
       "      <td>91332.0</td>\n",
       "      <td>0.0</td>\n",
       "      <td>40059.0</td>\n",
       "      <td>131391.0</td>\n",
       "    </tr>\n",
       "    <tr>\n",
       "      <th>1</th>\n",
       "      <td>Public Protection</td>\n",
       "      <td>Adult Probation</td>\n",
       "      <td>Information Systems</td>\n",
       "      <td>IS Engineer-Assistant</td>\n",
       "      <td>123241.0</td>\n",
       "      <td>0.0</td>\n",
       "      <td>49279.0</td>\n",
       "      <td>172520.0</td>\n",
       "    </tr>\n",
       "    <tr>\n",
       "      <th>2</th>\n",
       "      <td>Public Protection</td>\n",
       "      <td>Adult Probation</td>\n",
       "      <td>Information Systems</td>\n",
       "      <td>IS Business Analyst-Senior</td>\n",
       "      <td>115715.0</td>\n",
       "      <td>0.0</td>\n",
       "      <td>46752.0</td>\n",
       "      <td>162468.0</td>\n",
       "    </tr>\n",
       "    <tr>\n",
       "      <th>3</th>\n",
       "      <td>Public Protection</td>\n",
       "      <td>Adult Probation</td>\n",
       "      <td>Information Systems</td>\n",
       "      <td>IS Business Analyst-Principal</td>\n",
       "      <td>159394.0</td>\n",
       "      <td>0.0</td>\n",
       "      <td>57312.0</td>\n",
       "      <td>216706.0</td>\n",
       "    </tr>\n",
       "    <tr>\n",
       "      <th>4</th>\n",
       "      <td>Public Protection</td>\n",
       "      <td>Adult Probation</td>\n",
       "      <td>Information Systems</td>\n",
       "      <td>IS Programmer Analyst</td>\n",
       "      <td>70035.0</td>\n",
       "      <td>0.0</td>\n",
       "      <td>28671.0</td>\n",
       "      <td>98706.0</td>\n",
       "    </tr>\n",
       "    <tr>\n",
       "      <th>...</th>\n",
       "      <td>...</td>\n",
       "      <td>...</td>\n",
       "      <td>...</td>\n",
       "      <td>...</td>\n",
       "      <td>...</td>\n",
       "      <td>...</td>\n",
       "      <td>...</td>\n",
       "      <td>...</td>\n",
       "    </tr>\n",
       "    <tr>\n",
       "      <th>44520</th>\n",
       "      <td>General Administration &amp; Finance</td>\n",
       "      <td>Treasurer/Tax Collector</td>\n",
       "      <td>Revenue</td>\n",
       "      <td>Investigator, Tax Collector</td>\n",
       "      <td>44961.0</td>\n",
       "      <td>42.0</td>\n",
       "      <td>19546.0</td>\n",
       "      <td>64549.0</td>\n",
       "    </tr>\n",
       "    <tr>\n",
       "      <th>44521</th>\n",
       "      <td>General Administration &amp; Finance</td>\n",
       "      <td>Treasurer/Tax Collector</td>\n",
       "      <td>Revenue</td>\n",
       "      <td>Investigator, Tax Collector</td>\n",
       "      <td>85706.0</td>\n",
       "      <td>107.0</td>\n",
       "      <td>38924.0</td>\n",
       "      <td>124737.0</td>\n",
       "    </tr>\n",
       "    <tr>\n",
       "      <th>44522</th>\n",
       "      <td>General Administration &amp; Finance</td>\n",
       "      <td>Treasurer/Tax Collector</td>\n",
       "      <td>Revenue</td>\n",
       "      <td>Investigator, Tax Collector</td>\n",
       "      <td>101403.0</td>\n",
       "      <td>0.0</td>\n",
       "      <td>43185.0</td>\n",
       "      <td>144587.0</td>\n",
       "    </tr>\n",
       "    <tr>\n",
       "      <th>44523</th>\n",
       "      <td>General Administration &amp; Finance</td>\n",
       "      <td>Treasurer/Tax Collector</td>\n",
       "      <td>Revenue</td>\n",
       "      <td>Pr Investigator, Tax Collector</td>\n",
       "      <td>113738.0</td>\n",
       "      <td>397.0</td>\n",
       "      <td>47104.0</td>\n",
       "      <td>161240.0</td>\n",
       "    </tr>\n",
       "    <tr>\n",
       "      <th>44524</th>\n",
       "      <td>General Administration &amp; Finance</td>\n",
       "      <td>Treasurer/Tax Collector</td>\n",
       "      <td>Revenue</td>\n",
       "      <td>Pr Investigator, Tax Collector</td>\n",
       "      <td>113237.0</td>\n",
       "      <td>0.0</td>\n",
       "      <td>49749.0</td>\n",
       "      <td>162986.0</td>\n",
       "    </tr>\n",
       "  </tbody>\n",
       "</table>\n",
       "<p>37103 rows × 8 columns</p>\n",
       "</div>"
      ],
      "text/plain": [
       "                     Organization Group               Department  \\\n",
       "0                     Public Protection          Adult Probation   \n",
       "1                     Public Protection          Adult Probation   \n",
       "2                     Public Protection          Adult Probation   \n",
       "3                     Public Protection          Adult Probation   \n",
       "4                     Public Protection          Adult Probation   \n",
       "...                                 ...                      ...   \n",
       "44520  General Administration & Finance  Treasurer/Tax Collector   \n",
       "44521  General Administration & Finance  Treasurer/Tax Collector   \n",
       "44522  General Administration & Finance  Treasurer/Tax Collector   \n",
       "44523  General Administration & Finance  Treasurer/Tax Collector   \n",
       "44524  General Administration & Finance  Treasurer/Tax Collector   \n",
       "\n",
       "                Job Family                             Job    Salary  \\\n",
       "0      Information Systems              IS Trainer-Journey   91332.0   \n",
       "1      Information Systems           IS Engineer-Assistant  123241.0   \n",
       "2      Information Systems      IS Business Analyst-Senior  115715.0   \n",
       "3      Information Systems   IS Business Analyst-Principal  159394.0   \n",
       "4      Information Systems           IS Programmer Analyst   70035.0   \n",
       "...                    ...                             ...       ...   \n",
       "44520              Revenue     Investigator, Tax Collector   44961.0   \n",
       "44521              Revenue     Investigator, Tax Collector   85706.0   \n",
       "44522              Revenue     Investigator, Tax Collector  101403.0   \n",
       "44523              Revenue  Pr Investigator, Tax Collector  113738.0   \n",
       "44524              Revenue  Pr Investigator, Tax Collector  113237.0   \n",
       "\n",
       "       Overtime  Benefits  Total Compensation  \n",
       "0           0.0   40059.0            131391.0  \n",
       "1           0.0   49279.0            172520.0  \n",
       "2           0.0   46752.0            162468.0  \n",
       "3           0.0   57312.0            216706.0  \n",
       "4           0.0   28671.0             98706.0  \n",
       "...         ...       ...                 ...  \n",
       "44520      42.0   19546.0             64549.0  \n",
       "44521     107.0   38924.0            124737.0  \n",
       "44522       0.0   43185.0            144587.0  \n",
       "44523     397.0   47104.0            161240.0  \n",
       "44524       0.0   49749.0            162986.0  \n",
       "\n",
       "[37103 rows x 8 columns]"
      ]
     },
     "execution_count": 14,
     "metadata": {},
     "output_type": "execute_result"
    }
   ],
   "source": [
    "sf2019"
   ]
  },
  {
   "cell_type": "markdown",
   "metadata": {},
   "source": [
    "## Population and Parameter\n",
    "Let this table of just over 37,000 rows be our population. Here is a histogram of the total compensations for the employees in this table."
   ]
  },
  {
   "cell_type": "code",
   "execution_count": 28,
   "metadata": {},
   "outputs": [
    {
     "data": {
      "text/plain": [
       "<AxesSubplot:>"
      ]
     },
     "execution_count": 28,
     "metadata": {},
     "output_type": "execute_result"
    },
    {
     "data": {
      "image/png": "[encoded data removed]",
      "text/plain": [
       "<Figure size 432x288 with 1 Axes>"
      ]
     },
     "metadata": {},
     "output_type": "display_data"
    }
   ],
   "source": [
    "sf_bins = np.arange(0, 726000, 25000)\n",
    "plots.xticks(rotation='vertical')\n",
    "sf2019['Total Compensation'].hist(bins=sf_bins, density=True)"
   ]
  },
  {
   "cell_type": "markdown",
   "metadata": {},
   "source": [
    "While most of the values are below 300,000 dollars, a few are quite a bit higher. For example, the total compensation of the Chief Investment Officer was over 700,000 dollars. That is why the horizontal axis stretches quite far to the right of the visible bars."
   ]
  },
  {
   "cell_type": "code",
   "execution_count": 18,
   "metadata": {},
   "outputs": [
    {
     "data": {
      "text/plain": [
       "724031.0"
      ]
     },
     "execution_count": 18,
     "metadata": {},
     "output_type": "execute_result"
    }
   ],
   "source": [
    "max(sf2019['Total Compensation'])"
   ]
  },
  {
   "cell_type": "markdown",
   "metadata": {},
   "source": [
    "Suppose the parameter in which we are interested is the median of the total compensations.\n",
    "\n",
    "Since we have the luxury of having all of the data from the population, we can simply calculate the parameter:"
   ]
  },
  {
   "cell_type": "code",
   "execution_count": 20,
   "metadata": {},
   "outputs": [
    {
     "data": {
      "text/plain": [
       "135747.0"
      ]
     },
     "execution_count": 20,
     "metadata": {},
     "output_type": "execute_result"
    }
   ],
   "source": [
    "pop_median = np.median(sf2019['Total Compensation'])\n",
    "pop_median"
   ]
  },
  {
   "cell_type": "markdown",
   "metadata": {},
   "source": [
    "The median total compensation of all the employees was 135,747 dollars. \n",
    "\n",
    "From a practical perspective, there is no reason for us to draw a sample to estimate this parameter since we simply know its value. But in this section we are going to pretend we don't know the value, and see how well we can estimate it based on a random sample. \n",
    "\n",
    "In later sections, we will come down to earth and work in situations where the parameter is unknown. For now, we are all-knowing."
   ]
  },
  {
   "cell_type": "markdown",
   "metadata": {},
   "source": [
    "## A Random Sample and an Estimate\n",
    "Let us draw a sample of 500 employees at random without replacement, and let the median total compensation of the sampled employees serve as our estimate of the parameter."
   ]
  },
  {
   "cell_type": "code",
   "execution_count": 29,
   "metadata": {},
   "outputs": [
    {
     "data": {
      "text/plain": [
       "<AxesSubplot:>"
      ]
     },
     "execution_count": 29,
     "metadata": {},
     "output_type": "execute_result"
    },
    {
     "data": {
      "image/png": "[encoded data removed]",
      "text/plain": [
       "<Figure size 432x288 with 1 Axes>"
      ]
     },
     "metadata": {},
     "output_type": "display_data"
    }
   ],
   "source": [
    "our_sample = sf2019.sample(500, replace=False)\n",
    "plots.xticks(rotation='vertical')\n",
    "our_sample['Total Compensation'].hist(bins=sf_bins, density=True)"
   ]
  },
  {
   "cell_type": "code",
   "execution_count": 23,
   "metadata": {},
   "outputs": [
    {
     "data": {
      "text/plain": [
       "136972.0"
      ]
     },
     "execution_count": 23,
     "metadata": {},
     "output_type": "execute_result"
    }
   ],
   "source": [
    "est_median = np.median(our_sample['Total Compensation'])\n",
    "est_median"
   ]
  },
  {
   "cell_type": "markdown",
   "metadata": {},
   "source": [
    "The sample size is large. By the law of averages, the distribution of the sample resembles that of the population. Consequently the sample median is quite comparable to the population median, though of course it is not exactly the same.\n",
    "\n",
    "So now we have one estimate of the parameter. But had the sample come out differently, the estimate would have had a different value. We would like to be able to quantify the amount by which the estimate could vary across samples. That measure of variability will help us measure how accurately we can estimate the parameter.\n",
    "\n",
    "To see how different the estimate would be if the sample had come out differently, we could just draw another sample from the population. But that would be cheating. We are trying to mimic real life, in which we won't have all the population data at hand.\n",
    "\n",
    "Somehow, we have to get another random sample *without sampling again from the population*."
   ]
  },
  {
   "cell_type": "markdown",
   "metadata": {},
   "source": [
    "## The Bootstrap: Resampling from the Sample\n",
    "\n",
    "What we do have is a large random sample from the population. As we know, a large random sample is likely to resemble the population from which it is drawn. This observation allows data scientists to *lift themselves up by their own bootstraps*: the sampling procedure can be replicated by *sampling from the sample*. \n",
    "\n",
    "Here are the steps of *the bootstrap method* for generating another random sample that resembles the population:\n",
    "\n",
    "- **Treat the original sample as if it were the population.**\n",
    "- **Draw from the sample, at random with replacement, the same number of times as the original sample size**. \n",
    "\n",
    "It is important to resample the same number of times as the original sample size. The reason is that the variability of an estimate depends on the size of the sample. Since our original sample consisted of 500 employees, our sample median was based on 500 values. To see how different the sample could have been, we have to compare it to the median of other samples of size 500.\n",
    "\n",
    "If we drew 500 times at random *without* replacement from our sample of size 500, we would just get the same sample back. By drawing *with* replacement, we create the possibility for the new samples to be different from the original, because some employees might be drawn more than once and others not at all."
   ]
  },
  {
   "cell_type": "markdown",
   "metadata": {},
   "source": [
    "## A Resampled Median\n",
    "Recall that the `sample` method draws rows from a table with replacement by default, and when it is used without specifying a sample size, by default the sample size equals the number of rows of the table. That's perfect for the bootstrap! Here is one new sample drawn from the original sample, and the corresponding sample median."
   ]
  },
  {
   "cell_type": "code",
   "execution_count": 24,
   "metadata": {},
   "outputs": [],
   "source": [
    "resample_1 = our_sample.sample(frac=1, replace=True)"
   ]
  },
  {
   "cell_type": "code",
   "execution_count": 30,
   "metadata": {},
   "outputs": [
    {
     "data": {
      "text/plain": [
       "<AxesSubplot:>"
      ]
     },
     "execution_count": 30,
     "metadata": {},
     "output_type": "execute_result"
    },
    {
     "data": {
      "image/png": "[encoded data removed]",
      "text/plain": [
       "<Figure size 432x288 with 1 Axes>"
      ]
     },
     "metadata": {},
     "output_type": "display_data"
    }
   ],
   "source": [
    "plots.xticks(rotation='vertical')\n",
    "resample_1['Total Compensation'].hist(bins=sf_bins, density=True)"
   ]
  },
  {
   "cell_type": "code",
   "execution_count": 31,
   "metadata": {},
   "outputs": [
    {
     "data": {
      "text/plain": [
       "136972.0"
      ]
     },
     "execution_count": 31,
     "metadata": {},
     "output_type": "execute_result"
    }
   ],
   "source": [
    "resampled_median_1 = np.median(resample_1['Total Compensation'])\n",
    "resampled_median_1"
   ]
  },
  {
   "cell_type": "markdown",
   "metadata": {},
   "source": [
    "This value is an estimate of the population median.\n",
    "\n",
    "By resampling again and again, we can get many such estimates, and hence an empirical distribution of the estimates."
   ]
  },
  {
   "cell_type": "code",
   "execution_count": 32,
   "metadata": {},
   "outputs": [
    {
     "data": {
      "text/plain": [
       "134205.0"
      ]
     },
     "execution_count": 32,
     "metadata": {},
     "output_type": "execute_result"
    }
   ],
   "source": [
    "resample_2 = our_sample.sample(frac=1, replace=True)\n",
    "resampled_median_2 = np.median(resample_2['Total Compensation'])\n",
    "resampled_median_2"
   ]
  },
  {
   "cell_type": "markdown",
   "metadata": {},
   "source": [
    "Let us collect this code and define a function `one_bootstrap_median` that returns one bootstrapped median of total compensation, based on bootstrapping the original random sample that we called `our_sample`."
   ]
  },
  {
   "cell_type": "code",
   "execution_count": 33,
   "metadata": {},
   "outputs": [],
   "source": [
    "def one_bootstrap_median():\n",
    "    resampled_table = our_sample.sample(frac=1, replace=True)\n",
    "    bootstrapped_median = np.median(resampled_table['Total Compensation'])\n",
    "    return bootstrapped_median"
   ]
  },
  {
   "cell_type": "markdown",
   "metadata": {},
   "source": [
    "Run the cell below a few times to see how the bootstrapped medians vary. Remember that each of them is an estimate of the population median."
   ]
  },
  {
   "cell_type": "code",
   "execution_count": 34,
   "metadata": {},
   "outputs": [
    {
     "data": {
      "text/plain": [
       "142424.0"
      ]
     },
     "execution_count": 34,
     "metadata": {},
     "output_type": "execute_result"
    }
   ],
   "source": [
    "one_bootstrap_median()"
   ]
  },
  {
   "cell_type": "markdown",
   "metadata": {},
   "source": [
    "## Bootstrap Empirical Distribution of the Sample Median\n",
    "\n",
    "We can now repeat the bootstrap process multiple times by running a `for` loop as usual. In each iteration, we will call the function `one_bootstrap_median` to generate one value of the bootstrapped median based on our original sample `our_sample`. Then we will append the boostrapped median to the collection array `bstrap_medians`.\n",
    "\n",
    "Since we are asking for 5000 repetitions, the code might take a while to run. It has a lot of resampling to do!"
   ]
  },
  {
   "cell_type": "code",
   "execution_count": 35,
   "metadata": {},
   "outputs": [],
   "source": [
    "num_repetitions = 5000\n",
    "bstrap_medians = np.zeros(num_repetitions)\n",
    "for i in np.arange(num_repetitions):\n",
    "    bstrap_medians[i] = one_bootstrap_median()"
   ]
  },
  {
   "cell_type": "markdown",
   "metadata": {},
   "source": [
    "Here is an empirical histogram of the 5000 bootstrapped medians. The green dot is the population parameter: it is the median of the entire population, which is what we are trying to estimate. In this example we happen to know its value, but we did not use it in the bootstrap process."
   ]
  },
  {
   "cell_type": "code",
   "execution_count": 46,
   "metadata": {},
   "outputs": [
    {
     "data": {
      "image/png": "[encoded data removed]",
      "text/plain": [
       "<Figure size 432x288 with 1 Axes>"
      ]
     },
     "metadata": {},
     "output_type": "display_data"
    }
   ],
   "source": [
    "resampled_medians = pd.DataFrame({'Bootstrap Sample Median': bstrap_medians})\n",
    "median_bins=np.arange(120000, 160000, 2000)\n",
    "plots.xticks(rotation=\"vertical\")\n",
    "resampled_medians['Bootstrap Sample Median'].hist(bins = median_bins, density=True)\n",
    "\n",
    "parameter_green = '#32CD32'\n",
    "plots.ylim(-0.000005, 0.00014)\n",
    "plots.scatter(pop_median, 0, color=parameter_green, s=40, zorder=2);"
   ]
  },
  {
   "cell_type": "markdown",
   "metadata": {},
   "source": [
    "It is important to remember that the green dot is fixed: it is 135,747 dollars, the population median. The empirical histogram is the result of random draws, and will be situated randomly relative to the green dot. \n",
    "\n",
    "Remember also that the point of all these computations is to estimate the population median, which is the green dot. Our estimates are all the randomly generated sampled medians whose histogram you see above. We want the set of these estimates to contain the parameter. If it doesn't, then the estimates are off."
   ]
  },
  {
   "cell_type": "markdown",
   "metadata": {},
   "source": [
    "## Do the Estimates Capture the Parameter?\n",
    "\n",
    "### Percentile Method (Little Theoretical Grounding)\n",
    "\n",
    "How often does the empirical histogram of the resampled medians sit firmly over the green dot, and not just brush the dot with its tails or not cover it at all? To answer this, we must define \"sit firmly\". Let's take that to mean \"the middle 95% of the resampled medians contains the green dot\". \n",
    "\n",
    "Here are the two ends of the \"middle 95%\" interval of resampled medians:"
   ]
  },
  {
   "cell_type": "code",
   "execution_count": 51,
   "metadata": {},
   "outputs": [
    {
     "data": {
      "text/plain": [
       "131791.0"
      ]
     },
     "execution_count": 51,
     "metadata": {},
     "output_type": "execute_result"
    }
   ],
   "source": [
    "left_p = np.percentile(bstrap_medians, 2.5)\n",
    "left_p"
   ]
  },
  {
   "cell_type": "code",
   "execution_count": 52,
   "metadata": {},
   "outputs": [
    {
     "data": {
      "text/plain": [
       "142077.5"
      ]
     },
     "execution_count": 52,
     "metadata": {},
     "output_type": "execute_result"
    }
   ],
   "source": [
    "right_p = np.percentile(bstrap_medians, 97.5)\n",
    "right_p"
   ]
  },
  {
   "cell_type": "markdown",
   "metadata": {},
   "source": [
    "### Empirical Bootstrap (Variation)"
   ]
  },
  {
   "cell_type": "code",
   "execution_count": 55,
   "metadata": {},
   "outputs": [
    {
     "data": {
      "text/plain": [
       "131866.5"
      ]
     },
     "execution_count": 55,
     "metadata": {},
     "output_type": "execute_result"
    }
   ],
   "source": [
    "left = est_median - np.percentile(bstrap_medians - est_median, 97.5)\n",
    "left"
   ]
  },
  {
   "cell_type": "code",
   "execution_count": 56,
   "metadata": {},
   "outputs": [
    {
     "data": {
      "text/plain": [
       "142153.0"
      ]
     },
     "execution_count": 56,
     "metadata": {},
     "output_type": "execute_result"
    }
   ],
   "source": [
    "right = est_median - np.percentile(bstrap_medians - est_median, 2.5)\n",
    "right"
   ]
  },
  {
   "cell_type": "markdown",
   "metadata": {},
   "source": [
    "The population median of 135,747 dollars is between these two numbers. The interval and the population median are shown on the histogram below."
   ]
  },
  {
   "cell_type": "code",
   "execution_count": 58,
   "metadata": {},
   "outputs": [
    {
     "data": {
      "image/png": "[encoded data removed]",
      "text/plain": [
       "<Figure size 432x288 with 1 Axes>"
      ]
     },
     "metadata": {},
     "output_type": "display_data"
    }
   ],
   "source": [
    "plots.xticks(rotation=\"vertical\")\n",
    "resampled_medians['Bootstrap Sample Median'].hist(bins = median_bins, density=True)\n",
    "\n",
    "# Plotting parameters; you can ignore this code\n",
    "plots.ylim(-0.000005, 0.00014)\n",
    "plots.plot([left_p, right_p], [0, 0], color='red', lw=3, zorder=1)\n",
    "plots.plot([left, right], [0, 0], color='yellow', lw=3, zorder=1)\n",
    "plots.scatter(pop_median, 0, color=parameter_green, s=40, zorder=2);"
   ]
  },
  {
   "cell_type": "markdown",
   "metadata": {},
   "source": [
    "The confidence interval of estimates captured the parameter in our example. But was that a fluke? \n",
    "\n",
    "To see how frequently the interval contains the parameter, we have to run the entire process over and over again. Specifically, we will replicate the following process 100 times:\n",
    "\n",
    "- Draw an original random sample of size 500 from the population.\n",
    "- Carry out 5000 replications of the bootstrap process and generate the \"middle 95%\" interval of resampled medians.\n",
    "\n",
    "We will end up with 100 intervals, and count how many of them contain the population median.\n",
    "\n",
    "**Spoiler alert:** The statistical theory of the bootstrap says that the number should be around 95. It may be in the low 90s or high 90s, but we don't expect it to be much farther off 95 than that."
   ]
  },
  {
   "cell_type": "markdown",
   "metadata": {},
   "source": [
    "We will start by writing a function `bootstrap_median` that takes two arguments: the name of the table containing the original random sample, and the number of bootstrap samples to draw. It returns an array of bootstrapped medians, one from each boostrap sample."
   ]
  },
  {
   "cell_type": "code",
   "execution_count": 59,
   "metadata": {},
   "outputs": [],
   "source": [
    "def bootstrap_median(original_sample, num_repetitions):\n",
    "    medians = np.zeros(num_repetitions)\n",
    "    for i in np.arange(num_repetitions):\n",
    "        new_bstrap_sample = original_sample.sample(frac=1, replace=True)\n",
    "        new_bstrap_median = np.median(new_bstrap_sample['Total Compensation'])\n",
    "        medians[i] = new_bstrap_median\n",
    "    return medians"
   ]
  },
  {
   "cell_type": "markdown",
   "metadata": {},
   "source": [
    "Now we will write a `for` loop that calls this function 100 times and collects the \"middle 95%\" of the bootstrapped medians each time. \n",
    "\n",
    "The cell below will take several minutes to run since it has to perform 100 replications of sampling 500 times at random from the table and generating 5000 bootstrapped samples."
   ]
  },
  {
   "cell_type": "code",
   "execution_count": 61,
   "metadata": {},
   "outputs": [],
   "source": [
    "# THE BIG SIMULATION: This one takes several minutes.\n",
    "\n",
    "# Generate 100 intervals and put the endpoints in the table intervals\n",
    "\n",
    "left_ends = np.zeros(100)\n",
    "right_ends = np.zeros(100)\n",
    "\n",
    "for i in np.arange(100):\n",
    "    original_sample = sf2019.sample(500, replace=False)\n",
    "    est_median = np.median(original_sample['Total Compensation'])\n",
    "    medians = bootstrap_median(original_sample, 5000)\n",
    "    left_ends[i] = est_median - np.percentile(medians - est_median, 97.5)\n",
    "    right_ends[i] = est_median - np.percentile(medians - est_median, 2.5)\n",
    "\n",
    "\n",
    "intervals = pd.DataFrame({\n",
    "    'Left': left_ends,\n",
    "    'Right': right_ends\n",
    "})    "
   ]
  },
  {
   "cell_type": "markdown",
   "metadata": {},
   "source": [
    "For each of the 100 replications of the entire process, we get one interval of estimates of the median."
   ]
  },
  {
   "cell_type": "code",
   "execution_count": 62,
   "metadata": {},
   "outputs": [
    {
     "data": {
      "text/html": [
       "<div>\n",
       "<style scoped>\n",
       "    .dataframe tbody tr th:only-of-type {\n",
       "        vertical-align: middle;\n",
       "    }\n",
       "\n",
       "    .dataframe tbody tr th {\n",
       "        vertical-align: top;\n",
       "    }\n",
       "\n",
       "    .dataframe thead th {\n",
       "        text-align: right;\n",
       "    }\n",
       "</style>\n",
       "<table border=\"1\" class=\"dataframe\">\n",
       "  <thead>\n",
       "    <tr style=\"text-align: right;\">\n",
       "      <th></th>\n",
       "      <th>Left</th>\n",
       "      <th>Right</th>\n",
       "    </tr>\n",
       "  </thead>\n",
       "  <tbody>\n",
       "    <tr>\n",
       "      <th>0</th>\n",
       "      <td>120776.5</td>\n",
       "      <td>133381.5</td>\n",
       "    </tr>\n",
       "    <tr>\n",
       "      <th>1</th>\n",
       "      <td>133088.0</td>\n",
       "      <td>145741.0</td>\n",
       "    </tr>\n",
       "    <tr>\n",
       "      <th>2</th>\n",
       "      <td>132960.5</td>\n",
       "      <td>144912.5</td>\n",
       "    </tr>\n",
       "    <tr>\n",
       "      <th>3</th>\n",
       "      <td>131674.0</td>\n",
       "      <td>144241.0</td>\n",
       "    </tr>\n",
       "    <tr>\n",
       "      <th>4</th>\n",
       "      <td>134702.6</td>\n",
       "      <td>149420.0</td>\n",
       "    </tr>\n",
       "    <tr>\n",
       "      <th>...</th>\n",
       "      <td>...</td>\n",
       "      <td>...</td>\n",
       "    </tr>\n",
       "    <tr>\n",
       "      <th>95</th>\n",
       "      <td>127099.0</td>\n",
       "      <td>139642.0</td>\n",
       "    </tr>\n",
       "    <tr>\n",
       "      <th>96</th>\n",
       "      <td>131616.5</td>\n",
       "      <td>140688.0</td>\n",
       "    </tr>\n",
       "    <tr>\n",
       "      <th>97</th>\n",
       "      <td>135336.0</td>\n",
       "      <td>147472.0</td>\n",
       "    </tr>\n",
       "    <tr>\n",
       "      <th>98</th>\n",
       "      <td>128764.5</td>\n",
       "      <td>142031.5</td>\n",
       "    </tr>\n",
       "    <tr>\n",
       "      <th>99</th>\n",
       "      <td>126196.0</td>\n",
       "      <td>137071.0</td>\n",
       "    </tr>\n",
       "  </tbody>\n",
       "</table>\n",
       "<p>100 rows × 2 columns</p>\n",
       "</div>"
      ],
      "text/plain": [
       "        Left     Right\n",
       "0   120776.5  133381.5\n",
       "1   133088.0  145741.0\n",
       "2   132960.5  144912.5\n",
       "3   131674.0  144241.0\n",
       "4   134702.6  149420.0\n",
       "..       ...       ...\n",
       "95  127099.0  139642.0\n",
       "96  131616.5  140688.0\n",
       "97  135336.0  147472.0\n",
       "98  128764.5  142031.5\n",
       "99  126196.0  137071.0\n",
       "\n",
       "[100 rows x 2 columns]"
      ]
     },
     "execution_count": 62,
     "metadata": {},
     "output_type": "execute_result"
    }
   ],
   "source": [
    "intervals"
   ]
  },
  {
   "cell_type": "markdown",
   "metadata": {},
   "source": [
    "The good intervals are those that contain the parameter we are trying to estimate. Typically the parameter is unknown, but in this section we happen to know what the parameter is."
   ]
  },
  {
   "cell_type": "code",
   "execution_count": 63,
   "metadata": {},
   "outputs": [
    {
     "data": {
      "text/plain": [
       "135747.0"
      ]
     },
     "execution_count": 63,
     "metadata": {},
     "output_type": "execute_result"
    }
   ],
   "source": [
    "pop_median"
   ]
  },
  {
   "cell_type": "markdown",
   "metadata": {},
   "source": [
    "How many of the 100 intervals contain the population median? That's the number of intervals where the left end is below the population median and the right end is above."
   ]
  },
  {
   "cell_type": "code",
   "execution_count": 72,
   "metadata": {},
   "outputs": [
    {
     "data": {
      "text/html": [
       "<div>\n",
       "<style scoped>\n",
       "    .dataframe tbody tr th:only-of-type {\n",
       "        vertical-align: middle;\n",
       "    }\n",
       "\n",
       "    .dataframe tbody tr th {\n",
       "        vertical-align: top;\n",
       "    }\n",
       "\n",
       "    .dataframe thead th {\n",
       "        text-align: right;\n",
       "    }\n",
       "</style>\n",
       "<table border=\"1\" class=\"dataframe\">\n",
       "  <thead>\n",
       "    <tr style=\"text-align: right;\">\n",
       "      <th></th>\n",
       "      <th>Left</th>\n",
       "      <th>Right</th>\n",
       "    </tr>\n",
       "  </thead>\n",
       "  <tbody>\n",
       "    <tr>\n",
       "      <th>1</th>\n",
       "      <td>133088.0</td>\n",
       "      <td>145741.0</td>\n",
       "    </tr>\n",
       "    <tr>\n",
       "      <th>2</th>\n",
       "      <td>132960.5</td>\n",
       "      <td>144912.5</td>\n",
       "    </tr>\n",
       "    <tr>\n",
       "      <th>3</th>\n",
       "      <td>131674.0</td>\n",
       "      <td>144241.0</td>\n",
       "    </tr>\n",
       "    <tr>\n",
       "      <th>4</th>\n",
       "      <td>134702.6</td>\n",
       "      <td>149420.0</td>\n",
       "    </tr>\n",
       "    <tr>\n",
       "      <th>5</th>\n",
       "      <td>128845.5</td>\n",
       "      <td>143120.5</td>\n",
       "    </tr>\n",
       "    <tr>\n",
       "      <th>...</th>\n",
       "      <td>...</td>\n",
       "      <td>...</td>\n",
       "    </tr>\n",
       "    <tr>\n",
       "      <th>95</th>\n",
       "      <td>127099.0</td>\n",
       "      <td>139642.0</td>\n",
       "    </tr>\n",
       "    <tr>\n",
       "      <th>96</th>\n",
       "      <td>131616.5</td>\n",
       "      <td>140688.0</td>\n",
       "    </tr>\n",
       "    <tr>\n",
       "      <th>97</th>\n",
       "      <td>135336.0</td>\n",
       "      <td>147472.0</td>\n",
       "    </tr>\n",
       "    <tr>\n",
       "      <th>98</th>\n",
       "      <td>128764.5</td>\n",
       "      <td>142031.5</td>\n",
       "    </tr>\n",
       "    <tr>\n",
       "      <th>99</th>\n",
       "      <td>126196.0</td>\n",
       "      <td>137071.0</td>\n",
       "    </tr>\n",
       "  </tbody>\n",
       "</table>\n",
       "<p>93 rows × 2 columns</p>\n",
       "</div>"
      ],
      "text/plain": [
       "        Left     Right\n",
       "1   133088.0  145741.0\n",
       "2   132960.5  144912.5\n",
       "3   131674.0  144241.0\n",
       "4   134702.6  149420.0\n",
       "5   128845.5  143120.5\n",
       "..       ...       ...\n",
       "95  127099.0  139642.0\n",
       "96  131616.5  140688.0\n",
       "97  135336.0  147472.0\n",
       "98  128764.5  142031.5\n",
       "99  126196.0  137071.0\n",
       "\n",
       "[93 rows x 2 columns]"
      ]
     },
     "execution_count": 72,
     "metadata": {},
     "output_type": "execute_result"
    }
   ],
   "source": [
    "intervals.loc[(intervals[\"Left\"] <= pop_median) & (intervals[\"Right\"] >= pop_median)]"
   ]
  },
  {
   "cell_type": "markdown",
   "metadata": {},
   "source": [
    "It takes many minutes to construct all the intervals, but try it again if you have the patience. Most likely, about 95 of the 100 intervals will be good ones: they will contain the parameter.\n",
    "\n",
    "It's hard to show you all the intervals on the horizontal axis as they have large overlaps – after all, they are all trying to estimate the same parameter. The graphic below shows each interval on the same axes by stacking them vertically. The vertical axis is simply the number of the replication from which the interval was generated.\n",
    "\n",
    "The green line is where the parameter is. It has a fixed position since the parameter is fixed.\n",
    "\n",
    "Good intervals cover the parameter. There are approximately 95 of these, typically. \n",
    "\n",
    "If an interval doesn't cover the parameter, it's a dud. The duds are the ones where you can see \"daylight\" around the green line. There are very few of them – about 5 out of 100, typically – but they do happen. \n",
    "\n",
    "Any method based on sampling has the possibility of being off. The beauty of methods based on random sampling is that we can quantify how often they are likely to be off."
   ]
  },
  {
   "cell_type": "code",
   "execution_count": 92,
   "metadata": {},
   "outputs": [
    {
     "data": {
      "image/png": "[encoded data removed]",
      "text/plain": [
       "<Figure size 576x576 with 1 Axes>"
      ]
     },
     "metadata": {},
     "output_type": "display_data"
    }
   ],
   "source": [
    "plots.figure(figsize=(8,8))\n",
    "for i in np.arange(100):\n",
    "    left_end = intervals.loc[i][\"Left\"]\n",
    "    right_end = intervals.loc[i][\"Right\"]\n",
    "    plots.plot(np.array([left_end, right_end]), np.array([i + 1, i + 1]), color='gold')\n",
    "plots.scatter(pop_median, 0, color=parameter_green, s=40, zorder=2)\n",
    "plots.plot(np.array([pop_median, pop_median]), np.array([0, 100]), color=parameter_green, lw=2)\n",
    "plots.xlabel('Median (dollars)')\n",
    "plots.ylabel('Replication')\n",
    "plots.title('Population Median and Intervals of Estimates');"
   ]
  },
  {
   "cell_type": "markdown",
   "metadata": {},
   "source": [
    "To summarize what the simulation shows, suppose you are estimating the population median by the following process: \n",
    "\n",
    "- Draw a large random sample from the population.\n",
    "- Bootstrap your random sample and get an estimate from the new random sample. \n",
    "- Repeat the above bootstrap step thousands of times, and get thousands of estimates.\n",
    "- Pick off the **confidence interval based on variation instead of direct percentile** of all the estimates.\n",
    "\n",
    "That gives you one interval of estimates. If 99 other people repeat **the entire process**, starting with a new random sample each time, then you will end up with 100 such intervals. About 95 of these 100 intervals will contain the population parameter.\n",
    "\n",
    "In other words, this process of estimation captures the parameter about 95% of the time. \n",
    "\n",
    "You can replace 95% by a different value, as long as it's not 100. Suppose you replace 95% by 80% and keep the sample size fixed at 500. Then your intervals of estimates will be shorter than those we simulated here, because the \"middle 80%\" is a smaller range than the \"middle 95%\". If you keep repeating this process, only about 80% of your intervals will contain the parameter."
   ]
  },
  {
   "cell_type": "markdown",
   "metadata": {},
   "source": [
    "## Reference\n",
    "\n",
    "https://inferentialthinking.com/chapters/13/2/Bootstrap.html"
   ]
  },
  {
   "cell_type": "code",
   "execution_count": null,
   "metadata": {},
   "outputs": [],
   "source": []
  }
 ],
 "metadata": {
  "anaconda-cloud": {},
  "kernelspec": {
   "display_name": "Python 3",
   "language": "python",
   "name": "python3"
  },
  "language_info": {
   "codemirror_mode": {
    "name": "ipython",
    "version": 3
   },
   "file_extension": ".py",
   "mimetype": "text/x-python",
   "name": "python",
   "nbconvert_exporter": "python",
   "pygments_lexer": "ipython3",
   "version": "3.8.8"
  },
  "latex_envs": {
   "LaTeX_envs_menu_present": true,
   "autoclose": false,
   "autocomplete": true,
   "bibliofile": "biblio.bib",
   "cite_by": "apalike",
   "current_citInitial": 1,
   "eqLabelWithNumbers": true,
   "eqNumInitial": 1,
   "hotkeys": {
    "equation": "Ctrl-E",
    "itemize": "Ctrl-I"
   },
   "labels_anchors": false,
   "latex_user_defs": false,
   "report_style_numbering": false,
   "user_envs_cfg": false
  }
 },
 "nbformat": 4,
 "nbformat_minor": 2
}

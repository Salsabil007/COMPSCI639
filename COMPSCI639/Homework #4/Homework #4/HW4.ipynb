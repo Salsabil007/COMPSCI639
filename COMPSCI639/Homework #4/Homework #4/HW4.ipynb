{
 "cells": [
  {
   "cell_type": "code",
   "execution_count": 1,
   "id": "c9616d9a",
   "metadata": {
    "deletable": false,
    "editable": false
   },
   "outputs": [],
   "source": [
    "# Initialize Otter\n",
    "import otter\n",
    "grader = otter.Notebook(\"HW4.ipynb\")"
   ]
  },
  {
   "cell_type": "code",
   "execution_count": 2,
   "id": "a426ca12",
   "metadata": {},
   "outputs": [],
   "source": [
    "import pandas as pd\n",
    "import numpy as np\n",
    "import matplotlib.pyplot as plt\n",
    "import math"
   ]
  },
  {
   "cell_type": "markdown",
   "id": "98d8f5c3",
   "metadata": {},
   "source": [
    "# Homework #4"
   ]
  },
  {
   "cell_type": "markdown",
   "id": "b42892cc",
   "metadata": {},
   "source": [
    "In this homework, you will get to practice the computation of maximum likelihood estimates and bootstrap confidence intervals."
   ]
  },
  {
   "cell_type": "markdown",
   "id": "e16c82a9",
   "metadata": {},
   "source": [
    "<!-- BEGIN QUESTION -->\n",
    "\n",
    "## Problem 1: MLE for Laplace Distribution"
   ]
  },
  {
   "cell_type": "markdown",
   "id": "c36f0131",
   "metadata": {},
   "source": [
    "You are given 10 points $\\{ 0.19529091,  0.93106584,  0.15147936, -0.43860253,  0.15290169,\n",
    "       -1.18712532, -0.2587244 , -1.67139275, -0.55631196, -2.11156991\\}$ that were drawn i.i.d. from Laplace distribution with scale 1, which has the probability density function $f(x|\\theta) = \\frac{1}{2}e^{-|x - \\theta|},$ where $\\theta$ is the unknown parameter you want to estimate. What are the likelihood and the log-likelihood functions for this problem? Can you use the derivative test to obtain a maximum likelihood estimate for $\\theta$? \n",
    "       \n",
    "Using the data provided in the paragraph above, plot the log-likelihood function and deduce the MLE of $\\theta.$ Is MLE unique for this problem?"
   ]
  },
  {
   "cell_type": "markdown",
   "id": "9ce21712",
   "metadata": {},
   "source": [
    "$f(x|\\theta) = (1/2) e ^{-|x-\\theta|}$\n",
    "\n",
    "likelihood function, $f(x_1, x_2, x_3...x_{10}|\\theta) = ((1/2) e ^{-|x_1-\\theta|})((1/2) e ^{-|x_2-\\theta|}) ...\n",
    "((1/2) e ^{-|x_{10}-\\theta|}) = (\\frac{1}{2^{10}}) e^{-|x_1-\\theta|-|x_2 - \\theta|...-|x_{10}-\\theta|}$  \n",
    "\n",
    "Log likelihood function:\n",
    "$L(\\theta) = log(1/2^{10}) - [|x_1-\\theta|+|x_2 - \\theta|...+|x_{10}-\\theta|] = 10(-log2 - \\frac{1}{10}\\sum_{i=1}^{n} |x_i-\\theta|)$\n",
    "\n",
    "we can not use derivative methos here as $|x_i-\\theta|$ is a chain term and we won't get rid of it."
   ]
  },
  {
   "cell_type": "code",
   "execution_count": 3,
   "id": "e4e0ca6d",
   "metadata": {},
   "outputs": [
    {
     "data": {
      "text/plain": [
       "[<matplotlib.lines.Line2D at 0x7f7042576e20>]"
      ]
     },
     "execution_count": 3,
     "metadata": {},
     "output_type": "execute_result"
    },
    {
     "data": {
      "image/png": "[encoded data removed]",
      "text/plain": [
       "<Figure size 432x288 with 1 Axes>"
      ]
     },
     "metadata": {
      "needs_background": "light"
     },
     "output_type": "display_data"
    }
   ],
   "source": [
    "x = [0.19529091,0.93106584,0.15147936,-0.43860253,0.15290169,-1.18712532,-0.2587244,-1.67139275,-0.55631196,-2.11156991]\n",
    "y = -5\n",
    "theta = []\n",
    "ll = []\n",
    "while y <= 5:\n",
    "    theta.append(y)\n",
    "    val = 0\n",
    "    for i in x:\n",
    "        val += abs(i-y)\n",
    "    val /= (-10)\n",
    "    val += (-math.log(2))\n",
    "    val *= 10\n",
    "    ll.append(val)\n",
    "    y += 0.5\n",
    "plt.plot(theta,ll)\n",
    "    "
   ]
  },
  {
   "cell_type": "markdown",
   "id": "64ce7713",
   "metadata": {},
   "source": [
    "MLE of $\\theta$ is little less than 0 (a little bit left of 0 actually). Yes, it is unique."
   ]
  },
  {
   "cell_type": "markdown",
   "id": "c04ea881",
   "metadata": {},
   "source": [
    "<!-- END QUESTION -->\n",
    "\n",
    "<!-- BEGIN QUESTION -->\n",
    "\n",
    "## Problem 2: MLE for Poisson Distribution"
   ]
  },
  {
   "cell_type": "markdown",
   "id": "ca85df38",
   "metadata": {},
   "source": [
    "The following points have been drawn from Poisson distribution with the unknown parameter $\\lambda:$ $\\{4, 5, 3, 2, 4, 7, 5, 5, 2, 2\\}.$ What is the log-likelihood function for estimating $\\lambda$?\n",
    "\n",
    "1. Compute the MLE of $\\lambda.$\n",
    "2. [Extra Credit, 5pts] Suppose that we know that $\\lambda \\geq 4.5.$ Find the MLE of $\\lambda.$\n",
    "3. [Extra Credit, 5pts] Suppose that we know that $\\lambda$ is an integer. Find the MLE of $\\lambda.$ "
   ]
  },
  {
   "cell_type": "markdown",
   "id": "6016ba60",
   "metadata": {},
   "source": [
    "1. \n",
    "likelihood function, \n",
    "$L(\\lambda) = \\frac{\\lambda^{x1}e^{-\\lambda}}{x_{1!}} * \\frac{\\lambda^{x2}e^{-\\lambda}}{x_2!}...\\frac{\\lambda^{x10}e^{-\\lambda}}{x_{10}!} = e^{-10\\lambda} \\lambda^{x_1+x_2+...x_{10}}(\\frac{1}{x_{1!}}*\\frac{1}{x_{2!}}...\\frac{1}{x_{10!}})$ \n",
    "\n",
    "log likelihood,\n",
    "$L(p) = -10\\lambda + (x_1+x_2+...x_{10})log(\\lambda) + log(1/x_{1!}) + log(1/x_{2!}) +...+ log(1/x_{10!})$\n",
    "\n",
    "first derivative = $-10 + (x_1+x_2+...x_{10})\\frac{1}{\\lambda}$ = 0\n",
    "==> $\\lambda = 3.9$\n",
    "\n",
    "second derivative is negative $(x_1+x_2+...x_{10})(-1)\\lambda^{-2}$"
   ]
  },
  {
   "cell_type": "markdown",
   "id": "bce53121",
   "metadata": {},
   "source": [
    "2. \n",
    "From the previous question, \n",
    "first derivative = $-10 + (x_1+x_2+...x_{10})\\frac{1}{\\lambda}$\n",
    "For a range of $\\lambda[4.5,\\inf]$, there is no value of $\\lambda$ that provides first derivative = 0. \n",
    "So we can say there is no local minima. So the mle would be 4.5. \n",
    "\n",
    "let's take some intervals of $\\lambda$ and the first derivative of a point in the interval:\n",
    "\n",
    "a point(4.3), $[4,4.5] -> \\bar{f}= decrease (neg val)$\n",
    "\n",
    "a point(4.6), $[4.5,5] -> \\bar{f}= decrease (neg val)$\n",
    "\n",
    "a point(5.5), $[5,\\inf] -> \\bar{f}= decrease (neg val)$\n",
    "\n",
    "So it is a decresing function. So the mle would be 4.5 as the subsequent points are giving decreasing likelihood."
   ]
  },
  {
   "cell_type": "markdown",
   "id": "302d83e8",
   "metadata": {},
   "source": [
    "For the integer value of $\\lambda$,  \n",
    "\n",
    "let's take some intervals of $\\lambda$ and the first derivative of a point in the interval:\n",
    "\n",
    "a point(1.5), $[1,2] -> \\bar{f}= increase (pos val)$\n",
    "\n",
    "a point(2.5), $[2,3] -> \\bar{f}= increase (pos val)$\n",
    "\n",
    "a point(3.5), $[3,4] -> \\bar{f}= increase (pos val)$\n",
    "\n",
    "a point(4.5), $[4,5] -> \\bar{f}= decrease (neg val)$\n",
    "\n",
    "a point(5.5), $[5,\\inf] -> \\bar{f}= decrease (neg val)$\n",
    "\n",
    "as the likelihood function increase before 4 and decreases after 4, there is a relative maxima at 4.\n",
    "So the mle for integer value is 4."
   ]
  },
  {
   "cell_type": "markdown",
   "id": "66892b88",
   "metadata": {},
   "source": [
    "<!-- END QUESTION -->\n",
    "\n",
    "<!-- BEGIN QUESTION -->\n",
    "\n",
    "## Problem 3: Empirical Distribution as MLE"
   ]
  },
  {
   "cell_type": "markdown",
   "id": "cb4e0cc8",
   "metadata": {},
   "source": [
    "Suppose you are given $n > 10$ data points drawn i.i.d. from some unknown distribution and that take values from the set $\\{1, 2, \\dots, 10\\}.$ Show that the empirical distribution of your data sample is the MLE for individual probabilities of the points from the set $\\{1, 2, \\dots, 10\\}.$"
   ]
  },
  {
   "cell_type": "markdown",
   "id": "12f63acb",
   "metadata": {},
   "source": [
    "The probability distribution of each individual point is a binomial distribution.\n",
    "Let's say, a1 = no of occurrence of x1,\n",
    "The joint probability of empirical distribution, \n",
    "$P(x1, x2, ... x10|\\theta) = P(x1|p1) * P(x2|p2)...* P(x10|p10) = {n \\choose a1}(p1^{a1})(1-p1)^{n-a1} * {n \\choose a2}(p2^{a2})(1-p2)^{n-a2} ... {n \\choose a10}(p10^{a10})(1-p10)^{n-a10}$\n",
    "$Log(P) = log{n \\choose a1} + a1*log(p1) + (n-a1)*log(1-p1) + log{n \\choose a2} + a2*log(p2) + (n-a2)*log(1-p2) .... $\n",
    "\n",
    "Taking the partial derivation with respect to $p1$ we get the mle of $p1$,\n",
    "$\\frac{a1}{p1} - \\frac{n-a1}{1-p1} = 0$\n",
    "=> $\\frac{1-p1}{p1} = \\frac{n-a1}{a1}$\n",
    "=> $p1 = \\frac{a1}{n}$, which is the mle of individual probability of x1.\n",
    "\n",
    "For x2, x3..x10, we will get mle p2=a2/n, p3= a3/n..p10=a10/n which is same for individual probabilities of the points.\n",
    "\n",
    "\n",
    "\n",
    "Another way to prove(maybe):\n",
    "Let, $f(a)$ = no of times a was drawn in the empirical distribution\n",
    "\n",
    "empirical distribution of a, $\\hat{p}(a) = \\frac{1}{n}f(a)----(1)$\n",
    "\n",
    "For individual data points(say a), the empirical distribution is a binomial distribution where n = # of sample and\n",
    "x = # of times a was drawn with an unknown parameter p,\n",
    "mle, $\\hat{p} = \\frac{x}{n},$ which is same as equation no (1)."
   ]
  },
  {
   "cell_type": "markdown",
   "id": "1eb71849",
   "metadata": {},
   "source": [
    "<!-- END QUESTION -->\n",
    "\n",
    "## Problem 4: The Bootstrap"
   ]
  },
  {
   "cell_type": "markdown",
   "id": "bc616c64",
   "metadata": {},
   "source": [
    "When we take a random sample from the population to estimate some parameter, we only obtain one estimate value among numerous plausible estimates, because our random sample is just one of numerous possible random samples. Fortunately, a brilliant idea called *the bootstrap* can help, which generates new random samples by resampling. **In this question, you are asked to use the bootstrap to estimate the median of the US family incomes in 2017.**\n",
    "\n",
    "Below is the data of the US family incomes in 2017 extracted from the website of *US Census Bureau*. Among all these features of each family, we are interested in **estimating the median of the family incomes**. We can fetch the data of total family income by the column name `FTOTVAL`."
   ]
  },
  {
   "cell_type": "code",
   "execution_count": 4,
   "id": "4906f6da",
   "metadata": {},
   "outputs": [],
   "source": [
    "data = pd.read_csv(\"hw4_data.csv\")"
   ]
  },
  {
   "cell_type": "code",
   "execution_count": 5,
   "id": "094d33ee",
   "metadata": {},
   "outputs": [
    {
     "name": "stdout",
     "output_type": "stream",
     "text": [
      "num of families:  81087\n",
      "num of features:  85\n"
     ]
    },
    {
     "data": {
      "text/html": [
       "<div>\n",
       "<style scoped>\n",
       "    .dataframe tbody tr th:only-of-type {\n",
       "        vertical-align: middle;\n",
       "    }\n",
       "\n",
       "    .dataframe tbody tr th {\n",
       "        vertical-align: top;\n",
       "    }\n",
       "\n",
       "    .dataframe thead th {\n",
       "        text-align: right;\n",
       "    }\n",
       "</style>\n",
       "<table border=\"1\" class=\"dataframe\">\n",
       "  <thead>\n",
       "    <tr style=\"text-align: right;\">\n",
       "      <th></th>\n",
       "      <th>GESTCEN</th>\n",
       "      <th>GTCBSA</th>\n",
       "      <th>FPOVCUT</th>\n",
       "      <th>FPERSONS</th>\n",
       "      <th>FHEADIDX</th>\n",
       "      <th>FSPOUIDX</th>\n",
       "      <th>FOWNU6</th>\n",
       "      <th>FRELU6</th>\n",
       "      <th>FKIND</th>\n",
       "      <th>FTYPE</th>\n",
       "      <th>...</th>\n",
       "      <th>F_MV_FS</th>\n",
       "      <th>F_MV_SL</th>\n",
       "      <th>I_FHIPVAL</th>\n",
       "      <th>I_FHIPVAL2</th>\n",
       "      <th>I_FMEDVAL</th>\n",
       "      <th>I_FMOOP</th>\n",
       "      <th>I_FMOOP2</th>\n",
       "      <th>I_FOTCVAL</th>\n",
       "      <th>POVLL</th>\n",
       "      <th>MMYY</th>\n",
       "    </tr>\n",
       "  </thead>\n",
       "  <tbody>\n",
       "    <tr>\n",
       "      <th>0</th>\n",
       "      <td>11</td>\n",
       "      <td>0</td>\n",
       "      <td>16543</td>\n",
       "      <td>2</td>\n",
       "      <td>1</td>\n",
       "      <td>0</td>\n",
       "      <td>0</td>\n",
       "      <td>0</td>\n",
       "      <td>3</td>\n",
       "      <td>1</td>\n",
       "      <td>...</td>\n",
       "      <td>984</td>\n",
       "      <td>0</td>\n",
       "      <td>0</td>\n",
       "      <td>0</td>\n",
       "      <td>0</td>\n",
       "      <td>0</td>\n",
       "      <td>0</td>\n",
       "      <td>0</td>\n",
       "      <td>4</td>\n",
       "      <td>32017</td>\n",
       "    </tr>\n",
       "    <tr>\n",
       "      <th>1</th>\n",
       "      <td>11</td>\n",
       "      <td>0</td>\n",
       "      <td>14507</td>\n",
       "      <td>2</td>\n",
       "      <td>1</td>\n",
       "      <td>2</td>\n",
       "      <td>0</td>\n",
       "      <td>0</td>\n",
       "      <td>1</td>\n",
       "      <td>1</td>\n",
       "      <td>...</td>\n",
       "      <td>0</td>\n",
       "      <td>0</td>\n",
       "      <td>1</td>\n",
       "      <td>1</td>\n",
       "      <td>1</td>\n",
       "      <td>1</td>\n",
       "      <td>1</td>\n",
       "      <td>1</td>\n",
       "      <td>7</td>\n",
       "      <td>32017</td>\n",
       "    </tr>\n",
       "    <tr>\n",
       "      <th>2</th>\n",
       "      <td>11</td>\n",
       "      <td>0</td>\n",
       "      <td>24755</td>\n",
       "      <td>4</td>\n",
       "      <td>1</td>\n",
       "      <td>2</td>\n",
       "      <td>0</td>\n",
       "      <td>0</td>\n",
       "      <td>1</td>\n",
       "      <td>1</td>\n",
       "      <td>...</td>\n",
       "      <td>0</td>\n",
       "      <td>599</td>\n",
       "      <td>0</td>\n",
       "      <td>0</td>\n",
       "      <td>0</td>\n",
       "      <td>0</td>\n",
       "      <td>0</td>\n",
       "      <td>0</td>\n",
       "      <td>8</td>\n",
       "      <td>32017</td>\n",
       "    </tr>\n",
       "    <tr>\n",
       "      <th>3</th>\n",
       "      <td>11</td>\n",
       "      <td>0</td>\n",
       "      <td>16072</td>\n",
       "      <td>2</td>\n",
       "      <td>1</td>\n",
       "      <td>2</td>\n",
       "      <td>0</td>\n",
       "      <td>0</td>\n",
       "      <td>1</td>\n",
       "      <td>1</td>\n",
       "      <td>...</td>\n",
       "      <td>0</td>\n",
       "      <td>0</td>\n",
       "      <td>1</td>\n",
       "      <td>1</td>\n",
       "      <td>0</td>\n",
       "      <td>1</td>\n",
       "      <td>1</td>\n",
       "      <td>0</td>\n",
       "      <td>14</td>\n",
       "      <td>32017</td>\n",
       "    </tr>\n",
       "    <tr>\n",
       "      <th>4</th>\n",
       "      <td>11</td>\n",
       "      <td>0</td>\n",
       "      <td>24339</td>\n",
       "      <td>4</td>\n",
       "      <td>1</td>\n",
       "      <td>2</td>\n",
       "      <td>1</td>\n",
       "      <td>1</td>\n",
       "      <td>1</td>\n",
       "      <td>1</td>\n",
       "      <td>...</td>\n",
       "      <td>0</td>\n",
       "      <td>599</td>\n",
       "      <td>1</td>\n",
       "      <td>1</td>\n",
       "      <td>1</td>\n",
       "      <td>1</td>\n",
       "      <td>1</td>\n",
       "      <td>1</td>\n",
       "      <td>8</td>\n",
       "      <td>32017</td>\n",
       "    </tr>\n",
       "  </tbody>\n",
       "</table>\n",
       "<p>5 rows × 85 columns</p>\n",
       "</div>"
      ],
      "text/plain": [
       "   GESTCEN  GTCBSA  FPOVCUT  FPERSONS  FHEADIDX  FSPOUIDX  FOWNU6  FRELU6  \\\n",
       "0       11       0    16543         2         1         0       0       0   \n",
       "1       11       0    14507         2         1         2       0       0   \n",
       "2       11       0    24755         4         1         2       0       0   \n",
       "3       11       0    16072         2         1         2       0       0   \n",
       "4       11       0    24339         4         1         2       1       1   \n",
       "\n",
       "   FKIND  FTYPE  ...  F_MV_FS  F_MV_SL  I_FHIPVAL  I_FHIPVAL2  I_FMEDVAL  \\\n",
       "0      3      1  ...      984        0          0           0          0   \n",
       "1      1      1  ...        0        0          1           1          1   \n",
       "2      1      1  ...        0      599          0           0          0   \n",
       "3      1      1  ...        0        0          1           1          0   \n",
       "4      1      1  ...        0      599          1           1          1   \n",
       "\n",
       "   I_FMOOP  I_FMOOP2  I_FOTCVAL  POVLL   MMYY  \n",
       "0        0         0          0      4  32017  \n",
       "1        1         1          1      7  32017  \n",
       "2        0         0          0      8  32017  \n",
       "3        1         1          0     14  32017  \n",
       "4        1         1          1      8  32017  \n",
       "\n",
       "[5 rows x 85 columns]"
      ]
     },
     "execution_count": 5,
     "metadata": {},
     "output_type": "execute_result"
    }
   ],
   "source": [
    "print(\"num of families: \", data.shape[0])\n",
    "print(\"num of features: \", data.shape[1])\n",
    "data.head()"
   ]
  },
  {
   "cell_type": "markdown",
   "id": "4e69818b",
   "metadata": {},
   "source": [
    "Let this dataset of $81087$ rows be our population, and here is a histogram of the family income in this table."
   ]
  },
  {
   "cell_type": "code",
   "execution_count": 6,
   "id": "dab505f5",
   "metadata": {},
   "outputs": [
    {
     "data": {
      "text/plain": [
       "<AxesSubplot:>"
      ]
     },
     "execution_count": 6,
     "metadata": {},
     "output_type": "execute_result"
    },
    {
     "data": {
      "image/png": "[encoded data removed]",
      "text/plain": [
       "<Figure size 432x288 with 1 Axes>"
      ]
     },
     "metadata": {
      "needs_background": "light"
     },
     "output_type": "display_data"
    }
   ],
   "source": [
    "data[\"FTOTVAL\"].hist(bins=200, density=1)"
   ]
  },
  {
   "cell_type": "markdown",
   "id": "6639f0c8",
   "metadata": {},
   "source": [
    "While most of values lie in around $50000$ dollars, some may go very high. That is why the horizontal axis stretches quite far to the right of the visible bars. Note that some values may be nagative, which means that some families did not have income but only loss in 2017."
   ]
  },
  {
   "cell_type": "markdown",
   "id": "9ea3696e",
   "metadata": {},
   "source": [
    "### Median of the Population\n",
    "\n",
    "Of course, the data provided in this question does not capture the entire population of US households. Nevertheless, to illustrate the performance of bootstrap, in the following we will \"imagine\" that the dataset corresponds to the entire population and will then look at a smaller sample of the data.\n",
    "\n",
    "1. Since we have the luxury of all the data in the population, we can directly compute the parameter-median-we wanted. **Write a function which computes the median of the family income from the above dataset.**"
   ]
  },
  {
   "cell_type": "code",
   "execution_count": 7,
   "id": "349496e5",
   "metadata": {
    "tags": []
   },
   "outputs": [],
   "source": [
    "def median_of_income(df, label):\n",
    "    \"\"\"\n",
    "    Parameters\n",
    "    ----------\n",
    "    df: pandas.DataFrame\n",
    "        varibale name of the DataFrame of data.\n",
    "    label: string\n",
    "        column that indicates the family income: \"FTOTVAL\" here.\n",
    "\n",
    "    Returns\n",
    "    -------\n",
    "    float\n",
    "        the median of the family income in 2017.\n",
    "    \"\"\"\n",
    "    #print(df[label].median()) ##49833.0\n",
    "    return df[label].median()"
   ]
  },
  {
   "cell_type": "code",
   "execution_count": 8,
   "id": "f92f470d",
   "metadata": {
    "deletable": false,
    "editable": false
   },
   "outputs": [
    {
     "data": {
      "text/html": [
       "<p><strong><pre style='display: inline;'>p4-1</pre></strong> passed!</p>"
      ],
      "text/plain": [
       "p4-1 results: All test cases passed!"
      ]
     },
     "execution_count": 8,
     "metadata": {},
     "output_type": "execute_result"
    }
   ],
   "source": [
    "grader.check(\"p4-1\")"
   ]
  },
  {
   "cell_type": "markdown",
   "id": "aa56cee6",
   "metadata": {},
   "source": [
    "<!-- BEGIN QUESTION -->\n",
    "\n",
    "### A Random Sample and an Estimate\n",
    "\n",
    "From now on, let us draw a random sample of 1000 families without replacement, and assume we do not have the whole population at hand (although we have computed the *true* median from the population for reference). Here is the random sample I draw from the dataset."
   ]
  },
  {
   "cell_type": "code",
   "execution_count": 9,
   "id": "241009e3",
   "metadata": {},
   "outputs": [
    {
     "data": {
      "text/html": [
       "<div>\n",
       "<style scoped>\n",
       "    .dataframe tbody tr th:only-of-type {\n",
       "        vertical-align: middle;\n",
       "    }\n",
       "\n",
       "    .dataframe tbody tr th {\n",
       "        vertical-align: top;\n",
       "    }\n",
       "\n",
       "    .dataframe thead th {\n",
       "        text-align: right;\n",
       "    }\n",
       "</style>\n",
       "<table border=\"1\" class=\"dataframe\">\n",
       "  <thead>\n",
       "    <tr style=\"text-align: right;\">\n",
       "      <th></th>\n",
       "      <th>GESTCEN</th>\n",
       "      <th>GTCBSA</th>\n",
       "      <th>FPOVCUT</th>\n",
       "      <th>FPERSONS</th>\n",
       "      <th>FHEADIDX</th>\n",
       "      <th>FSPOUIDX</th>\n",
       "      <th>FOWNU6</th>\n",
       "      <th>FRELU6</th>\n",
       "      <th>FKIND</th>\n",
       "      <th>FTYPE</th>\n",
       "      <th>...</th>\n",
       "      <th>F_MV_FS</th>\n",
       "      <th>F_MV_SL</th>\n",
       "      <th>I_FHIPVAL</th>\n",
       "      <th>I_FHIPVAL2</th>\n",
       "      <th>I_FMEDVAL</th>\n",
       "      <th>I_FMOOP</th>\n",
       "      <th>I_FMOOP2</th>\n",
       "      <th>I_FOTCVAL</th>\n",
       "      <th>POVLL</th>\n",
       "      <th>MMYY</th>\n",
       "    </tr>\n",
       "  </thead>\n",
       "  <tbody>\n",
       "    <tr>\n",
       "      <th>66552</th>\n",
       "      <td>87</td>\n",
       "      <td>36260</td>\n",
       "      <td>12486</td>\n",
       "      <td>1</td>\n",
       "      <td>1</td>\n",
       "      <td>0</td>\n",
       "      <td>0</td>\n",
       "      <td>0</td>\n",
       "      <td>2</td>\n",
       "      <td>2</td>\n",
       "      <td>...</td>\n",
       "      <td>0</td>\n",
       "      <td>0</td>\n",
       "      <td>0</td>\n",
       "      <td>0</td>\n",
       "      <td>0</td>\n",
       "      <td>0</td>\n",
       "      <td>0</td>\n",
       "      <td>0</td>\n",
       "      <td>8</td>\n",
       "      <td>32017</td>\n",
       "    </tr>\n",
       "    <tr>\n",
       "      <th>64608</th>\n",
       "      <td>85</td>\n",
       "      <td>10740</td>\n",
       "      <td>12486</td>\n",
       "      <td>1</td>\n",
       "      <td>1</td>\n",
       "      <td>0</td>\n",
       "      <td>0</td>\n",
       "      <td>0</td>\n",
       "      <td>2</td>\n",
       "      <td>2</td>\n",
       "      <td>...</td>\n",
       "      <td>0</td>\n",
       "      <td>0</td>\n",
       "      <td>0</td>\n",
       "      <td>0</td>\n",
       "      <td>0</td>\n",
       "      <td>0</td>\n",
       "      <td>0</td>\n",
       "      <td>0</td>\n",
       "      <td>1</td>\n",
       "      <td>32017</td>\n",
       "    </tr>\n",
       "    <tr>\n",
       "      <th>65671</th>\n",
       "      <td>86</td>\n",
       "      <td>38060</td>\n",
       "      <td>32070</td>\n",
       "      <td>6</td>\n",
       "      <td>1</td>\n",
       "      <td>2</td>\n",
       "      <td>1</td>\n",
       "      <td>1</td>\n",
       "      <td>1</td>\n",
       "      <td>1</td>\n",
       "      <td>...</td>\n",
       "      <td>4560</td>\n",
       "      <td>1796</td>\n",
       "      <td>0</td>\n",
       "      <td>0</td>\n",
       "      <td>0</td>\n",
       "      <td>0</td>\n",
       "      <td>0</td>\n",
       "      <td>0</td>\n",
       "      <td>2</td>\n",
       "      <td>32017</td>\n",
       "    </tr>\n",
       "    <tr>\n",
       "      <th>52386</th>\n",
       "      <td>73</td>\n",
       "      <td>0</td>\n",
       "      <td>14507</td>\n",
       "      <td>2</td>\n",
       "      <td>1</td>\n",
       "      <td>0</td>\n",
       "      <td>0</td>\n",
       "      <td>0</td>\n",
       "      <td>2</td>\n",
       "      <td>1</td>\n",
       "      <td>...</td>\n",
       "      <td>0</td>\n",
       "      <td>0</td>\n",
       "      <td>0</td>\n",
       "      <td>0</td>\n",
       "      <td>0</td>\n",
       "      <td>0</td>\n",
       "      <td>0</td>\n",
       "      <td>0</td>\n",
       "      <td>3</td>\n",
       "      <td>32017</td>\n",
       "    </tr>\n",
       "    <tr>\n",
       "      <th>80551</th>\n",
       "      <td>95</td>\n",
       "      <td>46520</td>\n",
       "      <td>24755</td>\n",
       "      <td>4</td>\n",
       "      <td>1</td>\n",
       "      <td>2</td>\n",
       "      <td>0</td>\n",
       "      <td>0</td>\n",
       "      <td>1</td>\n",
       "      <td>1</td>\n",
       "      <td>...</td>\n",
       "      <td>0</td>\n",
       "      <td>0</td>\n",
       "      <td>3</td>\n",
       "      <td>3</td>\n",
       "      <td>3</td>\n",
       "      <td>3</td>\n",
       "      <td>3</td>\n",
       "      <td>3</td>\n",
       "      <td>14</td>\n",
       "      <td>32017</td>\n",
       "    </tr>\n",
       "    <tr>\n",
       "      <th>...</th>\n",
       "      <td>...</td>\n",
       "      <td>...</td>\n",
       "      <td>...</td>\n",
       "      <td>...</td>\n",
       "      <td>...</td>\n",
       "      <td>...</td>\n",
       "      <td>...</td>\n",
       "      <td>...</td>\n",
       "      <td>...</td>\n",
       "      <td>...</td>\n",
       "      <td>...</td>\n",
       "      <td>...</td>\n",
       "      <td>...</td>\n",
       "      <td>...</td>\n",
       "      <td>...</td>\n",
       "      <td>...</td>\n",
       "      <td>...</td>\n",
       "      <td>...</td>\n",
       "      <td>...</td>\n",
       "      <td>...</td>\n",
       "      <td>...</td>\n",
       "    </tr>\n",
       "    <tr>\n",
       "      <th>7030</th>\n",
       "      <td>21</td>\n",
       "      <td>35620</td>\n",
       "      <td>16543</td>\n",
       "      <td>2</td>\n",
       "      <td>1</td>\n",
       "      <td>0</td>\n",
       "      <td>0</td>\n",
       "      <td>0</td>\n",
       "      <td>3</td>\n",
       "      <td>1</td>\n",
       "      <td>...</td>\n",
       "      <td>0</td>\n",
       "      <td>599</td>\n",
       "      <td>0</td>\n",
       "      <td>0</td>\n",
       "      <td>0</td>\n",
       "      <td>0</td>\n",
       "      <td>0</td>\n",
       "      <td>0</td>\n",
       "      <td>5</td>\n",
       "      <td>32017</td>\n",
       "    </tr>\n",
       "    <tr>\n",
       "      <th>57078</th>\n",
       "      <td>74</td>\n",
       "      <td>26420</td>\n",
       "      <td>11511</td>\n",
       "      <td>1</td>\n",
       "      <td>1</td>\n",
       "      <td>0</td>\n",
       "      <td>0</td>\n",
       "      <td>0</td>\n",
       "      <td>2</td>\n",
       "      <td>2</td>\n",
       "      <td>...</td>\n",
       "      <td>0</td>\n",
       "      <td>0</td>\n",
       "      <td>0</td>\n",
       "      <td>0</td>\n",
       "      <td>0</td>\n",
       "      <td>0</td>\n",
       "      <td>0</td>\n",
       "      <td>0</td>\n",
       "      <td>5</td>\n",
       "      <td>32017</td>\n",
       "    </tr>\n",
       "    <tr>\n",
       "      <th>64661</th>\n",
       "      <td>85</td>\n",
       "      <td>22140</td>\n",
       "      <td>12486</td>\n",
       "      <td>1</td>\n",
       "      <td>1</td>\n",
       "      <td>0</td>\n",
       "      <td>0</td>\n",
       "      <td>0</td>\n",
       "      <td>2</td>\n",
       "      <td>2</td>\n",
       "      <td>...</td>\n",
       "      <td>1560</td>\n",
       "      <td>0</td>\n",
       "      <td>0</td>\n",
       "      <td>0</td>\n",
       "      <td>0</td>\n",
       "      <td>0</td>\n",
       "      <td>0</td>\n",
       "      <td>0</td>\n",
       "      <td>1</td>\n",
       "      <td>32017</td>\n",
       "    </tr>\n",
       "    <tr>\n",
       "      <th>78436</th>\n",
       "      <td>93</td>\n",
       "      <td>42220</td>\n",
       "      <td>12486</td>\n",
       "      <td>1</td>\n",
       "      <td>2</td>\n",
       "      <td>0</td>\n",
       "      <td>0</td>\n",
       "      <td>0</td>\n",
       "      <td>2</td>\n",
       "      <td>5</td>\n",
       "      <td>...</td>\n",
       "      <td>0</td>\n",
       "      <td>0</td>\n",
       "      <td>0</td>\n",
       "      <td>0</td>\n",
       "      <td>0</td>\n",
       "      <td>0</td>\n",
       "      <td>0</td>\n",
       "      <td>0</td>\n",
       "      <td>13</td>\n",
       "      <td>32017</td>\n",
       "    </tr>\n",
       "    <tr>\n",
       "      <th>69944</th>\n",
       "      <td>91</td>\n",
       "      <td>44060</td>\n",
       "      <td>24339</td>\n",
       "      <td>2</td>\n",
       "      <td>3</td>\n",
       "      <td>0</td>\n",
       "      <td>0</td>\n",
       "      <td>0</td>\n",
       "      <td>3</td>\n",
       "      <td>3</td>\n",
       "      <td>...</td>\n",
       "      <td>0</td>\n",
       "      <td>0</td>\n",
       "      <td>0</td>\n",
       "      <td>0</td>\n",
       "      <td>0</td>\n",
       "      <td>0</td>\n",
       "      <td>0</td>\n",
       "      <td>0</td>\n",
       "      <td>8</td>\n",
       "      <td>32017</td>\n",
       "    </tr>\n",
       "  </tbody>\n",
       "</table>\n",
       "<p>1000 rows × 85 columns</p>\n",
       "</div>"
      ],
      "text/plain": [
       "       GESTCEN  GTCBSA  FPOVCUT  FPERSONS  FHEADIDX  FSPOUIDX  FOWNU6  FRELU6  \\\n",
       "66552       87   36260    12486         1         1         0       0       0   \n",
       "64608       85   10740    12486         1         1         0       0       0   \n",
       "65671       86   38060    32070         6         1         2       1       1   \n",
       "52386       73       0    14507         2         1         0       0       0   \n",
       "80551       95   46520    24755         4         1         2       0       0   \n",
       "...        ...     ...      ...       ...       ...       ...     ...     ...   \n",
       "7030        21   35620    16543         2         1         0       0       0   \n",
       "57078       74   26420    11511         1         1         0       0       0   \n",
       "64661       85   22140    12486         1         1         0       0       0   \n",
       "78436       93   42220    12486         1         2         0       0       0   \n",
       "69944       91   44060    24339         2         3         0       0       0   \n",
       "\n",
       "       FKIND  FTYPE  ...  F_MV_FS  F_MV_SL  I_FHIPVAL  I_FHIPVAL2  I_FMEDVAL  \\\n",
       "66552      2      2  ...        0        0          0           0          0   \n",
       "64608      2      2  ...        0        0          0           0          0   \n",
       "65671      1      1  ...     4560     1796          0           0          0   \n",
       "52386      2      1  ...        0        0          0           0          0   \n",
       "80551      1      1  ...        0        0          3           3          3   \n",
       "...      ...    ...  ...      ...      ...        ...         ...        ...   \n",
       "7030       3      1  ...        0      599          0           0          0   \n",
       "57078      2      2  ...        0        0          0           0          0   \n",
       "64661      2      2  ...     1560        0          0           0          0   \n",
       "78436      2      5  ...        0        0          0           0          0   \n",
       "69944      3      3  ...        0        0          0           0          0   \n",
       "\n",
       "       I_FMOOP  I_FMOOP2  I_FOTCVAL  POVLL   MMYY  \n",
       "66552        0         0          0      8  32017  \n",
       "64608        0         0          0      1  32017  \n",
       "65671        0         0          0      2  32017  \n",
       "52386        0         0          0      3  32017  \n",
       "80551        3         3          3     14  32017  \n",
       "...        ...       ...        ...    ...    ...  \n",
       "7030         0         0          0      5  32017  \n",
       "57078        0         0          0      5  32017  \n",
       "64661        0         0          0      1  32017  \n",
       "78436        0         0          0     13  32017  \n",
       "69944        0         0          0      8  32017  \n",
       "\n",
       "[1000 rows x 85 columns]"
      ]
     },
     "execution_count": 9,
     "metadata": {},
     "output_type": "execute_result"
    }
   ],
   "source": [
    "our_sample = data.sample(n=1000, replace=False, random_state=0)\n",
    "our_sample"
   ]
  },
  {
   "cell_type": "markdown",
   "id": "cd734fb2",
   "metadata": {},
   "source": [
    "2. Use the function `median_of_income` in **Q3-1** to compute the median $\\bar{x}_{\\text{median}}$ of the family income in the new sample. Is it comparable to the median $x_{\\text{median}}$ we obtained from the whole population? Briefly discuss why."
   ]
  },
  {
   "cell_type": "code",
   "execution_count": 10,
   "id": "9785393b",
   "metadata": {},
   "outputs": [
    {
     "name": "stdout",
     "output_type": "stream",
     "text": [
      "48683.0\n"
     ]
    }
   ],
   "source": [
    "print(median_of_income(our_sample, \"FTOTVAL\"))"
   ]
  },
  {
   "cell_type": "markdown",
   "id": "f8360c6b",
   "metadata": {},
   "source": [
    "Yes, it is comparable. 1k difference I think not much significant."
   ]
  },
  {
   "cell_type": "markdown",
   "id": "88734751",
   "metadata": {},
   "source": [
    "<!-- END QUESTION -->\n",
    "\n",
    "### The Bootstrap: Resampling from the Sample\n",
    "\n",
    "Now we have one estimate of the median. Note that if we had the sample come out differently, the estimate would have had a different value. So we would like to quantify the variation of the estimate, which measures how accurately we can estimate the parameter. We can use *the bootstrap* to generate another random sample that resembles the population by the following steps: \n",
    "- Treat the original sample as if it were the population,\n",
    "- Draw the new sample **of the same size as the original sample size**, at random **with replacement**, from the original sample.\n",
    "\n",
    "Note that it is important to resample the same number of times as the original sample size, because we need to measure the variability of an estimate with the same sample size. Also, to avoid arriving at the same sample, we resample data with replacement. \n",
    "\n",
    "3. Write a function that returns one bootstrapped median $\\bar{x}^*_{\\text{median}}$ of the family income, based on bootstrapping the original random sample that we called `our_sample`. "
   ]
  },
  {
   "cell_type": "code",
   "execution_count": 11,
   "id": "6a28fa37",
   "metadata": {
    "tags": []
   },
   "outputs": [],
   "source": [
    "def one_bootstrap_median(original_sample, label, random_state):\n",
    "    \"\"\"\n",
    "    Parameters\n",
    "    ----------\n",
    "    sample: pandas.DataFrame\n",
    "        varibale name of the DataFrame of the original sample, \"our_sample\" here.\n",
    "    label: string\n",
    "        column that indicates the family income: \"FTOTVAL\" here.\n",
    "    random_state: int\n",
    "        random seed used to determine the randomness when resampling.\n",
    "\n",
    "    Returns\n",
    "    -------\n",
    "    float\n",
    "        the median of the family income in 2017 of the bootstrapped sample.\n",
    "    \"\"\"\n",
    "    our_sample = original_sample.sample(n=len(original_sample), replace=True, random_state=random_state)\n",
    "    #print(median_of_income(our_sample, label))\n",
    "    return median_of_income(our_sample, label)"
   ]
  },
  {
   "cell_type": "code",
   "execution_count": 12,
   "id": "38b70e8f",
   "metadata": {
    "deletable": false,
    "editable": false
   },
   "outputs": [
    {
     "data": {
      "text/html": [
       "<p><strong><pre style='display: inline;'>p4-3</pre></strong> passed!</p>"
      ],
      "text/plain": [
       "p4-3 results: All test cases passed!"
      ]
     },
     "execution_count": 12,
     "metadata": {},
     "output_type": "execute_result"
    }
   ],
   "source": [
    "grader.check(\"p4-3\")"
   ]
  },
  {
   "cell_type": "markdown",
   "id": "344538d9",
   "metadata": {},
   "source": [
    "### Bootstrap Empirical Distribution of the Sample Median\n",
    "\n",
    "We now repeat the bootstrap process multiple times by running a `for` loop to obtain a bootstrap Empirical Distribution.\n",
    "\n",
    "4. Write a function that collects an array of bootstrapped medians, one from each bootstrap sample, for `num_repetitions` times. In the $i$-th bootstrap process, set `random_state = i`, where $i = 0, 1, \\dots,$ `num_repetitions`."
   ]
  },
  {
   "cell_type": "code",
   "execution_count": 13,
   "id": "1500ed7c",
   "metadata": {
    "tags": []
   },
   "outputs": [],
   "source": [
    "def bootstrap_median(original_sample, label, num_repetitions):\n",
    "    \"\"\"\n",
    "    Parameters\n",
    "    ----------\n",
    "    sample: pandas.DataFrame\n",
    "        varibale name of the DataFrame of the original sample, \"our_sample\" here.\n",
    "    label: string\n",
    "        column that indicates the family income: \"FTOTVAL\" here.\n",
    "    random_state: int\n",
    "        random seed used to determine the randomness when resampling.\n",
    "\n",
    "    Returns\n",
    "    -------\n",
    "    np.array\n",
    "        the array of bootstrapped medians.\n",
    "    \"\"\"\n",
    "    i = 0\n",
    "    a = []\n",
    "    while(i<num_repetitions):\n",
    "        a.append(one_bootstrap_median(original_sample, label, random_state=i))\n",
    "        i += 1\n",
    "    return np.array(a)\n",
    "        "
   ]
  },
  {
   "cell_type": "code",
   "execution_count": 14,
   "id": "707e799e",
   "metadata": {
    "deletable": false,
    "editable": false
   },
   "outputs": [
    {
     "data": {
      "text/html": [
       "<p><strong><pre style='display: inline;'>p4-4</pre></strong> passed!</p>"
      ],
      "text/plain": [
       "p4-4 results: All test cases passed!"
      ]
     },
     "execution_count": 14,
     "metadata": {},
     "output_type": "execute_result"
    }
   ],
   "source": [
    "grader.check(\"p4-4\")"
   ]
  },
  {
   "cell_type": "markdown",
   "id": "dcea4609",
   "metadata": {},
   "source": [
    "<!-- BEGIN QUESTION -->\n",
    "\n",
    "5. Draw the empirical histogram of the bootstrapped medians for $5000$ repetitions, and check whether the **population median** obtained in **Q3-2** lies in the estimated $95\\%$ bootstrap confidence interval $[\\bar{x}_{\\text{median}} - \\delta^*_{.025}, \\bar{x}_{\\text{median}} - \\delta^*_{.975}]$ for the median, which tells you whether your estimation process captures the parameter. Note that here we use $\\delta^* = \\bar{x}^*_{\\text{median}} - \\bar{x}_{\\text{median}}$ derived from bootstrapping to approximate the true $\\delta = \\bar{x}_{\\text{median}} - x_{\\text{median}}$ to get the confidence interval.\n",
    "\n",
    "Hint: To get the \"$95\\%$ bootstrap confidence interval\", use `np.percentile()` to compute the two ends $\\delta^*_{.025}$ and $\\delta^*_{.975}$ at the $97.5\\%$ and $2.5\\%$ percentiles respectively for $\\bar{x}^*_{\\text{median}} - \\bar{x}_{\\text{median}}$. "
   ]
  },
  {
   "cell_type": "code",
   "execution_count": 15,
   "id": "57ce6a5b",
   "metadata": {
    "scrolled": true,
    "tags": []
   },
   "outputs": [
    {
     "data": {
      "text/plain": [
       "<AxesSubplot:>"
      ]
     },
     "execution_count": 15,
     "metadata": {},
     "output_type": "execute_result"
    },
    {
     "data": {
      "image/png": "[encoded data removed]",
      "text/plain": [
       "<Figure size 432x288 with 1 Axes>"
      ]
     },
     "metadata": {
      "needs_background": "light"
     },
     "output_type": "display_data"
    }
   ],
   "source": [
    "\"\"\" to be implemented \"\"\"\n",
    "dis = bootstrap_median(our_sample, label=\"FTOTVAL\", num_repetitions=5000)\n",
    "dist = pd.DataFrame({'test_stat':dis})\n",
    "dist['test_stat'].hist()"
   ]
  },
  {
   "cell_type": "code",
   "execution_count": 16,
   "id": "9d4b9b03",
   "metadata": {},
   "outputs": [
    {
     "name": "stdout",
     "output_type": "stream",
     "text": [
      "-3683.0\n",
      "4703.0\n",
      "CI  43980.0 52366.0\n",
      "population median  49833.0\n",
      "CI includes the population median\n"
     ]
    }
   ],
   "source": [
    "xbar_med = median_of_income(our_sample, \"FTOTVAL\")\n",
    "\n",
    "dist['test_stat'] = dist['test_stat'] - xbar_med\n",
    "dist = dist.sort_values(by=['test_stat'])\n",
    "#print(dist['test_stat'])\n",
    "print(np.percentile(dist['test_stat'],2.5))\n",
    "print(np.percentile(dist['test_stat'],97.5))\n",
    "print(\"CI \",xbar_med - np.percentile(dist['test_stat'],97.5), xbar_med - np.percentile(dist['test_stat'],2.5))\n",
    "print(\"population median \",data['FTOTVAL'].median())\n",
    "##It does not include the population median which is 49833.0.\n",
    "print(\"CI includes the population median\")"
   ]
  },
  {
   "cell_type": "markdown",
   "id": "8f8d02ae",
   "metadata": {},
   "source": [
    "<!-- END QUESTION -->\n",
    "\n",
    "<!-- BEGIN QUESTION -->\n",
    "\n",
    "### Going Beyond\n",
    "\n",
    "We can further go beyond what we have done so far! Assume that there are $100$ people who get random samples (different from each other) from the population, and these people compute their own bootstrap empirical distributions based on the random samples they get. How many times will the process of estimation we did above  capture the parameter (the population median)?\n",
    "\n",
    "6. Draw $100$ random samples of size $1000$ families from the population `data`, and set `random_state=i` at $i$-th draw. For each random sample, compute the array of the bootstrapped medians for 5000 repetitions (same random state setting as in **Q3-4**). Compute how many times the population median lies in the estimated $95\\%$ bootstrap confidence interval for the median in the bootstrap process."
   ]
  },
  {
   "cell_type": "code",
   "execution_count": 17,
   "id": "744a7c00",
   "metadata": {
    "tags": []
   },
   "outputs": [
    {
     "data": {
      "text/html": [
       "<div>\n",
       "<style scoped>\n",
       "    .dataframe tbody tr th:only-of-type {\n",
       "        vertical-align: middle;\n",
       "    }\n",
       "\n",
       "    .dataframe tbody tr th {\n",
       "        vertical-align: top;\n",
       "    }\n",
       "\n",
       "    .dataframe thead th {\n",
       "        text-align: right;\n",
       "    }\n",
       "</style>\n",
       "<table border=\"1\" class=\"dataframe\">\n",
       "  <thead>\n",
       "    <tr style=\"text-align: right;\">\n",
       "      <th></th>\n",
       "      <th>Left</th>\n",
       "      <th>Right</th>\n",
       "    </tr>\n",
       "  </thead>\n",
       "  <tbody>\n",
       "    <tr>\n",
       "      <th>0</th>\n",
       "      <td>43980.0000</td>\n",
       "      <td>52366.000</td>\n",
       "    </tr>\n",
       "    <tr>\n",
       "      <th>1</th>\n",
       "      <td>46539.9750</td>\n",
       "      <td>54000.000</td>\n",
       "    </tr>\n",
       "    <tr>\n",
       "      <th>2</th>\n",
       "      <td>48361.5000</td>\n",
       "      <td>54512.000</td>\n",
       "    </tr>\n",
       "    <tr>\n",
       "      <th>3</th>\n",
       "      <td>47701.4875</td>\n",
       "      <td>57253.500</td>\n",
       "    </tr>\n",
       "    <tr>\n",
       "      <th>4</th>\n",
       "      <td>46975.0000</td>\n",
       "      <td>56001.000</td>\n",
       "    </tr>\n",
       "    <tr>\n",
       "      <th>...</th>\n",
       "      <td>...</td>\n",
       "      <td>...</td>\n",
       "    </tr>\n",
       "    <tr>\n",
       "      <th>94</th>\n",
       "      <td>45145.0000</td>\n",
       "      <td>53757.000</td>\n",
       "    </tr>\n",
       "    <tr>\n",
       "      <th>96</th>\n",
       "      <td>45130.0000</td>\n",
       "      <td>54345.000</td>\n",
       "    </tr>\n",
       "    <tr>\n",
       "      <th>97</th>\n",
       "      <td>46486.0125</td>\n",
       "      <td>57241.000</td>\n",
       "    </tr>\n",
       "    <tr>\n",
       "      <th>98</th>\n",
       "      <td>47475.9625</td>\n",
       "      <td>53732.500</td>\n",
       "    </tr>\n",
       "    <tr>\n",
       "      <th>99</th>\n",
       "      <td>46307.0000</td>\n",
       "      <td>53797.025</td>\n",
       "    </tr>\n",
       "  </tbody>\n",
       "</table>\n",
       "<p>90 rows × 2 columns</p>\n",
       "</div>"
      ],
      "text/plain": [
       "          Left      Right\n",
       "0   43980.0000  52366.000\n",
       "1   46539.9750  54000.000\n",
       "2   48361.5000  54512.000\n",
       "3   47701.4875  57253.500\n",
       "4   46975.0000  56001.000\n",
       "..         ...        ...\n",
       "94  45145.0000  53757.000\n",
       "96  45130.0000  54345.000\n",
       "97  46486.0125  57241.000\n",
       "98  47475.9625  53732.500\n",
       "99  46307.0000  53797.025\n",
       "\n",
       "[90 rows x 2 columns]"
      ]
     },
     "execution_count": 17,
     "metadata": {},
     "output_type": "execute_result"
    }
   ],
   "source": [
    "left_ends = np.zeros(100)\n",
    "right_ends = np.zeros(100)\n",
    "\n",
    "for i in np.arange(100):\n",
    "    original_sample = data.sample(1000, replace=False, random_state=i)\n",
    "    est_median = np.median(original_sample['FTOTVAL'])\n",
    "    medians = bootstrap_median(original_sample,\"FTOTVAL\", 5000)\n",
    "    left_ends[i] = est_median - np.percentile(medians - est_median, 97.5)\n",
    "    right_ends[i] = est_median - np.percentile(medians - est_median, 2.5)\n",
    "\n",
    "\n",
    "intervals = pd.DataFrame({\n",
    "    'Left': left_ends,\n",
    "    'Right': right_ends\n",
    "}) \n",
    "pop_median = data['FTOTVAL'].median()\n",
    "intervals.loc[(intervals[\"Left\"] <= pop_median) & (intervals[\"Right\"] >= pop_median)]\n",
    "#i = intervals[intervals['Left'] <= pop_median]\n",
    "#i = i[i['Right'] >= pop_median]\n",
    "#print(len(i))"
   ]
  },
  {
   "cell_type": "markdown",
   "id": "24047363",
   "metadata": {},
   "source": [
    "90 times the population median lies in the estimated  95%  bootstrap confidence interval for the median in the bootstrap process.\n",
    "\n"
   ]
  },
  {
   "cell_type": "markdown",
   "id": "9cdf9a82",
   "metadata": {
    "deletable": false,
    "editable": false
   },
   "source": [
    "---\n",
    "\n",
    "To double-check your work, the cell below will rerun all of the autograder tests."
   ]
  },
  {
   "cell_type": "code",
   "execution_count": 18,
   "id": "4b2acb78",
   "metadata": {
    "deletable": false,
    "editable": false
   },
   "outputs": [
    {
     "data": {
      "text/plain": [
       "p4-1 results: All test cases passed!\n",
       "\n",
       "p4-3 results: All test cases passed!\n",
       "\n",
       "p4-4 results: All test cases passed!"
      ]
     },
     "execution_count": 18,
     "metadata": {},
     "output_type": "execute_result"
    }
   ],
   "source": [
    "grader.check_all()"
   ]
  },
  {
   "cell_type": "markdown",
   "id": "d66dc9f9",
   "metadata": {
    "deletable": false,
    "editable": false
   },
   "source": [
    "## Submission\n",
    "\n",
    "Make sure you have run all cells in your notebook in order before running the cell below, so that all images/graphs appear in the output. The cell below will generate a zip file for you to submit. **Please save before exporting!**\n",
    "\n",
    "Please download the zip file after running the cell below, then upload the zip file to GradeScope for submission. You can also download your notebook as an IPYNB file for the submission. Please also export your notebook as a PDF file (Use **Command/Control + P** if you have issues with the native export as PDF feature). **Please upload and submit both the IPYNB file and the PDF via Gradescope (entry code: GEWXGD).**"
   ]
  },
  {
   "cell_type": "code",
   "execution_count": 19,
   "id": "0f5f2a45",
   "metadata": {
    "deletable": false,
    "editable": false
   },
   "outputs": [
    {
     "data": {
      "text/html": [
       "\n",
       "            <p>Your submission has been exported. Click <a href=\"HW4_2022_04_11T11_25_28_072412.zip\" download=\"HW4_2022_04_11T11_25_28_072412.zip\" target=\"_blank\">here</a>\n",
       "            to download the zip file.</p>\n",
       "            "
      ],
      "text/plain": [
       "<IPython.core.display.HTML object>"
      ]
     },
     "metadata": {},
     "output_type": "display_data"
    }
   ],
   "source": [
    "# Save your notebook first, then run this cell to export your submission.\n",
    "grader.export(pdf=False)"
   ]
  },
  {
   "cell_type": "markdown",
   "id": "a2bef034",
   "metadata": {},
   "source": [
    " "
   ]
  }
 ],
 "metadata": {
  "kernelspec": {
   "display_name": "Python 3",
   "language": "python",
   "name": "python3"
  },
  "language_info": {
   "codemirror_mode": {
    "name": "ipython",
    "version": 3
   },
   "file_extension": ".py",
   "mimetype": "text/x-python",
   "name": "python",
   "nbconvert_exporter": "python",
   "pygments_lexer": "ipython3",
   "version": "3.8.8"
  },
  "latex_envs": {
   "LaTeX_envs_menu_present": true,
   "autoclose": false,
   "autocomplete": true,
   "bibliofile": "biblio.bib",
   "cite_by": "apalike",
   "current_citInitial": 1,
   "eqLabelWithNumbers": true,
   "eqNumInitial": 1,
   "hotkeys": {
    "equation": "Ctrl-E",
    "itemize": "Ctrl-I"
   },
   "labels_anchors": false,
   "latex_user_defs": false,
   "report_style_numbering": false,
   "user_envs_cfg": false
  },
  "otter": {
   "tests": {
    "p4-1": {
     "name": "p4-1",
     "points": null,
     "suites": [
      {
       "cases": [
        {
         "code": ">>> med = median_of_income(data, \"FTOTVAL\")\n>>> isinstance(med, float)\nTrue",
         "hidden": false,
         "locked": false
        },
        {
         "code": ">>> med = median_of_income(data, \"FTOTVAL\")\n>>> expect_med = 49833.0\n>>> np.linalg.norm(med - expect_med) < 1e-6\nTrue",
         "hidden": false,
         "locked": false
        }
       ],
       "scored": true,
       "setup": "",
       "teardown": "",
       "type": "doctest"
      }
     ]
    },
    "p4-3": {
     "name": "p4-3",
     "points": null,
     "suites": [
      {
       "cases": [
        {
         "code": ">>> bootstrap_med = one_bootstrap_median(our_sample, \"FTOTVAL\", 0)\n>>> isinstance(bootstrap_med, float)\nTrue",
         "hidden": false,
         "locked": false
        },
        {
         "code": ">>> bootstrap_med = one_bootstrap_median(our_sample, \"FTOTVAL\", 0)\n>>> expect_med = 49302.0\n>>> np.linalg.norm(bootstrap_med - expect_med) < 1e-6\nTrue",
         "hidden": false,
         "locked": false
        },
        {
         "code": ">>> bootstrap_med = one_bootstrap_median(our_sample, \"FTOTVAL\", 100)\n>>> expect_med = 47420.5\n>>> np.linalg.norm(bootstrap_med - expect_med) < 1e-6\nTrue",
         "hidden": false,
         "locked": false
        },
        {
         "code": ">>> bootstrap_med = one_bootstrap_median(our_sample, \"FTOTVAL\", 10)\n>>> expect_med = 43789.5\n>>> np.linalg.norm(bootstrap_med - expect_med) < 1e-6\nTrue",
         "hidden": false,
         "locked": false
        }
       ],
       "scored": true,
       "setup": "",
       "teardown": "",
       "type": "doctest"
      }
     ]
    },
    "p4-4": {
     "name": "p4-4",
     "points": null,
     "suites": [
      {
       "cases": [
        {
         "code": ">>> med_array = bootstrap_median(our_sample, \"FTOTVAL\", 10)\n>>> type(med_array).__module__ == np.__name__\nTrue",
         "hidden": false,
         "locked": false
        },
        {
         "code": ">>> med_array = bootstrap_median(our_sample, \"FTOTVAL\", 10)\n>>> expect_array = np.array([49302. , 48760. , 47539. , 47580. , 47918.5, 52121. , 47392. ,\n...        50175. , 49734. , 47001. ])\n>>> np.allclose(med_array, expect_array)\nTrue",
         "hidden": false,
         "locked": false
        },
        {
         "code": ">>> med_array = bootstrap_median(our_sample, \"FTOTVAL\", 100)\n>>> expect_array = np.array([49302. , 48760. , 47539. , 47580. , 47918.5, 52121. , 47392. ,\n...        50175. , 49734. , 47001. , 43789.5, 50001. , 48005. , 47559.5,\n...        51126. , 48036.5, 48001. , 50493. , 50035.5, 47918.5, 52120. ,\n...        53002. , 53186. , 47123. , 47762.5, 53188. , 48683. , 47918.5,\n...        48683. , 50493. , 47594. , 50035.5, 48142.5, 46000. , 47559.5,\n...        51700. , 46011. , 46108. , 50042.5, 48488.5, 49734. , 50001. ,\n...        47608. , 52280. , 46011. , 50005.5, 53004. , 46000. , 50000. ,\n...        48001. , 47762.5, 45000. , 44934. , 48003.5, 48411.5, 50000. ,\n...        53188. , 48000.5, 47844.5, 50995. , 50000. , 48488.5, 46176. ,\n...        48001.5, 45094. , 49504. , 50150.5, 48000.5, 51413. , 52280. ,\n...        48683. , 48658.5, 50157.5, 46040. , 46000. , 47173.5, 49795. ,\n...        45094. , 47580. , 52280. , 45000. , 48000. , 50290. , 48411.5,\n...        50060. , 48217. , 46093.5, 50175. , 51198. , 50493. , 51700. ,\n...        48003.5, 50000. , 48000. , 48760. , 52092.5, 48853. , 51901.5,\n...        46000. , 50000. ])\n>>> np.allclose(med_array, expect_array)\nTrue",
         "hidden": false,
         "locked": false
        }
       ],
       "scored": true,
       "setup": "",
       "teardown": "",
       "type": "doctest"
      }
     ]
    }
   }
  }
 },
 "nbformat": 4,
 "nbformat_minor": 5
}

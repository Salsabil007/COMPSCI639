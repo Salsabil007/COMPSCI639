{
 "cells": [
  {
   "cell_type": "code",
   "execution_count": 1,
   "id": "c9616d9a",
   "metadata": {
    "deletable": false,
    "editable": false
   },
   "outputs": [],
   "source": [
    "# Initialize Otter\n",
    "import otter\n",
    "grader = otter.Notebook(\"HW4.ipynb\")"
   ]
  },
  {
   "cell_type": "code",
   "execution_count": 2,
   "id": "a426ca12",
   "metadata": {},
   "outputs": [],
   "source": [
    "import pandas as pd\n",
    "import numpy as np\n",
    "import matplotlib.pyplot as plt"
   ]
  },
  {
   "cell_type": "markdown",
   "id": "98d8f5c3",
   "metadata": {},
   "source": [
    "# Homework #4"
   ]
  },
  {
   "cell_type": "markdown",
   "id": "b42892cc",
   "metadata": {},
   "source": [
    "In this homework, you will get to practice the computation of maximum likelihood estimates and bootstrap confidence intervals."
   ]
  },
  {
   "cell_type": "markdown",
   "id": "e16c82a9",
   "metadata": {},
   "source": [
    "<!-- BEGIN QUESTION -->\n",
    "\n",
    "## Problem 1: MLE for Laplace Distribution"
   ]
  },
  {
   "cell_type": "markdown",
   "id": "c36f0131",
   "metadata": {},
   "source": [
    "You are given 10 points $\\{ 0.19529091,  0.93106584,  0.15147936, -0.43860253,  0.15290169,\n",
    "       -1.18712532, -0.2587244 , -1.67139275, -0.55631196, -2.11156991\\}$ that were drawn i.i.d. from Laplace distribution with scale 1, which has the probability density function $f(x|\\theta) = \\frac{1}{2}e^{-|x - \\theta|},$ where $\\theta$ is the unknown parameter you want to estimate. What are the likelihood and the log-likelihood functions for this problem? Can you use the derivative test to obtain a maximum likelihood estimate for $\\theta$? \n",
    "       \n",
    "Using the data provided in the paragraph above, plot the log-likelihood function and deduce the MLE of $\\theta.$ Is MLE unique for this problem?"
   ]
  },
  {
   "cell_type": "markdown",
   "id": "64ce7713",
   "metadata": {},
   "source": [
    "_Type your answer here, replacing this text._"
   ]
  },
  {
   "cell_type": "markdown",
   "id": "c04ea881",
   "metadata": {},
   "source": [
    "<!-- END QUESTION -->\n",
    "\n",
    "<!-- BEGIN QUESTION -->\n",
    "\n",
    "## Problem 2: MLE for Poisson Distribution"
   ]
  },
  {
   "cell_type": "markdown",
   "id": "ca85df38",
   "metadata": {},
   "source": [
    "The following points have been drawn from Poisson distribution with the unknown parameter $\\lambda:$ $\\{4, 5, 3, 2, 4, 7, 5, 5, 2, 2\\}.$ What is the log-likelihood function for estimating $\\lambda$?\n",
    "\n",
    "1. Compute the MLE of $\\lambda.$\n",
    "2. [Extra Credit, 5pts] Suppose that we know that $\\lambda \\geq 4.5.$ Find the MLE of $\\lambda.$\n",
    "3. [Extra Credit, 5pts] Suppose that we know that $\\lambda$ is an integer. Find the MLE of $\\lambda.$ "
   ]
  },
  {
   "cell_type": "markdown",
   "id": "6016ba60",
   "metadata": {},
   "source": [
    "_Type your answer here, replacing this text._"
   ]
  },
  {
   "cell_type": "markdown",
   "id": "66892b88",
   "metadata": {},
   "source": [
    "<!-- END QUESTION -->\n",
    "\n",
    "<!-- BEGIN QUESTION -->\n",
    "\n",
    "## Problem 3: Empirical Distribution as MLE"
   ]
  },
  {
   "cell_type": "markdown",
   "id": "cb4e0cc8",
   "metadata": {},
   "source": [
    "Suppose you are given $n > 10$ data points drawn i.i.d. from some unknown distribution and that take values from the set $\\{1, 2, \\dots, 10\\}.$ Show that the empirical distribution of your data sample is the MLE for individual probabilities of the points from the set $\\{1, 2, \\dots, 10\\}.$"
   ]
  },
  {
   "cell_type": "markdown",
   "id": "12f63acb",
   "metadata": {},
   "source": [
    "_Type your answer here, replacing this text._"
   ]
  },
  {
   "cell_type": "markdown",
   "id": "1eb71849",
   "metadata": {},
   "source": [
    "<!-- END QUESTION -->\n",
    "\n",
    "## Problem 4: The Bootstrap"
   ]
  },
  {
   "cell_type": "markdown",
   "id": "bc616c64",
   "metadata": {},
   "source": [
    "When we take a random sample from the population to estimate some parameter, we only obtain one estimate value among numerous plausible estimates, because our random sample is just one of numerous possible random samples. Fortunately, a brilliant idea called *the bootstrap* can help, which generates new random samples by resampling. **In this question, you are asked to use the bootstrap to estimate the median of the US family incomes in 2017.**\n",
    "\n",
    "Below is the data of the US family incomes in 2017 extracted from the website of *US Census Bureau*. Among all these features of each family, we are interested in **estimating the median of the family incomes**. We can fetch the data of total family income by the column name `FTOTVAL`."
   ]
  },
  {
   "cell_type": "code",
   "execution_count": null,
   "id": "4906f6da",
   "metadata": {},
   "outputs": [],
   "source": [
    "data = pd.read_csv(\"hw4_data.csv\")"
   ]
  },
  {
   "cell_type": "code",
   "execution_count": null,
   "id": "094d33ee",
   "metadata": {},
   "outputs": [],
   "source": [
    "print(\"num of families: \", data.shape[0])\n",
    "print(\"num of features: \", data.shape[1])\n",
    "data.head()"
   ]
  },
  {
   "cell_type": "markdown",
   "id": "4e69818b",
   "metadata": {},
   "source": [
    "Let this dataset of $81087$ rows be our population, and here is a histogram of the family income in this table."
   ]
  },
  {
   "cell_type": "code",
   "execution_count": null,
   "id": "dab505f5",
   "metadata": {},
   "outputs": [],
   "source": [
    "data[\"FTOTVAL\"].hist(bins=200, density=1)"
   ]
  },
  {
   "cell_type": "markdown",
   "id": "6639f0c8",
   "metadata": {},
   "source": [
    "While most of values lie in around $50000$ dollars, some may go very high. That is why the horizontal axis stretches quite far to the right of the visible bars. Note that some values may be nagative, which means that some families did not have income but only loss in 2017."
   ]
  },
  {
   "cell_type": "markdown",
   "id": "9ea3696e",
   "metadata": {},
   "source": [
    "### Median of the Population\n",
    "\n",
    "Of course, the data provided in this question does not capture the entire population of US households. Nevertheless, to illustrate the performance of bootstrap, in the following we will \"imagine\" that the dataset corresponds to the entire population and will then look at a smaller sample of the data.\n",
    "\n",
    "1. Since we have the luxury of all the data in the population, we can directly compute the parameter-median-we wanted. **Write a function which computes the median of the family income from the above dataset.**"
   ]
  },
  {
   "cell_type": "code",
   "execution_count": null,
   "id": "349496e5",
   "metadata": {
    "tags": []
   },
   "outputs": [],
   "source": [
    "def median_of_income(df, label):\n",
    "    \"\"\"\n",
    "    Parameters\n",
    "    ----------\n",
    "    df: pandas.DataFrame\n",
    "        varibale name of the DataFrame of data.\n",
    "    label: string\n",
    "        column that indicates the family income: \"FTOTVAL\" here.\n",
    "\n",
    "    Returns\n",
    "    -------\n",
    "    float\n",
    "        the median of the family income in 2017.\n",
    "    \"\"\"\n",
    "    return df[label].median()"
   ]
  },
  {
   "cell_type": "code",
   "execution_count": null,
   "id": "f92f470d",
   "metadata": {
    "deletable": false,
    "editable": false
   },
   "outputs": [],
   "source": [
    "grader.check(\"p4-1\")"
   ]
  },
  {
   "cell_type": "markdown",
   "id": "aa56cee6",
   "metadata": {},
   "source": [
    "<!-- BEGIN QUESTION -->\n",
    "\n",
    "### A Random Sample and an Estimate\n",
    "\n",
    "From now on, let us draw a random sample of 1000 families without replacement, and assume we do not have the whole population at hand (although we have computed the *true* median from the population for reference). Here is the random sample I draw from the dataset."
   ]
  },
  {
   "cell_type": "code",
   "execution_count": null,
   "id": "241009e3",
   "metadata": {},
   "outputs": [],
   "source": [
    "our_sample = data.sample(n=1000, replace=False, random_state=0)\n",
    "our_sample"
   ]
  },
  {
   "cell_type": "markdown",
   "id": "cd734fb2",
   "metadata": {},
   "source": [
    "2. Use the function `median_of_income` in **Q3-1** to compute the median $\\bar{x}_{\\text{median}}$ of the family income in the new sample. Is it comparable to the median $x_{\\text{median}}$ we obtained from the whole population? Briefly discuss why."
   ]
  },
  {
   "cell_type": "markdown",
   "id": "f8360c6b",
   "metadata": {},
   "source": [
    "_Type your answer here, replacing this text._"
   ]
  },
  {
   "cell_type": "markdown",
   "id": "88734751",
   "metadata": {},
   "source": [
    "<!-- END QUESTION -->\n",
    "\n",
    "### The Bootstrap: Resampling from the Sample\n",
    "\n",
    "Now we have one estimate of the median. Note that if we had the sample come out differently, the estimate would have had a different value. So we would like to quantify the variation of the estimate, which measures how accurately we can estimate the parameter. We can use *the bootstrap* to generate another random sample that resembles the population by the following steps: \n",
    "- Treat the original sample as if it were the population,\n",
    "- Draw the new sample **of the same size as the original sample size**, at random **with replacement**, from the original sample.\n",
    "\n",
    "Note that it is important to resample the same number of times as the original sample size, because we need to measure the variability of an estimate with the same sample size. Also, to avoid arriving at the same sample, we resample data with replacement. \n",
    "\n",
    "3. Write a function that returns one bootstrapped median $\\bar{x}^*_{\\text{median}}$ of the family income, based on bootstrapping the original random sample that we called `our_sample`. "
   ]
  },
  {
   "cell_type": "code",
   "execution_count": null,
   "id": "6a28fa37",
   "metadata": {
    "tags": []
   },
   "outputs": [],
   "source": [
    "def one_bootstrap_median(original_sample, label, random_state):\n",
    "    \"\"\"\n",
    "    Parameters\n",
    "    ----------\n",
    "    sample: pandas.DataFrame\n",
    "        varibale name of the DataFrame of the original sample, \"our_sample\" here.\n",
    "    label: string\n",
    "        column that indicates the family income: \"FTOTVAL\" here.\n",
    "    random_state: int\n",
    "        random seed used to determine the randomness when resampling.\n",
    "\n",
    "    Returns\n",
    "    -------\n",
    "    float\n",
    "        the median of the family income in 2017 of the bootstrapped sample.\n",
    "    \"\"\"\n",
    "    ..."
   ]
  },
  {
   "cell_type": "code",
   "execution_count": null,
   "id": "38b70e8f",
   "metadata": {
    "deletable": false,
    "editable": false
   },
   "outputs": [],
   "source": [
    "grader.check(\"p4-3\")"
   ]
  },
  {
   "cell_type": "markdown",
   "id": "344538d9",
   "metadata": {},
   "source": [
    "### Bootstrap Empirical Distribution of the Sample Median\n",
    "\n",
    "We now repeat the bootstrap process multiple times by running a `for` loop to obtain a bootstrap Empirical Distribution.\n",
    "\n",
    "4. Write a function that collects an array of bootstrapped medians, one from each bootstrap sample, for `num_repetitions` times. In the $i$-th bootstrap process, set `random_state = i`, where $i = 0, 1, \\dots,$ `num_repetitions`."
   ]
  },
  {
   "cell_type": "code",
   "execution_count": null,
   "id": "1500ed7c",
   "metadata": {
    "tags": []
   },
   "outputs": [],
   "source": [
    "def bootstrap_median(original_sample, label, num_repetitions):\n",
    "    \"\"\"\n",
    "    Parameters\n",
    "    ----------\n",
    "    sample: pandas.DataFrame\n",
    "        varibale name of the DataFrame of the original sample, \"our_sample\" here.\n",
    "    label: string\n",
    "        column that indicates the family income: \"FTOTVAL\" here.\n",
    "    random_state: int\n",
    "        random seed used to determine the randomness when resampling.\n",
    "\n",
    "    Returns\n",
    "    -------\n",
    "    np.array\n",
    "        the array of bootstrapped medians.\n",
    "    \"\"\"\n",
    "    ..."
   ]
  },
  {
   "cell_type": "code",
   "execution_count": null,
   "id": "707e799e",
   "metadata": {
    "deletable": false,
    "editable": false
   },
   "outputs": [],
   "source": [
    "grader.check(\"p4-4\")"
   ]
  },
  {
   "cell_type": "markdown",
   "id": "dcea4609",
   "metadata": {},
   "source": [
    "<!-- BEGIN QUESTION -->\n",
    "\n",
    "5. Draw the empirical histogram of the bootstrapped medians for $5000$ repetitions, and check whether the **population median** obtained in **Q3-2** lies in the estimated $95\\%$ bootstrap confidence interval $[\\bar{x}_{\\text{median}} - \\delta^*_{.025}, \\bar{x}_{\\text{median}} - \\delta^*_{.975}]$ for the median, which tells you whether your estimation process captures the parameter. Note that here we use $\\delta^* = \\bar{x}^*_{\\text{median}} - \\bar{x}_{\\text{median}}$ derived from bootstrapping to approximate the true $\\delta = \\bar{x}_{\\text{median}} - x_{\\text{median}}$ to get the confidence interval.\n",
    "\n",
    "Hint: To get the \"$95\\%$ bootstrap confidence interval\", use `np.percentile()` to compute the two ends $\\delta^*_{.025}$ and $\\delta^*_{.975}$ at the $97.5\\%$ and $2.5\\%$ percentiles respectively for $\\bar{x}^*_{\\text{median}} - \\bar{x}_{\\text{median}}$. "
   ]
  },
  {
   "cell_type": "code",
   "execution_count": null,
   "id": "57ce6a5b",
   "metadata": {
    "tags": []
   },
   "outputs": [],
   "source": [
    "\"\"\" to be implemented \"\"\"\n",
    "..."
   ]
  },
  {
   "cell_type": "markdown",
   "id": "8f8d02ae",
   "metadata": {},
   "source": [
    "<!-- END QUESTION -->\n",
    "\n",
    "<!-- BEGIN QUESTION -->\n",
    "\n",
    "### Going Beyond\n",
    "\n",
    "We can further go beyond what we have done so far! Assume that there are $100$ people who get random samples (different from each other) from the population, and these people compute their own bootstrap empirical distributions based on the random samples they get. How many times will the process of estimation we did above  capture the parameter (the population median)?\n",
    "\n",
    "6. Draw $100$ random samples of size $1000$ families from the population `data`, and set `random_state=i` at $i$-th draw. For each random sample, compute the array of the bootstrapped medians for 5000 repetitions (same random state setting as in **Q3-4**). Compute how many times the population median lies in the estimated $95\\%$ bootstrap confidence interval for the median in the bootstrap process."
   ]
  },
  {
   "cell_type": "code",
   "execution_count": null,
   "id": "744a7c00",
   "metadata": {
    "tags": []
   },
   "outputs": [],
   "source": [
    "\"\"\" to be implemented \"\"\"\n",
    "..."
   ]
  },
  {
   "cell_type": "markdown",
   "id": "24047363",
   "metadata": {},
   "source": [
    "<!-- END QUESTION -->\n",
    "\n"
   ]
  },
  {
   "cell_type": "markdown",
   "id": "9cdf9a82",
   "metadata": {
    "deletable": false,
    "editable": false
   },
   "source": [
    "---\n",
    "\n",
    "To double-check your work, the cell below will rerun all of the autograder tests."
   ]
  },
  {
   "cell_type": "code",
   "execution_count": null,
   "id": "4b2acb78",
   "metadata": {
    "deletable": false,
    "editable": false
   },
   "outputs": [],
   "source": [
    "grader.check_all()"
   ]
  },
  {
   "cell_type": "markdown",
   "id": "d66dc9f9",
   "metadata": {
    "deletable": false,
    "editable": false
   },
   "source": [
    "## Submission\n",
    "\n",
    "Make sure you have run all cells in your notebook in order before running the cell below, so that all images/graphs appear in the output. The cell below will generate a zip file for you to submit. **Please save before exporting!**\n",
    "\n",
    "Please download the zip file after running the cell below, then upload the zip file to GradeScope for submission. You can also download your notebook as an IPYNB file for the submission. Please also export your notebook as a PDF file (Use **Command/Control + P** if you have issues with the native export as PDF feature). **Please upload and submit both the IPYNB file and the PDF via Gradescope (entry code: GEWXGD).**"
   ]
  },
  {
   "cell_type": "code",
   "execution_count": null,
   "id": "0f5f2a45",
   "metadata": {
    "deletable": false,
    "editable": false
   },
   "outputs": [],
   "source": [
    "# Save your notebook first, then run this cell to export your submission.\n",
    "grader.export(pdf=False)"
   ]
  },
  {
   "cell_type": "markdown",
   "id": "a2bef034",
   "metadata": {},
   "source": [
    " "
   ]
  }
 ],
 "metadata": {
  "kernelspec": {
   "display_name": "Python 3",
   "language": "python",
   "name": "python3"
  },
  "language_info": {
   "codemirror_mode": {
    "name": "ipython",
    "version": 3
   },
   "file_extension": ".py",
   "mimetype": "text/x-python",
   "name": "python",
   "nbconvert_exporter": "python",
   "pygments_lexer": "ipython3",
   "version": "3.8.8"
  },
  "latex_envs": {
   "LaTeX_envs_menu_present": true,
   "autoclose": false,
   "autocomplete": true,
   "bibliofile": "biblio.bib",
   "cite_by": "apalike",
   "current_citInitial": 1,
   "eqLabelWithNumbers": true,
   "eqNumInitial": 1,
   "hotkeys": {
    "equation": "Ctrl-E",
    "itemize": "Ctrl-I"
   },
   "labels_anchors": false,
   "latex_user_defs": false,
   "report_style_numbering": false,
   "user_envs_cfg": false
  },
  "otter": {
   "tests": {
    "p4-1": {
     "name": "p4-1",
     "points": null,
     "suites": [
      {
       "cases": [
        {
         "code": ">>> med = median_of_income(data, \"FTOTVAL\")\n>>> isinstance(med, float)\nTrue",
         "hidden": false,
         "locked": false
        },
        {
         "code": ">>> med = median_of_income(data, \"FTOTVAL\")\n>>> expect_med = 49833.0\n>>> np.linalg.norm(med - expect_med) < 1e-6\nTrue",
         "hidden": false,
         "locked": false
        }
       ],
       "scored": true,
       "setup": "",
       "teardown": "",
       "type": "doctest"
      }
     ]
    },
    "p4-3": {
     "name": "p4-3",
     "points": null,
     "suites": [
      {
       "cases": [
        {
         "code": ">>> bootstrap_med = one_bootstrap_median(our_sample, \"FTOTVAL\", 0)\n>>> isinstance(bootstrap_med, float)\nTrue",
         "hidden": false,
         "locked": false
        },
        {
         "code": ">>> bootstrap_med = one_bootstrap_median(our_sample, \"FTOTVAL\", 0)\n>>> expect_med = 49302.0\n>>> np.linalg.norm(bootstrap_med - expect_med) < 1e-6\nTrue",
         "hidden": false,
         "locked": false
        },
        {
         "code": ">>> bootstrap_med = one_bootstrap_median(our_sample, \"FTOTVAL\", 100)\n>>> expect_med = 47420.5\n>>> np.linalg.norm(bootstrap_med - expect_med) < 1e-6\nTrue",
         "hidden": false,
         "locked": false
        },
        {
         "code": ">>> bootstrap_med = one_bootstrap_median(our_sample, \"FTOTVAL\", 10)\n>>> expect_med = 43789.5\n>>> np.linalg.norm(bootstrap_med - expect_med) < 1e-6\nTrue",
         "hidden": false,
         "locked": false
        }
       ],
       "scored": true,
       "setup": "",
       "teardown": "",
       "type": "doctest"
      }
     ]
    },
    "p4-4": {
     "name": "p4-4",
     "points": null,
     "suites": [
      {
       "cases": [
        {
         "code": ">>> med_array = bootstrap_median(our_sample, \"FTOTVAL\", 10)\n>>> type(med_array).__module__ == np.__name__\nTrue",
         "hidden": false,
         "locked": false
        },
        {
         "code": ">>> med_array = bootstrap_median(our_sample, \"FTOTVAL\", 10)\n>>> expect_array = np.array([49302. , 48760. , 47539. , 47580. , 47918.5, 52121. , 47392. ,\n...        50175. , 49734. , 47001. ])\n>>> np.allclose(med_array, expect_array)\nTrue",
         "hidden": false,
         "locked": false
        },
        {
         "code": ">>> med_array = bootstrap_median(our_sample, \"FTOTVAL\", 100)\n>>> expect_array = np.array([49302. , 48760. , 47539. , 47580. , 47918.5, 52121. , 47392. ,\n...        50175. , 49734. , 47001. , 43789.5, 50001. , 48005. , 47559.5,\n...        51126. , 48036.5, 48001. , 50493. , 50035.5, 47918.5, 52120. ,\n...        53002. , 53186. , 47123. , 47762.5, 53188. , 48683. , 47918.5,\n...        48683. , 50493. , 47594. , 50035.5, 48142.5, 46000. , 47559.5,\n...        51700. , 46011. , 46108. , 50042.5, 48488.5, 49734. , 50001. ,\n...        47608. , 52280. , 46011. , 50005.5, 53004. , 46000. , 50000. ,\n...        48001. , 47762.5, 45000. , 44934. , 48003.5, 48411.5, 50000. ,\n...        53188. , 48000.5, 47844.5, 50995. , 50000. , 48488.5, 46176. ,\n...        48001.5, 45094. , 49504. , 50150.5, 48000.5, 51413. , 52280. ,\n...        48683. , 48658.5, 50157.5, 46040. , 46000. , 47173.5, 49795. ,\n...        45094. , 47580. , 52280. , 45000. , 48000. , 50290. , 48411.5,\n...        50060. , 48217. , 46093.5, 50175. , 51198. , 50493. , 51700. ,\n...        48003.5, 50000. , 48000. , 48760. , 52092.5, 48853. , 51901.5,\n...        46000. , 50000. ])\n>>> np.allclose(med_array, expect_array)\nTrue",
         "hidden": false,
         "locked": false
        }
       ],
       "scored": true,
       "setup": "",
       "teardown": "",
       "type": "doctest"
      }
     ]
    }
   }
  }
 },
 "nbformat": 4,
 "nbformat_minor": 5
}

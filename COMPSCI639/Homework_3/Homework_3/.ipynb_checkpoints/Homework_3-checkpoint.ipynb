{
 "cells": [
  {
   "cell_type": "code",
   "execution_count": 16,
   "id": "f87de9be",
   "metadata": {
    "deletable": false,
    "editable": false
   },
   "outputs": [],
   "source": [
    "# Initialize Otter\n",
    "import otter\n",
    "grader = otter.Notebook(\"Homework_3.ipynb\")"
   ]
  },
  {
   "cell_type": "code",
   "execution_count": 17,
   "id": "62777b60",
   "metadata": {},
   "outputs": [],
   "source": [
    "import numpy as np\n",
    "import pandas as pd\n",
    "\n",
    "import matplotlib\n",
    "import matplotlib.pyplot as plots\n",
    "\n",
    "import random"
   ]
  },
  {
   "cell_type": "markdown",
   "id": "6e1f6919",
   "metadata": {},
   "source": [
    "# Homework #3"
   ]
  },
  {
   "cell_type": "markdown",
   "id": "832feb23",
   "metadata": {},
   "source": [
    "The purpose of this homework is to help you solidify your knowledge of hypothesis testing."
   ]
  },
  {
   "cell_type": "markdown",
   "id": "7b9579f2",
   "metadata": {},
   "source": [
    "<!-- BEGIN QUESTION -->\n",
    "\n",
    "## Problem 1: Celebrity Height"
   ]
  },
  {
   "cell_type": "markdown",
   "id": "ac3f98ec",
   "metadata": {},
   "source": [
    "Heights in men and women are well-approximated by normal distributions. For men, the mean is around 70 inches and the standard deviation is 3 inches. For women, the mean and the standard deviation are 64.5in and 2.5in, respectively. \n",
    "\n",
    "There is a website that collects heights of celebrities (celebheights.com if you're curious). There is a button on the website that you can click and it will show you a photo and the height of a randomly selected celebrity. I did this, and obtained the following data\n",
    "\n",
    "|Celebrity Name | Celebrity Height | M/F |\n",
    "|:-|:-|:-|\n",
    "|Hannah Waddingham | 5ft 11in | F |\n",
    "|Renee Felice Smith | 5ft 0.5in | F | \n",
    "|Bonita Friedericy | 5ft 2.5in | F |\n",
    "|Robert Beltran | 5ft 10.5in | M |\n",
    "|Josef Altin | 5ft 5.75in | M |\n",
    "|Jeremy Jordan | 5ft 8.25in | M |\n",
    "|Emily Bett Rickards | 5ft 5in | F |\n",
    "|Brent Spiner | 5ft 9.5in | M | \n",
    "|Ricky Hatton | 5ft 6in | M |\n",
    "|Josh Herdman | 5ft 10.5in | M |\n",
    "|Ian H Watkins | 5ft 7in | M |\n",
    "|Spencer Wilding | 6ft 6in | M |\n",
    "|Jane Wiedlin | 5ft 1in | F |\n",
    "|Ross Marquand | 6ft 0in | M |\n",
    "|Dean Cain | 5ft 11.5in | M |\n",
    "|Kerry Ingram | 5ft 1.5in | F |\n",
    "|Travis Wester | 5ft 8in | M |\n",
    "|Lindsay Wagner | 5ft 9in | F |\n",
    "|Enver Gjokaj | 5ft 10in | M |\n",
    "|Robert Hays | 5ft 10.5in | M |\n",
    "|Milo Ventimiglia | 5ft 8.5in | M |\n",
    "|Adrian Paul | 6ft 0in | M |\n",
    "|Leslie Grantham | 6ft 0in | M |\n",
    "|Megan Gallagher | 5ft 6.5in | F |\n",
    "\n",
    "Say you have a hunch that celebrities are taller than general population. Separately for men and women, perform a hypothesis test to decide whether you are right. Specify all relevant ingredients of your hypothesis test and discuss the outcome. "
   ]
  },
  {
   "cell_type": "markdown",
   "id": "296bafdf",
   "metadata": {},
   "source": [
    "For male:\n",
    "\n",
    "$H_0$ : celebraties are not taller than general population\n",
    "\n",
    "$H_1$ : celebraties are taller than general population\n",
    "\n",
    "$X$ : average height of male celebraties in the sample = (84 ft 112 inch)/ 16 = (1008+112)inch/16 = 70 inch\n",
    "\n",
    "$\\alpha = 0.05$\n",
    "\n",
    "$Z_{observed} = \\frac{X-\\mu}{\\sigma/\\sqrt{n}}$ = 0\n",
    "\n",
    "P value = $\\mathbb{P}[Z \\geq Z_{observed}] = \\mathbb{P}[Z \\geq 0] = 0.5 $ which is greater than 0.05, so we fail to reject the null hypothesis.\n",
    "\n",
    "For female:\n",
    "\n",
    "$H_0$ : celebraties are not taller than general population\n",
    "\n",
    "$H_1$ : celebraties are taller than general population\n",
    "\n",
    "$X$ : average height of female celebraties in the sample = (40 ft 37 inch)/ 8 = (480+37)inch/8 = 64.625 inch\n",
    "\n",
    "$\\alpha = 0.05$\n",
    "\n",
    "$Z_{observed} = \\frac{X-\\mu}{\\sigma/\\sqrt{n}}$ = 0.1414\n",
    "\n",
    "P value = $\\mathbb{P}[Z \\geq Z_{observed}] = \\mathbb{P}[Z \\geq 0.1414] = 0.4443 $ which is greater than 0.05, so we fail to reject the null hypothesis."
   ]
  },
  {
   "cell_type": "markdown",
   "id": "ea3a2254",
   "metadata": {},
   "source": [
    "<!-- END QUESTION -->\n",
    "\n",
    "<!-- BEGIN QUESTION -->\n",
    "\n",
    "## Problem 2: Epidemiology and Hypothesis Testing"
   ]
  },
  {
   "cell_type": "markdown",
   "id": "1515ee25",
   "metadata": {},
   "source": [
    "Hypothesis testing is often used in epidemiology and one example of a situation in which you would use a hypothesis test is as follows. \n",
    "\n",
    "Creutzfeld-Jacob disease is a degenerative brain disease with symptoms very much like that of mad cow disease. It is not known how the disease is propagated, and one conjecture is that arises spontaneously due to chance protein\n",
    "misfolding. Suppose that this is true, and that the average number of cases seen in England per year is 10. Suppose that there were 15 cases seen last year in England. Does appearance of so many cases in one year shed significant doubt on the hypothesis that the disease arises spontaneously?\n",
    "\n",
    "Write down all parameters of a hypothesis test you would take, assuming that the number of cases $X$ of Creutzfeld-Jacob disease is well-approximated by the Poisson distribution with parameter $\\lambda = 10$ (under Poisson distribution with $\\lambda = 10$, $\\mathbb{P}[X = k] = \\frac{1}{n!}\\lambda^n e^{-\\lambda}$, where $k \\in \\{0, 1, 2, \\dots\\}$). You can use Python to compute the relevant p-value.  "
   ]
  },
  {
   "cell_type": "markdown",
   "id": "2331bef9",
   "metadata": {},
   "source": [
    "$H_0$ : the disease arise spontaneously\n",
    "\n",
    "$H_1$ : the disease does not arise spontaneously\n",
    "\n",
    "$X$ : Number of cases = 15\n",
    "\n",
    "$\\alpha = 0.05$\n",
    "\n",
    "P-value = $\\mathbb{P}[X \\geq 15]$ = 0.048 < 0.05, so we reject null hypothesis(for one sided)\n",
    "\n",
    "For two sided, P value = 0.11 > 0.05, so we fail to reject null hypothesis."
   ]
  },
  {
   "cell_type": "code",
   "execution_count": 18,
   "id": "9b01bb33",
   "metadata": {},
   "outputs": [
    {
     "name": "stdout",
     "output_type": "stream",
     "text": [
      "0.04874040330397866\n",
      "0.11582636618301055\n"
     ]
    }
   ],
   "source": [
    "from scipy.stats import poisson\n",
    "a = poisson.cdf(15,10)\n",
    "p = 1 - a\n",
    "print(p) ##for one sided\n",
    "\n",
    "##For two sided:\n",
    "b = poisson.cdf(5,10)\n",
    "print(b+p)"
   ]
  },
  {
   "cell_type": "markdown",
   "id": "b4f0f5b6",
   "metadata": {},
   "source": [
    "<!-- END QUESTION -->\n",
    "\n",
    "<!-- BEGIN QUESTION -->\n",
    "\n",
    "## Problem 3: Distributional Shifts in Machine Learning"
   ]
  },
  {
   "cell_type": "markdown",
   "id": "15c95b7c",
   "metadata": {},
   "source": [
    "In machine learning, we typically train and test our model on two different data sets, namely training dataset and test dataset. Ideally speaking, the test dataset should be independent of the training dataset, but follow the same probability distribution as the training dataset. However, in practice, there are often distributional shifts between the training dataset and the test dataset, meaning that the distributions of the two datasets are not the same. **In this problem, you are asked to use hypothesis testing to determine whether there is a distributional shift between two datasets.**\n",
    "\n",
    "To simplify the problem, we here consider $1$ dimensional data, and annotate data from the training data with label $0$ and test data with label $1$."
   ]
  },
  {
   "cell_type": "code",
   "execution_count": 19,
   "id": "46351f54",
   "metadata": {},
   "outputs": [
    {
     "data": {
      "text/html": [
       "<div>\n",
       "<style scoped>\n",
       "    .dataframe tbody tr th:only-of-type {\n",
       "        vertical-align: middle;\n",
       "    }\n",
       "\n",
       "    .dataframe tbody tr th {\n",
       "        vertical-align: top;\n",
       "    }\n",
       "\n",
       "    .dataframe thead th {\n",
       "        text-align: right;\n",
       "    }\n",
       "</style>\n",
       "<table border=\"1\" class=\"dataframe\">\n",
       "  <thead>\n",
       "    <tr style=\"text-align: right;\">\n",
       "      <th></th>\n",
       "      <th>data</th>\n",
       "      <th>label</th>\n",
       "    </tr>\n",
       "  </thead>\n",
       "  <tbody>\n",
       "    <tr>\n",
       "      <th>0</th>\n",
       "      <td>100</td>\n",
       "      <td>0</td>\n",
       "    </tr>\n",
       "    <tr>\n",
       "      <th>1</th>\n",
       "      <td>135</td>\n",
       "      <td>0</td>\n",
       "    </tr>\n",
       "    <tr>\n",
       "      <th>2</th>\n",
       "      <td>93</td>\n",
       "      <td>0</td>\n",
       "    </tr>\n",
       "    <tr>\n",
       "      <th>3</th>\n",
       "      <td>178</td>\n",
       "      <td>0</td>\n",
       "    </tr>\n",
       "    <tr>\n",
       "      <th>4</th>\n",
       "      <td>140</td>\n",
       "      <td>0</td>\n",
       "    </tr>\n",
       "    <tr>\n",
       "      <th>...</th>\n",
       "      <td>...</td>\n",
       "      <td>...</td>\n",
       "    </tr>\n",
       "    <tr>\n",
       "      <th>995</th>\n",
       "      <td>140</td>\n",
       "      <td>1</td>\n",
       "    </tr>\n",
       "    <tr>\n",
       "      <th>996</th>\n",
       "      <td>125</td>\n",
       "      <td>1</td>\n",
       "    </tr>\n",
       "    <tr>\n",
       "      <th>997</th>\n",
       "      <td>145</td>\n",
       "      <td>1</td>\n",
       "    </tr>\n",
       "    <tr>\n",
       "      <th>998</th>\n",
       "      <td>111</td>\n",
       "      <td>1</td>\n",
       "    </tr>\n",
       "    <tr>\n",
       "      <th>999</th>\n",
       "      <td>135</td>\n",
       "      <td>1</td>\n",
       "    </tr>\n",
       "  </tbody>\n",
       "</table>\n",
       "<p>1000 rows × 2 columns</p>\n",
       "</div>"
      ],
      "text/plain": [
       "     data  label\n",
       "0     100      0\n",
       "1     135      0\n",
       "2      93      0\n",
       "3     178      0\n",
       "4     140      0\n",
       "..    ...    ...\n",
       "995   140      1\n",
       "996   125      1\n",
       "997   145      1\n",
       "998   111      1\n",
       "999   135      1\n",
       "\n",
       "[1000 rows x 2 columns]"
      ]
     },
     "execution_count": 19,
     "metadata": {},
     "output_type": "execute_result"
    }
   ],
   "source": [
    "data = pd.read_csv(\"./hw3_data.csv\")\n",
    "data"
   ]
  },
  {
   "cell_type": "markdown",
   "id": "30b31596",
   "metadata": {},
   "source": [
    "### The Hypotheses\n",
    "\n",
    "1. Write down what are your null hypothesis and the alternative hypothesis."
   ]
  },
  {
   "cell_type": "markdown",
   "id": "4eda7a7d",
   "metadata": {},
   "source": [
    "$H_0$: the distribution of the training and test dataset are same\n",
    "$H_1$: the distribution of the training and test dataset are not same"
   ]
  },
  {
   "cell_type": "markdown",
   "id": "d3bb4786",
   "metadata": {},
   "source": [
    "<!-- END QUESTION -->\n",
    "\n",
    "### Test Statistics\n",
    "\n",
    "We use the difference between the two group means as our statistic. When the difference is small, it is reasonable to say that the distributions of the training dataset and test dataset are close to each other. We will do the subtraction in the order \"mean of the training dataset −  mean of the test dataset\". Values far from zero of this statistic will favor the alternative hypothesis."
   ]
  },
  {
   "cell_type": "markdown",
   "id": "93da7640",
   "metadata": {},
   "source": [
    "2. Write a function that computes this statistics. The function takes two arguments:\n",
    "​\n",
    "- the name of the DataFrame of data\n",
    "- the label of the column that contains the labels (0, 1) for grouping\n",
    "​\n",
    "\n",
    "It returns the difference between the means of the training dataset and the test dataset.\n",
    "\n",
    "Hint: You can call `.groupby()` to group data by the values of some column, and use `.mean()` to compute the mean of each group."
   ]
  },
  {
   "cell_type": "code",
   "execution_count": 20,
   "id": "411fc912",
   "metadata": {
    "tags": []
   },
   "outputs": [],
   "source": [
    "def difference_of_means(df, group_label):\n",
    "    \"\"\"\n",
    "    Parameters\n",
    "    ----------\n",
    "    df: pandas.DataFrame\n",
    "        varibale name of the DataFrame of data.\n",
    "    group_label: string\n",
    "        column label 0, 1 that indicates the group to which the row belongs\n",
    "\n",
    "    Returns\n",
    "    -------\n",
    "    float\n",
    "        Difference between the means of the training dataset and the test dataset.\n",
    "    \"\"\"\n",
    "    train = df[df.label == 0]\n",
    "    test = df[df.label == 1]\n",
    "    #print(df)\n",
    "    #print(group_label)\n",
    "    return train['data'].mean() - test['data'].mean()"
   ]
  },
  {
   "cell_type": "code",
   "execution_count": 21,
   "id": "9ee69e44",
   "metadata": {
    "deletable": false,
    "editable": false
   },
   "outputs": [
    {
     "data": {
      "text/html": [
       "<p><strong><pre style='display: inline;'>p3-2</pre></strong> passed!</p>"
      ],
      "text/plain": [
       "p3-2 results: All test cases passed!"
      ]
     },
     "execution_count": 21,
     "metadata": {},
     "output_type": "execute_result"
    }
   ],
   "source": [
    "grader.check(\"p3-2\")"
   ]
  },
  {
   "cell_type": "markdown",
   "id": "82974d45",
   "metadata": {},
   "source": [
    "### Predicting the Statistic Under the Null Hypothesis\n",
    "\n",
    "One way to simulate the statistic under the null hypothesis is to use random permutations. If there were no difference between the two distributions of the training dataset and the test dataset, then whether a data point has the label $0$ or $1$ should make no difference to the mean. The idea, then, is to shuffle all the labels randomly among the entire dataset. This is called random permutation.\n",
    "\n",
    "\n",
    "The shuffling operation should ensure that the count of $0$ labels does not change, and nor does the count of $1$ labels. This is important for the comparability of the simulated differences of means and the original difference of means.\n",
    "\n",
    "Take the difference of the two new group means: the mean of the data whose labels have been randomly labeled $0$ and the mean of the remaining data who have all been randomly labeled $1$. This is a simulated value of the test statistic under the null hypothesis."
   ]
  },
  {
   "cell_type": "code",
   "execution_count": 22,
   "id": "69840d3b",
   "metadata": {},
   "outputs": [
    {
     "data": {
      "text/html": [
       "<div>\n",
       "<style scoped>\n",
       "    .dataframe tbody tr th:only-of-type {\n",
       "        vertical-align: middle;\n",
       "    }\n",
       "\n",
       "    .dataframe tbody tr th {\n",
       "        vertical-align: top;\n",
       "    }\n",
       "\n",
       "    .dataframe thead th {\n",
       "        text-align: right;\n",
       "    }\n",
       "</style>\n",
       "<table border=\"1\" class=\"dataframe\">\n",
       "  <thead>\n",
       "    <tr style=\"text-align: right;\">\n",
       "      <th></th>\n",
       "      <th>data</th>\n",
       "      <th>label</th>\n",
       "    </tr>\n",
       "  </thead>\n",
       "  <tbody>\n",
       "    <tr>\n",
       "      <th>0</th>\n",
       "      <td>100</td>\n",
       "      <td>0</td>\n",
       "    </tr>\n",
       "    <tr>\n",
       "      <th>1</th>\n",
       "      <td>135</td>\n",
       "      <td>0</td>\n",
       "    </tr>\n",
       "    <tr>\n",
       "      <th>2</th>\n",
       "      <td>93</td>\n",
       "      <td>0</td>\n",
       "    </tr>\n",
       "    <tr>\n",
       "      <th>3</th>\n",
       "      <td>178</td>\n",
       "      <td>0</td>\n",
       "    </tr>\n",
       "    <tr>\n",
       "      <th>4</th>\n",
       "      <td>140</td>\n",
       "      <td>0</td>\n",
       "    </tr>\n",
       "    <tr>\n",
       "      <th>...</th>\n",
       "      <td>...</td>\n",
       "      <td>...</td>\n",
       "    </tr>\n",
       "    <tr>\n",
       "      <th>995</th>\n",
       "      <td>140</td>\n",
       "      <td>1</td>\n",
       "    </tr>\n",
       "    <tr>\n",
       "      <th>996</th>\n",
       "      <td>125</td>\n",
       "      <td>1</td>\n",
       "    </tr>\n",
       "    <tr>\n",
       "      <th>997</th>\n",
       "      <td>145</td>\n",
       "      <td>1</td>\n",
       "    </tr>\n",
       "    <tr>\n",
       "      <th>998</th>\n",
       "      <td>111</td>\n",
       "      <td>1</td>\n",
       "    </tr>\n",
       "    <tr>\n",
       "      <th>999</th>\n",
       "      <td>135</td>\n",
       "      <td>1</td>\n",
       "    </tr>\n",
       "  </tbody>\n",
       "</table>\n",
       "<p>1000 rows × 2 columns</p>\n",
       "</div>"
      ],
      "text/plain": [
       "     data  label\n",
       "0     100      0\n",
       "1     135      0\n",
       "2      93      0\n",
       "3     178      0\n",
       "4     140      0\n",
       "..    ...    ...\n",
       "995   140      1\n",
       "996   125      1\n",
       "997   145      1\n",
       "998   111      1\n",
       "999   135      1\n",
       "\n",
       "[1000 rows x 2 columns]"
      ]
     },
     "execution_count": 22,
     "metadata": {},
     "output_type": "execute_result"
    }
   ],
   "source": [
    "data"
   ]
  },
  {
   "cell_type": "markdown",
   "id": "98f1bccc",
   "metadata": {},
   "source": [
    "There are $1000$ rows in the table. To shuffle all the labels, we can draw a random sample of $1000$ rows without replacement. Then the sample will include all the rows of the table, in random order. This can be done using `pandas` method `sample` with the optional `frac=1, replace=False` arguments. Here we use the `frac` argument to specify the sample size to be the size of the entire dataset."
   ]
  },
  {
   "cell_type": "code",
   "execution_count": 23,
   "id": "bc8afd3b",
   "metadata": {},
   "outputs": [
    {
     "data": {
      "text/html": [
       "<div>\n",
       "<style scoped>\n",
       "    .dataframe tbody tr th:only-of-type {\n",
       "        vertical-align: middle;\n",
       "    }\n",
       "\n",
       "    .dataframe tbody tr th {\n",
       "        vertical-align: top;\n",
       "    }\n",
       "\n",
       "    .dataframe thead th {\n",
       "        text-align: right;\n",
       "    }\n",
       "</style>\n",
       "<table border=\"1\" class=\"dataframe\">\n",
       "  <thead>\n",
       "    <tr style=\"text-align: right;\">\n",
       "      <th></th>\n",
       "      <th>data</th>\n",
       "      <th>label</th>\n",
       "    </tr>\n",
       "  </thead>\n",
       "  <tbody>\n",
       "    <tr>\n",
       "      <th>0</th>\n",
       "      <td>100</td>\n",
       "      <td>1</td>\n",
       "    </tr>\n",
       "    <tr>\n",
       "      <th>1</th>\n",
       "      <td>135</td>\n",
       "      <td>1</td>\n",
       "    </tr>\n",
       "    <tr>\n",
       "      <th>2</th>\n",
       "      <td>93</td>\n",
       "      <td>0</td>\n",
       "    </tr>\n",
       "    <tr>\n",
       "      <th>3</th>\n",
       "      <td>178</td>\n",
       "      <td>0</td>\n",
       "    </tr>\n",
       "    <tr>\n",
       "      <th>4</th>\n",
       "      <td>140</td>\n",
       "      <td>0</td>\n",
       "    </tr>\n",
       "    <tr>\n",
       "      <th>...</th>\n",
       "      <td>...</td>\n",
       "      <td>...</td>\n",
       "    </tr>\n",
       "    <tr>\n",
       "      <th>995</th>\n",
       "      <td>140</td>\n",
       "      <td>1</td>\n",
       "    </tr>\n",
       "    <tr>\n",
       "      <th>996</th>\n",
       "      <td>125</td>\n",
       "      <td>0</td>\n",
       "    </tr>\n",
       "    <tr>\n",
       "      <th>997</th>\n",
       "      <td>145</td>\n",
       "      <td>0</td>\n",
       "    </tr>\n",
       "    <tr>\n",
       "      <th>998</th>\n",
       "      <td>111</td>\n",
       "      <td>0</td>\n",
       "    </tr>\n",
       "    <tr>\n",
       "      <th>999</th>\n",
       "      <td>135</td>\n",
       "      <td>0</td>\n",
       "    </tr>\n",
       "  </tbody>\n",
       "</table>\n",
       "<p>1000 rows × 2 columns</p>\n",
       "</div>"
      ],
      "text/plain": [
       "     data  label\n",
       "0     100      1\n",
       "1     135      1\n",
       "2      93      0\n",
       "3     178      0\n",
       "4     140      0\n",
       "..    ...    ...\n",
       "995   140      1\n",
       "996   125      0\n",
       "997   145      0\n",
       "998   111      0\n",
       "999   135      0\n",
       "\n",
       "[1000 rows x 2 columns]"
      ]
     },
     "execution_count": 23,
     "metadata": {},
     "output_type": "execute_result"
    }
   ],
   "source": [
    "shuffled_labels = data[\"label\"].sample(frac=1, replace=False, random_state=0).values\n",
    "shuffled_data = pd.DataFrame({\"data\": data[\"data\"].values, \"label\": shuffled_labels})\n",
    "shuffled_data"
   ]
  },
  {
   "cell_type": "markdown",
   "id": "4f4f36a6",
   "metadata": {},
   "source": [
    "3. Write a function that simulates one value of the test statistic under the null hypothesis. This function takes one optional `random_state` argument to fix the randomness, and returns the difference between the means of two groups formed by randomly shuffling all the labels. Note that here we do not need to take the DataFrame of the data as the argument, because we have declared it above. \n",
    "\n",
    "Hint: Use the shuffling strategy and the function `difference_of_means` above. Note that you can directly call `data` already defined above."
   ]
  },
  {
   "cell_type": "code",
   "execution_count": 24,
   "id": "a6c2f130",
   "metadata": {
    "tags": []
   },
   "outputs": [],
   "source": [
    "def one_simulated_difference_of_means(random_state):\n",
    "    \"\"\"\n",
    "    Parameters\n",
    "    ----------\n",
    "    random_state: int\n",
    "        random seed used to fix the randomness.\n",
    "\n",
    "    Returns\n",
    "    -------\n",
    "    float\n",
    "        Difference between the means of two groups formed by randomly shuffling all the labels.\n",
    "    \"\"\"\n",
    "    shuffled_labels = data[\"label\"].sample(frac=1, replace=False, random_state=random_state).values\n",
    "    shuffled_data = pd.DataFrame({\"data\": data[\"data\"].values, \"label\": shuffled_labels})\n",
    "    #shuffled_data\n",
    "    return difference_of_means(shuffled_data, shuffled_labels)"
   ]
  },
  {
   "cell_type": "code",
   "execution_count": 25,
   "id": "973786fb",
   "metadata": {
    "deletable": false,
    "editable": false
   },
   "outputs": [
    {
     "data": {
      "text/html": [
       "<p><strong><pre style='display: inline;'>p3-3</pre></strong> passed!</p>"
      ],
      "text/plain": [
       "p3-3 results: All test cases passed!"
      ]
     },
     "execution_count": 25,
     "metadata": {},
     "output_type": "execute_result"
    }
   ],
   "source": [
    "grader.check(\"p3-3\")"
   ]
  },
  {
   "cell_type": "markdown",
   "id": "c78d1344",
   "metadata": {},
   "source": [
    "### Permutation Test\n",
    "\n",
    "4. Tests based on random permutations of the data are called *permutation tests*. In the cell below, you are asked to write a function that simulates our test statistic (difference between the means of two groups formed by randomly shuffling all the labels) many times and collects the differences in an array. Here we do $5000$ repetitions, and in the $i$-th simulation, set `random_state=i`, where $i = 0, 1, \\dots, 4999$."
   ]
  },
  {
   "cell_type": "code",
   "execution_count": 26,
   "id": "b456c6c1",
   "metadata": {
    "tags": []
   },
   "outputs": [],
   "source": [
    "def permutation_test(repetitions=5000):\n",
    "    \"\"\"\n",
    "    Parameters\n",
    "    ----------\n",
    "    repetitions: int\n",
    "        Total number of repetitions to do simulations. Already set to be 5000.\n",
    "\n",
    "    Returns\n",
    "    -------\n",
    "    numpy.array\n",
    "        Array of differences between the means of two groups formed by randomly shuffling all the labels \n",
    "        in each simulation.\n",
    "    \"\"\"\n",
    "    ...\n",
    "    i = 0\n",
    "    \n",
    "    a = []\n",
    "    while (i<repetitions):\n",
    "        shuffled_labels = data[\"label\"].sample(frac=1, replace=False, random_state=i).values\n",
    "        shuffled_data = pd.DataFrame({\"data\": data[\"data\"].values, \"label\": shuffled_labels})\n",
    "        a.append(difference_of_means(shuffled_data, shuffled_labels))\n",
    "        i += 1\n",
    "    #print(a)\n",
    "    return np.array(a)\n",
    "        \n",
    "        "
   ]
  },
  {
   "cell_type": "code",
   "execution_count": 27,
   "id": "6b5a1a81",
   "metadata": {
    "deletable": false,
    "editable": false,
    "scrolled": true
   },
   "outputs": [
    {
     "data": {
      "text/html": [
       "<p><strong><pre style='display: inline;'>p3-4</pre></strong> passed!</p>"
      ],
      "text/plain": [
       "p3-4 results: All test cases passed!"
      ]
     },
     "execution_count": 27,
     "metadata": {},
     "output_type": "execute_result"
    }
   ],
   "source": [
    "grader.check(\"p3-4\")"
   ]
  },
  {
   "cell_type": "markdown",
   "id": "ad4355a9",
   "metadata": {},
   "source": [
    "<!-- BEGIN QUESTION -->\n",
    "\n",
    "5. Draw a histogram that shows the distribution of $5000$ simulations. \n",
    "\n",
    "Hint: Use the function `permutation_test` to obtain an array of results. Transform it into DataFrame in pandas and use `.hist()` to draw the histogram."
   ]
  },
  {
   "cell_type": "code",
   "execution_count": 28,
   "id": "ce745f3f",
   "metadata": {
    "tags": []
   },
   "outputs": [
    {
     "data": {
      "text/plain": [
       "<AxesSubplot:>"
      ]
     },
     "execution_count": 28,
     "metadata": {},
     "output_type": "execute_result"
    },
    {
     "data": {
      "image/png": "[encoded data removed]",
      "text/plain": [
       "<Figure size 432x288 with 1 Axes>"
      ]
     },
     "metadata": {
      "needs_background": "light"
     },
     "output_type": "display_data"
    }
   ],
   "source": [
    "\"\"\" to be implemented \"\"\"\n",
    "dis = permutation_test(repetitions=5000)\n",
    "dist = pd.DataFrame({'test_stat':dis})\n",
    "dist['test_stat'].hist()"
   ]
  },
  {
   "cell_type": "markdown",
   "id": "dca4810b",
   "metadata": {},
   "source": [
    "<!-- END QUESTION -->\n",
    "\n",
    "<!-- BEGIN QUESTION -->\n",
    "\n",
    "### Conclusion of the Test\n",
    "\n",
    "The histogram drawn above shows the empirical distribution of the test statistic simulated under the null hypothesis. We define the empirical p-value of the test to be the proportion of the absolute values of simulated differences that were equal to or larger than the absolute observed difference in the original dataset. \n",
    "\n",
    "6. Compute the absolute observed difference and the corresponding empirical p-value of the test, using the simulated results above. Conclude the test."
   ]
  },
  {
   "cell_type": "code",
   "execution_count": 29,
   "id": "a402cc4c",
   "metadata": {
    "scrolled": true,
    "tags": []
   },
   "outputs": [
    {
     "name": "stdout",
     "output_type": "stream",
     "text": [
      "1.4902465955097597\n",
      "5000\n",
      "1494\n",
      "0.2988\n"
     ]
    }
   ],
   "source": [
    "\"\"\" to be implemented \"\"\"\n",
    "abs_obs_diff = difference_of_means(data, data['label'])\n",
    "print(abs_obs_diff)\n",
    "dis = permutation_test(repetitions=5000)\n",
    "dist = pd.DataFrame({'test_stat':dis})\n",
    "print(len(dist))\n",
    "tmp = len(dist)\n",
    "##dist = dist[dist.test_stat >= abs_obs_diff]\n",
    "\n",
    "dist['abs_val'] = abs(dist['test_stat']) ##absolute values of simulated differences\n",
    "dist = dist[dist.abs_val >= abs(abs_obs_diff)]\n",
    "\n",
    "print(len(dist))\n",
    "emp_pval = len(dist)/tmp\n",
    "print(emp_pval)\n",
    "##As the empirical p value = 0.29 > 0.05, we fail to reject the null hypothesis"
   ]
  },
  {
   "cell_type": "markdown",
   "id": "395004d7",
   "metadata": {},
   "source": [
    "<!-- END QUESTION -->\n",
    "\n"
   ]
  },
  {
   "cell_type": "markdown",
   "id": "2d8a3211",
   "metadata": {
    "deletable": false,
    "editable": false
   },
   "source": [
    "---\n",
    "\n",
    "To double-check your work, the cell below will rerun all of the autograder tests."
   ]
  },
  {
   "cell_type": "code",
   "execution_count": 30,
   "id": "7583a7db",
   "metadata": {
    "deletable": false,
    "editable": false
   },
   "outputs": [
    {
     "data": {
      "text/plain": [
       "p3-2 results: All test cases passed!\n",
       "\n",
       "p3-3 results: All test cases passed!\n",
       "\n",
       "p3-4 results: All test cases passed!"
      ]
     },
     "execution_count": 30,
     "metadata": {},
     "output_type": "execute_result"
    }
   ],
   "source": [
    "grader.check_all()"
   ]
  },
  {
   "cell_type": "markdown",
   "id": "c574c24f",
   "metadata": {
    "deletable": false,
    "editable": false
   },
   "source": [
    "## Submission\n",
    "\n",
    "Make sure you have run all cells in your notebook in order before running the cell below, so that all images/graphs appear in the output. The cell below will generate a zip file for you to submit. **Please save before exporting!**\n",
    "\n",
    "Please download the zip file after running the cell below, then upload the zip file to GradeScope for submission. You can also download your notebook as an IPYNB file for the submission. Please also export your notebook as a PDF file (Use **Command/Control + P** if you have issues with the native export as PDF feature). **Please upload and submit both the IPYNB file and the PDF via Gradescope (entry code: GEWXGD).**"
   ]
  },
  {
   "cell_type": "code",
   "execution_count": 31,
   "id": "de5afa4d",
   "metadata": {
    "deletable": false,
    "editable": false
   },
   "outputs": [
    {
     "data": {
      "text/html": [
       "\n",
       "            <p>Your submission has been exported. Click <a href=\"Homework_3_2022_03_27T16_17_08_884404.zip\" download=\"Homework_3_2022_03_27T16_17_08_884404.zip\" target=\"_blank\">here</a>\n",
       "            to download the zip file.</p>\n",
       "            "
      ],
      "text/plain": [
       "<IPython.core.display.HTML object>"
      ]
     },
     "metadata": {},
     "output_type": "display_data"
    }
   ],
   "source": [
    "# Save your notebook first, then run this cell to export your submission.\n",
    "grader.export(pdf=False)"
   ]
  },
  {
   "cell_type": "markdown",
   "id": "e2d55a38",
   "metadata": {},
   "source": [
    " "
   ]
  }
 ],
 "metadata": {
  "kernelspec": {
   "display_name": "Python 3",
   "language": "python",
   "name": "python3"
  },
  "language_info": {
   "codemirror_mode": {
    "name": "ipython",
    "version": 3
   },
   "file_extension": ".py",
   "mimetype": "text/x-python",
   "name": "python",
   "nbconvert_exporter": "python",
   "pygments_lexer": "ipython3",
   "version": "3.8.8"
  },
  "latex_envs": {
   "LaTeX_envs_menu_present": true,
   "autoclose": false,
   "autocomplete": true,
   "bibliofile": "biblio.bib",
   "cite_by": "apalike",
   "current_citInitial": 1,
   "eqLabelWithNumbers": true,
   "eqNumInitial": 1,
   "hotkeys": {
    "equation": "Ctrl-E",
    "itemize": "Ctrl-I"
   },
   "labels_anchors": false,
   "latex_user_defs": false,
   "report_style_numbering": false,
   "user_envs_cfg": false
  },
  "otter": {
   "tests": {
    "p3-2": {
     "name": "p3-2",
     "points": null,
     "suites": [
      {
       "cases": [
        {
         "code": ">>> diff = difference_of_means(data, \"label\")\n>>> isinstance(diff, float)\nTrue",
         "hidden": false,
         "locked": false
        },
        {
         "code": ">>> diff = difference_of_means(data, \"label\")\n>>> expect_diff = 1.4902465955097597\n>>> np.linalg.norm(diff - expect_diff) < 1e-6\nTrue",
         "hidden": false,
         "locked": false
        }
       ],
       "scored": true,
       "setup": "",
       "teardown": "",
       "type": "doctest"
      }
     ]
    },
    "p3-3": {
     "name": "p3-3",
     "points": null,
     "suites": [
      {
       "cases": [
        {
         "code": ">>> seed = np.random.randint(0, 5000)\n>>> diff = one_simulated_difference_of_means(seed)\n>>> isinstance(diff, float)\nTrue",
         "hidden": false,
         "locked": false
        },
        {
         "code": ">>> diff = one_simulated_difference_of_means(0)\n>>> expect_diff = 2.7121825542878213\n>>> np.linalg.norm(diff - expect_diff) < 1e-6\nTrue",
         "hidden": false,
         "locked": false
        },
        {
         "code": ">>> diff = one_simulated_difference_of_means(1000)\n>>> expect_diff = -1.0812170285854563\n>>> np.linalg.norm(diff - expect_diff) < 1e-6\nTrue",
         "hidden": false,
         "locked": false
        },
        {
         "code": ">>> diff = one_simulated_difference_of_means(3000)\n>>> expect_diff = 0.26831063673168387\n>>> np.linalg.norm(diff - expect_diff) < 1e-6\nTrue",
         "hidden": false,
         "locked": false
        },
        {
         "code": ">>> diff = one_simulated_difference_of_means(5000)\n>>> expect_diff = -1.130290761869702\n>>> np.linalg.norm(diff - expect_diff) < 1e-6\nTrue",
         "hidden": false,
         "locked": false
        }
       ],
       "scored": true,
       "setup": "",
       "teardown": "",
       "type": "doctest"
      }
     ]
    },
    "p3-4": {
     "name": "p3-4",
     "points": null,
     "suites": [
      {
       "cases": [
        {
         "code": ">>> results = permutation_test(10)\n>>> type(results).__module__ == np.__name__\nTrue",
         "hidden": false,
         "locked": false
        },
        {
         "code": ">>> results = permutation_test(36)\n>>> expect_results = np.array([ 2.71218255,  1.79941112,  2.82014477, -0.77695988, -0.08011287,\n...         1.76015213,  1.61293093, -3.2944424 , -4.74211753,  1.32830328,\n...         1.31358116, -2.30315299,  0.63145626, -1.94000736,  0.90626917,\n...        -0.56103546,  1.05839774,  0.84738069,  0.0180346 , -1.16464238,\n...         0.97006502,  0.27812538, -1.80260091,  0.43025396, -1.33149307,\n...        -1.19899399,  0.17507054, -1.68482395,  1.09765673,  0.61182677,\n...         1.3970065 , -0.04576126,  0.83265857,  2.10857563, -0.055576  ,\n...        -1.67991657])\n>>> np.allclose(results, expect_results)\nTrue",
         "hidden": false,
         "locked": false
        }
       ],
       "scored": true,
       "setup": "",
       "teardown": "",
       "type": "doctest"
      }
     ]
    }
   }
  }
 },
 "nbformat": 4,
 "nbformat_minor": 5
}

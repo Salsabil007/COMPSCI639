{
 "cells": [
  {
   "cell_type": "markdown",
   "metadata": {},
   "source": [
    "# Homework $\\#1$\n",
    "\n",
    "The goal of this homework assignment is to provide practice problems related to background in probability needed for this course and also to help you gain a better understanding of the probabilistic foundations of learning/concentration inequalities covered in the first few weeks."
   ]
  },
  {
   "cell_type": "markdown",
   "metadata": {},
   "source": [
    "## Problem 1: Height Distribution in Netherlands"
   ]
  },
  {
   "cell_type": "markdown",
   "metadata": {},
   "source": [
    "There was a paper published in 2012 that reported the following about height distribution in Netherlands: \"The analysis sample included 5,811 boys and 6,194 girls. [...] Mean final height was 183.8 cm (SD = 7.1 cm) in boys and 170.7 cm (SD = 6.3 cm) in girls.\" (Here, SD stands for standard deviation, but you can ignore it.) Using Markov  inequality, estimate (at most) how many boys and girls from this data set could be taller than 190cm (6ft 2.8in). Would your estimates improve if you were told that the height of the shortest girl in the data set was 145cm, while the height of the shortest boy in the data set was 155cm? If so, provide the improved estimates. "
   ]
  },
  {
   "cell_type": "markdown",
   "metadata": {},
   "source": [
    "## Solution for Problem #1:"
   ]
  },
  {
   "cell_type": "markdown",
   "metadata": {},
   "source": []
  },
  {
   "cell_type": "code",
   "execution_count": null,
   "metadata": {},
   "outputs": [],
   "source": [
    "mark\n",
    "$$$$"
   ]
  },
  {
   "cell_type": "markdown",
   "metadata": {},
   "source": [
    "## Problem 2: Mixed up Homework"
   ]
  },
  {
   "cell_type": "markdown",
   "metadata": {},
   "source": [
    "There are currently $n=42$ students in this class. Suppose that after grading your homework we run a faulty script and permute all the submitted homework assignments uniformly at random (I promise, we won't really do this, at least not for now!). \n",
    "\n",
    "1. What is the probability that you get your own assignment?\n",
    "2. What is the expected number of students who will get their own assigments?\n",
    "3. What is the probability that *everyone* gets their own assignment?\n",
    "4. Write down the estimates of the probability of everyone getting their own (correct) assignments that you would obtain by applyng Markov inequality, Chebyshev inequality, and the Hoeffding bound."
   ]
  },
  {
   "cell_type": "markdown",
   "metadata": {},
   "source": [
    "## Solution for Problem #2:"
   ]
  },
  {
   "cell_type": "markdown",
   "metadata": {},
   "source": []
  },
  {
   "cell_type": "markdown",
   "metadata": {},
   "source": [
    "## Problem 3: Chernoff Bound for Independent but not Identically Distributed Gaussians"
   ]
  },
  {
   "cell_type": "markdown",
   "metadata": {},
   "source": [
    "Let $X_1 \\sim \\mathcal{N}(\\mu_1, {\\sigma_1}^2), X_2 \\sim \\mathcal{N}(\\mu_2, {\\sigma_2}^2), \\dots, X_n \\sim \\mathcal{N}(\\mu_n, {\\sigma_n}^2)$ be independent (but not identically distributed) Gaussian random variables. \n",
    "\n",
    "1. What is the distribution of $\\frac{S_n}{n}$, where $S_n = X_1 + X_2 + \\dots + X_n$?\n",
    "2. Can you apply a Chernoff bound to $\\frac{S_n}{n}$? Write down the tail bounds that you get."
   ]
  },
  {
   "cell_type": "markdown",
   "metadata": {},
   "source": [
    "## Solution for Problem #3:"
   ]
  },
  {
   "cell_type": "markdown",
   "metadata": {},
   "source": []
  },
  {
   "cell_type": "markdown",
   "metadata": {},
   "source": [
    "## Problem 4: Estimating Gene Mutations"
   ]
  },
  {
   "cell_type": "markdown",
   "metadata": {},
   "source": [
    "Suppose that a fixed fraction $\\alpha$ of genes in a DNA sequence contain some mutation of interest. Of course, we do not know $\\alpha$ and want to estimate it, because that can tell us more about the characteristics of a population we are observing. But collecting DNA samples is not easy, so we would like to estimate $\\alpha$ with as few samples as possible. \n",
    "\n",
    "1. Describe how you would try to estimate $\\alpha.$\n",
    "2. Given some $\\epsilon > 0$ and $\\delta > 0$ (take, for example $\\epsilon = 0.01$ and $\\delta = 0.05$), how many samples are needed to estimate $\\alpha$ so that the probability that your estimate and $\\alpha$ differ by $\\epsilon$ or more is at most $\\delta$? Use the tightest inequality/bound that you know.\n",
    "*Hint:* Probability (or a fraction) is always bounded between 0 and 1. "
   ]
  },
  {
   "cell_type": "markdown",
   "metadata": {},
   "source": [
    "## Solution for Problem 4:"
   ]
  },
  {
   "cell_type": "markdown",
   "metadata": {},
   "source": []
  }
 ],
 "metadata": {
  "kernelspec": {
   "display_name": "Python 3",
   "language": "python",
   "name": "python3"
  },
  "language_info": {
   "codemirror_mode": {
    "name": "ipython",
    "version": 3
   },
   "file_extension": ".py",
   "mimetype": "text/x-python",
   "name": "python",
   "nbconvert_exporter": "python",
   "pygments_lexer": "ipython3",
   "version": "3.8.8"
  },
  "latex_envs": {
   "LaTeX_envs_menu_present": true,
   "autoclose": false,
   "autocomplete": true,
   "bibliofile": "biblio.bib",
   "cite_by": "apalike",
   "current_citInitial": 1,
   "eqLabelWithNumbers": true,
   "eqNumInitial": 1,
   "hotkeys": {
    "equation": "Ctrl-E",
    "itemize": "Ctrl-I"
   },
   "labels_anchors": false,
   "latex_user_defs": false,
   "report_style_numbering": false,
   "user_envs_cfg": false
  },
  "toc": {
   "base_numbering": 1,
   "nav_menu": {},
   "number_sections": true,
   "sideBar": true,
   "skip_h1_title": false,
   "title_cell": "Table of Contents",
   "title_sidebar": "Contents",
   "toc_cell": false,
   "toc_position": {},
   "toc_section_display": true,
   "toc_window_display": false
  }
 },
 "nbformat": 4,
 "nbformat_minor": 4
}

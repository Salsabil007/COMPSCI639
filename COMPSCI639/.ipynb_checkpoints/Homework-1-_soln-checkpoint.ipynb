{
 "cells": [
  {
   "cell_type": "markdown",
   "metadata": {},
   "source": [
    "# Homework $\\#1$\n",
    "\n",
    "The goal of this homework assignment is to provide practice problems related to background in probability needed for this course and also to help you gain a better understanding of the probabilistic foundations of learning/concentration inequalities covered in the first few weeks."
   ]
  },
  {
   "cell_type": "markdown",
   "metadata": {},
   "source": [
    "## Problem 1: Height Distribution in Netherlands"
   ]
  },
  {
   "cell_type": "markdown",
   "metadata": {},
   "source": [
    "There was a paper published in 2012 that reported the following about height distribution in Netherlands: \"The analysis sample included 5,811 boys and 6,194 girls. [...] Mean final height was 183.8 cm (SD = 7.1 cm) in boys and 170.7 cm (SD = 6.3 cm) in girls.\" (Here, SD stands for standard deviation, but you can ignore it.) Using Markov  inequality, estimate (at most) how many boys and girls from this data set could be taller than 190cm (6ft 2.8in). Would your estimates improve if you were told that the height of the shortest girl in the data set was 145cm, while the height of the shortest boy in the data set was 155cm? If so, provide the improved estimates. "
   ]
  },
  {
   "cell_type": "markdown",
   "metadata": {},
   "source": [
    "## Solution for Problem #1:"
   ]
  },
  {
   "cell_type": "markdown",
   "metadata": {},
   "source": [
    "Apply Markov Inequality For boys,\n",
    "$\\mathbb{P} [X \\geq 190] \\leq \\frac {183.8}{190}$\n",
    "= 0.97\n",
    "\n",
    "Apply Markov Inequality For girls, \n",
    "$\\mathbb{P} [X \\geq 190] \\leq \\frac {170.7}{190}$\n",
    "= 0.89\n",
    "\n",
    "So, at most 97\\% = 5637 (rounded up) boys and 89\\% = 5512 (rounded up) girls could be taller than 190 cm.\n",
    "\n",
    "If we have additional assumptions or information regarding the shortest girl's and shortest boy's heights, the estimate would improve and we'll get tighter bound.\n",
    "\n",
    "For boys,\n",
    "$Y = X - 155$ and $Y$ must be greater than or equal to 190 - 155 = 35\n",
    "\n",
    "$\\mathbb{P} [Y \\geq 35] \\leq \\frac {\\mathbb{E}[Y]}{35} = \\frac{\\mathbb{E}[X] - 155}{35}$\n",
    "= 0.82\n",
    "\n",
    "For girls,\n",
    "$Y = X - 145$ and $Y$ must be greater than or equal to 190 - 145 = 45\n",
    "\n",
    "$\\mathbb{P} [Y \\geq 45] \\leq \\frac {\\mathbb{E}[Y]}{45} = \\frac{\\mathbb{E}[X] - 145}{45}$\n",
    "= 0.57\n",
    "\n",
    "So, after adding additional assumtions, at most 82\\% = 4765 (rounded up) boys and 57\\% = 3530 (rounded up) girls could be taller than 190 cm."
   ]
  },
  {
   "cell_type": "markdown",
   "metadata": {},
   "source": [
    "## Problem 2: Mixed up Homework"
   ]
  },
  {
   "cell_type": "markdown",
   "metadata": {},
   "source": [
    "There are currently $n=42$ students in this class. Suppose that after grading your homework we run a faulty script and send you an assignment chosen uniformly at random from all the assignments, where sampling is with replacement (that is, it is possible for multiple students to get the same assignment). [I promise, we won't really do this, at least not for now!].  \n",
    "\n",
    "1. What is the probability that you get your own assignment?\n",
    "2. What is the expected number of students who will get their own assigments?\n",
    "3. What is the probability that *everyone* gets their own assignment?\n",
    "4. Write down the estimates of the probability of everyone getting their own (correct) assignments that you would obtain by applyng Markov inequality, Chebyshev inequality, and the Hoeffding bound."
   ]
  },
  {
   "cell_type": "markdown",
   "metadata": {},
   "source": [
    "## Solution for Problem #2:"
   ]
  },
  {
   "cell_type": "markdown",
   "metadata": {},
   "source": [
    "1. $\\mathbb{P}[getting\\_own\\_assignment]$ = 1/42\n",
    "2. Let, $S_n$ be the number of students who gets their own assignments. \n",
    "\n",
    "$s_n = X_1 + X_2 + X_3 .... + X_{42}$, where\n",
    "$X_i = 1$ if ith student gets owen assignment ans 0 otherwise\n",
    "\n",
    "$\\mathbb{E}[S_n] = \\mathbb{E}[X_1 + X_2 + ... + X_{42}] = (1/42) + (1/42) + ... = 42/42 = 1$\n",
    "\n",
    "3. $\\mathbb{P}[S_n = 42] = (1/42) * (1/42) * (1/42) ... = \\frac{1}{42^{42}}$\n",
    "4. Markov Inquality:\n",
    "\n",
    "$\\mathbb{P}[S_n \\geq 42] \\leq \\frac{\\mathbb{E}[S_n]}{42} = 1/42$\n",
    "\n",
    "Chebyshev Inequality:\n",
    "\n",
    "$\\mathbb{P}[S_n \\geq 42] = \\mathbb{P}[|S_n - 1| \\geq 41] =  \\mathbb{P}[|S_n - \\mathbb{E}[S_n]| \\geq 41] \\leq Var[S_n]/41^2\n",
    "= (41)/(42 * 41^2) = 1 / (41 * 42)$\n",
    "Here, $var[S_n] = n*p*q = 42 * (1/42) * (1 - (1/42)) = 41/42, \\mathbb{E}[S_n] = 1$\n",
    "\n",
    "Hoeffding bound:\n",
    "\n",
    "$\\mathbb{P}[S_n \\geq 42] = \\mathbb{P}[S_n - 1 \\geq 41] = \\mathbb{P}[(S_n/42) - (1/42) \\geq (41/42)]$\n",
    "$\\leq e^{\\frac{(-2) * 42 * 41^2}{42^2}} = e^{\\frac{(-1)* 41^2}{21}}$"
   ]
  },
  {
   "cell_type": "markdown",
   "metadata": {},
   "source": [
    "## Problem 3: Chernoff Bound for Independent but not Identically Distributed Gaussians"
   ]
  },
  {
   "cell_type": "markdown",
   "metadata": {},
   "source": [
    "Let $X_1 \\sim \\mathcal{N}(\\mu_1, {\\sigma_1}^2), X_2 \\sim \\mathcal{N}(\\mu_2, {\\sigma_2}^2), \\dots, X_n \\sim \\mathcal{N}(\\mu_n, {\\sigma_n}^2)$ be independent (but not identically distributed) Gaussian random variables. \n",
    "\n",
    "1. What is the distribution of $\\frac{S_n}{n}$, where $S_n = X_1 + X_2 + \\dots + X_n$?\n",
    "2. Can you apply a Chernoff bound to $\\frac{S_n}{n}$? Write down the tail bounds that you get."
   ]
  },
  {
   "cell_type": "markdown",
   "metadata": {},
   "source": [
    "## Solution for Problem #3:"
   ]
  },
  {
   "cell_type": "markdown",
   "metadata": {},
   "source": [
    "1. $S_n/n$ is a gaussian with mean, $\\mu = (\\mu_1 + \\mu_2 + \\dots + \\mu_n)/n$ and variance, $\\sigma = ({\\sigma_1}^2 + {\\sigma_2}^2 + {\\sigma_3}^2 + \\dots + {\\sigma_n}^2)/n^2$ \n",
    "$S_n/n \\sim \\mathcal{N}(\\frac{\\mu_1 + \\mu_2 + \\dots + \\mu_n}{n}, \\frac{{\\sigma_1}^2 + {\\sigma_2}^2 + {\\sigma_3}^2 + \\dots + {\\sigma_n}^2}{n^2})$\n",
    "\n",
    "2. lets convert $\\frac{S_n}{n}$ into a zero-mean gaussian R.V $Z \\sim \\mathcal{N}(0, {\\sigma}^2)$, $Z = \\frac{S_n}{n} - \\mu$. \n",
    "For left tail bound, $\\mathbb{P}[Z \\leq -t] = \\mathbb{P}[e^{-Z\\lambda} \\geq e^{t\\lambda}] \\leq \\frac{\\mathbb{E}[e^{-Z\\lambda}]}{e^{\\lambda.t}}$\n",
    "\n",
    "Now, $\\mathbb{E}[e^{-Z\\lambda}] = e^{\\frac{\\lambda^2.\\sigma^2}{2}} $\n",
    "therefore, $\\mathbb{P}[\\frac{S_n}{n} - \\mu \\leq -t] \\leq e^{\\frac{\\lambda^2.\\sigma^2}{2} - \\lambda t}$\n",
    "\n",
    "we can minimize the R.H.S by plugging $\\lambda = \\frac{t}{\\sigma^2}$ and we will get, \n",
    "$\\mathbb{P}[\\frac{S_n}{n} - \\mu \\leq -t] \\leq e^{\\frac{-t^2}{2\\sigma^2}} = e^{\\frac{-t^2*n^2}{2({\\sigma_1}^2 + {\\sigma_2}^2 + {\\sigma_3}^2 + \\dots + {\\sigma_n}^2)}} $\n",
    "\n",
    "For right tail bound, $\\mathbb{P}[Z \\geq t] = \\mathbb{P}[e^{Z\\lambda} \\geq e^{t\\lambda}] \\leq \\frac{\\mathbb{E}[e^{Z\\lambda}]}{e^{\\lambda.t}}$\n",
    "\n",
    "Now, $\\mathbb{E}[e^{Z\\lambda}] = e^{\\frac{\\lambda^2.\\sigma^2}{2}} $\n",
    "therefore, $\\mathbb{P}[\\frac{S_n}{n} - \\mu \\geq t] \\leq e^{\\frac{\\lambda^2.\\sigma^2}{2} - \\lambda t}$\n",
    "\n",
    "we can minimize the R.H.S by plugging $\\lambda = \\frac{t}{\\sigma^2}$ and we will get, \n",
    "$\\mathbb{P}[\\frac{S_n}{n} - \\mu \\geq t] \\leq e^{\\frac{-t^2}{2\\sigma^2}} = e^{\\frac{-t^2*n^2}{2({\\sigma_1}^2 + {\\sigma_2}^2 + {\\sigma_3}^2 + \\dots + {\\sigma_n}^2)}} $"
   ]
  },
  {
   "cell_type": "markdown",
   "metadata": {},
   "source": [
    "## Problem 4: Estimating Gene Mutations"
   ]
  },
  {
   "cell_type": "markdown",
   "metadata": {},
   "source": [
    "Suppose that a fixed fraction $\\alpha$ of genes in a DNA sequence contain some mutation of interest. Of course, we do not know $\\alpha$ and want to estimate it, because that can tell us more about the characteristics of a population we are observing. But collecting DNA samples is not easy, so we would like to estimate $\\alpha$ with as few samples as possible. \n",
    "\n",
    "1. Describe how you would try to estimate $\\alpha.$\n",
    "2. Given some $\\epsilon > 0$ and $\\delta > 0$ (take, for example $\\epsilon = 0.01$ and $\\delta = 0.05$), how many samples are needed to estimate $\\alpha$ so that the probability that your estimate and $\\alpha$ differ by $\\epsilon$ or more is at most $\\delta$? Use the tightest inequality/bound that you know.\n",
    "*Hint:* Probability (or a fraction) is always bounded between 0 and 1. "
   ]
  },
  {
   "cell_type": "markdown",
   "metadata": {},
   "source": [
    "## Solution for Problem 4:"
   ]
  },
  {
   "cell_type": "markdown",
   "metadata": {},
   "source": [
    "1. remove later{iffalse a fixed fraction, $\\alpha$ = $S_n / n$, where n is the number of sample size. $\\alpha$ is non-negative having a finite mean, $\\mathbb{E}[S_n / n] = \\mu$ and finite variance, $var[S_n / n] = \\sigma^2/n$.}remove later\n",
    "\n",
    "\n",
    "We can try to estimate $\\alpha$ in a way so that the difference between the empirically estimated fraction $S_n /n$ and $\\mathbb{E}[\\frac{S_n}{n}] = \\mu$ (true mean) does not exceed a certain bound. We can do that by using chebyshev Inequality and Hoeffding bound.\n",
    "\n",
    "2. Using Chebyshev Inequality:\n",
    "Lets assume we need n samples to estimate $\\mu$ so that the probability that the estimate and $\\mu$ differ by $\\epsilon$ or more at most $\\delta$.\n",
    "$\\mathbb{P}[|\\frac{S_n}{n} - \\mu| \\geq \\epsilon] \\leq \\frac{\\sigma^2}{n.\\epsilon^2} \\leq \\delta$\n",
    "therefore, $n \\geq \\frac{\\sigma^2}{\\delta.\\epsilon^2}$ ($var[\\frac{S_n}{n}] = \\frac{\\sigma^2}{n}$)\n",
    "\n",
    "Using Hoeffding bound(both left and right tail bound):\n",
    "$\\mathbb{P}[|\\frac{S_n}{n} - \\mu| \\geq \\epsilon] \\leq 2 * e^{\\frac{-2n\\epsilon^2}{1}} \\leq \\delta$\n",
    "therefore, \n",
    "\n",
    "$2 * e^{-2n\\epsilon^2} \\leq \\delta$\n",
    "\n",
    "=> $e^{-2n\\epsilon^2} \\leq \\delta/2$\n",
    "\n",
    "=> $e^{2n\\epsilon^2} \\geq 2/\\delta$\n",
    "\n",
    "=> $2n\\epsilon^2 \\geq \\ln{2/\\delta}$\n",
    "\n",
    "=> $n \\geq \\frac{\\ln{2/\\delta}}{2\\epsilon^2}$"
   ]
  },
  {
   "cell_type": "code",
   "execution_count": null,
   "metadata": {},
   "outputs": [],
   "source": []
  }
 ],
 "metadata": {
  "kernelspec": {
   "display_name": "Python 3",
   "language": "python",
   "name": "python3"
  },
  "language_info": {
   "codemirror_mode": {
    "name": "ipython",
    "version": 3
   },
   "file_extension": ".py",
   "mimetype": "text/x-python",
   "name": "python",
   "nbconvert_exporter": "python",
   "pygments_lexer": "ipython3",
   "version": "3.8.8"
  },
  "latex_envs": {
   "LaTeX_envs_menu_present": true,
   "autoclose": false,
   "autocomplete": true,
   "bibliofile": "biblio.bib",
   "cite_by": "apalike",
   "current_citInitial": 1,
   "eqLabelWithNumbers": true,
   "eqNumInitial": 1,
   "hotkeys": {
    "equation": "Ctrl-E",
    "itemize": "Ctrl-I"
   },
   "labels_anchors": false,
   "latex_user_defs": false,
   "report_style_numbering": false,
   "user_envs_cfg": false
  },
  "toc": {
   "base_numbering": 1,
   "nav_menu": {},
   "number_sections": true,
   "sideBar": true,
   "skip_h1_title": false,
   "title_cell": "Table of Contents",
   "title_sidebar": "Contents",
   "toc_cell": false,
   "toc_position": {},
   "toc_section_display": true,
   "toc_window_display": false
  }
 },
 "nbformat": 4,
 "nbformat_minor": 4
}

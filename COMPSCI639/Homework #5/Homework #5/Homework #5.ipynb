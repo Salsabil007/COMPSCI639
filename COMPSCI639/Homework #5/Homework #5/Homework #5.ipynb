{
 "cells": [
  {
   "cell_type": "code",
   "execution_count": 177,
   "metadata": {
    "deletable": false,
    "editable": false
   },
   "outputs": [],
   "source": [
    "# Initialize Otter\n",
    "import otter\n",
    "grader = otter.Notebook(\"Homework #5.ipynb\")"
   ]
  },
  {
   "cell_type": "code",
   "execution_count": null,
   "metadata": {},
   "outputs": [],
   "source": []
  },
  {
   "cell_type": "code",
   "execution_count": 178,
   "metadata": {},
   "outputs": [],
   "source": [
    "import matplotlib.pyplot as plt\n",
    "import numpy as np\n",
    "import pandas as pd\n",
    "from sklearn.linear_model import LogisticRegression"
   ]
  },
  {
   "cell_type": "markdown",
   "metadata": {},
   "source": [
    "# CS 639 - Foundations of Data Science\n",
    "\n",
    "# Homework \\#5\n",
    "\n",
    "\n",
    "In this final homework, you will get to practice what you have learned about (linear) regression and classification and connect it to topics you learned about before (such as MLE, bootstrap, and confidence intervals)."
   ]
  },
  {
   "cell_type": "markdown",
   "metadata": {},
   "source": [
    "<!-- BEGIN QUESTION -->\n",
    "\n",
    "## Problem 1: Least Squares as MLE [$\\color{blue}{\\text{Extra Credit, 20pts}}$]"
   ]
  },
  {
   "cell_type": "markdown",
   "metadata": {},
   "source": [
    "We mentioned in class that under suitable assumptions, the estimates we get for the coefficients $\\beta$ in linear regression using least squares can also be viewed as maximum likelihood estimates. In this question, you are asked to prove this claim. The setup is as follows. Assume you are given $n$ pairs of feature vectors $x_i$ (of length $p \\geq 1$) and their corresponding responses/labels $y_i$. Vectors $x_1, x_2, \\dots, x_n$ are drawn i.i.d. from some underlying distribution. Response variables $y_1, y_2, \\dots, y_n$ are related to the feature vectors via\n",
    "\n",
    "$$\n",
    "    y_i = \\beta_0 + \\beta_1 [x_i]_1 + \\beta_2 [x_i]_2 + \\dots + \\beta_p [x_i]_p + \\epsilon_i,\n",
    "$$\n",
    "\n",
    "where $\\epsilon_i$ are random errors drawn i.i.d. from $\\mathcal{N}(0, \\sigma^2)$ ($\\sigma^2$ is unknown), independently of $x_i$. As discussed in class, to perform linear regression, you want to estimate the coefficients $\\beta_0, \\beta_1, \\dots, \\beta_p.$\n",
    "\n",
    "1. When $x_i$ is given (i.e., conditioning on $x_i$), what is the distribution of $y_i$?\n",
    "2. What are the likelihood and the log-likelihood function? (You can write these functions conditioned on $x_1, \\dots, x_n$ or not; your final answer should not get affected.)\n",
    "3. Argue that maximizing the log-likelihood function is the same as minimizing the residual sum of squares (RSS), and, thus, least squares estimates of the coefficients $\\beta_0, \\beta_1, \\dots, \\beta_p$ are also maximum likelihood estimates."
   ]
  },
  {
   "cell_type": "markdown",
   "metadata": {},
   "source": [
    "_Type your answer here, replacing this text._"
   ]
  },
  {
   "cell_type": "markdown",
   "metadata": {},
   "source": [
    "<!-- END QUESTION -->\n",
    "\n",
    "<!-- BEGIN QUESTION -->\n",
    "\n",
    "## Problem 2: Comparing Two Linear Regression Models"
   ]
  },
  {
   "cell_type": "markdown",
   "metadata": {},
   "source": [
    "You are provided with the `lin_reg.csv` file that contains 4 columns and 100 rows. Each row has an independent sample of the values of three features $X_1, X_2, X_3$ followed by the value of a response $Y$ corresponding to those feature values. You are asked to train and evaluate two linear regression models:\n",
    "\n",
    "$$\n",
    "    f_1(X) = \\beta_0 + \\beta_1 X_1 + \\beta_2 X_2 + \\beta_3 X_3\n",
    "$$\n",
    "\n",
    "and\n",
    "\n",
    "$$\n",
    "    f_2(X) = \\beta_0 + \\beta_1 X_1 + \\beta_2 {X_2}^2 + \\beta_3 {X_3}^3.\n",
    "$$\n",
    "\n",
    "You can use `numpy.linalg.lstsq` (https://numpy.org/doc/stable/reference/generated/numpy.linalg.lstsq.html) to compute the coefficients for these two models. Display clearly which value corresponds to which coefficient in your output. (You will need to add a column of ones in your array to compute `beta_0`; You can use `numpy.insert(arr, 0, 1, axis=1)` to insert one column of ones into your array.)\n",
    "\n",
    "Using the techniques discussed in class, assess the accuracy of the two models and discuss which one of the two models you would use to make predictions and why."
   ]
  },
  {
   "cell_type": "markdown",
   "metadata": {},
   "source": [
    "I will use the second one as it is giving much lower Residual Squared Error (2.31) compared to the first one(RSE 196.52). The second model is non-linear and fitting the data better than the first one. The higher residual sum of square of the first model indicates that it is too simple to fit the given data. "
   ]
  },
  {
   "cell_type": "code",
   "execution_count": 179,
   "metadata": {
    "scrolled": true,
    "tags": []
   },
   "outputs": [
    {
     "name": "stdout",
     "output_type": "stream",
     "text": [
      "[-151.03190508   -9.84642241   -9.25205485   69.79907781]\n",
      "[3862389.40874953]\n",
      "(100, 1)\n",
      "(100, 1)\n",
      "3862389.4087495315\n",
      "196.52962648795554\n"
     ]
    }
   ],
   "source": [
    "data = pd.read_csv(\"lin_reg.csv\")\n",
    "#print(data)\n",
    "xtrain = data\n",
    "xtrain = xtrain.to_numpy()\n",
    "y = xtrain[:, 3]\n",
    "xtrain = np.delete(xtrain, 3, axis=1)\n",
    "xtrain = np.insert(xtrain,0,1,axis = 1)\n",
    "a,b,c,d = np.linalg.lstsq(xtrain, y, rcond=None)\n",
    "print(a)\n",
    "print(b)\n",
    "a = a.reshape(a.shape[0], -1)\n",
    "\n",
    "ar = np.matmul(xtrain , a)\n",
    "print(ar.shape)\n",
    "y = y.reshape(y.shape[0], -1)\n",
    "print(y.shape)\n",
    "\n",
    "x = y - ar\n",
    "x = np.square(x)\n",
    "x = np.sum(x)\n",
    "print(x) ##RSS/MSE\n",
    "RSE = x / xtrain.shape[0]\n",
    "RSE = np.sqrt(RSE)\n",
    "print(RSE)"
   ]
  },
  {
   "cell_type": "code",
   "execution_count": 180,
   "metadata": {},
   "outputs": [
    {
     "name": "stdout",
     "output_type": "stream",
     "text": [
      "[ 1.52380685 -3.10041619 -0.49954944  0.20016408]\n",
      "[536.27736962]\n",
      "(100, 1)\n",
      "(100, 1)\n",
      "536.2773696191174\n",
      "2.3157663302222815\n"
     ]
    }
   ],
   "source": [
    "data = pd.read_csv(\"lin_reg.csv\")\n",
    "data['X_2']=np.power((data['X_2']),2)\n",
    "data['X_3']=np.power((data['X_3']),3)\n",
    "xtrain = data\n",
    "xtrain = xtrain.to_numpy()\n",
    "y = xtrain[:, 3]\n",
    "xtrain = np.delete(xtrain, 3, axis=1)\n",
    "xtrain = np.insert(xtrain,0,1,axis = 1)\n",
    "a,b,c,d = np.linalg.lstsq(xtrain, y, rcond=None)\n",
    "print(a)\n",
    "print(b)\n",
    "a = a.reshape(a.shape[0], -1)\n",
    "\n",
    "ar = np.matmul(xtrain , a)\n",
    "print(ar.shape)\n",
    "y = y.reshape(y.shape[0], -1)\n",
    "print(y.shape)\n",
    "\n",
    "x = y - ar\n",
    "x = np.square(x)\n",
    "x = np.sum(x)\n",
    "print(x) ##RSS/MSE\n",
    "RSE = x / xtrain.shape[0]\n",
    "RSE = np.sqrt(RSE)\n",
    "print(RSE)"
   ]
  },
  {
   "cell_type": "markdown",
   "metadata": {},
   "source": [
    "<!-- END QUESTION -->\n",
    "\n",
    "<!-- BEGIN QUESTION -->\n",
    "\n",
    "## Problem 3: Classifying Apples and Oranges"
   ]
  },
  {
   "cell_type": "markdown",
   "metadata": {},
   "source": [
    "Exercise 12(a)-(d) in Chapter 4 of the Intro to Stat Learning book (https://hastie.su.domains/ISLR2/ISLRv2_website.pdf)."
   ]
  },
  {
   "cell_type": "markdown",
   "metadata": {},
   "source": [
    "(a)\n",
    "log odds = $log\\frac{P(x)}{1-P(x)} = \\hat{\\beta_0} + \\hat{\\beta_1}X$\n",
    "\n",
    "(b) for softmax, \n",
    "log odds = $(\\hat{\\alpha}_{org0} - \\hat{\\alpha}_{app0}) + (\\hat{\\alpha}_{org1} - \\hat{\\alpha}_{app1})X$\n",
    "\n",
    "(c) \n",
    "we can equate the log odds of the logistic regressiona and the softmax function to estimate the coefficients of my friend's model\n",
    "\n",
    "\n",
    "$\\hat{\\beta_0} + \\hat{\\beta_1}X$ = $(\\hat{\\alpha}_{org0} - \\hat{\\alpha}_{app0}) + (\\hat{\\alpha}_{org1} - \\hat{\\alpha}_{app1})X$\n",
    "\n",
    "<=> $2 - x$ = $(\\hat{\\alpha}_{org0} - \\hat{\\alpha}_{app0}) + (\\hat{\\alpha}_{org1} - \\hat{\\alpha}_{app1})X$\n",
    "\n",
    "from the equation we can say that, $(\\hat{\\alpha}_{org0} - \\hat{\\alpha}_{app0})$ = 2 and $(\\hat{\\alpha}_{org1} - \\hat{\\alpha}_{app1})$ = -1. I am not sure if it is possible to be more specific and how.\n",
    "\n",
    "(d)\n",
    "we can equate the log odds of the logistic regressiona and the softmax function to estimate the $\\hat{\\beta_0}$ and\n",
    "$\\hat{\\beta_1}$\n",
    "\n",
    "$\\hat{\\beta_0} + \\hat{\\beta_1}X$ = $(\\hat{\\alpha}_{org0} - \\hat{\\alpha}_{app0}) + (\\hat{\\alpha}_{org1} - \\hat{\\alpha}_{app1})X$\n",
    "\n",
    "<=> $\\hat{\\beta_0} + \\hat{\\beta_1}X$ = $(1.2 - 3) + (-2 - 0.6)X$\n",
    "\n",
    "or, $\\hat{\\beta_0} = -1.8$ and $\\hat{\\beta_1} = -2.6$"
   ]
  },
  {
   "cell_type": "markdown",
   "metadata": {},
   "source": [
    "<!-- END QUESTION -->\n",
    "\n",
    "## Problem 4: Bootstrapping Linear Regression"
   ]
  },
  {
   "cell_type": "markdown",
   "metadata": {},
   "source": [
    "We have seen how to use bootstrapping to estimate the median of the US Family income in the previous homework. This time we are going to apply the same concept, but instead we will estimate the nitric oxides concentration inside houses in Boston. We will use the data from Boston Housing Dataset `housing.csv` for this question. **Specifically in this question you will use bootstrap to make predictions for the nitric oxides concentration based on the index of accessibility to radial highways (column name `RAD`), the proportion of non-retail business acres per town (column name `INDUS`) and the proportion of owner-occupied units built prior to 1940 (column name `AGE`).** \n",
    "\n",
    "You can run the below cell to load the data and visualize the table after selection the columns we want."
   ]
  },
  {
   "cell_type": "code",
   "execution_count": 181,
   "metadata": {},
   "outputs": [
    {
     "data": {
      "text/html": [
       "<div>\n",
       "<style scoped>\n",
       "    .dataframe tbody tr th:only-of-type {\n",
       "        vertical-align: middle;\n",
       "    }\n",
       "\n",
       "    .dataframe tbody tr th {\n",
       "        vertical-align: top;\n",
       "    }\n",
       "\n",
       "    .dataframe thead th {\n",
       "        text-align: right;\n",
       "    }\n",
       "</style>\n",
       "<table border=\"1\" class=\"dataframe\">\n",
       "  <thead>\n",
       "    <tr style=\"text-align: right;\">\n",
       "      <th></th>\n",
       "      <th>NOX</th>\n",
       "      <th>RAD</th>\n",
       "      <th>INDUS</th>\n",
       "      <th>AGE</th>\n",
       "    </tr>\n",
       "  </thead>\n",
       "  <tbody>\n",
       "    <tr>\n",
       "      <th>0</th>\n",
       "      <td>0.538</td>\n",
       "      <td>1</td>\n",
       "      <td>2.31</td>\n",
       "      <td>65.2</td>\n",
       "    </tr>\n",
       "    <tr>\n",
       "      <th>1</th>\n",
       "      <td>0.469</td>\n",
       "      <td>2</td>\n",
       "      <td>7.07</td>\n",
       "      <td>78.9</td>\n",
       "    </tr>\n",
       "    <tr>\n",
       "      <th>2</th>\n",
       "      <td>0.469</td>\n",
       "      <td>2</td>\n",
       "      <td>7.07</td>\n",
       "      <td>61.1</td>\n",
       "    </tr>\n",
       "    <tr>\n",
       "      <th>3</th>\n",
       "      <td>0.458</td>\n",
       "      <td>3</td>\n",
       "      <td>2.18</td>\n",
       "      <td>45.8</td>\n",
       "    </tr>\n",
       "    <tr>\n",
       "      <th>4</th>\n",
       "      <td>0.458</td>\n",
       "      <td>3</td>\n",
       "      <td>2.18</td>\n",
       "      <td>54.2</td>\n",
       "    </tr>\n",
       "    <tr>\n",
       "      <th>...</th>\n",
       "      <td>...</td>\n",
       "      <td>...</td>\n",
       "      <td>...</td>\n",
       "      <td>...</td>\n",
       "    </tr>\n",
       "    <tr>\n",
       "      <th>501</th>\n",
       "      <td>0.573</td>\n",
       "      <td>1</td>\n",
       "      <td>11.93</td>\n",
       "      <td>69.1</td>\n",
       "    </tr>\n",
       "    <tr>\n",
       "      <th>502</th>\n",
       "      <td>0.573</td>\n",
       "      <td>1</td>\n",
       "      <td>11.93</td>\n",
       "      <td>76.7</td>\n",
       "    </tr>\n",
       "    <tr>\n",
       "      <th>503</th>\n",
       "      <td>0.573</td>\n",
       "      <td>1</td>\n",
       "      <td>11.93</td>\n",
       "      <td>91.0</td>\n",
       "    </tr>\n",
       "    <tr>\n",
       "      <th>504</th>\n",
       "      <td>0.573</td>\n",
       "      <td>1</td>\n",
       "      <td>11.93</td>\n",
       "      <td>89.3</td>\n",
       "    </tr>\n",
       "    <tr>\n",
       "      <th>505</th>\n",
       "      <td>0.573</td>\n",
       "      <td>1</td>\n",
       "      <td>11.93</td>\n",
       "      <td>80.8</td>\n",
       "    </tr>\n",
       "  </tbody>\n",
       "</table>\n",
       "<p>506 rows × 4 columns</p>\n",
       "</div>"
      ],
      "text/plain": [
       "       NOX  RAD  INDUS   AGE\n",
       "0    0.538    1   2.31  65.2\n",
       "1    0.469    2   7.07  78.9\n",
       "2    0.469    2   7.07  61.1\n",
       "3    0.458    3   2.18  45.8\n",
       "4    0.458    3   2.18  54.2\n",
       "..     ...  ...    ...   ...\n",
       "501  0.573    1  11.93  69.1\n",
       "502  0.573    1  11.93  76.7\n",
       "503  0.573    1  11.93  91.0\n",
       "504  0.573    1  11.93  89.3\n",
       "505  0.573    1  11.93  80.8\n",
       "\n",
       "[506 rows x 4 columns]"
      ]
     },
     "execution_count": 181,
     "metadata": {},
     "output_type": "execute_result"
    }
   ],
   "source": [
    "data = pd.read_csv(\"housing.csv\", delim_whitespace=True)\n",
    "data = data[[\"NOX\", \"RAD\", \"INDUS\", \"AGE\"]]\n",
    "data"
   ]
  },
  {
   "cell_type": "markdown",
   "metadata": {},
   "source": [
    "Suppose we have the following model for the NOX concentration given the three input variables (**note the squared term for `AGE`**).\n",
    "$$\n",
    "    f(X) = \\beta_0 + \\beta_1 X_{RAD} + \\beta_2 X_{INDUS} + \\beta_3 X_{AGE}^2.\n",
    "$$\n",
    "\n",
    "1. Similar to Problem 2, implement the function `linear_regression()` using `numpy.linalg.lstsq` to compute the coefficients of our linear regression model. Run the cell below the function to output the coefficients of our model."
   ]
  },
  {
   "cell_type": "code",
   "execution_count": 182,
   "metadata": {
    "tags": []
   },
   "outputs": [],
   "source": [
    "def linear_regression(data):\n",
    "    #print(data)\n",
    "    xtrain = data.copy()\n",
    "    xtrain['AGE']=xtrain['AGE']*xtrain['AGE'] #np.power((xtrain['AGE']),2)\n",
    "    \n",
    "    xtrain = xtrain.to_numpy()\n",
    "    \n",
    "    y = xtrain[:, 0]\n",
    "    #print(y)\n",
    "    xtrain = np.delete(xtrain, 0, axis=1)\n",
    "    #xtrain[:, [1, 0]] = xtrain[:, [0, 1]]\n",
    "    \n",
    "    xtrain = np.insert(xtrain,0,1,axis = 1)\n",
    "    #print(xtrain)\n",
    "    a,b,c,d = np.linalg.lstsq(xtrain, y, rcond=None)\n",
    "    #print(a)\n",
    "    #data['AGE'] = np.sqrt(data['AGE'])\n",
    "    return a"
   ]
  },
  {
   "cell_type": "code",
   "execution_count": 183,
   "metadata": {
    "tags": []
   },
   "outputs": [
    {
     "name": "stdout",
     "output_type": "stream",
     "text": [
      "[3.84897306e-01 2.63546889e-03 6.17524345e-03 1.38092107e-05]\n"
     ]
    }
   ],
   "source": [
    "beta = linear_regression(data)\n",
    "print(beta)"
   ]
  },
  {
   "cell_type": "code",
   "execution_count": 184,
   "metadata": {
    "deletable": false,
    "editable": false
   },
   "outputs": [
    {
     "data": {
      "text/html": [
       "<p><strong><pre style='display: inline;'>p4-1</pre></strong> passed!</p>"
      ],
      "text/plain": [
       "p4-1 results: All test cases passed!"
      ]
     },
     "execution_count": 184,
     "metadata": {},
     "output_type": "execute_result"
    }
   ],
   "source": [
    "grader.check(\"p4-1\")"
   ]
  },
  {
   "cell_type": "markdown",
   "metadata": {},
   "source": [
    "The primary purpose of regression is to make predictions for a new data point which is not already part of the original samples, but is drawn from the same distribution. In our case, suppose we want to predict the NOX concentration of a housing unit which was not included in the original data set.\n",
    "\n",
    "Our new housing unit has the following data ([`RAD`, `INDUS`, `AGE`]) : `X = [3, 5.5, 60]`.\n",
    "\n",
    "2. Write a function that predicts the NOX concentration level based on our model. Use this function to output the prediction for the NOX level of our new housing unit, based on the coefficients you have computed in the Part 1."
   ]
  },
  {
   "cell_type": "code",
   "execution_count": 185,
   "metadata": {
    "tags": []
   },
   "outputs": [],
   "source": [
    "def predict(beta, X):\n",
    "    \"\"\"\n",
    "    Parameters\n",
    "    ----------\n",
    "    beta: np.array\n",
    "        beta = np.array([beta_0, beta_1, beta_2, beta_3]). The coeffs of our model.\n",
    "    X: np.array\n",
    "        X = [X]\n",
    "    \n",
    "    Returns\n",
    "    -------\n",
    "    float\n",
    "        Predicted NOX concentration level.\n",
    "    \"\"\"\n",
    "    \n",
    "    '''X = np.insert(X,0,1,axis = 0)\n",
    "    print(X.shape,beta.shape)\n",
    "    beta = beta.T\n",
    "    print(beta)'''\n",
    "    y = beta[0] + beta[2] * X[1] + beta[1] * X[0] + X[2] * X[2] * beta[3]\n",
    "    #print(y)\n",
    "    return y"
   ]
  },
  {
   "cell_type": "code",
   "execution_count": 186,
   "metadata": {
    "tags": []
   },
   "outputs": [
    {
     "data": {
      "text/plain": [
       "Ellipsis"
      ]
     },
     "execution_count": 186,
     "metadata": {},
     "output_type": "execute_result"
    }
   ],
   "source": [
    "..."
   ]
  },
  {
   "cell_type": "code",
   "execution_count": 187,
   "metadata": {
    "deletable": false,
    "editable": false
   },
   "outputs": [
    {
     "data": {
      "text/html": [
       "<p><strong><pre style='display: inline;'>p4-2</pre></strong> passed!</p>"
      ],
      "text/plain": [
       "p4-2 results: All test cases passed!"
      ]
     },
     "execution_count": 187,
     "metadata": {},
     "output_type": "execute_result"
    }
   ],
   "source": [
    "grader.check(\"p4-2\")"
   ]
  },
  {
   "cell_type": "code",
   "execution_count": 188,
   "metadata": {},
   "outputs": [
    {
     "name": "stdout",
     "output_type": "stream",
     "text": [
      "0.47648070977623935\n"
     ]
    }
   ],
   "source": [
    "print(predict(beta,[3, 5.5, 60]))"
   ]
  },
  {
   "cell_type": "markdown",
   "metadata": {},
   "source": [
    "3. We can simulate new samples by randomly sampling with replacement from the original sample, as many times as the original sample size. Write a function that samples with replacement the same number of samples from the original dataframe, and returns a pandas dataframe."
   ]
  },
  {
   "cell_type": "code",
   "execution_count": 189,
   "metadata": {
    "tags": []
   },
   "outputs": [],
   "source": [
    "def bootstrap_sampling(data):\n",
    "    \"\"\"\n",
    "    Parameters\n",
    "    ----------\n",
    "    data: pandas.Dataframe\n",
    "    \n",
    "    Returns\n",
    "    -------\n",
    "    pandas.Dataframe\n",
    "        A resampled data from original data\n",
    "    \"\"\"\n",
    "    \n",
    "    our_sample = data.sample(n=len(data), replace=True)\n",
    "    return our_sample"
   ]
  },
  {
   "cell_type": "code",
   "execution_count": 190,
   "metadata": {
    "deletable": false,
    "editable": false
   },
   "outputs": [
    {
     "data": {
      "text/html": [
       "<p><strong><pre style='display: inline;'>p4-3</pre></strong> passed!</p>"
      ],
      "text/plain": [
       "p4-3 results: All test cases passed!"
      ]
     },
     "execution_count": 190,
     "metadata": {},
     "output_type": "execute_result"
    }
   ],
   "source": [
    "grader.check(\"p4-3\")"
   ]
  },
  {
   "cell_type": "markdown",
   "metadata": {},
   "source": [
    "<!-- BEGIN QUESTION -->\n",
    "\n",
    "As data scientists, we know that had the samples been different, the regression results would have been different too, so would our prediction. To see how good our prediction is, we must get a sense of how variable the prediction can be. This is where bootstrapping comes in handy: **We make many predictions using the bootstrapped model coefficents.**\n",
    "\n",
    "4. Call the your function `bootstrap_sampling()` above to simulate new samples and use `linear_regression()` to get the new coefficients for your new samples, then call your function `predict()` to output the prediction of NOX level for the new housing unit.\n",
    "\n",
    "5. Repeat the steps in Part 4 for $N = 10000$ times, and output a list of boostrapped predictions. Your list should only contain the $N$ outcomes of NOX level of the new housing unit. (Note: This part should take less than a minute to run, if your `bootstrap_sampling()` method is implemented efficiently.)\n",
    "\n",
    "6. Based on the original prediction of $\\bar{x}$ you made in Part 2, plot the variability of bootstrapped predictions against $\\bar{x}$ in a historgramm, i.e. $x - \\bar{x}$. Based on this result, use the empirical bootstrap method to compute a 80% confidence interval for the prediction. (**DO NOT** use the bootstrap percentile method.)\n"
   ]
  },
  {
   "cell_type": "markdown",
   "metadata": {},
   "source": [
    "_Type your answer here, replacing this text._"
   ]
  },
  {
   "cell_type": "code",
   "execution_count": 191,
   "metadata": {
    "tags": []
   },
   "outputs": [
    {
     "name": "stdout",
     "output_type": "stream",
     "text": [
      "[0.47658646826586937, 0.4732695527065364, 0.480331500750964, 0.4718161649787505, 0.4726118341297157, 0.4761681304377218, 0.4716788422230937, 0.478025287534475, 0.47509150536464134, 0.4777638362312885, 0.4736900182508089, 0.47517964260520335, 0.47816051554171984, 0.47742104320781625, 0.47546499300117173, 0.4714213642456879, 0.47430401052647875, 0.47527665685119447, 0.47991095746741175, 0.4751359160114694, 0.4765845218781884, 0.4791442709527295, 0.4797885908334772, 0.4734986124441446, 0.48194304356049117, 0.47452183633344613, 0.4783563007354656, 0.4736488613690252, 0.4817258023559905, 0.47739837924322465, 0.47909641918310264, 0.4733751313545346, 0.47629653815050654, 0.476180352031602, 0.4754274835650649, 0.48147749057646083, 0.47757277952090255, 0.47616111549405127, 0.47546110104652073, 0.47854053909992383, 0.47769738971811526, 0.4764534784261252, 0.47839535393806676, 0.4766818984616271, 0.47711006137371453, 0.4761761018706037, 0.4713330153138285, 0.47666795401929, 0.47165013111306625, 0.4787987173749341, 0.4771380746544557, 0.47756952453970913, 0.4738717925884248, 0.4718684192261949, 0.4728296395568131, 0.4772328167094069, 0.47469207641484706, 0.4727113102280771, 0.4725051033194644, 0.4765649508881426, 0.4742314075363681, 0.4791232235140267, 0.47793576362528534, 0.4782016760661501, 0.4774992832764845, 0.4789884137873504, 0.47587131920958503, 0.4783471844631458, 0.47831274381145017, 0.47849401543473263, 0.4780270933333765, 0.47276489293907825, 0.4745069754756427, 0.4738125211666904, 0.4774793121152246, 0.4756299280785026, 0.47622352549377267, 0.47582942999939315, 0.47565071910330764, 0.4748101730010915, 0.4778729736007442, 0.4812960683132451, 0.47704252236874534, 0.47679232207208283, 0.4782029605681329, 0.4816047031023056, 0.47436057134977533, 0.47485470639498867, 0.47418682637547604, 0.47363095725569093, 0.47438349789491707, 0.4772641186957052, 0.4764732646685168, 0.47697114758732, 0.4760026837840361, 0.4789393615698942, 0.4779190595841658, 0.4765464782981338, 0.4766199058773507, 0.4715836696773695, 0.47350912843001797, 0.47819661340573494, 0.4739530655390528, 0.47809944308966956, 0.47256906351186756, 0.4729494057259146, 0.4738181057973632, 0.47831950452247995, 0.47522937242959945, 0.4777090178273757, 0.4721140517752341, 0.4745633119268711, 0.47673213752452454, 0.4740316301425605, 0.4785605591461072, 0.4790521694566796, 0.4726089766067003, 0.47402846127527576, 0.4770692987761745, 0.4769300917846144, 0.47826363988935516, 0.47896706795399835, 0.4765204322098926, 0.4805795184282009, 0.47895945048668354, 0.4759305463419975, 0.47806691678211766, 0.4843514711544316, 0.47385171331960024, 0.4778464124711224, 0.478532844679378, 0.47645907898442746, 0.4743413271020892, 0.4745600960041176, 0.47633391352166515, 0.4760265072597186, 0.4749789712538648, 0.4770778400590815, 0.47582299982652854, 0.47956828250606803, 0.47844371056822266, 0.4750900877597567, 0.47850598886943, 0.4748545614794556, 0.476372566647724, 0.4742214651747752, 0.4713055063586608, 0.4780887897109024, 0.468691440739363, 0.4748978850958561, 0.4696043268429427, 0.4771890547000701, 0.4776074507902466, 0.4775999787447552, 0.4740844026915122, 0.4766401664576383, 0.47838223808112995, 0.47675202908589215, 0.47028357409605814, 0.47344752455826006, 0.4769396249496915, 0.4742433464696606, 0.4730192418418089, 0.4810383006757574, 0.4791668274875986, 0.4771385952106129, 0.47531050616431847, 0.47782472063056514, 0.4747674355875556, 0.4789443557521015, 0.479704357527377, 0.47376127171587945, 0.4808381220788994, 0.4740086463232962, 0.4802091313065074, 0.47578780726388004, 0.48135306501662845, 0.476605312421167, 0.4783959161363851, 0.47869703778010075, 0.4729398689009746, 0.4779618459043604, 0.4745608617189977, 0.4787343168470909, 0.4791520865006708, 0.47660031158391847, 0.4719226214697957, 0.48292749856513195, 0.4801583475244961, 0.47106392046278056, 0.4797257661237277, 0.4747640005548384, 0.47384095930861053, 0.47698082785836965, 0.4789951990855281, 0.4768281076818257, 0.4771857927742603, 0.4782994923802197, 0.4757759835106652, 0.47616371093286797, 0.4753134153786142, 0.4727267899441501, 0.47734996884494274, 0.4782816694423406, 0.47866251756669187, 0.4728220382358395, 0.4765610010285483, 0.4787775759068532, 0.48060002275344516, 0.47721138439116406, 0.4776209698399356, 0.47520852343222797, 0.4794386250697751, 0.4770176811778264, 0.4767032600253511, 0.4739745760793732, 0.4760740419871067, 0.48045532270758423, 0.4763594623002478, 0.4789649416836373, 0.4793716316620422, 0.47764404682990425, 0.47086295661535343, 0.4789806753665657, 0.47634365806586115, 0.4787966682802868, 0.47945934117617456, 0.4760065250827982, 0.4768552797438487, 0.4756488036753485, 0.4791092102895982, 0.4738128848246568, 0.4734250166213637, 0.47717299377063366, 0.47486344886593834, 0.4750295343336381, 0.4797211544353899, 0.4783736664079443, 0.48195080699523724, 0.4796630276242499, 0.4776238936878038, 0.4760043696988147, 0.4739112157673436, 0.48157147303441133, 0.47506385240463866, 0.470820505447524, 0.47474076040505914, 0.4785081338967614, 0.4765626750814553, 0.475957279045945, 0.4771896690217278, 0.472111343197616, 0.47889947175520475, 0.47503437385619857, 0.4721098700738155, 0.48275514388536733, 0.4751709451473528, 0.480061195024924, 0.47957329188148035, 0.47722505989347824, 0.48002473432495324, 0.48062186943748847, 0.47773911649954826, 0.4744764233683678, 0.47428097554293924, 0.47635303501315723, 0.47712475383612046, 0.4767789942873005, 0.4744462857477251, 0.47787508727053307, 0.4712159503696097, 0.4769421986078528, 0.4756574561413478, 0.47671128931217877, 0.47996192899245604, 0.4772863596038531, 0.47588187448151514, 0.4764729985620772, 0.4718437914035907, 0.47977586205669104, 0.47545465733593506, 0.47726356787110263, 0.4759872001664342, 0.4786358335112865, 0.4777740926860966, 0.4747361307272763, 0.4797787896826457, 0.4797108992146438, 0.47402975797787433, 0.47863234731916826, 0.479901724994059, 0.477552729894084, 0.47730767873974267, 0.4711590161278418, 0.4739227334613909, 0.47634244903935996, 0.47140663410282335, 0.4716610888993916, 0.47424909331403337, 0.47097336674076185, 0.47498522010622646, 0.47851325202149464, 0.4768439074291205, 0.47657352553212673, 0.47908054996268995, 0.4762328983018137, 0.47951406693307896, 0.47903120998570425, 0.47684768294590235, 0.47148630834530797, 0.4737023381508711, 0.4701228909208208, 0.47728651590457494, 0.4823570072687549, 0.4849527429679126, 0.47523535199636474, 0.4766786503813496, 0.47480112063940016, 0.4753443065036337, 0.47818721103497025, 0.4768740849855724, 0.47928165573441966, 0.4765158654118784, 0.47689219707098257, 0.4715204257921179, 0.4723697793395678, 0.4778726186377921, 0.47815335795244207, 0.4798026947184294, 0.4742390873785218, 0.4789753370207132, 0.47469196002478353, 0.4750624942842219, 0.4780960452100699, 0.4777993504936948, 0.4767076539272005, 0.4788377219591212, 0.47833209503811003, 0.4760517521164884, 0.4798325029378394, 0.47743475585765793, 0.4811640255513317, 0.4777526910489609, 0.47263156809923657, 0.4801367189587332, 0.47749181093843995, 0.47852871405926534, 0.47846026295997807, 0.472681141495748, 0.47250094615892146, 0.4770956087011805, 0.4804376220261769, 0.4713879026826476, 0.47814816642135766, 0.47607579127576005, 0.47090210762219736, 0.4746358011402942, 0.4776036983665428, 0.47422922925261446, 0.4753932161853617, 0.48029143179939376, 0.47235130915503837, 0.47629233599149146, 0.47843458211119627, 0.47005780139801345, 0.47958466818935835, 0.4767676332137896, 0.48028178581689057, 0.476909332838216, 0.4715790544855817, 0.4764898609301754, 0.47785269084334986, 0.4781869010703042, 0.4780531682057963, 0.4765896997129375, 0.4737773688240912, 0.4768244819996976, 0.4809636046436283, 0.473589721608164, 0.47294816609180035, 0.477039154155883, 0.47736097096185154, 0.47441820185453576, 0.4782866154531843, 0.4794951041066286, 0.4751297999162842, 0.4787151587232472, 0.4801801292676835, 0.472737225662937, 0.4746923152662782, 0.47925273792362033, 0.4795003725527489, 0.47841981255527494, 0.4758030119467712, 0.4762310132895771, 0.47462151381847284, 0.47785275301416286, 0.47862278928703766, 0.4782859416906334, 0.4759460737957627, 0.47620603955882734, 0.47339443283025584, 0.47449627627456736, 0.4768892219881041, 0.47791317708362774, 0.47482655254320405, 0.47862825013838056, 0.47124986469979274, 0.47953861978898915, 0.47376589625273324, 0.4777840216580031, 0.474711398368617, 0.4780906968200885, 0.47361639857202736, 0.4806541984311653, 0.4801543112975034, 0.47680106379822196, 0.47199392543567925, 0.4767417174185503, 0.47637176344045296, 0.48067286964317635, 0.4719934757303151, 0.47413405064447306, 0.4770504018368213, 0.47855135546100713, 0.4819319909487716, 0.48146851752610026, 0.48426270440752134, 0.4767467845556836, 0.4786934531059996, 0.47718176431448067, 0.4754563586011543, 0.4826318034325851, 0.4755177987854366, 0.480550828647197, 0.47863542576029616, 0.47545185872487017, 0.4687646377315834, 0.4741843274448812, 0.4765528341120626, 0.47483997070262707, 0.47800547331584475, 0.4799054255857545, 0.4781379762212485, 0.47769360680421746, 0.47604248195998666, 0.4752385026265178, 0.48138156146948424, 0.47655155925916476, 0.4780561957634275, 0.47491089859817004, 0.47428396946145795, 0.472896734362222, 0.4762593553733274, 0.4771340230626466, 0.47387736269317793, 0.4783455225572151, 0.4753596950126611, 0.4749614092055043, 0.4793788885899509, 0.48039812149887856, 0.472667738657696, 0.4770567182062378, 0.47708558315391797, 0.47461569251479035, 0.47600102853795356, 0.47771702654890297, 0.47755949068601256, 0.47595172743633796, 0.4730095693652199, 0.4714576330474398, 0.4754056794256641, 0.47371664994136875, 0.4735834975436663, 0.4758908804905547, 0.4767415112567679, 0.47600561931137514, 0.4777287529757863, 0.47650216624132574, 0.4731084457710586, 0.4770035829440201, 0.47620263424645254, 0.48011301703357595, 0.47891795321460506, 0.47447179184946403, 0.47700291601981387, 0.47660623056740026, 0.47475660765301103, 0.4732978760542319, 0.47433925763119966, 0.47832227558472673, 0.4782999508905313, 0.4761362409706168, 0.47966361446701633, 0.476267362221527, 0.47836927493620895, 0.4739344179573059, 0.479713789803476, 0.47232940564827297, 0.4721738808157083, 0.47504492195553144, 0.4763176454319863, 0.4801500859632111, 0.47640802312020075, 0.4742827371741727, 0.4746371139020938, 0.4791179984748423, 0.4752246909163936, 0.47475480239564305, 0.4737515758248, 0.474932825081283, 0.4751215975840618, 0.47235430131354095, 0.4731163117026607, 0.478536639796425, 0.47133153369736036, 0.4757395358358328, 0.47556513251640936, 0.4804810223785285, 0.48057447901993344, 0.4773747283574785, 0.47829862971342707, 0.4771983399853041, 0.47706157193208876, 0.4749014518481418, 0.47792621323509754, 0.4738428793803666, 0.47909160298464265, 0.4773670943049259, 0.4745991790140406, 0.4758945831061151, 0.47258522278125975, 0.4743622339943092, 0.4761197708971779, 0.47839497811494025, 0.47626140280614093, 0.47612903405476176, 0.47481715243285966, 0.47973530226067607, 0.4746947610995381, 0.4795462132822339, 0.47737601637087246, 0.48068680329731006, 0.4765366167877113, 0.48127153227329794, 0.4718537690472363, 0.47314711144114896, 0.4740267946460442, 0.47414737864053924, 0.473118572947203, 0.47349045441316157, 0.47505123106391006, 0.4810929367348796, 0.4768744884816547, 0.4710678384384932, 0.4765169033672628, 0.4813363538273876, 0.47289220025034195, 0.4747147479954414, 0.47602827386263014, 0.4750260458866668, 0.4765158681336517, 0.475566325910146, 0.47882705413091803, 0.47130142556946514, 0.47833619766851526, 0.4854525631718833, 0.47374501101775557, 0.4744960693318611, 0.47520190421601693, 0.47663144658568934, 0.4740837268871946, 0.4730013693634046, 0.4769201306263382, 0.47720680952779676, 0.470309101528271, 0.47730496332665384, 0.4826558610951739, 0.4766897148645462, 0.47733568817231176, 0.47243526001576763, 0.4791922669117015, 0.4744475515132846, 0.4730972423110436, 0.475406068590374, 0.47598464049830036, 0.4784970875303177, 0.47747446127362536, 0.4769501347480178, 0.4749451941028999, 0.47545958002529964, 0.4792321558920147, 0.4782441308942464, 0.4760234801678561, 0.480039076423579, 0.477556422758736, 0.47790536040365106, 0.4725843950549128, 0.4795414602924233, 0.47372668259905715, 0.4735114468899801, 0.4769088814712667, 0.4801364982146415, 0.48270228263490095, 0.4740372776338156, 0.4780389184971363, 0.47693121359363727, 0.474836792772179, 0.47713886314716714, 0.477151969267248, 0.4756128527871559, 0.48320860275023936, 0.473896505537127, 0.4758034950144264, 0.479800975172213, 0.4802732968879421, 0.4733607438051792, 0.4745422533562091, 0.4776076043977664, 0.476511473606969, 0.476853633576698, 0.4751783173764022, 0.4754252657583942, 0.4758048572744406, 0.4727641105863281, 0.4794474129756021, 0.47209451427423454, 0.47700219721962156, 0.4725990949466973, 0.47161415233500664, 0.4759288995977687, 0.4763356959899434, 0.4749039811237111, 0.4765256163677122, 0.47538373905738257, 0.4750769633595323, 0.47590777000152795, 0.48006586837728815, 0.4765127474872853, 0.47646643654193127, 0.47403209775321714, 0.4751829464518891, 0.47567060227805935, 0.47902111079684384, 0.47473306311813007, 0.4706158555055102, 0.4737664312407548, 0.47676454314694144, 0.4753514656011214, 0.4771778322872704, 0.47735278154290606, 0.47441486392460946, 0.4745250286247764, 0.47502330956491867, 0.47889637290621334, 0.47724583772948737, 0.474577895904841, 0.4796760085971275, 0.475552905004597, 0.47108213449180825, 0.4777689965135177, 0.47723056710254524, 0.4737969402124263, 0.4729079775433762, 0.4740009727703227, 0.4748613090008789, 0.47555687482982517, 0.47539359854687474, 0.479654824126726, 0.48101510967140143, 0.4765961583116155, 0.47540736162188024, 0.4766560064059357, 0.4772779341541763, 0.4743631547776546, 0.4709558404679665, 0.4774580845432039, 0.4764144546463856, 0.4768959703836456, 0.4762909252184141, 0.47676075995332645, 0.4752068579990268, 0.4744352513954981, 0.4756000715349604, 0.47933739365601347, 0.47599990330039826, 0.4795416029888907, 0.4747320308226988, 0.47797160676569295, 0.47441841860019784, 0.4696042935242845, 0.47614355652872814, 0.4787164931398453, 0.47953470215696603, 0.476308979229783, 0.4803138236544855, 0.4799702178986034, 0.47267799548705036, 0.47264317401838907, 0.4753592189160703, 0.4761391567418846, 0.47987696217370646, 0.47416762018223363, 0.4799767213445683, 0.47400555858571475, 0.47437906356039644, 0.47319502970173344, 0.47720321118915676, 0.4792260302849198, 0.4781460009687912, 0.4767957598174444, 0.4810022812303751, 0.4820360897706735, 0.47490263768418856, 0.4758005670763378, 0.47663076652703273, 0.4741553257609834, 0.4750872144036151, 0.4783846689388651, 0.4766973061360729, 0.47922278401994267, 0.4774865392054441, 0.47537255290361075, 0.4776142465851157, 0.47555738584511187, 0.4747107196820705, 0.47405516753988386, 0.477296501866842, 0.4760072217654396, 0.4805917816515931, 0.47791820607203317, 0.47805535749825606, 0.47668902399746393, 0.4743274111334426, 0.4803853593797605, 0.47718349597570164, 0.48085985179904217, 0.47457543666077207, 0.4738066536351227, 0.4813374685038562, 0.471329420871461, 0.4720938515285882, 0.47635470143596503, 0.476914727813161, 0.4795218424047711, 0.48145928088967516, 0.4761538116960716, 0.470021281306697, 0.47445720423969423, 0.4755138580557108, 0.47763084896280406, 0.47679487814722077, 0.482087466210381, 0.4762353079130473, 0.47643703030281426, 0.4798059660067301, 0.4789254635300281, 0.4759607845193618, 0.4737409123586515, 0.47591731540276705, 0.4781957699834853, 0.477951523396098, 0.47583949119892505, 0.4782304388437658, 0.47614533554965527, 0.4751742226528252, 0.47740302555224134, 0.47730571974071, 0.4752401038647921, 0.47363600475944395, 0.4731633972804165, 0.47827860030943586, 0.4739465915577166, 0.472165115476989, 0.47615492565579437, 0.47514144025487615, 0.47521853262042135, 0.4757404831902954, 0.47476013150527213, 0.47764286166326914, 0.4767820802955885, 0.47574200912291864, 0.47200934953647417, 0.4764614917182687, 0.47707503391121925, 0.48047643621153563, 0.47265696427151355, 0.4825427826075229, 0.4797993524796684, 0.47117922527138967, 0.47465799145875254, 0.4796994456964778, 0.47909333553085814, 0.4804178305697371, 0.4813260134546463, 0.4818324937556654, 0.4750044544633792, 0.47981268674953936, 0.47398972488682745, 0.47280510375535334, 0.4837354157983957, 0.4712315131772088, 0.48084535055388855, 0.4738665155900681, 0.4745430569585014, 0.4774457259749181, 0.48094482473112515, 0.4762200335466146, 0.4689497227150671, 0.47047046436135825, 0.47554239692229044, 0.4776820932515824, 0.47499634188359674, 0.4763500537128105, 0.47851991976001246, 0.47956669701754395, 0.4756057378542539, 0.4783997721822456, 0.47562810399943517, 0.4804882177422378, 0.48250286179833174, 0.4777173032792765, 0.4727414462473208, 0.4804179887774098, 0.47843807850113124, 0.47537357494755944, 0.4757349109270089, 0.4773256384576454, 0.47368163819248865, 0.480022990511268, 0.47889597400101114, 0.47694114919895325, 0.47529676530827353, 0.4713376191690022, 0.4756378368542553, 0.47682814370297705, 0.4746045565414212, 0.4784241650692329, 0.47408270272925557, 0.4757742369365174, 0.4770200497160233, 0.4735494513684374, 0.47381854283265823, 0.47365982443782434, 0.4763020546122814, 0.46806059059754423, 0.47204341632562086, 0.4760889153119579, 0.4794608743425246, 0.47281279815050087, 0.4729660164094166, 0.47644822254377994, 0.473448754863724, 0.4801862291456023, 0.47674244433338164, 0.4764810771158239, 0.47854123788969266, 0.47506730750732895, 0.4826630730708259, 0.4736510639072655, 0.4796859420316327, 0.47970862359694194, 0.4733614049422037, 0.47698486440549936, 0.47964280966549305, 0.4773730238892572, 0.4784108949452518, 0.47450505189617687, 0.47438621278764004, 0.4751275369965168, 0.4746897601649472, 0.4789165934635466, 0.479314297831914, 0.4753175916685629, 0.48408514751412385, 0.47191770609806116, 0.4713176558546223, 0.4768657436731745, 0.4744987145002339, 0.4784737779571101, 0.4759672784912074, 0.47763715422781616, 0.4762062778566997, 0.4763399163487761, 0.4735747008951814, 0.48000288079751485, 0.4755183283876983, 0.48212691541117353, 0.4753664619975827, 0.4716493483483709, 0.4766282309017388, 0.47887699561084507, 0.4782103488433104, 0.47962738502391367, 0.4814320542363075, 0.47804787147789646, 0.4764465627637793, 0.4751025175773931, 0.47366076000646234, 0.4796857062714347, 0.47368818536748375, 0.47896385477436854, 0.4811680556533579, 0.47802284123910366, 0.4762677160670133, 0.4786562417273729, 0.4788780244087125, 0.48246736699342807, 0.4753127802781968, 0.4785009642125482, 0.47508117352356966, 0.47550475480194543, 0.4736895089392994, 0.4800433197527849, 0.47597003250335324, 0.4760793889149672, 0.47520433998589484, 0.4758420789693378, 0.4797426660581026, 0.4773947530923976, 0.4722171299251761, 0.475855605172215, 0.4745642472753575, 0.4727540570785495, 0.4768506179723315, 0.475821470240661, 0.4751703025590462, 0.4770983863247328, 0.47677507312935336, 0.4764915347693293, 0.4757798648013014, 0.48427380148805727, 0.4783036035327293, 0.4802632207783756, 0.4746533241828459, 0.47551228822002123, 0.478590050800748, 0.47585806695979244, 0.4741369765527069, 0.4769592293612428, 0.4734438654876389, 0.47564769677050384, 0.4751291475252873, 0.4739553331308072, 0.48127877639851135, 0.4737326262849927, 0.47386842210980545, 0.47689145985922293, 0.47538733760897944, 0.48050538662036835, 0.47474463331173977, 0.47711331064890666, 0.4780329187116863, 0.47775139235172936, 0.48127158916907103, 0.4729309261827629, 0.47254399673986147, 0.4704537404113718, 0.46816649412086636, 0.47129111711800503, 0.4797331417194713, 0.4739296858096397, 0.47867403157446964, 0.47551986387405754, 0.4789487708101456, 0.47813392953488487, 0.4765610375089805, 0.47862287499588335, 0.48051382351469474, 0.47427722501783, 0.4783034750562452, 0.4780427746538846, 0.4722783837635707, 0.4783682610089082, 0.47309165963485905, 0.471690293505658, 0.4812601114442598, 0.47448939361536135, 0.4737229770045482, 0.47638246321631206, 0.4746625837476621, 0.47689284678449095, 0.4707166594456156, 0.4752617207246524, 0.47249891328449967, 0.4773258794120982, 0.47655123447938125, 0.47591957911640437, 0.47749455486229625, 0.47564542003839616, 0.4787542511671878, 0.4757773029998708, 0.47897304299710786, 0.4766899154557494, 0.4750622520648794, 0.4751552720324862, 0.475539881660056, 0.4757997485954741, 0.4775904970271613, 0.4739290000025723, 0.4765710674584546, 0.47397835758819984, 0.47571014037654225, 0.47725885864535345, 0.4759583303834534, 0.47354403387347543, 0.47853239105619605, 0.4753761026510564, 0.47333928630126354, 0.4847667734180519, 0.4768380407633855, 0.47523906344835587, 0.47644733327805733, 0.4774943386786318, 0.4771055006310392, 0.47182056936534333, 0.4746363690976333, 0.474149396239665, 0.4793575296271479, 0.4777413420830389, 0.47821596103060127, 0.480535693809234, 0.4802759790307482, 0.47195096374548473, 0.4810183455375409, 0.48290616146587334, 0.4780194543261501, 0.47431531713319336, 0.4749817290932675, 0.47943601040887956, 0.4823246337572262, 0.4763315620268608, 0.4767038320993449, 0.4723096090645686, 0.47594815350404934, 0.4735530232032722, 0.47531930396689687, 0.47198258157647716, 0.47524563067318426, 0.4783164352591199, 0.47980470110354345, 0.47287639686126215, 0.47426069819609185, 0.476394662779899, 0.47577381961864673, 0.4744975960613851, 0.47450494411279387, 0.4756700934838822, 0.47329484203209615, 0.4799101645301007, 0.4720955442214012, 0.47526762760657193, 0.4771649179418283, 0.47799090867748556, 0.480587236495211, 0.4795678816406099, 0.47762289168240957, 0.4740990355333618, 0.4792421989438598, 0.47543172522912536, 0.47559930782178533, 0.4742044833385124, 0.47499099107352527, 0.47711633908032247, 0.4751010527945745, 0.47461791032582834, 0.47506699962407334, 0.475963730933894, 0.4734049345231481, 0.48038037738999273, 0.47652490248109425, 0.4788905144542553, 0.4794781017278026, 0.47831076185774707, 0.4766189705297865, 0.4701609697806352, 0.4716322590179376, 0.47578968490343876, 0.4788492659497361, 0.47919599848914496, 0.47540181212374544, 0.47745336743425054, 0.4734103668771047, 0.47086214737971566, 0.4783714987275669, 0.4726873198135148, 0.4774537047565921, 0.47758077444599417, 0.47856499727031954, 0.4779227315415204, 0.48061719675010117, 0.4827256138722579, 0.47817174640082016, 0.47898634401000667, 0.4780917712517199, 0.4825541112953521, 0.4789466709646413, 0.4789893430748235, 0.47809734604318455, 0.47580066468474136, 0.47991747978428956, 0.4760457840727498, 0.4772356223211214, 0.47796299765397354, 0.478967023375607, 0.4738127600816394, 0.47422704742338156, 0.4778486696374374, 0.47267726200176274, 0.4760457706873392, 0.4736979346857877, 0.4813939319477377, 0.4724705826072455, 0.4740726813226206, 0.4710316442604118, 0.47337652259287233, 0.47574310173439144, 0.47947847120030496, 0.47115083072568226, 0.4772804891794711, 0.4712855957149859, 0.48038697033675537, 0.48052497642185554, 0.4719049537837471, 0.47829936234578674, 0.4751212098942396, 0.4775936570496875, 0.47662388281290086, 0.4748098806811677, 0.4744705723798698, 0.47619511871422426, 0.4760500636744572, 0.4800022029185472, 0.47394074550512305, 0.47956143407472973, 0.4777600844245159, 0.4744852882743532, 0.4851508825455659, 0.47300933255472155, 0.4853151094886627, 0.4738208697576001, 0.4734073548659813, 0.4710089412203716, 0.47951751360895256, 0.4777777541469917, 0.47767316707886637, 0.47683636003798857, 0.4752332426067123, 0.47835823605591765, 0.47570904877684345, 0.4742275842860341, 0.47772496465299946, 0.4804436950374127, 0.47587034005105205, 0.47334631113949865, 0.47013084189786075, 0.4712880236196424, 0.4768337238203515, 0.47824218637947224, 0.48001724545303537, 0.46999259047440384, 0.48096828210647785, 0.47419096384298753, 0.47807279879334375, 0.47758931285904643, 0.47521520053437577, 0.47557473029711167, 0.47358348455054217, 0.47741903057683427, 0.4770990770765602, 0.4768193818576397, 0.4798644528230745, 0.47690540427184175, 0.47221651261238207, 0.4794250552838577, 0.4774702606774167, 0.4732750291148829, 0.4720307528234283, 0.4761682432979835, 0.47840932405177256, 0.47690126493055757, 0.4785036916954013, 0.4746036166343611, 0.47268464523289444, 0.47491897762463753, 0.47704483957602706, 0.47931387411631554, 0.4797750829873624, 0.4784708359550442, 0.4794688664532509, 0.47681246299942665, 0.47631907097289283, 0.47149291029176077, 0.47380110774526774, 0.4785609938665269, 0.4757081616597372, 0.4741171347784015, 0.4779790893686542, 0.4768118092891753, 0.47635694997590317, 0.4785802065262102, 0.4793822236002444, 0.4718467687608626, 0.47817629010154517, 0.48008114696935894, 0.47752876539817096, 0.4711697799283097, 0.4757847806835075, 0.47659213349323937, 0.4749256008544214, 0.47444103284424005, 0.4767974272516986, 0.48005826777867017, 0.4788888411621569, 0.475063161914674, 0.47659723672729326, 0.4731103894010239, 0.47865697023173975, 0.47870947438423134, 0.47128605150896374, 0.47558722384952246, 0.47746227191574586, 0.4737976273116479, 0.4725348857584885, 0.4716705723921552, 0.47801072390388705, 0.47464833526738587, 0.47615057231890745, 0.4734090374911779, 0.47786187804526187, 0.4790631545312506, 0.47761279484561286, 0.4780608508614738, 0.4759444419566536, 0.4767645406943002, 0.475777242897402, 0.47858929861221644, 0.4753810612277768, 0.4738142749193723, 0.4774289617936305, 0.47240356587352705, 0.47788686170803807, 0.4777316667300548, 0.47854129041093196, 0.4776067771728854, 0.4737253533670502, 0.47492757040301126, 0.4764043336239776, 0.47514835739020295, 0.47631770772147886, 0.47222150924358, 0.478525122901113, 0.47608188875757523, 0.47501294349726253, 0.4742318946307788, 0.4729492909306882, 0.4727933647394546, 0.47641360014026507, 0.4780414189890402, 0.47804532807073347, 0.47628245294807187, 0.476709542062625, 0.47620150586372645, 0.4789907910398638, 0.478749907582363, 0.47440398233079645, 0.4813363048376006, 0.47495678549102854, 0.4748723181121752, 0.47927157350444044, 0.47764068639920587, 0.4781340259724443, 0.4748933038488862, 0.47890936578022403, 0.48001402688468797, 0.47136931353837597, 0.471781750182, 0.47821538960142884, 0.47449201408662545, 0.4751430292767462, 0.4752894375997397, 0.47601655244833196, 0.47512600342228467, 0.47616646724979234, 0.47525662477134634, 0.4797255524054683, 0.47016280466624205, 0.47846406851869705, 0.4759539192040044, 0.48262111219374065, 0.4746243175941315, 0.48153977728283026, 0.4736741384574913, 0.4780551238144598, 0.47654942788000454, 0.4749907318586839, 0.4757664954426391, 0.4706684587669009, 0.4788944377132133, 0.47640321842589317, 0.4764090593854716, 0.47477414465685197, 0.47459008725873975, 0.4744459088578491, 0.4747940233456976, 0.4780566094885425, 0.4792643532585504, 0.47870452292265964, 0.4722900229368143, 0.47464285863540384, 0.4752525350145918, 0.48012295948402084, 0.47838050926177056, 0.47749384208930695, 0.47603503476332076, 0.47366095759927523, 0.475147719201953, 0.4776701072252954, 0.4806133927603638, 0.4736732429943292, 0.4769957107803955, 0.4728859495048912, 0.47350352496165715, 0.4761595098817583, 0.4772538901319494, 0.48177566099679847, 0.47477909633349463, 0.4774165928223838, 0.4790841102927512, 0.4788570661079123, 0.480476943826545, 0.4785749247257879, 0.4814482907865618, 0.47649834405336033, 0.47922844351844307, 0.47713940134416377, 0.47916801672128684, 0.4768602324183686, 0.47861246624173753, 0.4786113733212465, 0.47962229863216865, 0.47409345320283774, 0.4771259107758252, 0.47467909975948336, 0.4775156567100429, 0.47605667319964673, 0.47889772547924947, 0.4769209145390719, 0.4735449941680548, 0.4713963178371367, 0.4764929902511599, 0.4762794452054273, 0.47129114349298257, 0.47910735568166773, 0.4748460871486379, 0.47721744217573014, 0.4765015147738924, 0.4765355356583041, 0.47689032907355133, 0.47793632029610483, 0.4746862732783494, 0.4738056336039995, 0.47945341254930735, 0.47762841487745283, 0.4752817474251607, 0.4753388393021335, 0.47547252211508595, 0.4721357018001812, 0.4781453558237048, 0.4725096049119091, 0.48010398555950345, 0.4836682965744959, 0.47322499967974874, 0.47866047809191287, 0.4767245292682712, 0.4784754402021302, 0.4762304707457666, 0.4788172258108647, 0.4757676204818234, 0.479424240870105, 0.47567320080811376, 0.4750868195439379, 0.47590956849200766, 0.4802029304470312, 0.47953683320715235, 0.47694442342324006, 0.4762164425756776, 0.4729824528386513, 0.47161003129578927, 0.4786118932097176, 0.4782138132916855, 0.4720206035082147, 0.47659914656883684, 0.47430997974493305, 0.4777604668614614, 0.4819712925609661, 0.47423048046822236, 0.47863596180491114, 0.47503395116074937, 0.4772402438473861, 0.47390594120912033, 0.47953509470187605, 0.47440499803832015, 0.47902440289671105, 0.47564600328732903, 0.47734034014275584, 0.4768246546281677, 0.4785430161752519, 0.4754008080506129, 0.4729985167491117, 0.4781114858313372, 0.483157748077203, 0.4760271570698942, 0.47709795137903865, 0.4764442197914931, 0.47321267166036024, 0.47845885838920843, 0.4765360103875882, 0.4778140294465939, 0.47500298752476144, 0.47439389915303654, 0.47485294257117255, 0.47457500507641015, 0.4718285724189651, 0.4763892031682828, 0.4784336889225933, 0.4735896081827491, 0.4801877069521865, 0.47139527313407725, 0.47552597170479166, 0.4784176615246723, 0.4804166440829958, 0.4726085780158597, 0.4750172608773318, 0.4765599584407273, 0.4768955804672974, 0.4784279165827382, 0.4751975808601731, 0.48120616494139057, 0.48316527207409776, 0.47972922577976407, 0.47270016743410614, 0.4736276171392969, 0.47921040076982085, 0.4758165806780834, 0.47159497805030876, 0.4791760169398078, 0.4781635248315951, 0.48167767285963553, 0.4789149537237175, 0.4764893719753478, 0.47625609240686745, 0.4740399307476008, 0.4767395807653298, 0.4776366718246866, 0.48149982992804163, 0.47734868618344595, 0.478292766160596, 0.4767228755388044, 0.4742031274593932, 0.4760923140996659, 0.4798896272968655, 0.4766518591022695, 0.47724333291716436, 0.4759460979202354, 0.47831241731953766, 0.47164707287391994, 0.4779348371343975, 0.47528411985084645, 0.4754154455529821, 0.47885428504059047, 0.47357697910077656, 0.4785645024609287, 0.47854508224471876, 0.4780614987015909, 0.47264412112700105, 0.4774257187729914, 0.4756685060490107, 0.4772717640051103, 0.477575981465716, 0.4761287544768604, 0.47548140349364304, 0.47540924626457354, 0.47510434130568846, 0.4742894944892911, 0.47992122657492314, 0.4774056262822735, 0.4738474864636845, 0.474150860159546, 0.4778327693886267, 0.4800856358617201, 0.47658568427320736, 0.47754109719768983, 0.4765353801750967, 0.4758342118648023, 0.4742370077833042, 0.4817608575969566, 0.47898858577070613, 0.4789161921913237, 0.4796593121720639, 0.47179667840233286, 0.4834736993847991, 0.47312388278862383, 0.47285477276330357, 0.4766823237278633, 0.47323243153171274, 0.47288261938737697, 0.4770383599903623, 0.47888427321137245, 0.4771801931139569, 0.47821858618420604, 0.47301929705778634, 0.474171076575578, 0.47637956218113126, 0.48133384414001296, 0.4738181104560687, 0.4746132909047634, 0.4726101784262254, 0.47905484663636866, 0.4776316824215999, 0.47836870451818775, 0.47780218484751924, 0.4783958791213135, 0.47627744030768693, 0.4867663359169664, 0.4778765958425306, 0.47292733365435685, 0.478836130921621, 0.47572430518846626, 0.4805297790979032, 0.4768051447790733, 0.47606004068409524, 0.4791508413118048, 0.4745717591062349, 0.4750539549551589, 0.47932302212728883, 0.47534112208722096, 0.47649511080914786, 0.4817184851913864, 0.4737542460982479, 0.47530048139277253, 0.4789030961565529, 0.47419251860011297, 0.4759791891245585, 0.4774108481070384, 0.4773577051651486, 0.4807108837176223, 0.4733555656191828, 0.48027530877414915, 0.4783108272910281, 0.4744507978995787, 0.47397177461839624, 0.4748210054520353, 0.4796438253302018, 0.4749268828649394, 0.4779312315378963, 0.47991573581109465, 0.481627769420365, 0.48096967549578884, 0.48034512507063837, 0.4735687582040926, 0.4828619364702783, 0.4750019204550993, 0.4777179122521045, 0.47674689919779534, 0.4786766119702429, 0.4704088925960494, 0.47836526528961665, 0.4778692444439577, 0.47723464275896577, 0.4786403550033687, 0.47592548344077823, 0.47205614403153184, 0.47755503620274864, 0.4773001921214198, 0.4789640843743377, 0.4754940356842618, 0.4753690874931543, 0.47560527724347446, 0.47792081446894685, 0.47030646517515673, 0.4784316012763905, 0.4721067956725704, 0.47494392572835886, 0.4782330332315067, 0.47671841788717984, 0.47585284805986877, 0.4758578946732445, 0.4791274755118066, 0.4780837772901505, 0.4775107798518384, 0.47373379581359576, 0.47896301068399394, 0.4741774679864805, 0.4765271017094724, 0.47805046555323916, 0.47523479916320943, 0.4751158668474276, 0.4761322886511241, 0.47699408700777596, 0.4771180085356166, 0.4798288749541366, 0.4777299414092108, 0.4785228924978687, 0.47884873603906836, 0.4741913482610167, 0.4776446135084378, 0.46982371628558883, 0.4763432956960237, 0.4772294801884686, 0.47840034798281844, 0.476786833694403, 0.4764754225055207, 0.47351831940973665, 0.4762061277251608, 0.4746196841903664, 0.4736257530918256, 0.47845101756747493, 0.4796623213105648, 0.476816052603313, 0.4786187307678009, 0.4794387877465328, 0.4760256389689932, 0.47426982949543056, 0.47504830970551887, 0.47369985658524827, 0.4772058482730401, 0.4772928104423632, 0.4766064119500671, 0.47562114224123053, 0.4754223415489829, 0.4773833754119774, 0.47769508430810326, 0.4728682207458052, 0.4781724633807839, 0.4718523453661271, 0.47420399365126564, 0.4796848577773033, 0.47622514852879194, 0.4754997439952297, 0.47801697230455614, 0.47698193982681125, 0.4741811346492181, 0.4824427306760265, 0.4802735701765236, 0.4767744904354798, 0.4742121286650663, 0.47563604536494586, 0.4788651681943788, 0.4766374751977776, 0.48127059204022576, 0.47387316500856186, 0.4790356265517226, 0.47574120320128077, 0.4791490734033268, 0.4801146987088526, 0.4758035833271821, 0.47300192166358734, 0.4772658598892794, 0.4753070419793489, 0.4754713121463205, 0.47063170094897294, 0.4752405569468692, 0.47602742661944275, 0.47182796160743057, 0.47613929009365663, 0.47990894394788297, 0.47368519201280945, 0.4769262630929537, 0.4763860193144671, 0.47760028580523106, 0.47365745920171587, 0.4720366613052253, 0.47573452666296906, 0.47426148930673906, 0.47567606942453855, 0.475335442247227, 0.47598733151006095, 0.47416237722223487, 0.47473432844797436, 0.48465913857411774, 0.4774092774876499, 0.4737738416522827, 0.47521019211945176, 0.48028347698891527, 0.47567553220641084, 0.47850023644562295, 0.4788780466517384, 0.47402498784413133, 0.47163999757555475, 0.47643230967597433, 0.4776268708107062, 0.47811107312093826, 0.478539728067458, 0.478306246862089, 0.47188723786301995, 0.4699831176933536, 0.476186626558278, 0.47837116257924045, 0.47626155741092807, 0.47518151581962875, 0.4712498794432425, 0.47674854649850873, 0.481137549505839, 0.47609307588820454, 0.4759066844022992, 0.47481913077008653, 0.47949302319394405, 0.4748844246372931, 0.4771030236468006, 0.4763159438491428, 0.4778293894357826, 0.4773157592346068, 0.47596507533220467, 0.47371998102782414, 0.4742272375407806, 0.47569902773442707, 0.4734761578697131, 0.4772470935005663, 0.4758297510039328, 0.47430045436872326, 0.4742696387164817, 0.4800575732387778, 0.4806497280187938, 0.47560188319077445, 0.4787748370000633, 0.4715611365904131, 0.47662568266512945, 0.47781541627186896, 0.48315957860937564, 0.4745776430268719, 0.48201830852942273, 0.4790356378489974, 0.47076617361180884, 0.4756776278081086, 0.4752437896388207, 0.47892354284349703, 0.4748538120722583, 0.4803473976450265, 0.4773196658628005, 0.4770607938246045, 0.47628525180268716, 0.47464938615546837, 0.47426041924951845, 0.4706299839222066, 0.47717869186575035, 0.4797915581987661, 0.47495381022921473, 0.47986526011311276, 0.4750835774122768, 0.47596992656076537, 0.47711474536421716, 0.4752096103326393, 0.47790216255850687, 0.4743263673464299, 0.4721349023086749, 0.47642942228907814, 0.48049012043146655, 0.47758699748526245, 0.47384048078277285, 0.47947674826548914, 0.47552386701953003, 0.4737093264009255, 0.4781083943542701, 0.47999770196804187, 0.4774758316076149, 0.474519494245487, 0.478508772799318, 0.4755319344746533, 0.4748217193697606, 0.48147552820668127, 0.4775788211738159, 0.47410988125049836, 0.47917406128983947, 0.474822582977323, 0.4776892270347255, 0.47917848600302726, 0.476491275145089, 0.4736619798052429, 0.478139989695089, 0.47627519684044584, 0.473459490934142, 0.48542371085409275, 0.4777929121660675, 0.47515025287594553, 0.47544698211698466, 0.47549986955269363, 0.4742830503662638, 0.47447819048686973, 0.47966270936355887, 0.47987960859969486, 0.47590560598383724, 0.4759980327497385, 0.4769478122216829, 0.4721975980147423, 0.4768491610079014, 0.4759997176207061, 0.4773503973250607, 0.47814889691260365, 0.47352011786038656, 0.4739704744553559, 0.4776829876697053, 0.48035502184935686, 0.4801614357483578, 0.47551895797285065, 0.47686535017604337, 0.4705227110761645, 0.47632253345339814, 0.4763395621855758, 0.4746077402779046, 0.4782762675875313, 0.47069101829624066, 0.4764772019354931, 0.470167050267832, 0.4753329659094351, 0.47518938138437045, 0.47712794583415774, 0.4741186956023267, 0.4776365986488594, 0.47508313804014984, 0.4737004789522423, 0.47684024827281285, 0.4781734474599803, 0.47402139549099986, 0.47691212572936437, 0.4776614177285624, 0.4791031890562044, 0.47408243722163346, 0.4797447645724136, 0.47790011267586413, 0.4785101760325723, 0.4788358390545754, 0.47344842632217476, 0.4756563389660843, 0.479016787343343, 0.47613668230169426, 0.47445884570327, 0.4742236370055395, 0.4742153365167435, 0.4816135473525754, 0.4840988935252824, 0.4823177545556992, 0.47626731991708154, 0.4790754918404755, 0.4765102810807183, 0.4799294441959466, 0.4781787792732818, 0.47967325728091886, 0.47625285864154104, 0.4771997628854587, 0.47391686196442145, 0.47936257922585135, 0.47461233800342406, 0.479566858565331, 0.47836518552968216, 0.48071510003623336, 0.47835768070063855, 0.47363443320393483, 0.4798298595972199, 0.47758711959673367, 0.4802205532850026, 0.474073288150397, 0.4755935942793734, 0.4745265946832606, 0.4734606953950981, 0.4726855317452491, 0.4785809786497895, 0.4773974142622863, 0.47637811283825177, 0.4738287091943136, 0.4723105732156819, 0.4813609844937705, 0.4757438791095515, 0.4797303727500804, 0.4745019752833492, 0.47393848025165075, 0.4758661364714937, 0.4764249590137755, 0.4704108315614488, 0.47452905563429365, 0.47306486881454946, 0.47789647352354564, 0.4771061644210635, 0.47734898730315467, 0.47543796847187153, 0.47440502676911706, 0.474066652426042, 0.479903982408208, 0.4743621366834522, 0.4746084975300379, 0.47250340458122525, 0.48142620925685453, 0.4814995926549969, 0.4789787964583242, 0.4827177790559264, 0.4787050220065582, 0.47416827982204596, 0.4748345300614451, 0.4791904517145944, 0.479373906654493, 0.4770507477491271, 0.4801290341334844, 0.47406649512798216, 0.47551951358338984, 0.4762558063311288, 0.4748749832452804, 0.47317088759434445, 0.47921721025692987, 0.47849086901581467, 0.4760810590550996, 0.47365126688597237, 0.4777950192168078, 0.4710398714890709, 0.4704486525130907, 0.4771712383231603, 0.477096498660239, 0.4731249994429627, 0.4715509206565917, 0.47817959533469445, 0.47264780258473504, 0.4759631577690687, 0.4771221902001914, 0.47531507920934163, 0.4757461873545015, 0.477937093140199, 0.47562713115674604, 0.4720149411092017, 0.4778318427106729, 0.47847417122011504, 0.47490301357899745, 0.474899890485514, 0.4801092859865711, 0.47894899845048294, 0.4759436156888363, 0.48205383849034683, 0.46977257653334104, 0.4805016854093179, 0.4759432126475508, 0.47516804151417025, 0.4746718615917506, 0.47609017879731974, 0.4812862461543982, 0.4753034030271423, 0.4757401973764834, 0.47506424718932416, 0.4804035781459674, 0.4711794883413431, 0.47973902210005004, 0.4828065878964719, 0.4801799796706354, 0.4718947865134072, 0.47674496433729247, 0.4775245502627788, 0.47826031228775484, 0.4778152936493508, 0.48171762047993366, 0.4757782452026176, 0.4775820918722503, 0.4751409299815011, 0.4782303697791692, 0.4809125917648563, 0.47967129878168835, 0.4760703519326776, 0.4790619503942259, 0.4817310579692913, 0.4751394353821432, 0.47530675904573316, 0.47843108545246443, 0.47654580185477186, 0.4789438024651769, 0.47530825540777416, 0.4766618665494661, 0.47402608494701576, 0.4739383296985323, 0.4790407911150858, 0.47939659058724615, 0.4718001327976592, 0.47748947187848306, 0.47278980676484367, 0.4745350332055441, 0.47302741845782237, 0.4761223570062919, 0.4769515540472222, 0.47919637830466555, 0.4731486111505194, 0.48208976700572903, 0.47461814926890666, 0.48127041821068867, 0.4741548810997921, 0.4753407180476137, 0.4779288615525534, 0.47802845340691813, 0.47872764693943487, 0.47248214796356464, 0.47810715049496305, 0.4821116798977677, 0.47798100823075707, 0.4779382964167019, 0.477560663753086, 0.4733108798899536, 0.4748536423169513, 0.47774409936897966, 0.475995455305841, 0.4758902498259116, 0.4732411815781561, 0.4797918532307219, 0.48127884467523335, 0.47680515590629646, 0.4735361613238343, 0.4745710817284954, 0.4784532538148878, 0.47653244862613414, 0.4774976082504998, 0.48254286266585283, 0.47507259687562525, 0.4757963283162064, 0.47325042395526534, 0.47380118897725154, 0.47902200169782316, 0.47070387066817454, 0.4773286316477335, 0.4725950383326855, 0.4770780458858669, 0.4775854241344244, 0.47828889145826886, 0.47768590289932994, 0.4779542670493313, 0.4795729401391031, 0.47816944681001566, 0.47539068727043954, 0.47353591182287336, 0.47224189472776684, 0.4756594121532394, 0.47849486988803475, 0.4784080063858817, 0.4777078602070995, 0.4823802699675633, 0.4790221606159891, 0.48022721575076704, 0.4728265679387901, 0.4800866491779435, 0.4800972320734876, 0.47344295317384943, 0.4736934088968064, 0.4759016295900721, 0.47552739403384164, 0.4711609886888211, 0.47498703535955383, 0.4794289831375158, 0.47332640345296534, 0.47527057746884926, 0.47871253336658054, 0.47422873009283023, 0.4722653534996091, 0.47540644348030103, 0.4808045311267916, 0.47415148620243397, 0.47635865003243916, 0.4737886224392086, 0.47422528170684075, 0.4773640003554901, 0.4811966420488268, 0.47750695676350413, 0.47895696782732683, 0.47425547720803396, 0.47962116424727635, 0.4779692537722141, 0.47666290192043054, 0.4761187695101602, 0.4751654567906436, 0.4800823325266252, 0.4746477739275893, 0.4816932097184951, 0.47621492117113257, 0.4744298599710505, 0.4736246869070148, 0.476904723820792, 0.4713465030200331, 0.47178906553362265, 0.47417232144850197, 0.4748543389130638, 0.47753508473678913, 0.473527882552258, 0.4776246369209157, 0.4782843855143405, 0.47747986298862904, 0.4751297054946011, 0.47411833834507805, 0.4832493744293395, 0.48013438292997856, 0.4814829020752648, 0.4764010292049596, 0.47898513033071966, 0.47281890847160307, 0.4769102056267754, 0.47706176764361763, 0.4767858821808112, 0.4734628076823136, 0.4790711920521933, 0.4776401311267062, 0.4764302505318437, 0.48171003933429235, 0.4757919581970953, 0.4755464742806276, 0.47384156692990914, 0.4744474409365659, 0.47629650473421964, 0.47220013191910676, 0.47709914079471366, 0.4735476964910295, 0.47575740669718103, 0.4746910527772645, 0.480667490908587, 0.4783523521168824, 0.47698897573596555, 0.4731459681634711, 0.4784527539558574, 0.47994790859679753, 0.47443370557614295, 0.47717435245504847, 0.47291992566010926, 0.4746183741605219, 0.4761539129983839, 0.4788048615314925, 0.47679095142470374, 0.4778019935194725, 0.4758304028989886, 0.4728288389051328, 0.4739457100217071, 0.4735848961358433, 0.4736598244897048, 0.4773926335170626, 0.47759222546767505, 0.474540497325187, 0.4731326843715973, 0.47477864098809736, 0.47665417326161713, 0.47933529642492306, 0.48084753325779633, 0.47475082465438595, 0.4742003532900685, 0.48031545329294684, 0.4762858658285892, 0.4775717829949235, 0.4766658163925296, 0.4744923238754904, 0.474920728683313, 0.47696951912514135, 0.47143754277776073, 0.47720133033405304, 0.4741065112744523, 0.4749095396324867, 0.4768557118328976, 0.47626587818677457, 0.47793436362338626, 0.47902990734119705, 0.47726566550676786, 0.4763780196565079, 0.4778418042927824, 0.4760534645365069, 0.4783205549250661, 0.4756210931110384, 0.4790803026580553, 0.47057608011252694, 0.4752796841230639, 0.47590765654272793, 0.47723267150722576, 0.47642284515198224, 0.4748410283241873, 0.47902462520510697, 0.47484781359303413, 0.47254323832837725, 0.47521921826879715, 0.4766899277693598, 0.4738346903455948, 0.4819738783342715, 0.4727904682995094, 0.475734187114281, 0.47912242230264024, 0.47275200838542536, 0.47326170535772527, 0.47815566708568985, 0.4716046081701973, 0.48088123263426474, 0.47391954740536213, 0.47472528914924755, 0.48068250314183375, 0.4778605300018847, 0.4797778828964901, 0.47760303696304324, 0.47751623183089187, 0.47709182260413674, 0.4731119421998098, 0.47711412679353893, 0.47446757747128376, 0.4811032828468324, 0.47413722785228263, 0.4762270269841984, 0.47486413016189, 0.47698745984135177, 0.47996179167536546, 0.4790451954057524, 0.47898331288098606, 0.4749726864172166, 0.4771451037699416, 0.4747678723174684, 0.47593606729027854, 0.4797475379221667, 0.47199971244641425, 0.4717033416373229, 0.4755306160355489, 0.48092573815730966, 0.4746921700233687, 0.4709272587155431, 0.48058105413322777, 0.4746665015978041, 0.47523248366409754, 0.4767353803639218, 0.47707088690194854, 0.4770902757879301, 0.47786852841271066, 0.47219925349290565, 0.4784346298804697, 0.47988917046714324, 0.4751292875687888, 0.4731199249241436, 0.47858664713727983, 0.4765611188521838, 0.4779079279743415, 0.4788408812527898, 0.4795480290902465, 0.47923116302224206, 0.474772391374873, 0.47558103460108175, 0.47604499176431453, 0.4747562843681933, 0.47522339536360064, 0.4812875431738277, 0.47058437777808654, 0.4735919712645523, 0.4795914012995524, 0.47958469830503314, 0.4706966454975787, 0.47689798585642423, 0.4759445121084471, 0.47620450006070114, 0.4751247917535689, 0.4855764462581198, 0.48153542302277097, 0.4759466934084928, 0.4757952145516058, 0.4786347617474114, 0.4731689592975671, 0.47551763427118154, 0.47522451070519295, 0.4780228024163992, 0.4719948921682853, 0.47476713669775517, 0.47462178693921464, 0.4779849576612584, 0.47708557478367647, 0.4804005754773631, 0.474341282987379, 0.4784661650299829, 0.47847784521895165, 0.4792474453442803, 0.47820077814472917, 0.4762626084421485, 0.4768441644452416, 0.47400917451724894, 0.47613322473303926, 0.47881529713044224, 0.4747947245298556, 0.47287851069072145, 0.4784841224123817, 0.4783359156879225, 0.4751978306239008, 0.47323450566815534, 0.47569993448566117, 0.47982550900241805, 0.479905170042809, 0.47321039980316937, 0.48070057995319854, 0.48312048107070527, 0.4756423731921978, 0.47410698195539913, 0.47273880036366384, 0.47741899416473876, 0.474397398183576, 0.47460603372454124, 0.4783667781290001, 0.4747700168669982, 0.4770471965655019, 0.4784631437729156, 0.4758709081519552, 0.47337874076399183, 0.47878307552320615, 0.47915815985431653, 0.47312256587645274, 0.4748995392347858, 0.4772622565688277, 0.47949874707918105, 0.47886958229599697, 0.47378222977020873, 0.4771368701024583, 0.48081203451288546, 0.4742252944564642, 0.47305466852087275, 0.4756032223166578, 0.475188831195002, 0.4779756757757519, 0.4750473914738078, 0.47741693272465835, 0.4771804973201364, 0.47269272443820615, 0.4770900228350782, 0.4774592948558046, 0.48482814964087134, 0.47844051207872745, 0.47463869132631864, 0.4814006177628117, 0.4766289677522313, 0.47787198958510274, 0.4711795580718033, 0.4832054326488322, 0.4764241451856729, 0.4721447482708921, 0.4776621612592551, 0.4737651969073826, 0.47036279743871534, 0.4759163093067524, 0.4757545717032571, 0.4740836468824001, 0.47471357715655077, 0.474149049145327, 0.475533209879784, 0.4756033297191399, 0.4779629868466876, 0.47724720208538035, 0.4780404006134491, 0.4730858756347017, 0.47495222550911403, 0.47422267763940523, 0.4711651385689617, 0.47891907034311454, 0.4766271362906308, 0.4750092449460445, 0.4791875536294538, 0.4710458907333658, 0.4785338406743023, 0.4795511202698805, 0.4774396273440294, 0.47461777334670985, 0.4745502793901442, 0.4721596259724787, 0.4789031930803388, 0.47556572743964065, 0.4787686547819991, 0.47910652192198694, 0.47887958083911225, 0.4747337706900322, 0.48050621721454645, 0.47767342712001476, 0.48045014105511785, 0.47684866006940185, 0.4776842479931211, 0.48148891648089814, 0.4808408383187044, 0.4797426702506744, 0.4772489087641471, 0.48180461220278537, 0.47543022736974305, 0.47697306345846385, 0.4714451524500473, 0.47548994599678995, 0.47942904416731397, 0.4777683591538011, 0.4753886968491086, 0.47590314775421955, 0.476499238900732, 0.47594570897008964, 0.47511054713177087, 0.4778495324099073, 0.47743790508913575, 0.4724201700874541, 0.47696678413739063, 0.4802703190585532, 0.4786444205671552, 0.4732929684015542, 0.4782692699901308, 0.47715305249629114, 0.4728541899111027, 0.47915637477017553, 0.47415464434208776, 0.47685769422074403, 0.47847958081662123, 0.47556905805438654, 0.47800798164422337, 0.4751712801858554, 0.47494094867599745, 0.4749118280928807, 0.47767897911691903, 0.47607552193740355, 0.4771304215592009, 0.47645700558821413, 0.4748867034299374, 0.47671954804136085, 0.47551968866476013, 0.4753701740688756, 0.4754782211487845, 0.4779566728591414, 0.47980650944964637, 0.4804300634587259, 0.4762371550602429, 0.4790289185682277, 0.47557643921492165, 0.4762662712777063, 0.4839522804268801, 0.47909443810514557, 0.4766119724985076, 0.48442396184656683, 0.47281679701514223, 0.4784026590656279, 0.48004036670345784, 0.4784149513217394, 0.4770078542008299, 0.4795162616844578, 0.4746172634527485, 0.47825663115143136, 0.4712972434488539, 0.47251521746323033, 0.47748804914795356, 0.4772691953203054, 0.4739502024148367, 0.479289906625371, 0.4779283276329778, 0.47533719197673013, 0.4730689095688377, 0.4796286318036713, 0.4754887028741117, 0.47631140344809214, 0.4739506731881955, 0.47482477550308144, 0.4752743920298613, 0.4819925731840422, 0.4822505229491179, 0.4797380601305243, 0.4805585194095259, 0.47742693857036317, 0.4772074784245567, 0.4768702360180924, 0.4776782994662992, 0.47261169149572696, 0.4755654247583332, 0.47478629584637966, 0.476456737863074, 0.4765314432473253, 0.47791296421372587, 0.4763443144931937, 0.47508980085694297, 0.47982947578160595, 0.47487729495927744, 0.4743776296044462, 0.48083674513701125, 0.4771254645517029, 0.4766560416511148, 0.47409582506455716, 0.4762311590661388, 0.4778506642478344, 0.47771180634391935, 0.47288032007125336, 0.47584369921475866, 0.4720312271255488, 0.4767531135344013, 0.4751912263196519, 0.4756903474369574, 0.47400441541390953, 0.4730930767381485, 0.4726278614276988, 0.4748982036935258, 0.4750378970370627, 0.4769945022276088, 0.48486539805001844, 0.47155987399271576, 0.4773964295785631, 0.4764636990688829, 0.475753886192654, 0.47670572689448765, 0.47985179165812986, 0.47261098994718964, 0.4781230718091082, 0.4786404141595179, 0.47408681762253146, 0.4751753221514621, 0.47348118663211247, 0.47849844744206765, 0.47706949136870686, 0.4764187570018057, 0.4799057194265737, 0.4800793162258492, 0.47845685152345085, 0.4806898033138929, 0.48007596245606454, 0.4742964714051965, 0.4784909482780218, 0.46996189099514923, 0.47810726503728423, 0.4814044256826776, 0.4745760249706117, 0.47671014630579217, 0.47923268032846394, 0.4778597995626997, 0.47562404434478683, 0.4746450561037315, 0.47334086419693155, 0.4750430355713408, 0.47207127883185407, 0.47431120863970966, 0.47323987610795004, 0.4753322175678366, 0.472860064016374, 0.4759159405292969, 0.4779416859722398, 0.4719845547058189, 0.4740981594734797, 0.47755721346749685, 0.47714893236331163, 0.4739829587172523, 0.4789953626096595, 0.48182488844178606, 0.47949312284463197, 0.47137285261461814, 0.4748606086718031, 0.4733625348298365, 0.4718785716031699, 0.47739047451104666, 0.47310907417555237, 0.4758851029135232, 0.4752471166030949, 0.4760226750500626, 0.4737639051835871, 0.4747554014189476, 0.4761466279897906, 0.4746513408270612, 0.47391409071018087, 0.47686360076382045, 0.47725750284881807, 0.477190180463102, 0.47829848484081144, 0.47828174591205186, 0.4734352917996714, 0.4770078464683524, 0.4703976083347493, 0.4793530924530289, 0.4775109743435068, 0.4760231594603783, 0.47549411169189804, 0.4731681568915422, 0.48011801325635456, 0.47612660293331166, 0.47601195332152074, 0.4748263924383876, 0.4776272370333317, 0.47687606124108917, 0.4826551019034959, 0.47612087192766867, 0.47717368550752526, 0.4774047553636107, 0.4771122461181234, 0.4758626262153391, 0.4756878299295888, 0.47308912633606126, 0.47635777382331046, 0.47700648014223274, 0.47791094232474146, 0.4812299324984524, 0.4798163828391193, 0.4757625983400095, 0.4757955488132549, 0.4775764190578596, 0.4796155598231172, 0.478346841315646, 0.47553586017816873, 0.47700106718881474, 0.48048576231952755, 0.47541432577097487, 0.4766139829420729, 0.48209963337729234, 0.4782380721277593, 0.46950429022070417, 0.47698289604741556, 0.47677447322068794, 0.478613216925041, 0.47551085818810934, 0.4781168329822642, 0.47647900147275074, 0.4833033441067903, 0.47766307947490455, 0.47938317440465833, 0.4710402637802041, 0.4772106527220188, 0.4767237815750101, 0.47970302770926737, 0.4835942478427822, 0.472949392734389, 0.47493058600425025, 0.47407120794862084, 0.4756693701848094, 0.473058225707132, 0.48093440530800086, 0.47503086879506873, 0.47839183709463334, 0.4752923646139841, 0.4779425081585775, 0.47436463016236585, 0.47397038692111015, 0.47937435372741666, 0.48236236365969054, 0.475242277714958, 0.4767730758111223, 0.47819370750897566, 0.4768700661866099, 0.47765494947680853, 0.47458472397821, 0.47565842824333093, 0.48145773419934434, 0.47495705223415585, 0.4754358004952688, 0.47606199007046673, 0.47817647106602035, 0.4798672668680883, 0.4717415192433882, 0.4751102861912754, 0.4761298095787426, 0.47914541936902266, 0.47620842244742034, 0.47657555915259237, 0.47518479676867326, 0.4770055680872106, 0.47137096624654523, 0.48274099811737076, 0.4825294641940102, 0.47414604776908176, 0.4753520771658995, 0.4732930223220609, 0.47820762922470594, 0.47715205470112765, 0.4738161580787404, 0.47410635224205677, 0.47317007299118, 0.4792706576345243, 0.47672807701258657, 0.4760438902746879, 0.4768853344711481, 0.4770481397032514, 0.4762257449507801, 0.4679910204082542, 0.4782193639206418, 0.47837289403574657, 0.47935048391328805, 0.4720742459389333, 0.47688472743712823, 0.47480275732264543, 0.47967368259064774, 0.477258752383371, 0.47649304932529657, 0.4722606635625868, 0.4762354423103336, 0.4740063984115054, 0.47913089438907874, 0.4794812635497418, 0.47452784015241756, 0.4725008292711446, 0.48330723207893683, 0.47235636223279703, 0.4766103074124609, 0.4760210995754966, 0.47193142131651067, 0.4784198263115232, 0.4801980722930825, 0.4752961387566995, 0.47917889648555384, 0.4754878747232463, 0.47544527483959764, 0.47760476021429177, 0.4777911263050402, 0.474057797808245, 0.47718263812046885, 0.4763426351042954, 0.47970537207590513, 0.472282024627612, 0.4784496359271896, 0.47564721938307397, 0.4739875588116906, 0.47614738320062755, 0.47403873627602855, 0.4734273293807334, 0.4732933741499972, 0.4790537612445229, 0.47388897918644673, 0.4728776262904941, 0.47507252782424686, 0.4787381722110466, 0.476923354682212, 0.480058061955439, 0.47462549570580254, 0.4794332893334493, 0.4800535648938741, 0.47471145354783467, 0.4760460200811032, 0.47678839158065545, 0.47476950428627346, 0.4778565215288084, 0.47228895256786385, 0.47547066715168457, 0.475623962133144, 0.47955391336494047, 0.4727746898021788, 0.47708816047610403, 0.47861389465218007, 0.48017516833005736, 0.47597874971089843, 0.4781174876580042, 0.47629987408386243, 0.47725935692698107, 0.48071638042695924, 0.47699451954862127, 0.47201031265565696, 0.4828093250062338, 0.47389028874400485, 0.477572409172587, 0.4761633243191695, 0.47603707871531525, 0.4733097113881312, 0.4772047552985059, 0.47373083608291844, 0.4782067154328357, 0.47708604696726065, 0.47608859713643087, 0.4798980478904059, 0.4752468715050492, 0.47726975391077286, 0.47580011622693424, 0.4772980294220004, 0.47299938423088456, 0.4759046384598341, 0.4753520524529194, 0.4765380117398864, 0.482237821705196, 0.4801905513278374, 0.4732436618795884, 0.4748902811845724, 0.4754471230530612, 0.4750810749947034, 0.4788826414292815, 0.4754714330420979, 0.47836667098616836, 0.47995578439783426, 0.4773277267394493, 0.47739945569414466, 0.48054750392120066, 0.47252218341524443, 0.47807026138965675, 0.47670557966677896, 0.47716861103449915, 0.4758342385785737, 0.47631356472041286, 0.47570096818962826, 0.4760668575668936, 0.4728898299937867, 0.47600934192059313, 0.4767717786933269, 0.4767060253760796, 0.47884430894828234, 0.47679371434573564, 0.4769461995379289, 0.4764550785841145, 0.4711721649511302, 0.4772443713772412, 0.4729885063002263, 0.47340480485296643, 0.4749966452318066, 0.47351026231440024, 0.47598258234289437, 0.47639529255710156, 0.4708794212158216, 0.4742031848616769, 0.47484824028360056, 0.47474463773264014, 0.4740340714552087, 0.475922239712628, 0.4803020528617698, 0.47311049923411463, 0.47568034264311587, 0.477060537075259, 0.47431756003271847, 0.4756851131711006, 0.4784332949173146, 0.4789924248841489, 0.47602186541959723, 0.4742453594773778, 0.4766026964123588, 0.47904515736093994, 0.4745506188019221, 0.47717707160512546, 0.4767371182130773, 0.4794604706514369, 0.4760534350233318, 0.473042960369446, 0.4793743484916824, 0.4761369903008034, 0.4742033258763808, 0.4779224979324951, 0.4784972916853889, 0.47530269758784693, 0.4796693887693492, 0.4811569623138392, 0.4738366359602847, 0.474842856673717, 0.47795178631352603, 0.4746000216780724, 0.4781814044457102, 0.4752518936654373, 0.4761537030770168, 0.4752568189169623, 0.47830506389880123, 0.47070880639423374, 0.47960335698069845, 0.4777891724092431, 0.4758530656151619, 0.4760110325216269, 0.4786266447816594, 0.47570358277294655, 0.47751995780492534, 0.4746766324514992, 0.4778975363782214, 0.47727111407638956, 0.4753161258239931, 0.4786988014360997, 0.4749310796567812, 0.4799085457108165, 0.4782254072058126, 0.47800576149860136, 0.4769102917881191, 0.479439556517836, 0.48520225886115, 0.4773267871775338, 0.47822991393472375, 0.47581371754448154, 0.4750011723576753, 0.47900208301366776, 0.4803728301129914, 0.4796917868754907, 0.47976280871955956, 0.4739245000374085, 0.47342415893068124, 0.47780045110030755, 0.478515238544048, 0.4764040444769714, 0.47467997862438516, 0.47094788644273494, 0.4764612411225184, 0.4783813649218151, 0.4799941876886823, 0.47558009748922925, 0.4688877058905234, 0.474602415001823, 0.47666061931259995, 0.4769556656778018, 0.48124602939092287, 0.4742501654914558, 0.4753919021409754, 0.47331456033048475, 0.47141964717319923, 0.47458116894576524, 0.4751134253030683, 0.47445980053074555, 0.4759791671189347, 0.4776904827218135, 0.470288485035015, 0.4767406343504229, 0.4743786270778375, 0.47823095075196326, 0.47713118959224116, 0.4808008418556859, 0.4727608571543709, 0.4815264910921991, 0.4752250367476749, 0.47338724999104753, 0.4754754162207934, 0.47531649508762425, 0.477365817557078, 0.4747950652108384, 0.4748649981181943, 0.48152358796824707, 0.47832174576060604, 0.4753868806391551, 0.4749413540257017, 0.4767331220261177, 0.4740877075199314, 0.47742149053468397, 0.47618612147463646, 0.47867949722530934, 0.47412007472105905, 0.4768283367435784, 0.475207572252739, 0.47354165284319805, 0.4760328345664041, 0.4815504478275413, 0.47790279700333566, 0.4791218713396742, 0.4786503050703067, 0.4747814439075248, 0.4724634012768374, 0.47139793925078244, 0.47575052565709824, 0.4767471400654505, 0.47693645467629875, 0.473455135944915, 0.47130403174917007, 0.4762251887668832, 0.47445703697895786, 0.47104343874766674, 0.47595677094134786, 0.4753226868820554, 0.48459810416667454, 0.4818985778895386, 0.47834726605552697, 0.4755627537372489, 0.47664135992222634, 0.4739745136188004, 0.4786079751620789, 0.47518171007296856, 0.47930252778038396, 0.475043985727807, 0.475326528717684, 0.4748443686252552, 0.47631036238222196, 0.47846166794376566, 0.47458125649681543, 0.47601814959863264, 0.4782530599090051, 0.47470006188642266, 0.479249001576148, 0.47881631250664114, 0.4778014204081683, 0.47876726222566696, 0.4739454223288388, 0.47134987179855625, 0.47462360783475077, 0.47390108842299816, 0.4738659860542277, 0.48251340056075875, 0.4749816465682193, 0.4760783843783041, 0.4694181329322054, 0.475358589538098, 0.47711510079157865, 0.47381605945693284, 0.4778940757033057, 0.4789524490915384, 0.4732505864350355, 0.4748169228924749, 0.474711104305231, 0.4758080149637696, 0.4785587065101896, 0.4780512427071546, 0.48080391121262794, 0.47828557685383827, 0.47305672535081794, 0.4797635310419611, 0.4776009258551772, 0.4781163979383366, 0.47891400462887884, 0.47691352371400886, 0.4813041373799259, 0.4799905687580574, 0.47693094723218815, 0.47848660535293097, 0.476830688471749, 0.4833362117868392, 0.47400535035166014, 0.47427407753571793, 0.47385959171217795, 0.4789107031118306, 0.4737482711570736, 0.48261530907522554, 0.47728758719791925, 0.4773293253575038, 0.47555389353969607, 0.4753737889626237, 0.4735588531508462, 0.4759803623949927, 0.4765698354108701, 0.4761404134355148, 0.4765894995528658, 0.4744090881868266, 0.4763351105027038, 0.47819697726812327, 0.48133164398581346, 0.47390234874988474, 0.47610794266037904, 0.4790648435693939, 0.47600155822026513, 0.4766779346156701, 0.477083574654054, 0.4789834935160289, 0.4830165010092811, 0.4743238117687946, 0.4774820760064647, 0.4729211019432305, 0.47484496272524684, 0.47439645596929014, 0.4796749397387407, 0.4766752232943033, 0.4785316112860219, 0.47430089857000735, 0.4779235664439247, 0.47595703998945976, 0.47574663715514887, 0.4733707646174906, 0.47433598484315725, 0.4742051979701468, 0.4758784919177287, 0.4750662881910079, 0.4763494791954682, 0.4796599012201129, 0.479355907384512, 0.47360282464079595, 0.4749729506187736, 0.48253293245499895, 0.47128497276002795, 0.4813609533141912, 0.4763189684150799, 0.47649754132617383, 0.47595530306740796, 0.475786173019444, 0.4770399066001218, 0.47474907964210283, 0.47373850293501707, 0.47718765984608486, 0.47274101815168745, 0.47487591933940787, 0.4809044664094579, 0.4740457022293495, 0.4798079832757999, 0.4796690416986518, 0.4736079770569152, 0.47534935799189826, 0.4715184089909951, 0.4749773825773448, 0.4748009491691985, 0.4710035716748991, 0.47685873877329793, 0.47408572824863177, 0.48172388276235345, 0.4740001503090181, 0.4717591885581251, 0.47405198384290015, 0.4805824379023193, 0.4756669210583128, 0.47463700918830376, 0.47566949768644645, 0.4738177517030861, 0.4772561447974122, 0.47961610425019624, 0.4742082948837052, 0.4736741042255533, 0.4741297022187398, 0.47726393823230717, 0.4778728117063073, 0.47453161996657056, 0.4770115637833325, 0.4755594669098472, 0.47682967144538363, 0.4750588380256145, 0.47813411724785565, 0.4742653773874105, 0.47522554187732663, 0.4769600050092214, 0.47224272159961517, 0.4820795093340204, 0.47729449441440536, 0.47389968504238944, 0.4766401599874379, 0.4777142095025178, 0.4808164270499005, 0.4785592444292078, 0.48025318826767277, 0.4760709815555844, 0.473711666523053, 0.470943198551528, 0.4760898986244595, 0.47866388215954003, 0.47491488904702617, 0.4753506350104308, 0.47945498283201465, 0.47710373257003413, 0.47957518692072765, 0.4777750333143863, 0.47648579687222237, 0.47698240692937455, 0.4804925916685853, 0.4727610707491393, 0.4797365960994576, 0.477508497241906, 0.4759545321271036, 0.47603465089807834, 0.4804608263314297, 0.47446829986705724, 0.4781178894079321, 0.4775921070439175, 0.476688947934873, 0.48165593132703544, 0.47199444290362713, 0.47718471816707475, 0.4770826385694676, 0.4792650355509992, 0.47874516488534946, 0.47749574888731555, 0.47231276198247635, 0.47501770137853655, 0.47566999610231964, 0.47449885833575045, 0.47172059624071044, 0.4741902949217806, 0.47439859941729445, 0.47943456817629104, 0.48022033790878627, 0.4771128048787334, 0.4755290387394816, 0.4742542973242609, 0.47798454106623184, 0.4738874014601537, 0.47488465926779533, 0.477408627417812, 0.4799811113271312, 0.47486436247746283, 0.47759069968366064, 0.473895222002015, 0.4725759851435485, 0.4798275217116183, 0.47907809068634266, 0.4817494550630441, 0.4800127270418878, 0.4741832111534845, 0.47937870554050444, 0.47342081070632736, 0.47540694659211935, 0.4778641956062479, 0.4770912737554939, 0.47724366430474296, 0.4771158786520353, 0.4842352792857493, 0.4739712904001059, 0.47629211020335155, 0.4769080363045121, 0.4682029278847147, 0.4772669276806327, 0.4750788982601961, 0.47345909547835086, 0.4778283120368719, 0.47925538785364585, 0.4764941029675141, 0.47314115293888, 0.4769693918378037, 0.4783610702931812, 0.47502241181052623, 0.4753716297050389, 0.4772220878887662, 0.4752752089240758, 0.47730836461077597, 0.4812207573936924, 0.47525647432222273, 0.47316633614280856, 0.4767412745331013, 0.47412964260222235, 0.47487888176214, 0.4756428923200721, 0.47623683435516084, 0.47395695122717296, 0.476009674800348, 0.47153340509054803, 0.4767020674232966, 0.47271048756842615, 0.4777685015372998, 0.47738578739658777, 0.47937116819269243, 0.48118401267870553, 0.4757762412045417, 0.4760952440991909, 0.4738899890333957, 0.4773462747571475, 0.47684519930413755, 0.4741896520307848, 0.47491540256096365, 0.4740878976451826, 0.4817674075048553, 0.4730164634843098, 0.4752206635445983, 0.48099295720013946, 0.48050462163142266, 0.47791723411450854, 0.47885859859079005, 0.47695214052920937, 0.4770955584876743, 0.4759123618602238, 0.476022253184873, 0.48144556037559055, 0.4786742486317652, 0.47965372018705116, 0.4795625099149738, 0.4736012855158025, 0.47623425043894674, 0.47227501564393914, 0.47849573676099233, 0.4763695747178913, 0.4807910511027432, 0.47388666548630004, 0.4777023463327591, 0.47491558917639204, 0.47672572099996363, 0.4740096382640262, 0.47897009617065267, 0.4743633261959646, 0.4786064446496107, 0.47386037015614285, 0.4782726556627432, 0.47477103943196175, 0.47980803101333863, 0.47405973435948806, 0.477741119110864, 0.4735778823509854, 0.475845895084909, 0.48072274717734803, 0.47903107911658305, 0.4759351300279992, 0.4747579522054278, 0.47411103065477395, 0.4780158390965999, 0.4761682868832551, 0.4781776008054592, 0.4778651728138901, 0.4744481858616658, 0.4763479568534638, 0.4720040793460458, 0.4775332924676977, 0.4798369884880238, 0.4793445470179625, 0.47828218472516715, 0.4763089298315231, 0.48015471367707957, 0.4727087889048445, 0.4776820426571948, 0.476105985262835, 0.4742963058396049, 0.4769835253292368, 0.479471567852856, 0.47728929047670743, 0.47757848370545186, 0.4767721714234603, 0.47124187124648503, 0.4745385206247482, 0.47477180895328863, 0.47387410011487824, 0.48285149440447944, 0.47537468612668926, 0.4732026649835344, 0.4808428632454645, 0.47779448705221006, 0.47904076257093536, 0.4758336758590424, 0.47224035880223625, 0.4718763279591016, 0.4720505610829255, 0.47521748985345896, 0.47645371315140284, 0.4802938139611968, 0.47653669008214017, 0.4748887129505345, 0.47724707531777283, 0.47717211664612597, 0.47772219566790775, 0.4794233231454486, 0.4780121314374982, 0.47710294385360397, 0.475193276957799, 0.4717927796025648, 0.4767547025065621, 0.4751724853609275, 0.47446877556463735, 0.4738221205024949, 0.47596537022199, 0.477519432251639, 0.4744347195112236, 0.47493766302809937, 0.4737815221357556, 0.4802766492464855, 0.47833453839873935, 0.4733187688106595, 0.47605690348204793, 0.47549634786067446, 0.4755638923133689, 0.47602541186267944, 0.4761545216277759, 0.4797037085580961, 0.47573262004374783, 0.46734816305185667, 0.47357893927287753, 0.4759604083868808, 0.4773145887030674, 0.4756186009180887, 0.47606105184100905, 0.47317987732692607, 0.4749536830529314, 0.47165298427274255, 0.4745602722895583, 0.4796559999516582, 0.47679826640221545, 0.48320293813994386, 0.47544058253053645, 0.47481449476141535, 0.47826679328804445, 0.47705507188835206, 0.47373971540536497, 0.47292927162182136, 0.4737328653414051, 0.4781376288243074, 0.4821265769168623, 0.47852035752305594, 0.4816465888602023, 0.4762596304825501, 0.46987440782795725, 0.47769683303358806, 0.4762935582380209, 0.47485657870859804, 0.47874487128102533, 0.47703216848295704, 0.472095815768931, 0.4765529183753264, 0.4755673629562561, 0.47386314590363904, 0.47511923511352666, 0.46928077952175223, 0.4762391253304394, 0.4744221671882498, 0.4790025598749784, 0.4737548104258782, 0.4707089332749785, 0.4796494708203287, 0.4742224891849711, 0.4750597739286163, 0.4763495578506073, 0.47846889601159437, 0.47338269376497244, 0.4737463273375274, 0.47702756471459307, 0.473962265823468, 0.4739254228677182, 0.47447148907954256, 0.4747867902078933, 0.47647213964920065, 0.4800336780228451, 0.47572744795704347, 0.4739565500051263, 0.47606185282016716, 0.48109751266784984, 0.4722954246005598, 0.4797885583806867, 0.47723563874160746, 0.4745449695632296, 0.4766989223840245, 0.47644414056441203, 0.4774595760167379, 0.4795036525996925, 0.4773088962477579, 0.47512491397430423, 0.47840280935399776, 0.47892161179292914, 0.4762314855581758, 0.47957183367264444, 0.47973458875705166, 0.4818327659534701, 0.4739527066675734, 0.4776040138821006, 0.47660074119857204, 0.4762425027261275, 0.4709874119437706, 0.47599797433821056, 0.4762221334899942, 0.47624408675616203, 0.4750949878810971, 0.4727597842792353, 0.47494228512644165, 0.47865745463615567, 0.4765784290558658, 0.48011042168968804, 0.47475108888716355, 0.4715690369980221, 0.4776420203468995, 0.47773015960242615, 0.476700557941302, 0.4749969917868447, 0.4767385872233501, 0.47872764934751005, 0.47801322559733506, 0.47609563959280665, 0.4782983471346919, 0.47468826500764716, 0.480708557876027, 0.47618041010391, 0.4761391785020091, 0.48152145591922, 0.47528163210831637, 0.4791781142558469, 0.47410397919828795, 0.4731976085901151, 0.4768803743921866, 0.47730543658651714, 0.4767770995379199, 0.4725553641925171, 0.4748811133832144, 0.47743944341011435, 0.4755321504607271, 0.480587847451123, 0.4756756668096792, 0.4735541696952763, 0.47642306980091126, 0.47844956583204223, 0.47834164213495145, 0.4789159058563152, 0.4727833091792606, 0.4717870875169199, 0.47773516249500964, 0.4769675449813101, 0.4805068340287169, 0.47821160848934324, 0.47043660429385203, 0.4725711521095505, 0.47594075156011423, 0.47371795791203003, 0.47479804880125165, 0.47684169434411394, 0.4766847150739431, 0.4768400117403047, 0.4745691944720376, 0.4764754326066311, 0.4740188015014475, 0.47865126273507436, 0.47419073004030804, 0.47904650864200904, 0.4771977115121089, 0.4767158616413936, 0.47434779327542387, 0.4791584447835912, 0.4757373971478376, 0.48165945196517357, 0.4784852222748791, 0.47738803544114267, 0.47204458644226244, 0.4761725012082354, 0.4792552650533835, 0.4804163559417747, 0.4805808021517091, 0.4753460694888113, 0.476175536438054, 0.4818043770668029, 0.4758037533133521, 0.4762898864013132, 0.47628711021228365, 0.4744635529917233, 0.4801823842032543, 0.48282594733198936, 0.47951254641134977, 0.4762876939981461, 0.47695039223879176, 0.4755116999359493, 0.47470687247606036, 0.47821526552022564, 0.47197789022722564, 0.47373630452338605, 0.47463358923853294, 0.4806969164798849, 0.47513888611195954, 0.4768690681356488, 0.4803911815196477, 0.47424293522305494, 0.4772533639785506, 0.47713050683139624, 0.4773530924297457, 0.4777077568549637, 0.4753258413918686, 0.4741748676306239, 0.47267830240050207, 0.4713103061142821, 0.47058532696376537, 0.4779531609343075, 0.47345020174436997, 0.47871142238448444, 0.4746715035803087, 0.4749684883385145, 0.4785647959688925, 0.4758245837442671, 0.47654276447240745, 0.4755086162042404, 0.4742359168719507, 0.47672116261395897, 0.4762971359395685, 0.47423703824709085, 0.4751560858099524, 0.47882796526557797, 0.47715811504904626, 0.47582604725732663, 0.47354791383660744, 0.4784468687773634, 0.4765562769561722, 0.4790891226081704, 0.47347746526510415, 0.47816573450329264, 0.4783632218933535, 0.47765173522213117, 0.473659809189645, 0.47755548102131656, 0.4730838589340143, 0.47840773990820895, 0.47635640770001214, 0.47078508742078573, 0.4722547708533674, 0.47765548449831385, 0.4692804147076131, 0.47618536061705524, 0.47510471649840735, 0.47752117639133174, 0.47678718673929726, 0.4812330306657495, 0.47246392663914916, 0.4779243118700494, 0.4785992494248148, 0.4750864129048461, 0.4723275903480942, 0.47752176422473763, 0.47663360164173335, 0.47671114273364773, 0.47872930444149336, 0.4742167308439882, 0.4779552490058695, 0.47657286434395163, 0.4779797246528409, 0.48026319335336276, 0.4754548248128999, 0.4745441366732786, 0.47785733653967377, 0.4770470464965183, 0.4753109372935649, 0.47334310482020997, 0.4793078926702677, 0.47778261793065474, 0.47864572723744697, 0.47983738078150573, 0.47516677603871393, 0.4763516360356562, 0.484872005990373, 0.47656405955879355, 0.476411228630478, 0.4768369779639856, 0.4752507045140146, 0.47047144474720687, 0.47645697169480117, 0.4734198719453667, 0.4728744881446111, 0.47964762673458616, 0.477340394165479, 0.4745861156785059, 0.47546576286064673, 0.47697084810276125, 0.4745361474150287, 0.47760182553721253, 0.47901065803878334, 0.4740853689469184, 0.4738389108036546, 0.4741588733855133, 0.4788408703999766, 0.47578098158766946, 0.475685610297709, 0.47676602856283384, 0.4776579660117208, 0.4763730113263286, 0.47912583337083325, 0.47490733187058326, 0.4760139618273204, 0.4831286771104421, 0.47143452927691576, 0.4794338498232648, 0.4740130818292278, 0.4752214867807957, 0.4775212597252168, 0.48043932724558097, 0.47223128624541666, 0.47421719170918775, 0.4809897934582801, 0.47814204756382706, 0.47405575026317864, 0.4764761084483622, 0.47722477428663246, 0.47871387184007413, 0.4743032156055554, 0.47922627698279724, 0.4738308253351661, 0.4724473535926078, 0.47847408574667083, 0.473420069588718, 0.4739603367002418, 0.473123377096486, 0.4805135694700632, 0.46974046566068944, 0.47841474026217495, 0.47859823863020945, 0.4823705845699612, 0.4791081053701692, 0.4791731086385149, 0.4730387563147986, 0.47061579179485064, 0.4789473374703145, 0.47630637443281765, 0.47208129686525646, 0.4745808919839227, 0.4816524420736023, 0.47511590169061935, 0.475615722761781, 0.47529566979769083, 0.47432016647684383, 0.47488264450635054, 0.4735577520860241, 0.47831395067294447, 0.4778495264083171, 0.4739534094772155, 0.47769002122970355, 0.4747818464259517, 0.473572908712864, 0.47429345226947306, 0.47597554988110874, 0.4762776599929846, 0.4755734276490913, 0.4784033958347331, 0.473910423067412, 0.48115458856542026, 0.47488678123299577, 0.4789726865030004, 0.47302957747607677, 0.4758393972200806, 0.47589721367209753, 0.4804847960807358, 0.47841643582225535, 0.4730112345932838, 0.4777228625413464, 0.4724632406941969, 0.47815109518780075, 0.47621614489785397, 0.4754732403539312, 0.4792088342605886, 0.47353238033721073, 0.480924347330195, 0.4744737970283085, 0.4731270022667378, 0.47670931144987483, 0.4809971299339648, 0.47019533959687465, 0.47051257896452975, 0.4791407239707478, 0.4790308690881596, 0.47558620066486135, 0.48059917963876825, 0.47652261100842513, 0.47420987593735353, 0.4786782902562987, 0.4805252905259059, 0.4721783963837788, 0.47334092082417734, 0.47644984262425677, 0.47337952676852035, 0.47899219571279744, 0.47897931939273464, 0.4767123033873145, 0.47712397313959004, 0.48008800008853697, 0.47889432882982846, 0.4760671011914266, 0.4729035107400379, 0.473209035014501, 0.4737492430070095, 0.47279842877423484, 0.4792194472723061, 0.4771285047209784, 0.4757007269282419, 0.4736911048792359, 0.48046311065455233, 0.47220167419550685, 0.47557726149984014, 0.47838594754479336, 0.47560136618452875, 0.4763816878187599, 0.4762393752089776, 0.47401310735712254, 0.47504299793230587, 0.4741658684732676, 0.4735378020668603, 0.47761282527603843, 0.4752809874762836, 0.4747809198088687, 0.47704198711930196, 0.4771624270190582, 0.47602011372584085, 0.47231764919179053, 0.47715000869001456, 0.4795920434982845, 0.47168162203326425, 0.47678362431220883, 0.4719458431411371, 0.47603079781428187, 0.47305574720179333, 0.4732177653052048, 0.476950779951293, 0.47749556933716636, 0.47814058749139043, 0.47513440826978337, 0.4756468068569565, 0.4780751428719372, 0.4770723649793414, 0.47918472737650547, 0.47486888087332924, 0.47449172260889333, 0.47289296139489645, 0.4762763595725578, 0.4767721017040769, 0.47495570897285905, 0.4721446487393019, 0.476829361249698, 0.48128063472262667, 0.47487196315568225, 0.4711065519918122, 0.47743785204061023, 0.478088833233487, 0.4737405193274737, 0.4787638457765516, 0.47367710278874425, 0.47592116961516157, 0.47578466707212397, 0.4732781079117736, 0.4810934613235355, 0.47513834572498903, 0.4712241056123213, 0.47599419736207604, 0.4725283211206442, 0.4766924884791431, 0.4763552857152719, 0.47591983980635655, 0.47481945413115606, 0.47186465470540795, 0.4751502878803884, 0.47794011370802614, 0.47673612231328644, 0.47708416770406203, 0.4797330707151793, 0.47776960326884527, 0.4753004303471003, 0.4770832535293949, 0.47278389872277005, 0.47443329354823527, 0.4774219897856163, 0.47524029598133477, 0.4751459467650688, 0.47240503738532524, 0.4764018228894365, 0.47464638547156895, 0.48009079805712274, 0.4776865745549808, 0.48364565596017817, 0.4773010994376941, 0.4747552782353485, 0.4794455394430288, 0.47757140616981825, 0.47560845516198413, 0.47387303776398165, 0.4785470701494636, 0.47590515713601483, 0.47637425537364686, 0.4788721494843943, 0.4787800228125239, 0.47572262970528933, 0.473948988009141, 0.476685268038199, 0.47788340890232106, 0.47866344274215544, 0.4778358565725949, 0.47827461207151634, 0.47981555813185583, 0.4733533777972926, 0.47664425027233626, 0.47954640447862873, 0.4728858864862765, 0.47943913002919086, 0.47852727492517333, 0.4720985292133149, 0.4787437611579597, 0.4805889613062616, 0.4764634737932283, 0.4822841478166389, 0.472490775748828, 0.4743155920312868, 0.4747900543420103, 0.4774972474974107, 0.4786933337334377, 0.4737096003800459, 0.47500341957709635, 0.47761795015371333, 0.4772407487205197, 0.47673238602198376, 0.4744545836246376, 0.47657525305599635, 0.4747039613613973, 0.4817202937964962, 0.47624397323976264, 0.47766921753914715, 0.47365811122851564, 0.47306218032845715, 0.47595486745781806, 0.4737021792573605, 0.477435894402961, 0.47380888920519754, 0.47884559708597296, 0.477506489436389, 0.47488127898788035, 0.4759498242643537, 0.4731081735246505, 0.4764848443775767, 0.4780616995825613, 0.47492558212008495, 0.47365072057667174, 0.4825898298705596, 0.4766757037780361, 0.4826474451005216, 0.4787828106043397, 0.4737585047215357, 0.4777491712484557, 0.4731448952893834, 0.4719623053356836, 0.4759748100575537, 0.47360465286872894, 0.4763062326292224, 0.4809964495349591, 0.4758682540961444, 0.477186162230912, 0.48131602515916194, 0.4734930948270221, 0.4771818182128786, 0.47638333056491333, 0.47421028973935636, 0.47823414466884145, 0.4760088496415576, 0.47666266737876495, 0.47893658750207796, 0.4749191556974575, 0.4778064103125853, 0.4786018580099388, 0.4800129025210058, 0.47771677263360746, 0.4760231953841868, 0.4794128543553792, 0.4736494835258638, 0.47712100367590216, 0.47392513346097265, 0.4803312221113673, 0.4760737566838208, 0.47743134928514463, 0.4798907410474148, 0.47241072250145166, 0.48005434383024154, 0.4815327567269506, 0.4777224041094459, 0.47392441354296694, 0.4845534902939735, 0.4765456414834818, 0.47507143522159956, 0.47757000201816946, 0.4792944923999161, 0.4738369088502208, 0.4773762534273873, 0.47765861179140545, 0.4717758319592518, 0.4741746418252548, 0.4777928355807133, 0.47634608854175786, 0.476545304526527, 0.4776451500988016, 0.4784933980182892, 0.4764049216870542, 0.48330662049009926, 0.4769117518309562, 0.4778811295509083, 0.47157867627604255, 0.4803773754149958, 0.479817193002227, 0.4741940507014986, 0.48066631035154794, 0.47522276612767417, 0.47830170887886436, 0.4725337119501365, 0.4754420782853683, 0.4759981511763868, 0.4796146553663692, 0.47585072911723336, 0.4786646012593669, 0.47943240390409986, 0.47898355619346933, 0.4780343250627708, 0.47334253459157183, 0.47579554464280704, 0.475648842837843, 0.4785949324498152, 0.4742604935404741, 0.4761424864061622, 0.47997441559701876, 0.479272159596243, 0.47372758427786577, 0.47911672502144365, 0.47800126110604446, 0.474821670464906, 0.4732780910271339, 0.47762166267302764, 0.47950007587997867, 0.4774630047143121, 0.4789078614745688, 0.4772965054861674, 0.4779053055089502, 0.47305167137915244, 0.4788905437958569, 0.4786422237926829, 0.4740110883456462, 0.4772730231640377, 0.47872345408890943, 0.47684648286497, 0.47532799238415874, 0.47649456459778583, 0.4788007548160799, 0.47830167326700596, 0.4743338672353326, 0.4743280204548707, 0.47792591147226055, 0.4788692767092059, 0.47888758274343357, 0.4780136583718765, 0.47628252529608794, 0.47664005783173385, 0.4772730473393844, 0.474640239442596, 0.4775500053770395, 0.47898339582481736, 0.47527050687259953, 0.47565457465096295, 0.4763817995578036, 0.4786123046852561, 0.48090805688897315, 0.47410690259470517, 0.47655809480251077, 0.47743316500517846, 0.479405178245525, 0.4763598291955097, 0.4833945459037417, 0.47573702145477553, 0.47880298593336384, 0.4744280282865736, 0.4778547799355327, 0.4742892022046299, 0.4783483891111779, 0.4721381408477703, 0.4790353076103171, 0.470142983350343, 0.482890355871555, 0.4753521624434954, 0.4758596835316309, 0.47541207894409615, 0.47834491205053536, 0.476218465740464, 0.47940494012346113, 0.4771074706181598, 0.47650644189492347, 0.47706697449769997, 0.4781233294856044, 0.47157889979667333, 0.4715832387074724, 0.475123140221843, 0.4786382122868922, 0.4780028170463685, 0.4764405823030234, 0.48092941062489786, 0.475755165262139, 0.4784974071936303, 0.4728031219999644, 0.47434994872328523, 0.47574977042715827, 0.4789034610264986, 0.47578887788208235, 0.4779821999522163, 0.4773892473303506, 0.4755422267365866, 0.4719310737584401, 0.48200628405460055, 0.47503065818799584, 0.4713992495978003, 0.47913092370559096, 0.475923120849046, 0.47135182261862646, 0.4783870492567885, 0.4764516637271726, 0.47898439201507637, 0.47818877840771923, 0.47526982598169365, 0.47357990929281285, 0.4756994883082953, 0.4738877403804328, 0.4745193548750883, 0.4774074423527241, 0.47578485545021226, 0.4709403908066761, 0.47582816976856196, 0.47303350535230243, 0.47077705171508427, 0.47846351297368234, 0.4783864934747038, 0.4768281458499804, 0.4721147142929185, 0.4766369983881221, 0.4732175969220515, 0.4743324326351638, 0.47603258495530815, 0.4735885199239742, 0.47268716834682983, 0.4746988574454637, 0.47796460715699274, 0.4754870618087408, 0.4781470914633212, 0.4744116521429369, 0.4775580693365574, 0.475012676738747, 0.48290651353990743, 0.4730559280537817, 0.4724395498529844, 0.47535983762679923, 0.4831327156682238, 0.4813499142313858, 0.47536317287079766, 0.47662231692185414, 0.4754348574597319, 0.4792752560979659, 0.47626620932630526, 0.48013203459157383, 0.4791464254815695, 0.47728462130009425, 0.47843329123757755, 0.48055115719465225, 0.47747416235109597, 0.4777242832642633, 0.4726889846815573, 0.47445814798578756, 0.4797319346522471, 0.4743744855554136, 0.4793664084124726, 0.4714824625057321, 0.48284289094281574, 0.4785743956020843, 0.47499728748537434, 0.47791944829247607, 0.48204724436025237, 0.4807436811479454, 0.48000277011883474, 0.4789660363878242, 0.47696196271892666, 0.4788573285993094, 0.4764276068232293, 0.4782936605921517, 0.47776552473142075, 0.47502292964666226, 0.4766206347578369, 0.47665564556793844, 0.47910444450298606, 0.4775937008628668, 0.4791441601608206, 0.4711973131315958, 0.4779433879086573, 0.472597396659896, 0.47773660169860943, 0.4725441153982084, 0.473793817213227, 0.473531318522637, 0.48312238725499834, 0.4740620934851633, 0.4841393539952089, 0.47960855643990846, 0.47328610229488727, 0.47678158995564723, 0.47471835366739534, 0.4776647909539351, 0.4763277344639378, 0.47407728822398604, 0.4761958760901852, 0.4769324358514683, 0.478228887801932, 0.47709125131874086, 0.4784199869002885, 0.47743881670187416, 0.47435571001355376, 0.4715860160523549, 0.4779925901850898, 0.47446680967481625, 0.47449708400768126, 0.4750372147699553, 0.4718588753202261, 0.4808609613025593, 0.4788304441646189, 0.480201495766935, 0.475686886233612, 0.47696402907937047, 0.4749621711137677, 0.47493223563566883, 0.47103786442905116, 0.47753108861090826, 0.4790324515225453, 0.48048690383440823, 0.47816356825887507, 0.4784150708095942, 0.4805852724641903, 0.47367348015352667, 0.47557148518171477, 0.4732640558079031, 0.47791222074630685, 0.480371790460604, 0.4770530324747819, 0.4735594955532918, 0.4742771266959714, 0.47480612864534427, 0.47811661495323504, 0.47560374596984945, 0.47942393983910947, 0.4749445630178851, 0.4775130174569376, 0.4793152869618451, 0.47768429156598197, 0.47836981816876833, 0.4766095119131535, 0.47456114485777, 0.475950905009838, 0.4773935476784279, 0.4769962927208784, 0.4788196481115955, 0.4772832323004945, 0.4749119950035202, 0.47575053856643434, 0.4819354006354923, 0.477143775837117, 0.4772946590745077, 0.47871160701959636, 0.4728979707135099, 0.47577450837632884, 0.4749085194945679, 0.4787817623789804, 0.47918645726468045, 0.4806015887335157, 0.47353686401459266, 0.47661376883003226, 0.4757831237837672, 0.4719064041196544, 0.47645789696694385, 0.47542585692071093, 0.4725362461369628, 0.47849223274123465, 0.47711292755431617, 0.47379278747669556, 0.47110107654046574, 0.4785374521909555, 0.4738614108744216, 0.4697610724872713, 0.47558758537005796, 0.4743571298556316, 0.475495769938566, 0.47358142310583135, 0.47609270412106214, 0.4746297251278411, 0.4817481182476021, 0.47506326716356967, 0.47699077269721535, 0.4747694075795457, 0.47501818585504585, 0.476653237644663, 0.4786286467185238, 0.47696479345231674, 0.474948322624762, 0.47059289486304895, 0.47909106993080836, 0.47241282991834266, 0.47722865812233956, 0.477656692139219, 0.47629779610019474, 0.4776907028789173, 0.4765250144209511, 0.47276137871304025, 0.47349855206832564, 0.47587568486995313, 0.47892297007899254, 0.4774360717237023, 0.4785612647381184, 0.47635009794271577, 0.4769067856236739, 0.4736557906615959, 0.47885138043703224, 0.4748224062969366, 0.48059341426786983, 0.4760523401833057, 0.47991786882075355, 0.47796192721952957, 0.47336703255856266, 0.47305224742975754, 0.47493826907930375, 0.476465895290835, 0.47689656873598213, 0.4759419117558765, 0.4780984238950786, 0.4769958537105202, 0.4718429772345698, 0.4746863950194283, 0.4764327795551538, 0.47742269462606396, 0.47664751503265984, 0.4761034238152259, 0.4757360078869901, 0.4754907446678591, 0.47371672397284675, 0.47666165487245116, 0.4754727684346255, 0.4738533614124365, 0.48052285388618277, 0.4774427011275222, 0.4779202261520286, 0.4747027751328327, 0.4715912354413537, 0.47764347426190873, 0.4810192531267119, 0.47495144390759636, 0.4827830645869291, 0.47730352531881115, 0.47645593979773704, 0.47601569503005464, 0.47716638592827665, 0.48164732905064983, 0.47386228600049496, 0.47910750652538625, 0.4724920127178879, 0.47949086953436965, 0.4799429561348276, 0.4759547918306376, 0.47423502066125983, 0.47324372105694335, 0.4809410369337036, 0.4771286492868804, 0.47710941595415196, 0.4745656374217235, 0.47339176684687617, 0.4801116698958705, 0.476002529536628, 0.47774825276393906, 0.47533832408654353, 0.47862345628896086, 0.48348949849411543, 0.4762045034915251, 0.47486264072697987, 0.4699357619022667, 0.4724013800065862, 0.476644014663905, 0.47269931645917124, 0.4786216741534466, 0.47569694077597613, 0.47574243842503705, 0.4763326649045238, 0.47463290330092744, 0.4769930512172189, 0.4768106468234582, 0.4740755127038853, 0.475505319615206, 0.4772876071513994, 0.4793359097925561, 0.4780266804741042, 0.4756707150596569, 0.47746793606422167, 0.4809252795393555, 0.47504260674363463, 0.47765181995198536, 0.4710950586289203, 0.4764193521458785, 0.47838679002261114, 0.4744031091304069, 0.48098094095953725, 0.4722833211433811, 0.47786351159638024, 0.47944346011152456, 0.4772382488734214, 0.4703643238777559, 0.47670299248129866, 0.47685455610960126, 0.47906889783011736, 0.4764092150928926, 0.47682856272641194, 0.47482210259084806, 0.4734443970301391, 0.4826344762811164, 0.4778274547005226, 0.47742402541563256, 0.47582412029934734, 0.4767645648340984, 0.47648983086308033, 0.47542657175958747, 0.479020103950659, 0.4737498294498542, 0.4757838204198402, 0.480560659077491, 0.47183827080308827, 0.4763159548418875, 0.4776288235366859, 0.4786117503367526, 0.47443590237672695, 0.47420375908796486, 0.47917373217718634, 0.47262470521999794, 0.4737589001512775, 0.46962781260750114, 0.4780375665131946, 0.47473507425243994, 0.47487719671717954, 0.4756562262420524, 0.48087559670587815, 0.4726645146920806, 0.47486488538045285, 0.4783785893350129, 0.4729202235572859, 0.4732332771631865, 0.478041633982098, 0.4783771876130784, 0.47677960450880325, 0.4784732429275544, 0.4758392227499696, 0.48025661880276815, 0.47540209275412965, 0.4795924147299153, 0.47555093302249496, 0.47823233813570776, 0.47567640838359615, 0.47793344023136314, 0.48133912973285303, 0.4768542430607476, 0.4756332216087701, 0.4809995085410602, 0.47308340305347557, 0.4731675829967489, 0.4794570359219614, 0.4762983829244099, 0.47471246155380553, 0.47839359187256286, 0.4710940326117011, 0.47673305377418596, 0.4730512814661509, 0.47517787822580326, 0.4789320795169276, 0.4768337426409661, 0.47855103717196856, 0.4731007497045489, 0.47851678113432433, 0.48002389371762766, 0.47743393623250635, 0.47528159332558834, 0.4754866263860923, 0.47754554348146894, 0.4761494518427818, 0.47597340794161436, 0.47382726336438635, 0.47787322406581906, 0.474331430987188, 0.47871935160537, 0.4775553164984563, 0.47535975111734513, 0.47772212535033637, 0.47305676440182254, 0.47738496846882067, 0.47354502952802885, 0.473824828332232, 0.4724483889941164, 0.4775182729078169, 0.47759120251279064, 0.4800010939244232, 0.48067684505995817, 0.4793191713105521, 0.47599865313279904, 0.47551045850511964, 0.47976775325364346, 0.4744991702490551, 0.47281692029685496, 0.47614623397921607, 0.47635973722097746, 0.4739489167207109, 0.4799236843058656, 0.47935721208506415, 0.48085851618145925, 0.4763818382720692, 0.47345554539405554, 0.47606520081639087, 0.47708060553352194, 0.4744358337609942, 0.47736308114750686, 0.47521827016561113, 0.4707709029450534, 0.4751380578583198, 0.4737484780339899, 0.47644833407438375, 0.4770216060417436, 0.4791850547664251, 0.47373055447770335, 0.4741795097613086, 0.4726364563613602, 0.476897891106564, 0.476702771782988, 0.47646958442310083, 0.4785865734035348, 0.4755107744640896, 0.4756401284093313, 0.4740666691871384, 0.4779148349538529, 0.4818646411681988, 0.4811883645941225, 0.4816852836952453, 0.4804905455327903, 0.47825008798889246, 0.4766793177739713, 0.4775066338139677, 0.47621873367397594, 0.47647742223337874, 0.47667822371951873, 0.47775310277837685, 0.4759181732147447, 0.47820475999384987, 0.4742296900233193, 0.4765296424575757, 0.47585664972964103, 0.47360000679259656, 0.47775894184803674, 0.47892244707334364, 0.47499021547376324, 0.4760457904194268, 0.4762060058986024, 0.4768722546610639, 0.47596310700079275, 0.47839653694880013, 0.4732136701765643, 0.47453994379978487, 0.475359768762272, 0.47803455377854226, 0.47916741128240126, 0.475397679603221, 0.47252150723202735, 0.4769918170696668, 0.47711849786302596, 0.4830201529111475, 0.47924876320472326, 0.47485675908907, 0.47362320634913013, 0.47258750878715083, 0.4791554363702907, 0.4801442985031273, 0.47558727720615285, 0.4727496077096724, 0.4730216096252851, 0.47876731263552696, 0.47542930869860267, 0.4733322346530677, 0.4738924452184203, 0.4734661884068098, 0.4744375712111787, 0.46943076013303037, 0.48115500572342873, 0.47956691629158943, 0.4812730406023858, 0.47693816388756805, 0.47610190614225967, 0.476124194657657, 0.47750579855835407, 0.4769994555468437, 0.47463423626827483, 0.47379692787945776, 0.47329463805798183, 0.47783221484901134, 0.4786045894060303, 0.47694188209370797, 0.47799741493652464, 0.4769500108774951, 0.47563926172145243, 0.4738428656223901, 0.47199058509799496, 0.47814537716116967, 0.4793018718806237, 0.4757006298714486, 0.48031196994160597, 0.4774641103495898, 0.47590410694768687, 0.47758486152098334, 0.47803090361792344, 0.4741965728626138, 0.47465094712269795, 0.4738739755609958, 0.47751400788564685, 0.47352610594549405, 0.4766307388959081, 0.473278449337691, 0.4709519089557546, 0.47784114433402275, 0.4768894533759961, 0.4732151232992846, 0.47486483904437005, 0.4789799854475567, 0.4733659384518766, 0.4786059513454168, 0.4731752469481748, 0.4732922055952925, 0.4772717147474627, 0.4742257841127266, 0.4744289885761231, 0.4719373445649422, 0.4778192473480523, 0.47357866326833636, 0.47759726896150917, 0.4755566941902194, 0.4727702410334355, 0.47814880389993214, 0.47664236580216385, 0.4788723864145019, 0.47263092781986266, 0.472525584785533, 0.4767874234003134, 0.4784355052003492, 0.4723410318956832, 0.48254230730915443, 0.47647481959646626, 0.47427394582675875, 0.4775551170929758, 0.4723032559086944, 0.4775315243947056, 0.4797226593979687, 0.47957967989036127, 0.47609216646021857, 0.47567646324450963, 0.47510569849555545, 0.47112116621182965, 0.47777907610828757, 0.4805830771226487, 0.47742416275709637, 0.47122146856785013, 0.47929563302978173, 0.4731775288266285, 0.4751093768080017, 0.4736019941876123, 0.47684000513424357, 0.4810350445167028, 0.4763063235265764, 0.47934895096804664, 0.47821427888299417, 0.4784583788301664, 0.4795536018905939, 0.4752051223781592, 0.4701676425233181, 0.47864303981656037, 0.4789850433368519, 0.4746381141259736, 0.47937063311036243, 0.47535371430868817, 0.474901473159493, 0.47225714727207385, 0.4697538343109434, 0.4760370529423945, 0.4758050225362099, 0.4743724006934805, 0.4788168124049542, 0.47422145884415373, 0.4799530285878493, 0.47086176221163945, 0.47656254574046153, 0.4740524027995411, 0.47812620721981375, 0.47516272024805667, 0.48201953631952726, 0.47064647791013325, 0.4779868119758507, 0.4716158348500228, 0.47672395179498184, 0.47066361526781914, 0.47585076654387193, 0.4784025808652292, 0.47701777238166193, 0.476011081529031, 0.4795527277954938, 0.47893805916121873, 0.4761909723780966, 0.47817495903916285, 0.4779618240759823, 0.47903085332854245, 0.48002432722614097, 0.4779151099388261, 0.4761798130341431, 0.4761972575302194, 0.4760859137529098, 0.47654971833204407, 0.47793667042676485, 0.48277103766582014, 0.47755627723889044, 0.47055556073598764, 0.4772768694872603, 0.4729194025017356, 0.4746693700357515, 0.4763674234470192, 0.47996390326123234, 0.47516766054363846, 0.4764631359618502, 0.47814392380334614, 0.4712099521627154, 0.47724322214925397, 0.47407223027087614, 0.4721475855115216, 0.47524610361557057, 0.4737038364322648, 0.4749530584751264, 0.4778352288277061, 0.48049625374933386, 0.48097915865148794, 0.4765211579556517, 0.4752916723251388, 0.47404695038557876, 0.47688656113404404, 0.47261957482276756, 0.47827978772833163, 0.473762884230377, 0.47789321290510767, 0.4727754590081753, 0.4792684042884878, 0.4766678613016503, 0.47698338161933734, 0.47356552594235657, 0.47628874949123007, 0.47921155879617827, 0.4798659965128128, 0.4771554066970526, 0.47745394362449334, 0.4744741801810637, 0.47651182396830816, 0.47640763358518384, 0.4780698541413083, 0.47972869290828035, 0.4769693892810313, 0.47692122397852443, 0.4752421073722346, 0.4780648540679675, 0.4766496924354595, 0.4818086740421036, 0.47731803433166303, 0.476153880811331, 0.478355102804519, 0.47775934556308275, 0.4722041901765608, 0.4765637087824727, 0.4720812526611455, 0.4735771427666277, 0.4760545039043767, 0.477436237861386, 0.47351534760426284, 0.4758888518154004, 0.4752628885829561, 0.48124283548444596, 0.47905377795250276, 0.4739146343590878, 0.4785439295762536, 0.47658903704929007, 0.476264743602396, 0.47377406226035684, 0.47404835323303546, 0.4749729498094629, 0.4739793230955692, 0.47845037658594197, 0.47465634410006763, 0.47840816792001123, 0.47733205013411856, 0.4815655132532932, 0.48016527790471325, 0.4816090550189381, 0.47587544556436523, 0.4776996918702461, 0.47333811639938883, 0.4730185207369454, 0.4778205012236151, 0.47358212297769386, 0.47657671294974197, 0.4783056456978134, 0.4764397923205702, 0.48028467790323354, 0.4812224663174749, 0.4812731913275568, 0.47742857552039375, 0.47532778191932246, 0.47852302586707085, 0.48085285384343995, 0.47204000031498106, 0.48304712095043, 0.47516771696944976, 0.47939774603972785, 0.4718276548125634, 0.47986046069464244, 0.4747284848548599, 0.48121063923781954, 0.4764341217238833, 0.47692239314489926, 0.47371631478320547, 0.47571959271472297, 0.478157944673618, 0.47429554930401313, 0.475905545856549, 0.47723987999459366, 0.47340977369707604, 0.4759013548518325, 0.478242389971414, 0.4743210457053552, 0.4740767914784506, 0.4756395734684269, 0.47729936206606605, 0.47643578806333425, 0.47500076757095855, 0.47748247589104753, 0.4763139625868509, 0.4790850697437328, 0.4777091441646405, 0.48013387118766476, 0.48241502418322035, 0.4733130127587721, 0.4769165467192704, 0.4756798987527434, 0.47753608825077776, 0.47218903958884023, 0.47807603716777464, 0.47765584546097317, 0.4751157555331809, 0.4752552341377206, 0.4781922739499386, 0.4755128731221495, 0.4740994726459186, 0.4817926500095844, 0.47635862778144233, 0.4784624904713283, 0.47568223716983404, 0.4752412652428365, 0.4745724359454231, 0.4730162236893115, 0.47561877283442217, 0.47794815283059444, 0.4777046238945375, 0.4761101037448946, 0.4803073892198789, 0.4731776629291098, 0.47405362217374597, 0.47794140874109, 0.47273265986264196, 0.47482552804944395, 0.47340825775131096, 0.4729700057049371, 0.47574883853560457, 0.4773539671245286, 0.4783264308618783, 0.4777092646527394, 0.4784231087977369, 0.4718324876864099, 0.4724999237154497, 0.4764872694796722, 0.47635765231155397, 0.47746121845491324, 0.47393489492727875, 0.4721185107411811, 0.4812638063353071, 0.47917065814643783, 0.4789717848053415, 0.4805191225735351, 0.47687360240133037, 0.4813265063199323, 0.47908438159285055, 0.47578726499116053, 0.47606291366959685, 0.4742012945706136, 0.4792085246682051, 0.47699215677279266, 0.4787957150165916, 0.4832302164007243, 0.4743161722500171, 0.48084016065870067, 0.4735216358980056, 0.47377238293124213, 0.48052577179657285, 0.48143873679417276, 0.47883280935280986, 0.47749821504682133, 0.4767611903760075, 0.47724873021920616, 0.4811696902371119, 0.4755813602949597, 0.47507533785859923, 0.47781613529516814, 0.4780537969126009, 0.4734520337790953, 0.4721944274046615, 0.47286860561093225, 0.47758248667918873, 0.4731534815765874, 0.477670669207771, 0.4730646682181145, 0.48081515325542407, 0.4766679055223163, 0.4785368438653753, 0.47580044600866567, 0.47639334474297734, 0.47490792607870924, 0.4763428330377809, 0.481548752914011, 0.47997431786066636, 0.47424254697247736, 0.47729446278212945, 0.47805851959356727, 0.47928203836143224, 0.4764270064910807, 0.48138960046112905, 0.48113444840303504, 0.47445112452470356, 0.475907649770988, 0.4770791799955513, 0.4796805249764323, 0.4731469645869548, 0.4758848308298876, 0.47358718570516883, 0.47445118374935386, 0.4761789467402931, 0.47857110480223947, 0.47928569953764344, 0.4711180798683428, 0.47695275937200804, 0.46974770100063934, 0.4753680172405628, 0.47783810682645406, 0.4812191038656645, 0.478909261669232, 0.4733743720176185, 0.48165172769473413, 0.4695446328106208, 0.4769660686508963, 0.4771915861500036, 0.47854530392739986, 0.47410536160801886, 0.47928223271719633, 0.47707359127169974, 0.47634790821487494, 0.47014534898668536, 0.4730341367227001, 0.47225652699479237, 0.47758197232192473, 0.47856492164713166, 0.48228167836813984, 0.47622485820023214, 0.47881402650758986, 0.4785135356456588, 0.47831132058659787, 0.4792088155319778, 0.4737427969564925, 0.47902574387657076, 0.4785529742150567, 0.47674299195197434, 0.4740862220246548, 0.4733810672092085, 0.47573582526761116, 0.47478073070491367, 0.47677533546135303, 0.4783161327568307, 0.47518836995560654, 0.47555172205978524, 0.47743710498498376, 0.47338666951440933, 0.47609831540388925, 0.4750202953618566, 0.476791438408533, 0.4744401665001337, 0.47587335546275644, 0.47483354298533453, 0.47515183285648394, 0.47769046959238937, 0.47274267055791386, 0.4775768170532317, 0.4727422998760239, 0.47214166050656514, 0.47415642105021366, 0.471685640265097, 0.47919431705253024, 0.47378043999774827, 0.47597600967891124, 0.4758454905353273, 0.47424454629884294, 0.4762624931571279, 0.4732186700957364, 0.47872451698072654, 0.4719177957942222, 0.4786445332320915, 0.47628413287592836, 0.47706175266339684, 0.479842817866104, 0.47548931330931865, 0.47211019115747715, 0.4847248487065539, 0.4764566528453641, 0.47658719346945383, 0.4743185054517129, 0.4808040616042165, 0.47821093705959095, 0.47984863435767694, 0.47602285141765294, 0.47889651343120365, 0.4790128425099524, 0.4757144788053276, 0.4794844840981646, 0.4747770915132422, 0.4783387080429211, 0.47365560699950104, 0.4749965118864106, 0.4769705707717996, 0.47806851948348794, 0.47521197196360015, 0.47609077967787966, 0.47511058070788587, 0.4737738176408839, 0.4777815142209138, 0.47475534683202286, 0.47427786417341705, 0.47227842083208227, 0.47771595399553274, 0.4762261262971295, 0.4747337701448808, 0.47836384952988054, 0.47633562477813407, 0.4753077281299187, 0.4748162523390171, 0.4756990611120585, 0.4762090417551662, 0.4788744280149483, 0.47455395566085556, 0.4757117339215709, 0.47449887267209595, 0.47876748780488254, 0.4727668153157826, 0.47768556951997876, 0.4758114740915459, 0.4698356645902768, 0.4726902109943307, 0.47969511654471747, 0.4801814426473704, 0.47521570954375186, 0.4759815899942066, 0.4780616182961424, 0.4770067907114687, 0.4786012550848307, 0.4743194928015673, 0.4763829161614985, 0.4751380907751565, 0.4762804961521848, 0.47883612036226425, 0.4796692336671536, 0.47749073795615055, 0.47666434407969754, 0.47836220415423514, 0.4769074527673552, 0.4778956945430711, 0.4765492870507715, 0.4760886833882635, 0.4831626923055372, 0.47693369544278147, 0.4731217781964958, 0.47269520036186174, 0.4765048899213804, 0.4714992290703527, 0.473711886526366, 0.47570992060377215, 0.4780220589945149, 0.47658514826824117, 0.4766995917409666, 0.47684141644368516, 0.4779819869607733, 0.4808068142348562, 0.4799788408262328, 0.4801615294949207, 0.47299685352374005, 0.47087884750007736, 0.4836856756715898, 0.48025845921132515, 0.47988729338722713, 0.4768263452751902, 0.47266177964830763, 0.47938283243314006, 0.47986587875575226, 0.47904347542409936, 0.47763518784142, 0.4840170202923065, 0.47579948932847516, 0.47696042078660783, 0.48061851758385254, 0.47489358536456694, 0.48130673574186333, 0.474445570814651, 0.47131909392428656, 0.47635341510393087, 0.47432615908176884, 0.4766644389612175, 0.4727797622503679, 0.47391158139915646, 0.4772893544121067, 0.4821684558130327, 0.47448689161988566, 0.4756520088233018, 0.47040657733051505, 0.47333192702772725, 0.47597255831535934, 0.481353501479342, 0.4787136936373908, 0.4784617198902398, 0.477603420263025, 0.4812511458822726, 0.477113849341663, 0.4715566157546608, 0.4774332185849233, 0.47524554817291054, 0.4727467302119917, 0.47274812397111177, 0.48054342406421646, 0.4748635727318507, 0.47262185686809616, 0.4792801450308938, 0.47441394505347073, 0.47340021556213174, 0.47650784626153986, 0.47623265651557, 0.4769766917197487, 0.4767205975467804, 0.47971238935559773, 0.4720990100246953, 0.47516895236273327, 0.4807229215048441, 0.4750339938932342, 0.47836668888281375, 0.47804808410907784, 0.4745968604662635, 0.47747757535322005, 0.47731892033107665, 0.478669725405454, 0.4749685709682931, 0.47624079825587823, 0.47639164860763916, 0.4754698820252337, 0.47355779961944744, 0.4754953470948271, 0.47422415828072356, 0.4715304923299761, 0.47727446053150274, 0.4771786525757156, 0.47619397216136916, 0.4744146174120281, 0.4709984494252406, 0.4758633628174251, 0.4759083729553614, 0.4756317481747791, 0.4768820298145533, 0.4764225441836898, 0.47948325699470656, 0.4772261041454294, 0.47900828865709827, 0.4768394849185486, 0.47243198327273406, 0.4756884133370466, 0.47327065009640085, 0.4726122469623697, 0.47651936407644185, 0.47973454655630743, 0.48013759127399525, 0.4694247281881486, 0.4740535154065416, 0.47688987325196086, 0.475826529372355, 0.4775541743179062, 0.4788511178881387, 0.47500383647929795, 0.47426897310928073, 0.47350775966585434, 0.4731054640178512, 0.4739234093355691, 0.4716312136714159, 0.47569626552420613, 0.47656083751858513, 0.4784011051010407, 0.4761357028487132, 0.478598863402164, 0.47414749210902923, 0.47589754413400187, 0.478143158399452, 0.4789606594888962, 0.47849223909795374, 0.46844017729313137, 0.4788579610116713, 0.47422047384660343, 0.4801902639839704, 0.47394697730423196, 0.47578354743661116, 0.4764383472139279, 0.47843065122286266, 0.4767008125345502, 0.47626512076194993, 0.4789223920582245, 0.47736694212314534, 0.47542581690093666, 0.4764355979068163, 0.47926586862230225, 0.4739637222107526, 0.4785019430111244, 0.481082202676614, 0.47591150810146776, 0.4745063108856711, 0.47596854082103723, 0.4768549146021611, 0.4744540651588477, 0.4742433656568871, 0.47737850100399454, 0.4759267949286729, 0.48177032821111365, 0.48090754048344225, 0.4828736888460409, 0.47656806938924035, 0.48143550815137104, 0.4789892917444811, 0.47898381432524256, 0.4728786832478065, 0.4745514791964649, 0.4771121782198487, 0.47657705539910833, 0.4739850098937549, 0.47292184555752037, 0.4795258956060029, 0.47515701826808965, 0.4718768513052185, 0.4781135992908038, 0.4755186136922795, 0.476441119545667, 0.4781495035127846, 0.4763227146360331, 0.47972779154575435, 0.4770377611778071, 0.48087792939459945, 0.4746054517449357, 0.4822439507917938, 0.47874995012155463, 0.47535216902345623, 0.48092366997488206, 0.4749692503505203, 0.4785736917951327, 0.4769212172070153, 0.47486038216006415, 0.47887149501512905, 0.47856224176476075, 0.4763726201760571, 0.48038855116983525, 0.48100506143906147, 0.4756150073911442, 0.4728572429802597, 0.4777292431338756, 0.475803601108323, 0.4780347604228619, 0.4724877533039954, 0.47414797421226257, 0.47545346384758214, 0.4692304102717354, 0.4769639946197099, 0.4797507897301592, 0.4748408421400699, 0.47187961693168085, 0.47735382740565824, 0.47528466299773264, 0.47655557757699957, 0.47805582922135165, 0.4761494347965145, 0.47516900154888964, 0.4761909301127162, 0.4753689436228142, 0.47747960523539934, 0.4793166590761646, 0.4765449939645219, 0.4759931402277358, 0.47728517093348727, 0.47087113709165274, 0.47821787429361223, 0.4741421155765342, 0.47388927745654963, 0.4775378673499331, 0.47337342967360413, 0.4729988910251653, 0.47453861212252907, 0.47864380987532473, 0.4734985688528234, 0.478607528710988, 0.47556139914972184, 0.4754215307915586, 0.47393081147949645, 0.474882311822664, 0.4767348719698122, 0.4759210589879582, 0.475934213045052, 0.47685591705451486, 0.47636050428741666, 0.46837141480740124, 0.47434660265010653, 0.47416801707111167, 0.4767794559880346, 0.47510649185937437, 0.4751234245042692, 0.4763754379586306, 0.4799307794253553, 0.4795288044421843, 0.472988250698483, 0.480842365736674, 0.47621544413785954, 0.47777072521012054, 0.4731872200053011, 0.4768217049255824, 0.4768933127956935, 0.47438146929281033, 0.4814732867975651, 0.4753085403679651, 0.4762130276684758, 0.4802275190492002, 0.48136793742243383, 0.47827711635205145, 0.4812873768545635, 0.48138539720381224, 0.47773507997626685, 0.4752371266492599, 0.4821640216261152, 0.4764683407889022, 0.477200780344413, 0.47959515915086565, 0.478024265383108, 0.4755013561678618, 0.4749929604808446, 0.4758188904300565, 0.4758399649043622, 0.476821539388939, 0.476863990205694, 0.4754647596313403, 0.4815142672018865, 0.47618604646627644, 0.47172275408912256, 0.4744761674447865, 0.4765658391406574, 0.4766308697213544, 0.4781574641096789, 0.4715550614978008, 0.46946503744968576, 0.4743970593720885, 0.47807975842599826, 0.47729639700837884, 0.47342812698782316, 0.4756704919644516, 0.47855274066390135, 0.4764879271521744, 0.4752668896991527, 0.4748437365259298, 0.4766601285147136, 0.47601055925112207, 0.47465726029154726, 0.4749849699530517, 0.47741402842496294, 0.4775858484381501, 0.4765172013108753, 0.4776421274414649, 0.47261568086782324, 0.47757330000382503, 0.4731896578334083, 0.4765797887543351, 0.4761315802200023, 0.4752370098488199, 0.47391822404940526, 0.4733084569671945, 0.4737553671509126, 0.4707074347964088, 0.47481120540764377, 0.4767928353570365, 0.4761605474361453, 0.47429605850686146, 0.47401823050832953, 0.47765973975721604, 0.4743621930658655, 0.4746089122249133, 0.4747619967701977, 0.47405485659108015, 0.4732795158133831, 0.4732026970274695, 0.473823586219567, 0.4781302514482217, 0.4736088804327908, 0.4803379776946608, 0.47551869455705764, 0.470741798559944, 0.47176008471340836, 0.4735726433587101, 0.48388404583986927, 0.4759927803396971, 0.47295757399625893, 0.4777615176088871, 0.4778081932822738, 0.46999213662774525, 0.4769030775055717, 0.4727935224369519, 0.47614319111834175, 0.47561704667094135, 0.4731770249152579, 0.4811025732057355, 0.47501313900380204, 0.4802732158554155, 0.47860524873288596, 0.48026507822349834, 0.4769969029061932, 0.47599798182882497, 0.4739755154518381, 0.4750754505833573, 0.47421387806808163, 0.47429870857989287, 0.4732467178371342, 0.47822812096034356, 0.48155427420864205, 0.4827231552917301, 0.47770374217336425, 0.47423689979137335, 0.47829851198208034, 0.47417266041447037, 0.47907133148136766, 0.47664175576763534, 0.4766605168869117, 0.48000569416864436, 0.4724615719041363, 0.47380466430096335, 0.47683197866359783, 0.47833290282861257, 0.4821898022722364, 0.4785804250697433, 0.47605855278205145, 0.47705661580922554, 0.47554642544131764, 0.4755193973406844, 0.47671811267553077, 0.4744230897878549, 0.47534187590782534, 0.47922356029509433, 0.4717488767447654, 0.47477996849460585, 0.4751526641356908, 0.47444425810717156, 0.47430677510272634, 0.4720020335202553, 0.4758862661094183, 0.4775900751604519, 0.4745029728623121, 0.4750091914361761, 0.4769846917296495, 0.47780094556573127, 0.4738471911023917, 0.47938117823994947, 0.48125901334548826, 0.474942451913398, 0.4781656831884908, 0.4762965354826057, 0.4772590870598778, 0.47391350722302483, 0.47956660483740465, 0.4733824101017201, 0.4792541360738655, 0.4801912845798168, 0.4767750306254787, 0.47180642197458994, 0.47767331834289534, 0.47818160913341257, 0.47484763391227053, 0.47784884626207125, 0.4738425257162675, 0.4750051703178997, 0.47002576172053673, 0.48112687198391085, 0.47565634817944435, 0.4734436953426178, 0.4782930813730868, 0.47311483695063566, 0.4743206719074804, 0.47452057728852587, 0.473097650170231, 0.47185143003927266, 0.47503272775629196, 0.4721525826148601, 0.47751337073885947, 0.4793116855510833, 0.47485081545649466, 0.47741913262498187, 0.47981442644038147, 0.47668534702788407, 0.4773130968381152, 0.47770964030160606, 0.4831403366489213, 0.47426456125637284, 0.4799327125420314, 0.47680721891532485, 0.47732328618363634, 0.4791154437525353, 0.48166688476382996, 0.4771189930123625, 0.47203356699813565, 0.4729516307562515, 0.4794658151966522, 0.4758460443977338, 0.47740315773462055, 0.47657367491746405, 0.4757099374960372, 0.4770986644316556, 0.4766726315379262, 0.47389218946155376, 0.4850526698310756, 0.4753487793959256, 0.47790486936534016, 0.47640321183350076, 0.4773242519242027, 0.4824809367713043, 0.4768101073864729, 0.47064813122200894, 0.47861416140331986, 0.4814224591148165, 0.48029894317149285, 0.47781690224025836, 0.47692021372661825, 0.47258156394122774, 0.4761810807129109, 0.47491038800972635, 0.47656393308632844, 0.4783228558830412, 0.47523520796877333, 0.47378219555757806, 0.47660306208092545, 0.4818190092777178, 0.4728826329832392, 0.47664329308464026, 0.4796532702429137, 0.4738433679005025, 0.48102135962700326, 0.4716217333392874, 0.47669532925860925, 0.4760481023290156, 0.4773888955754988, 0.47261318215962195, 0.4745952760514188, 0.47505449690181945, 0.47823163418307746, 0.4781148968810679, 0.4749157531434793, 0.4761642449464031, 0.47848577690959804, 0.4775278899812062, 0.47836132117597924, 0.4767397331753526, 0.4746371017167696, 0.47849449283516327, 0.47091896933180816, 0.4773085497037466, 0.4767154057287438, 0.4767910294629085, 0.4748730540886336, 0.4717121620828741, 0.47153431199527013, 0.4816446327450062, 0.48114444698041153, 0.4795166805259629, 0.47611312913283393, 0.4769309771644973, 0.4787219879174518, 0.4758355074895028, 0.47298486092330505, 0.47627169768185645, 0.47796804802697296, 0.47726092442479334, 0.47753983025795177, 0.4738166911131317, 0.4735841689965983, 0.47468730171522416, 0.47938305835127354, 0.4786746758094251, 0.47584156171434855, 0.4815727196083188, 0.47736564101131773, 0.4757025328433171, 0.47959305530109514, 0.4767249560770861, 0.47355378087362, 0.4741936337273848, 0.47859157922998535, 0.47290564021172504, 0.4782440768706958, 0.4745902669830365, 0.4736417661040704, 0.47597369319543387, 0.4739344996011295, 0.47969148286232893, 0.47549675782702927, 0.4760288890993832, 0.4763227297222423, 0.4698513357410195, 0.4726346550395007, 0.4729639128428075, 0.47422536325510617, 0.47646301879355557, 0.47443285023372206, 0.477142603009292, 0.47778397005674633, 0.47464716731255996, 0.4770843977973638, 0.47726629598314624, 0.47585944400691205, 0.4718660148040387, 0.47311953654934996, 0.47648786133741594, 0.4799750539422726, 0.4737894363141809, 0.47849249728942594, 0.48367795556670456, 0.47588107109543853, 0.47640463740104344, 0.47172490299591374, 0.4805779700238396, 0.47359742068033817, 0.4757715136621016, 0.4760142110779038, 0.47259716353107956, 0.47616489787905353, 0.47351914791256816, 0.4734547744271423, 0.4781580712604444, 0.4724978663096376, 0.475199715188599, 0.4752136432701567, 0.4727206658922998, 0.4756209871067036, 0.4736386384625119, 0.47596561490071676, 0.47611379743974197, 0.4762084038019739, 0.4760052424202914, 0.4736152449835823, 0.476354309440072, 0.4774282036476114, 0.47455684193116265, 0.47461361190696466, 0.47555862601600885, 0.4776399313323015, 0.47728693583609816, 0.48055659083368263, 0.47698646406965783, 0.4754243063245819, 0.4779996950947852, 0.47270774083836065, 0.4765635879719761, 0.47273523018853164, 0.47634819855544935, 0.47537414992849186, 0.4752096008405568, 0.47788097882142977, 0.48195954571353505, 0.47738604178996735, 0.4741089281802145, 0.47859093953070175, 0.4775870523795034, 0.4797230925873968, 0.4805272179698561, 0.4759294373608087, 0.4761783058240219, 0.47501577749833734, 0.47682402069512364, 0.4786095192180719, 0.4741478411737997, 0.47860236781291304, 0.47889776277472035, 0.48032689579388943, 0.4748606186310343, 0.47357228385666006, 0.4753999627240427, 0.4785266601448146, 0.4770221470046181, 0.4742145674375221, 0.4784094822244863, 0.4798630838036689, 0.47211410074982246, 0.4790231797941074, 0.47518499027137034, 0.4759288185839784, 0.47630038693625637, 0.4824757451828797, 0.4757152978149617, 0.4823518879065694, 0.47768641171619214, 0.47449618511405495, 0.47346713401633117, 0.47899638613168194, 0.47526331572870484, 0.48288522075420043, 0.4759527832272319, 0.4811201302039836, 0.47612774991022777, 0.4743327091624138, 0.4775811116459764, 0.47734780215199973, 0.4726816916792455, 0.4774470335840506, 0.48340579650365395, 0.47433863559244155, 0.477962598441596, 0.48195513340383045, 0.47585245555320643, 0.4791579245782233, 0.47938577022474316, 0.47806373271237956, 0.4749670331727427, 0.4762265034682337, 0.47729646599645015, 0.48028756732464206, 0.4728730833733292, 0.4773541671766202, 0.47918839256960294, 0.476720989784959, 0.47692120576012337, 0.4724873064577136, 0.4792666038116844, 0.47676953333054867, 0.47691367159789183, 0.4769513379944418, 0.47334383871821245, 0.47652671973616906, 0.4769221008500884, 0.4744421426908567, 0.4762243767395296, 0.47896103167423265, 0.4823049480955765, 0.4765102404648034, 0.47944153965461545, 0.47810375370124936, 0.4752758705968025, 0.47913443451327964, 0.477234309410392, 0.4749856497276559, 0.4754118575173262, 0.4763171914893994, 0.4768264057267873, 0.4782455172956353, 0.4786655896577259, 0.4743057863893559, 0.4787531437720195, 0.4729796569920067, 0.4724605401436981, 0.4749507487343296, 0.4756462136066131, 0.4711637140939641, 0.47381766135248937, 0.4764250178923144, 0.47650623868931485, 0.47611000083584265, 0.4768878605048154, 0.4749278589275842, 0.47910271443763386, 0.4753979812960022, 0.4792675961469592, 0.47245115416574984, 0.4722798032965554, 0.48032831569708234, 0.4793154619370318, 0.47505680108032866, 0.4806523295050412, 0.479244599962477, 0.47656081954393215, 0.4741478593654855, 0.48350403872447045, 0.4720202886754285, 0.47594171062495816, 0.47488118008252156, 0.47597387601996355, 0.4797380785185721, 0.4766345121195562, 0.4701994934718568, 0.4777890924342395, 0.4732485319094699, 0.4732178797385934, 0.4735334660349871, 0.47725421597014916, 0.4794699698370138, 0.4755962048916002, 0.47479911978646955, 0.4735209331833635, 0.47321051587059026, 0.47428437138184465, 0.4774303009235614, 0.47512621842786107, 0.47438219052635444, 0.4740083157791004, 0.47509607234169604, 0.47401160116933905, 0.4792380570319628, 0.47916567734154464, 0.4765761793310502, 0.47782634656656153, 0.47576066146721346, 0.4723333110074173, 0.4713495375583235, 0.47281906900795734, 0.4790706597619196, 0.47474460793067436, 0.4817603189003019, 0.47409974509130576, 0.47697478449434777, 0.4731295456741519, 0.4791758645474838, 0.476470455772604, 0.4759880929193051, 0.47409835009642765, 0.4759401865968599, 0.47276616214785794, 0.47705320248991556, 0.47228019853509884, 0.4755503397866909, 0.47520737542673075, 0.4767350790185111, 0.48039358094010054, 0.47361587305857666, 0.47736794345075323, 0.4777867124461388, 0.4733241927851732, 0.47844879556600634, 0.4718498793857619, 0.47050321616703156, 0.47733371872980185, 0.4758822610690356, 0.47886171100229713, 0.474604288744723, 0.47801502351033254, 0.47554523220072864, 0.4763626591630563, 0.47848845478721, 0.47238688221404523, 0.47607755707095367, 0.47664982524685257, 0.4772366660797512, 0.47753175881453, 0.479347374476341, 0.47894676371090866, 0.47989079461754935, 0.4754766335937825, 0.47497530368869184, 0.4733467038924611, 0.4801572554520687, 0.47499113448945807, 0.47350723416080776, 0.4754884255220124, 0.47812514988904986, 0.47417928193521636, 0.4770342949718315, 0.4764013978900519, 0.47762816409022923, 0.47798158333329505, 0.4775286647131323, 0.4755020650238352, 0.4769380239044571, 0.4727892710528005, 0.47532650541219074, 0.47814901620447775, 0.48134194640218886, 0.4746648658370088, 0.47569937934576983, 0.47385557395642436, 0.4757692593723595, 0.47805597876142375, 0.4778466301145145, 0.4818296258138422, 0.4767873777876928, 0.47374107457450987, 0.47372800550702143, 0.4736840134863734, 0.476694109301828, 0.473380743706599, 0.4761538788311449, 0.47154868359840163, 0.47985329268261623, 0.4765416872509776, 0.47539051544049565, 0.4760834593763874, 0.48333249708986975, 0.4715525207215181, 0.4733246370305657, 0.472287539051023, 0.478101614083286, 0.4730207880964757, 0.48071501706755454, 0.47361142073636897, 0.47913419284964137, 0.4784511215169686, 0.47877893584722514, 0.47126137147488023, 0.4759401466440107, 0.47912324614329815, 0.47340784935496616, 0.4725171879928599, 0.4741419048012502, 0.48105955122991884, 0.4789779309407149, 0.47398655820552527, 0.4769222159833059, 0.47497429013585185, 0.4786325806402415, 0.4765307040493345, 0.4779264984934067, 0.4768393324053097, 0.47816277635130316, 0.477826576427969, 0.47388679214047574, 0.47417454271505655, 0.47237775582187247, 0.4778843766030381, 0.47911252730934695, 0.4783141243603112, 0.4776306661668472, 0.4760150317547392, 0.47543942299823455, 0.47536003160061213, 0.47776738247982087, 0.47795629164999853, 0.4782762228138105, 0.47976332912427994, 0.4770756093103067, 0.47684046744607705, 0.4759036714405093, 0.47979426984309526, 0.4768904535706158, 0.4747332932254734, 0.4790587845471016, 0.4785954894514432, 0.47373042828369416, 0.4742958485570119, 0.4721128923572313, 0.4826153628579578, 0.47054330689379004, 0.4779911551722831, 0.4791713416737193, 0.47572490559830666, 0.47573439344876745, 0.4738909946227623, 0.4769808150266185, 0.4798037618274636, 0.47901615920743945, 0.48155075900331656, 0.4750530744206289, 0.47247301708876444, 0.48353721707076847, 0.4773692129530196, 0.4773817320847388, 0.47653278639012003, 0.47737471331230386, 0.4764116718042391, 0.4758202453542096, 0.47588241188672864, 0.4743165678149331, 0.4747690550310583, 0.476490102376345, 0.476843990001698, 0.47548656101455306, 0.47722401256525315, 0.47586913170060186, 0.4829589453217082, 0.47963131967326134, 0.4779427202069215, 0.47406557451437303, 0.47637509915154497, 0.47932364467130656, 0.47712011498887186, 0.4763719289305907, 0.47278516884396277, 0.4850475461196399, 0.4778489590614931, 0.47036360926999277, 0.47862100674824504, 0.47886154181499996, 0.4741031229085682, 0.4793311296534051, 0.4757125378263627, 0.47747346986257966, 0.47371370127523127, 0.47474326066060474, 0.4764146322169281, 0.47526215064854876, 0.4740371450358357, 0.4798501705194683, 0.474093911182431, 0.4781797587163753, 0.4756275174777482, 0.47643514901930223, 0.47690619479677965, 0.4736763566777968, 0.4730572813304216, 0.47143904870885445, 0.47335103146303376, 0.47556438754311137, 0.4717804660324232, 0.47438539308123967, 0.4750481824044947, 0.4766257086762521, 0.4764265191061102, 0.47305490740390976, 0.48151565311599126, 0.47231507147337926, 0.47199393329537154, 0.47625474497007037, 0.47602802860443566, 0.4761075475602851, 0.47786419282034864, 0.47578033396850616, 0.4742608601081404, 0.47886899702636654, 0.47807939729347715, 0.4820611715292653, 0.4778301942608908, 0.478348335431014, 0.4804887811921817, 0.4749883115513071, 0.47414268778063223, 0.477926798850399, 0.48025788002172093, 0.47802263721551114, 0.47606964933584484, 0.4742986770096347, 0.4761928251667604, 0.4804940684191568, 0.47530305559019614, 0.4752801765626479, 0.4792564105084339, 0.47520658376281555, 0.47517557167133423, 0.4750144916955614, 0.4772112050436146, 0.4776267865959246, 0.48074826014417393, 0.47824508727673004, 0.4800455901745723, 0.4738805434943456, 0.47444880213860907, 0.47565421610602143, 0.4765146742482169, 0.47799462750292704, 0.4719977341842784, 0.47937711633780666, 0.47366001086064624, 0.4724090410403994, 0.4762705342182572, 0.47730152635872825, 0.48055402411110465, 0.47695072387960064, 0.4765875192907844, 0.47922409316961684, 0.4739506440343897, 0.47904481389469195, 0.47753474757265835, 0.47869711961795003, 0.4777350845595947, 0.48375370148220737, 0.4741484429413622, 0.47863668233486373, 0.476518685166983, 0.47979412084430034, 0.478488528008772, 0.47914301676387866, 0.47893234257412387, 0.47253615091205986, 0.47538861374527536, 0.48020450894094935, 0.47480317688638135, 0.47680851723036716, 0.476470171566036, 0.4764120482879545, 0.4742137888663394, 0.4750441999858488, 0.478897553847666, 0.4777011614793832, 0.47547733779165074, 0.4812384400586587, 0.4731498110633625, 0.47697649215716736, 0.47614313080218323, 0.47414537746493224, 0.47828704041587683, 0.4780882609821247, 0.4785639587328719, 0.47382839664209814, 0.47340850416861596, 0.48169627641895274, 0.4762326671282609, 0.47576768438528094, 0.47544907826500604, 0.47750977098741093, 0.4755358806333337, 0.47466102751062533, 0.4735312074882019, 0.47800782136624687, 0.4742008599919003, 0.47721178147312515, 0.47305051812177573, 0.4757838890619909, 0.480998532024428, 0.47342959582999655, 0.4716889008915566, 0.47683560171370964, 0.47960785670372086, 0.4745735423761904, 0.4771344047087643, 0.4786305984128233, 0.47595676520430336, 0.47324042340144057, 0.4782550552027179, 0.47772581543172293, 0.47389798296812014, 0.478912027963546, 0.4739303689850184, 0.48016645934261376, 0.4744136740937495, 0.47351691664325996, 0.47432868704109193, 0.47317034191219415, 0.47577706735498027, 0.4776373536043969, 0.47576663630794674, 0.47501163908131144, 0.4768711006429915, 0.4775910711714081, 0.4763334067544783, 0.47246327281470346, 0.4746880200192365, 0.4782949745482034, 0.47622823285811683, 0.4752051834419786, 0.4710810155060831, 0.4730459584921305, 0.48038793486723425, 0.4770180606126047, 0.48232845861606666, 0.4824538909538744, 0.47335151698152184, 0.47438564430178837, 0.47750390403442067, 0.4778706278650894, 0.47938378635615275, 0.47859451508862544, 0.47367910847649913, 0.4752725114900881, 0.47788223701381355, 0.4765490836717942, 0.4764459895208812, 0.4739950220814775, 0.4757735929104396, 0.4772001232952014, 0.4759218760843977, 0.4754120896533863, 0.4763722002741776, 0.4729307417269427, 0.48051354526488305, 0.4772670333141981, 0.47625677166874353, 0.4825042502093884, 0.47562510883504805, 0.4765133317623699, 0.4781597432808171, 0.4773395341919511, 0.4761799942133732, 0.47929348162743374, 0.4751046652354143, 0.4739025405674386, 0.47605775176865217, 0.47403898127150434, 0.472320168245754, 0.4775162330365412, 0.4730486196709032, 0.47463398971852916, 0.47732325396075387, 0.4737788797471059, 0.47581127671354884, 0.4732147378857729, 0.47318374495065385, 0.4755062528642965, 0.476076178355368, 0.47439185078288015, 0.4758150260250027, 0.4740110505533134, 0.47467699969528837, 0.47775179245686983, 0.47342892949249177, 0.4731433421917168, 0.4758525019302014, 0.47591045203718924, 0.47495953953423864, 0.47116518657266665, 0.4758465374941559, 0.4782455642970848, 0.4770201579120799, 0.47713944017380433, 0.4753644449495721, 0.47974207465754554, 0.4764806138980179, 0.4775639380735284, 0.4751714419497921, 0.4785598684616681, 0.475910106723721, 0.47734968206235834, 0.47471675909936056, 0.47560455217535413, 0.47948236667882543, 0.47260094109294903, 0.4745308820066633, 0.4744629874486359, 0.47500086978331457, 0.4775883434165874, 0.4755754119309656, 0.4793981275666681, 0.4764155196702816, 0.4751589218122895, 0.47174843474373596, 0.47839863029852026, 0.47577022464583707, 0.47355168539564274, 0.4760541165977072, 0.47301837072048863, 0.4794261976140275, 0.48058110443577895, 0.47669973698433804, 0.4741409360063619, 0.47570019849199807, 0.4746930965654157, 0.47742862792529595, 0.4796057987113574, 0.4798121906635935, 0.48195425956247384, 0.47556077967430477, 0.4798393339450324, 0.4773813476255784, 0.4766474469097566, 0.4782338835002946, 0.47694311133925443, 0.4766340499243439, 0.47522176194283994, 0.4761538751741912, 0.4754802159599124, 0.4753195046862123, 0.47810813656369633, 0.47482939469468527, 0.47456277392983154, 0.4754823175647527, 0.47637349505761856, 0.47385677089954614, 0.47733127332874487, 0.4740976516885411, 0.47089511372223003, 0.4746220437406923, 0.4763803584369271, 0.4758666633345078, 0.47603592468642875, 0.47976438660507886, 0.4702039745455262, 0.47274630648944405, 0.47851047247906764, 0.4756584111996551, 0.4756600070014843, 0.4732497448746272, 0.47417971233427325, 0.4717552148973001, 0.4761036708588655, 0.4757900288637476, 0.48039059985490107, 0.47072029690880196, 0.4743212653129417, 0.47289421160959105, 0.47692263003332935, 0.4756953149616021, 0.4809017671306341, 0.4765363366405567, 0.4789767410541492, 0.4776228935348045, 0.4778290133858558, 0.47743900167015324, 0.47602568130838674, 0.47764218533575703, 0.47822256215766606, 0.4751501699388921, 0.47570872449592655, 0.47602573660935993, 0.47872389220120853, 0.475992660670537, 0.4777964310877582, 0.4793936110298841, 0.4777875997597355, 0.47856433280524024, 0.4761991945642796, 0.4818961156458828, 0.4768025818383932, 0.4750247859591835, 0.48050564465285117, 0.4760535438315524, 0.47614210305009974, 0.47582684827635424, 0.4770207527758942, 0.47623084674648697, 0.48258508477516227, 0.4762243270902894, 0.473991689497203, 0.47911689555691506, 0.4828508956240887, 0.47795660118712424, 0.4756626137012546, 0.4750561585481093, 0.4732935735649731, 0.47935312348178394, 0.4774695396716045, 0.47603381765986164, 0.4794879814985746, 0.47800316825723005, 0.47713931192574016, 0.47775187875399827, 0.4785807693917516, 0.4768427894024376, 0.4732393813453232, 0.48067792802992665, 0.4764016190482404, 0.4777787972392983, 0.4803841629078957, 0.47729964007885667, 0.479964239681987, 0.47680130129667064, 0.47256232446664836, 0.4689200831047256, 0.4742156325313528, 0.48242872450357255, 0.4765757364926845, 0.47555395751998286, 0.4790997254312581, 0.47814804403193123, 0.474459767118528, 0.4748440734628928, 0.4768215387202568, 0.47722084953292565, 0.47402131665257513, 0.47466205043496823, 0.4780475624760937, 0.48184287329637, 0.47994975208801627, 0.47306497427946687, 0.47206654858823677, 0.4757365903862813, 0.47612121704898547, 0.48077318944010766, 0.4773989658373399, 0.47850813807213677, 0.47508162871986437, 0.4766143772125708, 0.47372655705031375, 0.4746872840874197, 0.47822847259805773, 0.4754933755292111, 0.4753775580505862, 0.4749184721815862, 0.47556062393699894, 0.4785414784362306, 0.47908812838796944, 0.4796612761258586, 0.4727915391693424, 0.48070203671328166, 0.4710393846983228, 0.47665782145130153, 0.47605097692913073, 0.4776470305057944, 0.4799130096913025, 0.47760057020835, 0.4759543948691752, 0.4766368500401245, 0.475696533764151, 0.4809807260971152, 0.4754529985200694, 0.47786279965177086, 0.47721440906332807, 0.4786064607382798, 0.4732488429403905, 0.4765553316114021, 0.4750249673628723, 0.47405361973838595, 0.48107520237737433, 0.4762237680839177, 0.47240607778099786, 0.4753968899853138, 0.4720633209401791, 0.481477458560348, 0.47456123612589796, 0.47754100700102514, 0.4801934383487579, 0.47414077539947885, 0.4734334678130883, 0.4760746981577544, 0.47563948909516574, 0.4763523515375709, 0.47944542382994876, 0.4716838798441311, 0.47629754624312454, 0.47860885205809434, 0.4754809300995325, 0.47674226847096507, 0.4730791749462638, 0.47647483769911103, 0.4781042869580549, 0.47610313140338567, 0.47688803943472513, 0.47586911559814804, 0.47928108714027357, 0.4753221018039276, 0.4749218642999639, 0.4732911409163973, 0.4803005828489419, 0.47049504818396953, 0.47132368144460207, 0.47877532767685294, 0.4771518444663092, 0.47462718501173673, 0.4758606526311142, 0.4731229079520549, 0.4789835857632244, 0.4768479212896705, 0.47661441687918177, 0.4801201099150638, 0.47267910369997507, 0.47132928936232565, 0.4735230379216913, 0.47512234216820115, 0.4756834018694144, 0.4821083648043342, 0.47717723887757024, 0.4770127765638246, 0.48064471378779744, 0.4845953331141729, 0.47547229914468575, 0.47593819199940174, 0.47451620294223756, 0.4703710170245972, 0.4794367836897635, 0.4783651682614516, 0.4756583587608474, 0.4794749682598254, 0.47666123588554793, 0.478781999822504, 0.4730471751256513, 0.4753876259687482, 0.4762351076779774, 0.4737859740735021, 0.4772364124408941, 0.47348068709196695, 0.47819449185317253, 0.47238639998248977, 0.47809739327735196, 0.4760085342991061, 0.47693769008343784, 0.47676324651438107, 0.4806624562645154, 0.47445157298968244, 0.47935931956998623, 0.47916585441560844, 0.4736525837430787, 0.4808614031778702, 0.4768530705532799, 0.47456897689067623, 0.4760383844762325, 0.4770137671015903, 0.4760312422834735, 0.4792831135201519, 0.47553087635935587, 0.4786943147420204, 0.4789630140446355, 0.4750323076491378, 0.4790380862421605, 0.47792432326675843, 0.47615914748746097, 0.4773923357562502, 0.4701066603502951, 0.4763406663561038, 0.4695337800374031, 0.4768940483376008, 0.4773772751244682, 0.47660873442863844, 0.4760120459602887, 0.47545562206567105, 0.47722441463880494, 0.47453342116470076, 0.47466745565422286, 0.47466651704326795, 0.4774137903375841, 0.47134804902463856, 0.4732995063012465, 0.48068291853475187, 0.4735833074091956, 0.4818531969270839, 0.4765571684355588, 0.4767784285655152, 0.47684091453494876, 0.47658448391342556, 0.47445659803146106, 0.47141181352017747, 0.4771591850378169, 0.47525672477383074, 0.47345952975381783, 0.4829077152914871, 0.47814248118561037, 0.4753552881297578, 0.4763279450253563, 0.47719645788864495, 0.4707799581320768, 0.4772432042316039, 0.4752278295161927, 0.4821976191853462, 0.47617047436557064, 0.47802822631089614, 0.47115786443338975, 0.4771974412334342, 0.4734596164958723, 0.47718810372087755, 0.4795086750723962, 0.4755881861490293, 0.472166414272823, 0.4782414922335162, 0.47637162007719946, 0.47857089047412127, 0.47478849275869384, 0.4771622548135296, 0.4761989043263117, 0.47700210580081626, 0.4811530305305084, 0.4739012393708334, 0.47302461820927383, 0.47670413267525225, 0.4764188227805836, 0.4756453165252408, 0.47391093426299497, 0.47624453673517053, 0.47475343294509614, 0.47738359501040545, 0.4807760198528217, 0.4799409063933797, 0.47966404059891765, 0.4747184892431474, 0.47610673885384697, 0.4762092723158629, 0.47662364288260556, 0.48168632959024, 0.4760581519503601, 0.47853576239702605, 0.47404891332889726, 0.47549704275384674, 0.47631154406055914, 0.4795314025076648, 0.4788375068574733, 0.47362255410672627, 0.4761552805320404, 0.4745085193866981, 0.47262900082016773, 0.47942421942658775, 0.47610152814588236, 0.47874448446543, 0.4713104089698297, 0.47749973247732447, 0.4814103341615193, 0.478272475551345, 0.48184442487183393, 0.47837367304616457, 0.4809953848248735, 0.47560917250518986, 0.47626893501243805, 0.4758207597147229, 0.4779695615539454, 0.4741072076224835, 0.4747119493078579, 0.4765244431161539, 0.4793219743037538, 0.48205653382146296, 0.475806650472683, 0.48345676850147157, 0.4800883816833362, 0.4779147162006576, 0.47679866749812383, 0.4773996797301008, 0.48052480373345463, 0.47615523265890564, 0.4742676489070846, 0.4764875385207142, 0.46896922331077084, 0.47777748983390383, 0.47931448649712916, 0.47772224107851946, 0.47437147744486646, 0.48056797693645914, 0.4799637835485537, 0.482223850446202, 0.4733717871854243, 0.4767298759834017, 0.474823030291719, 0.47602706291690683, 0.4741999464791797, 0.4750114877331367, 0.47906779488294704, 0.47840020652635123, 0.47900164395885164, 0.4755455593122639, 0.4748321061220323, 0.4802462132942323, 0.47421694863328706, 0.4730420421457116, 0.47388360588382417, 0.4782476505025187, 0.47927854043480655, 0.47586845941944084, 0.48303487142645707, 0.4752331396009762, 0.47318339718176067, 0.4764413349884567, 0.47558636598781656, 0.47260805574163867, 0.4792781819003547, 0.4762539247473796, 0.47785893813169783, 0.4763816004012816, 0.47179773075041015, 0.47914598729003427, 0.4795228883024194, 0.47701818910818017, 0.48043179421266025, 0.48197667998336036, 0.4796718924886987, 0.47770861197489645, 0.4788614300918416, 0.4740141796326365, 0.47648407716431296, 0.4750425383345603, 0.4765004389657257, 0.4785537193404744, 0.47597987204479925, 0.47161983792485224, 0.47411533625886954, 0.4757289255020161, 0.47808982753555274, 0.47521203033170356, 0.4779262339672774, 0.4750058895682686, 0.4802640673676791, 0.47575174601744574, 0.476463454943054, 0.4748362186795792, 0.4798087619646499, 0.47130866625208934, 0.4733734597119133, 0.47659361729054356, 0.48245837049748913, 0.470765068074887, 0.475785127350963, 0.4739664906058361, 0.47798143135381177, 0.47662000311934427, 0.47604757534932307, 0.4799643894388274, 0.4805985974648368, 0.47084465066142545, 0.47611875178127944, 0.47860909995883655, 0.47936371460687993, 0.4767199878408591, 0.4759236176770534, 0.47891063066726924, 0.47114362047881003, 0.47593298811512585, 0.47615774115455634, 0.4752201266713907, 0.4756899399200648, 0.4776562427239216, 0.47789901947331104, 0.4770611670075036, 0.47960555183965564, 0.4767041599729732, 0.48001177532322414, 0.4767098161671137, 0.4827885116508893, 0.47311308356633464, 0.4757406948416961, 0.4754701009839122, 0.47583822183263275, 0.47560557339405624, 0.4748089677709125, 0.4729865207973573, 0.4755361848733802, 0.47345583569398364, 0.4788968916243741, 0.47621431959924054, 0.477052596642742, 0.4758886798613675, 0.47647352170635626, 0.4750893618534989, 0.47493634712614885, 0.47606153833067, 0.47807291565589327, 0.4780488039557905, 0.4718685979095935, 0.4785756056602064, 0.4796753996023666, 0.4760186816432176, 0.47776300623740253, 0.4765855245964325, 0.47087551953941237, 0.47030451487504904, 0.4699148739867442, 0.47121557722316376, 0.47977236197686435, 0.4787758246811381, 0.4746066106738263, 0.47783009590997005, 0.47639258532294815, 0.4794512634383654, 0.4836283500128714, 0.4722990132598852, 0.48002953322032793, 0.47506043938425, 0.47403162772691104, 0.47653406817454136, 0.47204892181392066, 0.48116406505312637, 0.4751172673445546, 0.4777500430545632, 0.4799755108124062, 0.47375074111199045, 0.4736979378650285, 0.4822541368500594, 0.4754219053937447, 0.4772046267294445, 0.47630277201751436, 0.47508232260151617, 0.4759476022771702, 0.47960407709052044, 0.47591562996661696, 0.47224473484026186, 0.47493375216777833, 0.4775736180211467, 0.48216076804388674, 0.478568851198766, 0.47420400638094173, 0.47799790245211476, 0.4730585017944467, 0.47423296955273964, 0.4775416939263017, 0.4746186151255839, 0.4743397036681908, 0.48439029085902074, 0.4761641560580672, 0.4796720004219277, 0.476487874001531, 0.47912558654950244, 0.47767869833268856, 0.48174944939303316, 0.47538173471752626, 0.47264098037571095, 0.47724933230205946, 0.4720068365386208, 0.47726744242424274, 0.47433213957879855, 0.47670830851163515, 0.4745413192795627, 0.47680840540365965, 0.4753657698402315, 0.47345919699528505, 0.4748785147877695, 0.47741323287008075, 0.47482067340045164, 0.47856776125323525, 0.4776666760558224, 0.4753296381816619, 0.47149747256989505, 0.47268739981540864, 0.47012568698258883, 0.4758733107296519, 0.47619867863063237, 0.47446465940021415, 0.4756883836599259, 0.47338461789235686, 0.48191557064697443, 0.47470017716783397, 0.48274908194115956, 0.4744410500527959, 0.47807505763995056, 0.47649950074724734, 0.47884594023164834, 0.4783326058733844, 0.4758714339009653, 0.47964930436352465, 0.4772948067618198, 0.4770572092814164, 0.48067864276435496, 0.47627152149770224, 0.4751002568372917, 0.47218419780358906, 0.4801076687745974, 0.47471708646769645, 0.4780776732135662, 0.479686912643683, 0.4780562281833504, 0.47553195875400245, 0.4732471395980387, 0.47755227887907015, 0.47605904893914586, 0.47658262098956594, 0.4773958200383738, 0.47709496180097494, 0.47979404170537754, 0.4750088453948829, 0.4744061948280342, 0.4790311683512903, 0.4758604138135403, 0.47707808132819746, 0.4762213142692554, 0.4781725692686438, 0.47442120471486243, 0.4755438392661719, 0.4814337844040711, 0.4746552094681849, 0.4764907722646068, 0.47557182140028265, 0.4743651736308494, 0.4803856955389346, 0.4839331316248941, 0.4799641316279421, 0.4761023846195666, 0.4769933003301828, 0.47634445626589417, 0.4748685082880225, 0.47649712370947417, 0.4755174312611816, 0.4727179576205377, 0.4761041336725025, 0.47851026192289436, 0.47695609556084195, 0.4757692893923485, 0.47788777338838706, 0.4785144453746175, 0.47436553945098114, 0.48208617364796286, 0.47696544709983235, 0.4729118778046651, 0.47776726235269074, 0.47895818369900245, 0.47503531521307296, 0.47688355003954064, 0.47812908666306225, 0.4788955495960557, 0.47558719847050585, 0.47672901916417043, 0.4805848556612864, 0.4750821728178963, 0.48138520548247304, 0.4722004697792414, 0.4756546513321442, 0.479246832245458, 0.4777685871558045, 0.47356829772029785, 0.4767116411439834, 0.47869053773370346, 0.47564829671447406, 0.4772998500342169, 0.47665133929337694, 0.47679440396859696, 0.48032870445131776, 0.47453188740317986, 0.4771365162929255, 0.48120129021936203, 0.47730290008640996, 0.4804386191785003, 0.47618463624021823, 0.47656556572709496, 0.4748232025410193, 0.4771782221300825, 0.47985627153130034, 0.48016664104616025, 0.4778029789455226, 0.4805970168524777, 0.47869353596683356, 0.47536350913132464, 0.4749360632217808, 0.47805354110641074, 0.47145314842860636, 0.47791683021215, 0.47679247795255963, 0.47599144341325106, 0.47576919419045377, 0.478179850633377, 0.46829896924400455, 0.47510874388904406, 0.47672108338512786, 0.47521276377318744, 0.4753385190604385, 0.47934229714789106, 0.4816755885971381, 0.47715078499132313, 0.4783857665056498, 0.47348416694058215, 0.47199546899301204, 0.4742259526031891, 0.4807665974408655, 0.4778574062440954, 0.4735986168170939, 0.47737317399171775, 0.4764408315796332, 0.4774595199063264, 0.4753364065231329, 0.47504282061970216, 0.47511105005879195, 0.47848133190302894, 0.4751168942753415, 0.47391209143073965, 0.47898361203142503, 0.4754226982176224, 0.47577243127014207, 0.4732374021850419, 0.47586833065263945, 0.4802576009899108, 0.48027557749604355, 0.47773065145125104, 0.4735866125524657, 0.47659075058263833, 0.4786621266365092, 0.47738142145675533, 0.47292427855104324, 0.4718966108313859, 0.4763291201725821, 0.47667555085336594, 0.474959762830008, 0.47667117805032017, 0.47335144140426694, 0.47876760592457035, 0.47644700584337335, 0.4758611328620237, 0.4773902353432716, 0.4710481085231555, 0.47849610689775024, 0.4795696769020669, 0.4749981586830239, 0.4736233542840953, 0.4758326227281854, 0.47653879114295594, 0.46985723965254306, 0.47253947315813083, 0.4783722116261439, 0.47819772241007086, 0.4823924975118514, 0.4771481102287111, 0.4723831697060116, 0.47724388740663454, 0.4732565964929182, 0.4798979929132441, 0.4822191217850102, 0.47869580379270454, 0.4737370958360261, 0.47421911690229285, 0.4770777141923255, 0.47652702996575214, 0.4773648655643647, 0.4757556198638424, 0.4722932528838536, 0.4700614094592621, 0.473366623563652, 0.4760783666308209, 0.4720700941161263, 0.4767083978544114, 0.4775503619729005, 0.4760415498404899, 0.47734771130589576, 0.4722314469697401, 0.47554088734878475, 0.4834194848128552, 0.48270946080404914, 0.4774648034180874, 0.47939525577407793, 0.479015561785306, 0.4743068436750595, 0.4817113137640069, 0.4764416384889364, 0.47676137862483486, 0.47654256431458525, 0.47834913190354733, 0.47732735843399016, 0.47835475512070696, 0.4696606999889616, 0.47473544201995477, 0.47872132071807405, 0.47583154580363385, 0.4781026299565366, 0.4742504225957845, 0.479069016667855, 0.47667769798566895, 0.47502574920196755, 0.4728969898882325, 0.47697504458561946, 0.4752425643694942, 0.4779578502793383, 0.4748782640571431, 0.4781420748875154, 0.47896008641537224, 0.47602184498677247, 0.4789097617147222, 0.4771582437795211, 0.4724476347029294, 0.47687803579184757, 0.47543157630163846, 0.4754645951957065, 0.4802667710392124, 0.47956241806051847, 0.47516619627551515, 0.4736757112450102, 0.47544245483069464, 0.47733241369510515, 0.4742127799106592, 0.47291006808907615, 0.4782093843120342, 0.4721883400610527, 0.4791682646743054, 0.473893754951609, 0.47553928363478093, 0.47785867238806234, 0.4712839680259374, 0.4737488714149457, 0.47859758013626896, 0.47937563425542173, 0.4787410887293738, 0.4785285462479563, 0.4786137703926792, 0.4748625180752209, 0.47813591793386473, 0.4785376104979879, 0.47904345734999604, 0.47683977151979984, 0.47850340458094454, 0.47616729832752475, 0.4729244483519167, 0.4770751265668636, 0.4765252318766547, 0.4778756019560091, 0.47175529490045975, 0.4730280236421731, 0.47607321061653857, 0.47322584619571295, 0.4762618599094178, 0.4751840456494487, 0.4775937244790034, 0.48158596333790843, 0.4803223015484618, 0.4739530775820081, 0.4743986271534895, 0.47830846315644626, 0.4761951304448506, 0.47713247154531047, 0.4774726787145968, 0.4758260773934502, 0.47637685426316245, 0.47461472300640567, 0.47618204549921594, 0.4748585374890018, 0.475259449546494, 0.47558298644804536, 0.478385087257679, 0.4757319049710047, 0.473796324909673, 0.47297263876067497, 0.4794170878907778, 0.47611839170270315, 0.47880663989143635, 0.4762072197387245, 0.4765916347527796, 0.4791194349997463, 0.4800778746324039, 0.4733730711538466, 0.47492420367028954, 0.4769948421450067, 0.4770103535645839, 0.4701512712537154, 0.47125036325357633, 0.4725351716330025, 0.47343861328999715, 0.4728344869966726, 0.477262613885214, 0.4761384044964423, 0.4724054195420482, 0.4734861732676101, 0.47646842008801626, 0.4794446935011933, 0.48167115993316256, 0.483171423973164, 0.4787467514363996, 0.4770561342687341, 0.47574849190236246, 0.47578823596358566, 0.4721628137484166, 0.47619159713942383, 0.47500749595702596, 0.47933057176205, 0.4784203633108265, 0.4794961881504163, 0.4739028828356352, 0.4745748104046442, 0.47521408650220764, 0.4794683165736549, 0.46976658161588086, 0.4782764226910239, 0.47849172650049127, 0.4796235362695681, 0.47737263804336594, 0.4750575880308824, 0.47411642533468257, 0.4773087242379409, 0.47684050371514075, 0.4747452144826429, 0.48076908391866635, 0.47795142412401725, 0.47509748259262685, 0.47143826433789127, 0.47380789730665374, 0.4698017710615332, 0.4728174726700768, 0.47685429782306116, 0.47186973553065864, 0.47672532327536493, 0.47492531642907426, 0.47714364149084965, 0.47606003657397505, 0.47860018381604846, 0.47007763064211516, 0.47327598212631, 0.47554254684434194, 0.47877640609606126, 0.48105617568152603, 0.47382480806160304, 0.4725347709533933, 0.4767387433305439, 0.47536057154196065, 0.477201488044575, 0.4785891690351166, 0.4762253832498905, 0.47615846713882964, 0.4782846311760668, 0.47704740594095113, 0.4758952586869169, 0.4731756167992845, 0.47479750493803674, 0.4779783750452759, 0.4761288767501341, 0.4769082960217508, 0.47675146837221644, 0.477464516253841, 0.4746147130249078, 0.47538174671148314, 0.47700779974763496, 0.4746458015184212, 0.4736983640063031, 0.4728441461073074, 0.4740510625226115, 0.47470920027098396, 0.47773335895476626, 0.4803253965758379, 0.4757454418290476, 0.47489267297514764, 0.478581088274866, 0.47787088885650847, 0.4738832799576229, 0.4758141059257682, 0.47483957421875905, 0.4770539362868309, 0.4752839157497161, 0.4777239596102769, 0.47428857567652705, 0.4753102561239013, 0.4787811862285428, 0.47776604422881064, 0.48058113269908437, 0.4764428856381681, 0.48184083780800196, 0.4782193084487967, 0.47564115851111466, 0.4798131449959045, 0.47585523493928256, 0.47513163737275493, 0.47616122287018675, 0.4737619085480819, 0.47463374481571036, 0.4836446514156939, 0.4781927740375684, 0.47477125616531685, 0.4732251611911578, 0.4779271903213357, 0.4764299579586383, 0.4773422102311356, 0.4754781840272359, 0.47815073264031777, 0.47360530560568853, 0.47553901363735407, 0.47618709594543074, 0.47562287847202184, 0.48175055353847485, 0.4777527174979753, 0.4828076707286133, 0.47438212812242886, 0.4756123997014292, 0.4777369955414999, 0.47560529577365845, 0.4741948992818601, 0.47474093307167015, 0.47958086747667633, 0.47530505832447123, 0.4747315047177042, 0.4730794344226825, 0.47782624838055615, 0.4735817784748073, 0.4762514368444474, 0.4715465355283329, 0.4787415312400671, 0.47989468198581947, 0.4786354226048964, 0.4749554414161374, 0.4744931286747099, 0.47519400738167245, 0.47620223254977967, 0.47779592473080285, 0.4799154197185035, 0.4794149818797253, 0.476889555411337, 0.48121563086324415, 0.47279803504355056, 0.4777569168406539, 0.473874898460481, 0.4731979965898624, 0.474124582330877, 0.4813430813762077, 0.47383230734031306, 0.47712885889427226, 0.4848467229456852, 0.4745249057080382, 0.4755150255902516, 0.47507692001716395, 0.472542943221603, 0.47465336935001445, 0.4777678393755349, 0.47684467577496836, 0.4716103583204251, 0.47502653884173546, 0.47886229678475756, 0.4784933597412618, 0.47535537178960363, 0.4802892502570515, 0.4747803153977893, 0.4788847634890746, 0.47807190680178857, 0.47410119317468474, 0.47463069212265496, 0.4781369218656693, 0.4851906196153536, 0.47404052372493194, 0.47541206756625026, 0.4841494039290695, 0.47583530941781477, 0.47249090447246284, 0.4728483080509302, 0.47669304524183154, 0.47409510431832347, 0.47598761688602714, 0.4700046420369741, 0.4801399292514567, 0.47404121789087156, 0.478887830816846, 0.47298746422278864, 0.4793423502322802, 0.47330452861277766, 0.4831203432081073, 0.47979545554643377, 0.47754165723234154, 0.4742144934713324, 0.47402742386143576, 0.47161814314021816, 0.4752834487363288, 0.47639137574109747, 0.48019183893506023, 0.4743023560383229, 0.4710631869664844, 0.47877378846251933, 0.476609643748958, 0.4750255805165355, 0.47511986050049004, 0.4725516743470527, 0.47173200339605886, 0.47893889313375243, 0.47784013186051605, 0.474263430932068, 0.4820279849800689, 0.4730816568018327, 0.4797736103436966, 0.47875670969313167, 0.47581876427712444, 0.4759937462785581, 0.482652933867647, 0.4735706316360355, 0.4732212618526788, 0.4789965458281346, 0.48047129714216785, 0.4790784269593828, 0.4789613231897109, 0.4801118725877174, 0.47592232029447096, 0.4765019632403127, 0.4806838788498141, 0.4765932037716078, 0.4741559185822802, 0.47235162486358223, 0.47763450273276725, 0.47700526367700663, 0.47846925202637886, 0.47759226364905005, 0.47493113072128923, 0.4766471649731735, 0.47460901955974566, 0.4696374058246653, 0.47522680687440516, 0.47548950682165386, 0.47845674038806374, 0.47328078788662575, 0.4804987714007283, 0.4743346292002167, 0.4805492017272458, 0.47359841668618746, 0.4746372506337335, 0.4748639885349665, 0.4805573021132307, 0.47065570993149436, 0.47988375583600323, 0.4828159367374289, 0.47579954708006866, 0.4741219223103126, 0.48129615395967773, 0.47150373331449735, 0.47479033444511487, 0.4776475848564751, 0.4812554724517546, 0.47404024924476923, 0.478381264773447, 0.4738401057627523, 0.47548662922149326, 0.4760287520673822, 0.4786937159248553, 0.47524106223205165, 0.47287288012444545, 0.47613096685645034, 0.47434566060855654, 0.4762518028563616, 0.47457044619980177, 0.4741006962777091, 0.47419843291364455, 0.4789109252123298, 0.47663921408753007, 0.4678556313263685, 0.48000910952037057, 0.4730585016691051, 0.4787424147339039, 0.4778136683858413, 0.4762791029483841, 0.4760058694623639, 0.4780518565709157, 0.47600489420513287, 0.48043033312894107, 0.47554051795179453, 0.4793018089574975, 0.4798802710654075, 0.4754761317688374, 0.4751166582944557, 0.47743126556841786, 0.4762595407689152, 0.4785535953494121, 0.4731016510571157, 0.47564769315634614, 0.4811269525552468, 0.4744992954540416, 0.4778624558665155, 0.47926104829756244, 0.47480471288751036, 0.47408838488283644, 0.4777105970156184, 0.4788725669541263, 0.4821488172016147, 0.47831407882458593, 0.4742490138154124, 0.4729203567352251, 0.4729072437843017, 0.47508545777620403, 0.47739886645552143, 0.47285356570029496, 0.47438509329882916, 0.4773664343445636, 0.4774353812834078, 0.4735161762092618, 0.4745773161500593, 0.479621972891236, 0.47646199617123997, 0.48413344461641605, 0.4762214202035653, 0.4735652072844907, 0.4753696183529374, 0.47129061497469527, 0.4778499240722083, 0.47724911017222316, 0.4820490892425176, 0.4730046206230779, 0.4730038441913423, 0.47602085525689275, 0.47111777663838184, 0.477531090606178, 0.47403257567679735, 0.47199836450823435, 0.48160650687955037, 0.47309308361669566, 0.479310029280629, 0.47889631839721797, 0.48147134824174953, 0.4788596736959054, 0.4793727762140939, 0.47375620455184175, 0.4827403379486839, 0.4736505253859411, 0.4805468676227708, 0.48152420675181157, 0.4758225809569956, 0.47761075437738765, 0.4745896600214897, 0.4756145415574906, 0.4778520070775719, 0.4760260644215117, 0.47572841957963014, 0.47940779569674985, 0.4751456939830726, 0.47665271039615487, 0.4707339687828391, 0.480172524981102, 0.4716800920808154, 0.4767259916666709, 0.4745753614867652, 0.47057032158232337, 0.47642148909473164, 0.47626913449306374, 0.4837736038200162, 0.47839930012823756, 0.48098109709734066, 0.4735321256624797, 0.4772036904218742, 0.47919308676719075, 0.4748716144781728, 0.4780305321450056, 0.4765939399631373, 0.47351858245596506, 0.47192127080580865, 0.47912423411657373, 0.4778781182675297, 0.47633952882321906, 0.47284601425714906, 0.47245139136107955, 0.47638490826282637, 0.48117909858903596, 0.47718998534178614, 0.4764670043590264, 0.4756220764032067, 0.4739630082138746, 0.47504460569557283, 0.4729959485881755, 0.47624887368416696, 0.4759266071835869, 0.47849337596185626, 0.4821810976303911, 0.4764119854657793, 0.47845625067931447, 0.48317734273046353, 0.47116050063140036, 0.4758844072448478, 0.4763668948233437, 0.4722544684071876, 0.47425326711932747, 0.47194080816792355, 0.4765985152765626, 0.4772723968923753, 0.4729664338363386, 0.47916340347372355, 0.47891513799191615, 0.47824208379984334, 0.47483951563256305, 0.4795783549399595, 0.47994232095352035, 0.4794137982196254, 0.4764045257074862, 0.47936863718142464, 0.4759950246716107, 0.4715923644562998, 0.48226396419919015, 0.4783590806032226, 0.47427858131470235, 0.4789143110062013, 0.47740385694466986, 0.4813480115966395, 0.4776094835328528, 0.47213822255632654, 0.48419193126178023, 0.47813543684577947, 0.47648916784919526, 0.484422052443447, 0.47844349420194177, 0.46993514040449247, 0.47726702567207435, 0.4767045896078953, 0.47471892758643935, 0.4741112143339047, 0.47798369031663623, 0.4762740228182874, 0.47525289092972844, 0.47627409820509164, 0.47239834806792025, 0.474858476835302, 0.4749068923000225, 0.47866650132653255, 0.47672770487357674, 0.4694238567310514, 0.4794016907727342, 0.4753816164107995, 0.477614593965603, 0.47513129075511623, 0.4761723148431558, 0.47895978368619646, 0.4751946197126827, 0.47907946937063733, 0.48337352671434025, 0.4792227396761658, 0.48063860134900127, 0.47680369528183936, 0.4746809181031475, 0.4803871297445286, 0.4775720399693311, 0.4769663739150808, 0.479219315235819, 0.47962230409092105, 0.479282005979797, 0.4802658266519502, 0.4749621623839201, 0.4720905979833587, 0.4767218353621321, 0.47466283240547713, 0.47410410884124504, 0.4754528083699742, 0.47197331820744043, 0.47341843860526633, 0.479013995071883, 0.47338860556799545, 0.4769322326321467, 0.47819603737303196, 0.471915468292454, 0.47900401972090784, 0.4737954168819395, 0.4730967974639948, 0.4766026224739807, 0.47454051918484463, 0.4762373781927151, 0.47967488997603963, 0.4762260174831259, 0.47966549477162534, 0.4826776321458923, 0.47728143125287414, 0.4802900746795172, 0.4776869063608961, 0.4703228805426336, 0.4786205173397805, 0.4742267545252785, 0.4769596980754041, 0.47461307996284086, 0.4788914690437342, 0.47623430205532774, 0.4776823639712774, 0.47646936356040653, 0.477007322664127, 0.48043334180152303, 0.477907838070623, 0.47158834421661244, 0.47659982583129523, 0.47363917832603375, 0.47719941744110395, 0.4781315693535349, 0.4743796636074347, 0.4759181111063952, 0.4737283499063646, 0.4797984721325824, 0.4777759542476157, 0.47254302487116073, 0.4778604229817655, 0.4720018770541974, 0.4779785026714286, 0.47279656450786095, 0.476756649975109, 0.47686270949578513, 0.4758913405563885, 0.4732409770767928, 0.47396687238288726, 0.47719362783889163, 0.4751992878513064, 0.46914977497598276, 0.48045667589457625, 0.4807038748966622, 0.4770419677939939, 0.4694061047412422, 0.4772628965233926, 0.4718722199916258, 0.4744299230144942, 0.4779582068801686, 0.4744144348517375, 0.47835753421558597, 0.4762484851019732, 0.47221414072336376, 0.4778459137233916, 0.47620787089897143, 0.47789062757591494, 0.47795872360743136, 0.4747804817379642, 0.4735013641494015, 0.47356018827501056, 0.476650649883382, 0.4761520021454101, 0.47155416729924604, 0.4740937191569808, 0.4749631113909166, 0.47904124664764736, 0.473573768012229, 0.47204848433253754, 0.48006725026160196, 0.47793232207875963, 0.47147084441140563, 0.4770608310361991, 0.4763277384745675, 0.47529146553302243, 0.47452392981439945, 0.4753902547084181, 0.4753930371323505, 0.4755324540579346, 0.47729468039113865, 0.4730566517067132, 0.47371841276867266, 0.47773048553210795, 0.4796086298577898, 0.4802282802847434, 0.4808499088135463, 0.4800466940459559, 0.4771076311031683, 0.47293334357793515, 0.4780509559788787, 0.47587920205715617, 0.4759115376955902, 0.47233989868271803, 0.47713960187737037, 0.47317801720341707, 0.4734340192286728, 0.4745660698866172, 0.4800638386522355, 0.4730599439116838, 0.47371914418509475, 0.4792854687377584, 0.4731561605035592, 0.47888428125019866, 0.4738768405558735, 0.47717430437093084, 0.474345361569155, 0.47842021329314127, 0.47123479520417955, 0.4721816698660157, 0.47572666055346396, 0.4757111682995274, 0.47011000872083114, 0.4764172071971376, 0.4762901435331124, 0.4755549463954056, 0.47516796723856675, 0.4741163976220173, 0.47601848092939075, 0.47739316721927494, 0.47335486705226265, 0.4769890225396767, 0.4775717948819497, 0.47623438265930207, 0.47821383071691403, 0.4817429070321316, 0.4788159141415633, 0.47575552978289687, 0.47668691618031533, 0.47019573169414275, 0.4743188309920546, 0.48026460911245605, 0.47570779997923013, 0.4786895772865241, 0.47318828494637044, 0.47551032386995595, 0.4756485725383565, 0.4767801971253424, 0.4781695237851594, 0.4788818145637761, 0.4760472179551603, 0.4763529882722198, 0.472185171968571, 0.48016777469222344, 0.47370115167361226, 0.48020449528519205, 0.47890508320272807, 0.473834312044429, 0.4781266397062006, 0.47739285160332995, 0.4749261979335663, 0.4782753457588352, 0.47569460289364285, 0.47519110310867313, 0.4756093028178881, 0.47868757069638573, 0.47883825406067465, 0.4759813211881873, 0.4808484769767538, 0.47761256163661325, 0.4764195553070013, 0.47473972320748414, 0.47650935568947195, 0.4739098169207295, 0.47597589271821317, 0.47551308447037155, 0.4731776025307538, 0.4726407708919502, 0.4735566687147651, 0.47842442924732065, 0.4754919155602503, 0.4760988157392525, 0.4784017413688365, 0.4744111879761177, 0.4774278865995677, 0.4759722472948562, 0.4751170997653624, 0.47366099866600686, 0.4763256716125989, 0.4745772842640431, 0.4749367020532478, 0.47695557403042677, 0.4699378217598654, 0.47368046915543405, 0.4791349572426345, 0.47156873205120337, 0.4772434707101523, 0.477727725342006, 0.4735662195147152, 0.47539139305074496, 0.4771130926664985, 0.47796305289949076, 0.4755716568434141, 0.47282486426641634, 0.47638472502524704, 0.4784596818002591, 0.4737341832540338, 0.47999007407811095, 0.4768512751051336, 0.4754429053483036, 0.47203001720651, 0.4713112829433091, 0.477383415868449, 0.47558506129998795, 0.47781986218409367, 0.47689778158962537, 0.4817273540290311, 0.47569323949786374, 0.47774755169074345, 0.48265506196941743, 0.47616419467551496, 0.4769505580750514, 0.4724892212413189, 0.4767440403696885, 0.4761215875476076, 0.4757956772763077, 0.4800024808170469, 0.48418061527346723, 0.47148752802810584, 0.4769672305229982, 0.47227602503468546, 0.47770105578536254, 0.47606152617197683, 0.479635295277645, 0.47566453332104236, 0.4720305593450828, 0.4752612720549891, 0.47955241734473397, 0.47313933690126875, 0.47079122520737327, 0.4724283256385105, 0.4756194341267377, 0.47615788419812005, 0.4734817719889658, 0.47524474272007333, 0.4765183465095057, 0.4757602484996004, 0.4797397316684175, 0.4766803668546584, 0.4751538917082916, 0.4809260491678376, 0.4709133550251154, 0.47985985410241416, 0.470644067054961, 0.47878851753086177, 0.47355897140711134, 0.4770512273343497, 0.47941701905510287, 0.47478016471318035, 0.47506138283240457, 0.4761130984548727, 0.4729963112046194, 0.4771984158762329, 0.47462273080527967, 0.479140861569317, 0.4763038716461002, 0.47506455963404526, 0.47736283669646157, 0.47579632760804513, 0.47933882111929216, 0.47361222772309786, 0.4769974441343173, 0.4777780595364949, 0.4830130403804064, 0.4720241093482394, 0.474080350243216, 0.47636814351991835, 0.47948221724276846, 0.4759199292310464, 0.4773174205623803, 0.46994151437011555, 0.47347727444756976, 0.4798602366512715, 0.47455473510640134, 0.47694437047780514, 0.47922621672169724, 0.47447314300069776, 0.4762754956451174, 0.4786855049676753, 0.47813746131685064, 0.4763461805061969, 0.48078379259222837, 0.47779142062835533, 0.4724055818391648, 0.4730841513380625, 0.4813409295441966, 0.4783557523569197, 0.47474908482366124, 0.4716954741605596, 0.482785808238889, 0.47007079727700285, 0.47128260247090353, 0.47665137864803603, 0.4752411918501104, 0.4786414727051405, 0.4781038663295141, 0.4758989388789533, 0.4759530672745687, 0.4792219692119006, 0.4701436094180908, 0.4749927861454979, 0.47910245898583065, 0.47642670674478627, 0.47560431431588546, 0.47756343219714237, 0.47548478483253753, 0.47584483643405573, 0.4768123314375755, 0.4730136404642645, 0.47590697086513617, 0.47548541383687665, 0.4791499168919952, 0.47817694265362515, 0.4791919841438597, 0.47535760599174015, 0.47475041899625503, 0.47737495610691016, 0.47870322368514273, 0.4778672167057712, 0.4750826681067637, 0.47797003891275186, 0.4799673981383484, 0.48192270092594075, 0.4807158984381973, 0.47751806721159623, 0.47737706559456494, 0.4745964100517776, 0.4741878181986378, 0.4787674514063379, 0.47965114442485074, 0.4759105357463585, 0.4754107592454062, 0.4800914337955179, 0.48417843489788986, 0.47801718217151457, 0.47921623430119054, 0.47704513514415714, 0.47504976153300166, 0.4778647202842498, 0.48005002070114927, 0.4799823293217257, 0.47704002317852784, 0.4791560865360721, 0.47891022312318654, 0.47964287887814433, 0.4795635146753743, 0.4743511273378077, 0.476778403356694, 0.4766597509835306, 0.4807262464363032, 0.476691248793302, 0.47797197969261646, 0.47808058535490977, 0.47774157108001863, 0.4767779267713816, 0.4739102036953037, 0.47755366717682085, 0.4760882165329288, 0.475464722315415, 0.47456495663959586, 0.4778428576882332, 0.47764340102827896, 0.4752977294438878, 0.47427672791720765, 0.4791242716022888, 0.4754937177034017, 0.4795256190938737, 0.4745382529512734, 0.47821225589915023, 0.47943986754320067, 0.47786245339330713, 0.47583529476655706, 0.4800333581373415, 0.4794342360314288, 0.47737256907769965, 0.4729931288164506, 0.47351159051262287, 0.4732521944458206, 0.47577316338003683, 0.4702746365452375, 0.47299139798381085, 0.4759729276374294, 0.47601696179432007, 0.4803236871682617, 0.4802172177718978, 0.47535920508113827, 0.4765649741142016, 0.4756163108999866, 0.4794977628695731, 0.4773852086513201, 0.4751345755549116, 0.47889908980909085, 0.4752758773374099, 0.47871641954128363, 0.47514897844740855, 0.4765845400345227, 0.472030813295657, 0.47626761870110434, 0.47808822329413325, 0.4755408316997858, 0.47668107839108675, 0.4732169473529035, 0.4766351267988172, 0.4757771826808368, 0.47459190286140296, 0.47448555254428204, 0.4756992176794161, 0.4742577050313159, 0.4756033798698249, 0.47472899648341443, 0.47652236183922664, 0.4791530658532719, 0.4818231700913154, 0.48150137640197915, 0.4720497187818266, 0.47379288018084326, 0.47424276236025364, 0.4772308604511305, 0.47704990919911044, 0.4759220267257604, 0.476435481099245, 0.4795085538130041, 0.4715820806752493, 0.47849005631602115, 0.4732349882939944, 0.47604051900559774, 0.4742057658628831, 0.4769641851359107, 0.47716696989692636, 0.4770352623299142, 0.4752013282120283, 0.4762065418256393, 0.47665585460966975, 0.4773697245428168, 0.4765135739993286, 0.4709101259176743, 0.4746335457372233, 0.4757453855506616, 0.47631929072710477, 0.480472407968418, 0.4748523520529973, 0.4766712028286648, 0.4762506605004101, 0.4713935266156657, 0.4729220005898218, 0.4735838602278148, 0.475517092807609, 0.4807583393993346, 0.47144587611080796, 0.4811101750210087, 0.4773631314138976, 0.4759592849245854, 0.4730703896158731, 0.47975011509088494, 0.4775457890032099, 0.47385688713042357, 0.47507274051892606, 0.473793846593112, 0.4786902261125658, 0.47624230163801107, 0.4733863121646273, 0.4752956379887558, 0.47445700643119576, 0.47005233903363397, 0.4748153437263912, 0.47219295200375566, 0.4698991828786037, 0.4789525534620232, 0.4798151121305546, 0.48183906955008055, 0.47791903187765905, 0.479456165643122, 0.47498420453017465, 0.4794790843259219, 0.4755817314659169, 0.4750261126752192, 0.4767971958054384, 0.47691110717147933, 0.4761571613249736, 0.46958178936587514, 0.4766518625622786, 0.47546399672438305, 0.4830642765663077, 0.47952393764730394, 0.4752885755964085, 0.47614620447427525, 0.4783814867763369, 0.4752961552392153, 0.4765429872618247, 0.4689652264535288, 0.4771928906382227, 0.477267514866663, 0.47608631179228333, 0.47469834183958487, 0.4797984992517203, 0.47468508005310367, 0.47761041575096946, 0.4740599142967522, 0.480973536793739, 0.4779021049593802, 0.47567174909139753, 0.4786490680672675, 0.47618803292231965, 0.4744828132872534, 0.47904802726495677, 0.47700642094043205, 0.47391135494397696, 0.4772096423931552, 0.477371942622067, 0.473735645803245, 0.4768296334027408, 0.47513173610124093, 0.47950809669750794, 0.4744674962916597, 0.47489749130890835, 0.47965386375274877, 0.4759888595294911, 0.47559047949615607, 0.4787203297552266, 0.47663256831679696, 0.48065769262311964, 0.4722861781475285, 0.47668179034990127, 0.47600511237477955, 0.47455222703785394, 0.4743559769431968, 0.4766272444152268, 0.47798795333560856, 0.4785515668373063, 0.4704290237304944, 0.4756804813406773, 0.47701754443098976, 0.4788712353017819, 0.47800481640720727, 0.4766380986301505, 0.47503312524113267, 0.47601751631839667, 0.4824102895809986, 0.4766059571367809, 0.47618532651878376, 0.47645805584879963, 0.47376012724314776, 0.4731605843570964, 0.4750101052637239, 0.47810618993893156, 0.4775717010309463, 0.4803748862395686, 0.4766487557860211, 0.47717242743234484, 0.47474463938015204, 0.4788876984981118, 0.47405205245314136, 0.4753075120980836, 0.4758860687888879, 0.47673504156448687, 0.4724012509678679, 0.47460105840501376, 0.47767362311523487, 0.4807503309517998, 0.47773870142994745, 0.474994652529497, 0.4768540098214802, 0.4730665243171687, 0.47808571711928505, 0.4774880432062169, 0.4746766472185867, 0.47786012930850846, 0.47407612616678485, 0.4810541828359123, 0.478802158109502, 0.47567498143923403, 0.4789894789537541, 0.47100948753857885, 0.4705726051445633, 0.4754115352888267, 0.4760956764283341, 0.4772429593344525, 0.47503697149459595, 0.47524097891428824, 0.47675926151150977, 0.4743058988193891, 0.4756229193550859, 0.47818957888207364, 0.4755832314264188, 0.4743795219219491, 0.4775325680738181, 0.4770378328258372, 0.4790037402407132, 0.47530374670594794, 0.4766495907676381, 0.47719466712332576, 0.47349056315414895, 0.4771535940641877, 0.47641222429115465, 0.4812962150985408, 0.48071386352250556, 0.4792530231254152, 0.472824694611611, 0.4740030226356826, 0.47493192203112533, 0.47875572541529554, 0.47744246090853404, 0.4760443128138295, 0.47800324881328526, 0.4762249992407047, 0.477915569383887, 0.4738782644232933, 0.4765866868598206, 0.4755929809833737, 0.47680106567311553, 0.47802061692404396, 0.4748730747714368, 0.4783646848254209, 0.4741943565895884, 0.4757470051416366, 0.47828275589766467, 0.47817287835120725, 0.47441515581362936, 0.4764767175409793, 0.4744633597784191, 0.47582678674999923, 0.47436002101351005, 0.47480551696015905, 0.4758160570699018, 0.47500849404398054, 0.4781153209415183, 0.4796099120842833, 0.4769623229721948, 0.473254913467829, 0.4791208025644855, 0.47718466199297105, 0.4724170717697101, 0.4783494067138212, 0.4795971227027984, 0.47383476750584863, 0.47660056190427474, 0.4800953191412642, 0.47617446512730216, 0.4760413045152678, 0.4759638044277783, 0.47706549387196595, 0.4761704965439333, 0.475738452348081, 0.47308209722739103, 0.4812645862783255, 0.4770253342447666, 0.4766926636585426, 0.47872840925199234, 0.4722506433081658, 0.4737861281228672, 0.4753531668778213, 0.47780990887090163, 0.47592052891656433, 0.48138734292402857, 0.48035541603106147, 0.4750389913598937, 0.4770798721527515, 0.4737540928596627, 0.4781365630736005, 0.47436385040278, 0.4741551247389991, 0.4759694844183658, 0.475616703166174, 0.4739675369424582, 0.47319223910259856, 0.4786549139012447, 0.47814160703665387, 0.4774561032914492, 0.4723661105396709, 0.47450271787830783, 0.48358283422027726, 0.47838822076906495, 0.4761294734145818, 0.4769426003520735, 0.4747170573794488, 0.4725997426717616, 0.47802928768183783, 0.47334930970805933, 0.47768509264222475, 0.478442661355755, 0.47575405596405745, 0.47866201849292656, 0.47430735152261166, 0.4755545847497947, 0.47315391526675615, 0.4735721258167407, 0.480382893897808, 0.47290952524024177, 0.4776512740292716, 0.4753918289366491, 0.47680991722239047, 0.47196944468742613, 0.476438939010205, 0.4761128471752159, 0.4756200611926916, 0.47701065802313825, 0.47928492209523754, 0.47937264657301176, 0.476011002419395, 0.47600551528891205, 0.4785042881249459, 0.480188351130547, 0.47869795624860967, 0.47810258511524184, 0.4801657987192529, 0.4740305191882492, 0.47869834229427577, 0.47370767554149484, 0.47355950386783247, 0.47498267886712964, 0.4795975983574547, 0.47767618241132875, 0.47286617332373015, 0.47866927484590577, 0.47377899489489667, 0.47897999323103274, 0.47780887533863825, 0.47761425370199106, 0.47523445967208977, 0.47070123574062517, 0.47279867252805113, 0.4774274046119551, 0.47866846773679, 0.4740186389390458, 0.4780107662242067, 0.47900490681855357, 0.47474883088229225, 0.4784788433291472, 0.476871640399267, 0.48178862008955087, 0.47470929713545845, 0.47948163015959455, 0.47681229516330714, 0.4778443506088007, 0.4717566602123851, 0.48229583164270373, 0.47505640494537726, 0.4765110248791887, 0.47576355489149497, 0.477904371960933, 0.4698963013428078, 0.47358805804910636, 0.4748460258906636, 0.47726306760622794, 0.4742488553376043, 0.4762484796264507, 0.4733883644290433, 0.46897098503131973, 0.480019525312049, 0.47787072512549605, 0.4729994096551842, 0.47624021469398714, 0.47751937875797185, 0.47826672241246415, 0.47576009774629785, 0.48020171892128005, 0.48010495982147766, 0.47473320964727833, 0.4735147556117852, 0.48005981111028395, 0.4783407654062909, 0.47740882845979526, 0.47430347432877445, 0.4781784740074768, 0.47576083234265226, 0.4762993150069048, 0.47430843223718466, 0.47738154915298714, 0.4763904455322459, 0.4773475928489525, 0.4775478627041174, 0.47548746439751516, 0.47716993134836333, 0.4804770847421176, 0.47515651244640555, 0.4802198920631689, 0.4782962501389608, 0.4805163481074864, 0.4767353797643797, 0.47148231721765577, 0.47377732951780804, 0.48119910055508086, 0.4722040886021768, 0.47989892712529536, 0.4752762853673474, 0.47643252434530825, 0.47494683309420593, 0.4714212930781701, 0.4779247982477335, 0.4768472738713565, 0.47506245661593716, 0.47677621966465045, 0.47638887688966597, 0.47777880777339266, 0.4814674885269625, 0.4745053665926109, 0.473335045495325, 0.476027374951719, 0.4751951919114393, 0.47560768440090284, 0.48065740712862576, 0.47674525081293395, 0.4789102304847064, 0.47766739149656, 0.47941430022333037, 0.4793599073857693, 0.471459940725247, 0.4790772322887635, 0.47350377988314285, 0.47478955531807765, 0.4786345109021695, 0.474558299058643, 0.4798493678363917, 0.47655795208553425, 0.47550408534301114, 0.47621132032769786, 0.47986787392733105, 0.4759346844610017, 0.4779402900786228, 0.47362338422406813, 0.4811655287432354, 0.4760944388720518, 0.48205884431482, 0.476235801719189, 0.47120682054474006, 0.48036626308027797, 0.4753427381204471, 0.47614317587663646, 0.4760303567924901, 0.47907219895494585, 0.4709182614373536, 0.4781936873874274, 0.479110324303224, 0.4743427662767031, 0.47429839698744736, 0.4724720389123373, 0.4759870799628949, 0.4739173722772127, 0.4763596530151449, 0.4804959635136495, 0.4769045677484801, 0.47677291154771656, 0.47520019386638335, 0.474616868354433, 0.4767335461281793, 0.47821981707945116, 0.48315751734226625, 0.47763830775970684, 0.4698049139623512, 0.47434517439066426, 0.47528421111814323, 0.4744043567779773, 0.47843423844737704, 0.4773290988228266, 0.4769538605640666, 0.4776833235967538, 0.4730030764385217, 0.47212796339338936, 0.47618779247970894, 0.4754023125023987, 0.47575387794227053, 0.4734244840587347, 0.47550363624512965, 0.4753153397871366, 0.4732393393399916, 0.47774991156737956, 0.47557476462869225, 0.47936893774102596, 0.47967830931876215, 0.4773396446719033, 0.4799299649701525, 0.4749312050219573, 0.4780244352570113, 0.47597248226059, 0.47820656276109474, 0.47853593664781124, 0.4753915643254551, 0.47567343071250434, 0.47786083613444297, 0.4748964019656999, 0.47693092849963065, 0.4800794703795497, 0.47638809271128063, 0.4769161529834984, 0.47676507184563455, 0.47676081913220714, 0.48343339933356416, 0.4787007917625238, 0.4785272031131478, 0.4717498731255815, 0.47951629371267174, 0.47435013960113553, 0.4738112682803785, 0.4783307898506764, 0.4753132678341764, 0.47940839092836607, 0.4780790523317521, 0.47724259120816015, 0.47463572961043005, 0.47329415708644473, 0.4823178977989793, 0.4806519413032022, 0.47804959446875983, 0.4801888364709013, 0.4794853550236641, 0.47900783408544223, 0.47389739965456595, 0.4727270908480739, 0.4753666056060381, 0.47943145717173175, 0.4750816824466172, 0.47601949334189325, 0.4774812851431532, 0.4758887785400206, 0.47842583918037124, 0.47522424452678746, 0.4810187968765218, 0.4775955112009904, 0.4762860767809159, 0.4782187343431347, 0.4735739991194649, 0.4744372854078952, 0.4768896966225068, 0.47354968045775336, 0.4759283963631825, 0.4752666396915639, 0.47183679696256586, 0.4774482213508049, 0.4807493334857811, 0.4776722791267751, 0.4761419602132249, 0.4764599971762699, 0.47637445872804923, 0.4742542090212986, 0.4765626700870316, 0.4780833991824203, 0.47719897476133216, 0.4801893487283661, 0.4812529639321363, 0.4729269310702247, 0.47548895446526235, 0.47865073697239124, 0.4767377334596601, 0.4759526913870617, 0.4818385477625635, 0.4744207559761183, 0.47787072445784484, 0.47984535493517294, 0.47660826856963195, 0.4773062803969701, 0.47576591729615186, 0.47700884055464465, 0.474271324624969, 0.4813842690549229, 0.47738067217390456, 0.476682453288138, 0.474155340150049, 0.48334383786995383, 0.47247312736567904, 0.4777723576493897, 0.47721493179839486, 0.47653844602436346, 0.4829933819078315, 0.479063355858174, 0.4756604967581209, 0.47787814843124854, 0.47633618007828293, 0.47401480003758945, 0.47363988064639745, 0.47717479751486575, 0.47626752045353277, 0.47697727447256827, 0.47722091575572967, 0.4778752933570854, 0.4716222351664643, 0.47638498082964736, 0.472527180641394, 0.47487369790916123, 0.4716453707944446, 0.47766451443651287, 0.47886499785858694, 0.4762265308753474, 0.47655748753034377, 0.47853101767892703, 0.47578339714276985, 0.47693933980025127, 0.47936228474756987, 0.4728471481661174, 0.47664400709668986, 0.47643171808273604, 0.47402974365081657, 0.4763206267461509, 0.4733101962940819, 0.480985580647453, 0.47515740962014846, 0.47831007442693063, 0.4749952146160673, 0.48035655586027604, 0.4795287126636584, 0.4770142722495627, 0.4768911961554728, 0.47817561885357407, 0.47772185544347057, 0.4800956083950082, 0.4807372173976473, 0.4777145996834325, 0.47686917583623445, 0.47680006029019983, 0.4722192637335575, 0.47470435080887446, 0.48140914682723474, 0.4772314247228182, 0.47629581825398515, 0.4743758116656162, 0.47367168530647247, 0.4730465305523703, 0.4769231361280162, 0.4754885376075232, 0.47483980458640956, 0.47857709416942235, 0.4784498351146007, 0.47607840713677985, 0.4700471735794094, 0.4731871802748237, 0.4785458353729115, 0.48036590137777785, 0.47377426005809853, 0.47453336026721515, 0.48044819101204045, 0.47853790224376, 0.4765670047471059, 0.478774323972, 0.47787078718960324, 0.4797684210201853, 0.4778019826542485, 0.4784422454200299, 0.4768370527342809, 0.4809861302347922, 0.4814147403389615, 0.4760798055500969, 0.473671460004998, 0.474989239944628, 0.4724250477067298, 0.47937560444822, 0.476500688646355, 0.4781457403642162, 0.4774557852228669, 0.4729427097628094, 0.4774409701747778, 0.4734531034462387, 0.4740718386145954, 0.48142506231394033, 0.4800847963830388, 0.4736140825676004, 0.47591630549244923, 0.48229369467532257, 0.4721643077375756, 0.471641482170029, 0.47504652635596134, 0.4757236838730093, 0.47920620770618433, 0.47803629701506384, 0.48150513676786577, 0.4782877956936777, 0.4739686937530795, 0.4759200918297862, 0.470275231201612, 0.4766088883724101, 0.4760007030284851, 0.4774623666086873, 0.4750198150226075, 0.4737352562973827, 0.4698163461580123, 0.47892437718878733, 0.47962425452107615, 0.475923123261703, 0.47874463641354437, 0.4811792760783074, 0.47722908262290703, 0.47433005530011824, 0.47554202670170626, 0.4784502585798447, 0.4753511243491798, 0.4743413969686805, 0.4804483227366373, 0.4774525069032479, 0.484836258533998, 0.4689194802363278, 0.4759247965348104, 0.47879552625759914, 0.4792606479190603, 0.47861332382914623, 0.4763791231058521, 0.4788648190854003, 0.47301889919229606, 0.47537811271106734, 0.4754597203562995, 0.47488016595962584, 0.48135071692819076, 0.4733673917473626, 0.4752181655121405, 0.47954094535983177, 0.4766148596745596, 0.47718667611731114, 0.4754971630642543, 0.4733476236909071, 0.47518212437148355, 0.4721587350809733, 0.474289624448406, 0.4774346291135835, 0.47758578346571323, 0.48086335746148645, 0.4755227981714033, 0.4765049150303634, 0.4747680483190684, 0.47579769374678726, 0.4808380155990554, 0.47736593841052805, 0.4712185798233402, 0.47548973387333265, 0.47646035944566845, 0.4778437654545061, 0.4780990483277723, 0.47521549973617067, 0.47455003753917846, 0.4757335912571139, 0.47759383983005266, 0.4747750876639655, 0.4770170910483931, 0.4765212107354311, 0.4746375326963095, 0.4772556356809026, 0.477901565276366, 0.4763900256550359, 0.47860798536571403, 0.4734047212129924, 0.48004749041504097, 0.47788437873872197, 0.472107391790503, 0.4749788012012499, 0.4798104940230588, 0.470204498151538, 0.47216949522223034, 0.4777639215085067, 0.4729468261019685, 0.47337918036251775, 0.4748725446885714, 0.47977138605502767, 0.48232534083184714, 0.4783124189990658, 0.47552885704480374, 0.4713368756512192, 0.4788096068580676, 0.4754434485389517, 0.47464431192513845, 0.47564152864479436, 0.47416336803872927, 0.4766518582712198, 0.475839923340142, 0.47415683104620204, 0.47441868918882163, 0.475194314285825, 0.47613067213178384, 0.4754021859193031, 0.4772925532339685, 0.4776496495879092, 0.47646277077741095, 0.4792197677951701, 0.4805358362517306, 0.47356239794922234, 0.479535143012022, 0.47769000007204154, 0.4767088193907847, 0.47829617630942056, 0.4794754014785824, 0.4743651428316313, 0.4771910333473383, 0.48073159334864346, 0.4777041870876951, 0.4739817570057948, 0.47908059435157024, 0.4767069601201016, 0.47641071830020404, 0.47656381362988837, 0.4725504508790809, 0.47724235977558327, 0.47937739850033173, 0.4759366445964344, 0.4761449362224096, 0.4768864666659734, 0.4769499076228855, 0.4786285617331885, 0.47468771872923204, 0.4771787048771237, 0.4771803963398771, 0.4778963488396098, 0.47477378747880616, 0.47498086010246676, 0.4763444011585903, 0.4784509110227289, 0.4772638891480702, 0.48212498713968954, 0.4791711461828474, 0.4800486847946879, 0.47450836179687667, 0.479594998778788, 0.4801524922710385, 0.47483671267178246, 0.4765390905617724, 0.47458384519200714, 0.47715652265818187, 0.4751508732083443, 0.47498069786571817, 0.475813690769815, 0.4792277266303365, 0.4779079454498486, 0.4783611379605808, 0.4769219119977557, 0.47871538600177244, 0.4825656078929625, 0.4792812890779874, 0.47579850651048733, 0.47519722797091596, 0.4783553830987663, 0.47965129422518527, 0.48006461360591385, 0.4722753313591115, 0.480127132606087, 0.47855587589200926, 0.4788052021444385, 0.47832118987139227, 0.4747599102462583, 0.4824368824265202, 0.47987245136204004, 0.4780726970146222, 0.47798363714822867, 0.47538982089440823, 0.4757457118132703, 0.47150380032279277, 0.4738713845744663, 0.48029936173169013, 0.4766956766194688, 0.4760367933558878, 0.4771591250086529, 0.4842250004989493, 0.47515079495180934, 0.47172769548086485, 0.48235538977561526, 0.4771777805050456, 0.47875737520441963, 0.4751725391551808, 0.48357471275173575, 0.4787104693400899, 0.4714477330267337, 0.4790314551563328, 0.4783505357960157, 0.4816651475558111, 0.47984064446909275, 0.4785499769142863, 0.4788140298005158, 0.47634477966887556, 0.47636986175866136, 0.47618643401817173, 0.4789449202050098, 0.47718274664155197, 0.4717670453163171, 0.47588284740919173, 0.4765948200469121, 0.473227827494205, 0.47669605323890346, 0.4731061319334788, 0.478056251233569, 0.4774809199403584, 0.47266983935803203, 0.47445925375257403, 0.47817320755239967, 0.47226000712078, 0.47090524702048975, 0.47658111898243394, 0.4748009973332866, 0.4724100803667952, 0.4709037469161548, 0.47818639333014035, 0.47719857171352253, 0.46878170269783054, 0.47421951381825883, 0.47346771989832054, 0.47373932255360174, 0.4760785852678497, 0.475044589389534, 0.4773991588488439, 0.47626993183551225, 0.477015964230972, 0.4792293676739527, 0.4759577649922695, 0.4714713628629067, 0.47539623923699215, 0.47546447999259345, 0.473534620653847, 0.47366537297249844, 0.4785020710878847, 0.4772807450457977, 0.4723409691435522, 0.4756189243173486, 0.4805186551094865, 0.47807647917695506, 0.4754575525984478, 0.4765173165003634, 0.4736036989530397, 0.47474372921783, 0.4720987513295618, 0.47200051319809005, 0.47738422182169155, 0.47394125980430396, 0.47543744083939926, 0.4784281903874841, 0.4776270446766551, 0.4770772901848772, 0.47579659868467217, 0.4770246272470207, 0.47589092749483775, 0.4752586379606245, 0.47635407527825935, 0.47374459780888584, 0.4734525003824941, 0.47591842326227907, 0.4744026918003111, 0.4762561673844262, 0.475596150086659, 0.476152239587776, 0.4703638261810389, 0.4785036269655917, 0.47630520681060423, 0.4783865683265715, 0.4773941215854906, 0.4733677854257598, 0.481332818675047, 0.4751010065245786, 0.4772004625249306, 0.48308784880005257, 0.47114022954040513, 0.47717369806265014, 0.47703749838850745, 0.47401503358362984, 0.473642141232658, 0.4751765320420238, 0.47026602650467175, 0.47747484605439694, 0.4708537911019156, 0.4712314056743676, 0.47560499541173323, 0.4760289078331604, 0.4746692608134908, 0.4760270540800223, 0.4763835094523569, 0.4725023918720751, 0.4733168953644932, 0.47657381921555175, 0.47613385454156837, 0.4773173211634642, 0.47640323413435953, 0.4777733306200131, 0.47479130439370476, 0.47471029335636394, 0.4777651343031012, 0.4745546362824535, 0.47812027219850106, 0.472233134600244, 0.4773689018337747, 0.4729930554987263, 0.48112004676955533, 0.4749408882414786, 0.47919142451563007, 0.4742810779790947, 0.47872959921781205, 0.47634085370338636, 0.4715604491641099, 0.47446696760752627, 0.47959029249841, 0.4758013505700835, 0.4763716057328971, 0.4749134745479312, 0.472994777341029, 0.47215495106139926, 0.4719130077992635, 0.4707980775435468, 0.47536596535731407, 0.47751811089142826, 0.47732575546809225, 0.47429768962808094, 0.47541451434315574, 0.4757083377476539, 0.47549843286118837, 0.4742778408527012, 0.471429765424555, 0.47497444706919484, 0.48105923159001307, 0.47367789791949166, 0.47892934859207725, 0.47645082349641965, 0.4811086387834886, 0.4830581066363244, 0.47436380342387346, 0.4798972859935172, 0.48159102837750356, 0.4791442064694887, 0.47567793196607927, 0.477488039475981, 0.4779714338130369, 0.4762733405252512, 0.47409713714361923, 0.4744592437674764, 0.47762528803079723, 0.47643055595962924, 0.4778823195493288, 0.4810262200814093, 0.47545808169203524, 0.47352936927355826, 0.47356197395151794, 0.4779281314071722, 0.4744321601974387, 0.47170280228682576, 0.47602106559328994, 0.47603310123947024, 0.480909882368143, 0.4767176552149785, 0.4774366987690616, 0.47457095451380726, 0.4795264045760054, 0.4768335211401075, 0.48135325253872174, 0.47477061100753615, 0.48087307693196324, 0.47868659288022697, 0.4735349538279908, 0.47609888913672704, 0.47464566434948735, 0.475655099215379, 0.4733625202934047, 0.47570434184680815, 0.4757755603411079, 0.47338825035819376, 0.4791380203778428, 0.47897302724692736, 0.47258915857651457, 0.4754504318424969, 0.4776439458532493, 0.4764087724123647, 0.47967594019654636, 0.4745039285999004, 0.4766570875488588, 0.4774910302430216, 0.47308605676719157, 0.4816510396039715, 0.4768977074544471, 0.4738446847147822, 0.4767256749704845, 0.47687401345824326, 0.48218314048290517, 0.47517102612979095, 0.4753033904937537, 0.4772071958371611, 0.47986853141765345, 0.4780638856408487, 0.4752317591920361, 0.47040169647571556, 0.4787405713946176, 0.4761784031452159, 0.47467845657373087, 0.477151564215625, 0.47471083495518307, 0.47839398052524007, 0.4801953402860081, 0.4815458634805093, 0.4750844492476186, 0.47535733943707553, 0.4786305415357517, 0.47552656439496427, 0.4795823140398425, 0.47850194813132435, 0.47793455822226183, 0.47582736443639356, 0.47588556557270617, 0.47357648870717167, 0.48041045326509657, 0.4834173117665407, 0.47883495740596793, 0.48047580895843445, 0.4744245418501741, 0.4801889467673693, 0.4744484698892418, 0.4753035463641517, 0.47856847665145563, 0.4774068879298348, 0.4759908436781982, 0.48154851050082487, 0.47837306385682515, 0.47592051009825603, 0.47494098842975757, 0.47502893311205235, 0.47399714495608863, 0.47740702068528096, 0.4767125966686115, 0.478464829084655, 0.475207581265889, 0.4776012124499714, 0.4788301935910476, 0.47456384932445156, 0.4781087767294696, 0.4725502787060192, 0.473426835238717, 0.47158190460616556, 0.47939749892097816, 0.4738277298359246, 0.47667672042659726, 0.4769778920475004, 0.47565206397856, 0.47798497931840755, 0.48214744383444635, 0.477445406397529, 0.4746302168157555, 0.48012302460980744, 0.47458408956248094, 0.4784280208222694, 0.48153186261906816, 0.4744354478669785, 0.4764391903805259, 0.4836990276908588, 0.4811904544588274, 0.4782777113295679, 0.47602716413080537, 0.4746099262357332, 0.4752013448438382, 0.4708703366066358, 0.4786847189739085, 0.4745647713840014, 0.4767851935135643, 0.48136673536016594, 0.48003543893267353, 0.4726029794587492, 0.4740363210392346, 0.47432447193712934, 0.4747502425587335, 0.47672074908905443, 0.4735080673000882, 0.4768980999360747, 0.48061051155234324, 0.47463449160833604, 0.4772143780975396, 0.4709542286140631, 0.48451982337403865, 0.4785170511629415, 0.47571764962410273, 0.47649251710928797, 0.4744776704235257, 0.47648229780980716, 0.4771102205808021, 0.48081268082740913, 0.47892529332868483, 0.47730101310160955, 0.4781803949086218, 0.4701374060397966, 0.4764855538958817, 0.47516992423511656, 0.47581209171411776, 0.4778699953774696, 0.4759268303980843, 0.47969101023159544, 0.4707113698405421, 0.4728097788605777, 0.48071763554070895, 0.47246915177532245, 0.47461464236194495, 0.4726152434169318, 0.481868456587198, 0.477711386312372, 0.475571959517311, 0.4711938275927028, 0.47563879353310234, 0.4764051700552684, 0.4773861188491405, 0.476967226322755, 0.47608247012932065, 0.47755409198395304, 0.47597478787845715, 0.47653134216922466, 0.4742903086059227, 0.47509201835344095, 0.4810718196366853, 0.4765870822538354, 0.47724803077108213, 0.48151925581543786, 0.47556870740330565, 0.47712580861086173, 0.4778937945865353, 0.47661140115166245, 0.47520166896020166, 0.47764977540858866, 0.4799226637842044, 0.478742987882885, 0.48020790970073834, 0.47336829814263276, 0.47764141293793133, 0.4762691312253423, 0.47553351386856724, 0.4794103058523009, 0.4781683623129139, 0.472653582332766, 0.4746842600296587, 0.47835026777024503, 0.47576935141862925, 0.4749435926791779, 0.47255058116083215, 0.474325663765976, 0.47755576578275516, 0.4774466943239584, 0.4773038783169111, 0.47577005998557476, 0.47833162903374227, 0.47586802700634445, 0.4768071997403161, 0.4750878398863957, 0.471915619208538, 0.47444280548902645, 0.4742439034234183, 0.47105953843319803, 0.47671530581681776, 0.47631004342488936, 0.4770237865542012, 0.47482232569236993, 0.47665171201683876, 0.472768268030845, 0.4766566739071251, 0.475890727067704, 0.4724140884733882, 0.4766341338874813, 0.4775286997918877, 0.4735204011433827, 0.47487190179751704, 0.4788249691605684, 0.4796528901794234, 0.47413335623514913, 0.47531985757054956, 0.47395102799373096, 0.4708334313976257, 0.47475394402705395, 0.472460467649331, 0.473947985717331, 0.4748248834088326, 0.4784443129191153, 0.47517011237179774, 0.471945247300811, 0.4800816190571121, 0.4782017644726844, 0.4787919581608376, 0.47677247201356254, 0.4767315013524859, 0.47737618229246087, 0.4777332632557097, 0.48123681798803836, 0.4745797856441888, 0.4742578844809162, 0.4767685693670564, 0.48372163204441915, 0.47493810590903063, 0.479139467148376, 0.4766372476466375, 0.4772866801622204, 0.47289118216104203, 0.47560162032964504, 0.47682294616207915, 0.47573421817246075, 0.47719346014470043, 0.47439064651069107, 0.47792074377001514, 0.4755259490603004, 0.4769930137664354, 0.4751093977000398, 0.47575769919454863, 0.4768290976270095, 0.47686865478278195, 0.4756495633692112, 0.47456861893775343, 0.4736213228338709, 0.47868896371240244, 0.4741587675057605, 0.47713738777737874, 0.47508008602936613, 0.47469595000747566, 0.4766554216973196, 0.4774856837781901, 0.4762794393433133, 0.4771457462754497, 0.4782145799998685, 0.4731933163805734, 0.47806086088607674, 0.47812060280115776, 0.4753187008385503, 0.4742934504304048, 0.47862333005025537, 0.47501207916539034, 0.4789164953118473, 0.48310044494663007, 0.4769287338254633, 0.4741591050535708, 0.4776798176101109, 0.47757038052546075, 0.47598618236061735, 0.4736172859902217, 0.473273733725072, 0.475280786184296, 0.47243088280698525, 0.47444781958871185, 0.47392788300455685, 0.4751913514795558, 0.4785334346345185, 0.47951535338755236, 0.4708538172212754, 0.47655656589149054, 0.473848544290397, 0.4773597937695375, 0.4773989413557015, 0.47930169602200257, 0.48311044875340603, 0.4751775180309919, 0.47799005753525714, 0.47930318220554663, 0.47780994560505013, 0.4779101317950947, 0.4781407128406673, 0.4782184234903258, 0.478180462050707, 0.47685154688060116, 0.47702455077187134, 0.475923282149754, 0.4808359754751375, 0.47992613776765664, 0.47446306994195214, 0.4720638069772965, 0.476043114947962, 0.47810296877470293, 0.4752770495905143, 0.48215371019394426, 0.4747967973157507, 0.4765020874583205, 0.47828837126512985, 0.4742297196388168, 0.47774484055297906, 0.47342037491217903, 0.4757220033230577, 0.474239120789612, 0.4762411030023713, 0.478038531522208, 0.4779425988191783, 0.4752254087171341, 0.48173790774388114, 0.47778063259747017, 0.47719526717428934, 0.4801823752297457, 0.47808490462935616, 0.47561252317221414, 0.4737023138149599, 0.4713984304238463, 0.4763625589290746, 0.476857804599419, 0.4758986655000743, 0.4763331095755614, 0.47646907388787635, 0.47624982744654387, 0.47809572733814965, 0.4772449949037549, 0.4771714172079215, 0.4759887278328821, 0.4749365149443311, 0.47676942613985873, 0.4816619709529817, 0.47671830563904627, 0.4787222714793989, 0.48106177542369905, 0.47335483416605384, 0.4767249389383966, 0.4787328681306423, 0.4718764548513549, 0.4783789174826699, 0.47043331193067955, 0.474770135653122, 0.4760318461487104, 0.480543001008246, 0.4773961606418039, 0.4756705295168434, 0.4774685650858338, 0.47692946362403277, 0.48127761465797747, 0.48315526778859963, 0.4770385997360075, 0.4772490468182925, 0.47668531858598684, 0.4771799140693082, 0.47489787511319964, 0.4763400716437373, 0.47787364825978107, 0.4827411954757337, 0.4793726176421618, 0.4744773349187743, 0.47843671461752635, 0.47655812066782854, 0.47888217275749184, 0.4749111645313811, 0.4769773410951713, 0.4773754826724538, 0.47613367686362584, 0.477309673505449, 0.4776014277423983, 0.4746962281336661, 0.4780906213572452, 0.47887145998040925, 0.4806717770632715, 0.47788348525088997, 0.47288321913336234, 0.47919553914694807, 0.4743524522073375, 0.4771088879382339, 0.47627362779358645, 0.4767661018723237, 0.4777320612325351, 0.4814143116478098, 0.480895434722018, 0.47660057170180126, 0.4750552867014205, 0.47882622959103976, 0.47396981436307817, 0.47930160352526285, 0.47921295576487166, 0.47293631617086895, 0.47622625806425484, 0.4738171018703503, 0.4783166372331795, 0.4806915189062225, 0.4772591288225906, 0.4799863220946167, 0.4732287577615927, 0.4783605210014973, 0.4737748598397864, 0.47401192860511343, 0.4788951449238772, 0.47801847348195803, 0.4754928263806042, 0.47747896182664096, 0.47377390745157516, 0.4733987811491024, 0.47577925631955686, 0.47217968612410777, 0.4730671676615859, 0.4755075323071076, 0.47349098886450336, 0.47652578716487837, 0.4770074209006008, 0.47894844832786204, 0.47582766760032164, 0.4724448813895106, 0.47297514507395977, 0.48111632805643983, 0.4816039871048847, 0.4780397188419042, 0.4736106814732882, 0.4721120507526826, 0.4788252827917854, 0.4767438475921942, 0.4733692573485505, 0.4772388210481885, 0.4745273307517174, 0.47666347347028365, 0.474540048419855, 0.4763156038741765, 0.4732302234443735, 0.4772531427581944, 0.4822219609956707, 0.47547271103992317, 0.4795218707522771, 0.4760699508150023, 0.4719566729356658, 0.47428282133591243, 0.47500357143491556, 0.4790301480239208, 0.4749907046216778, 0.4787433396429129, 0.4761237020266414, 0.47378749988831725, 0.47715714434147893, 0.4783396653602201, 0.4763156757942531, 0.47324960373645225, 0.47425103965128085, 0.47411859293120623, 0.48142380258036477, 0.476448454872294, 0.4749222138262563, 0.47635321920912943, 0.47292493634473565, 0.4727873898689316, 0.4751762446705442, 0.4762404552891309, 0.47452318066723737, 0.47711201305524487, 0.47518066100407647, 0.47842134186178004, 0.47491734568903576, 0.48122021246622515, 0.47765046917753745, 0.479449805118277, 0.4739905442355684, 0.4788294492639118, 0.4780687678547396, 0.4753245113354914, 0.47661633129190084, 0.48116182138804714, 0.4722769177566697, 0.4744637648589657, 0.4794210658629189, 0.47603756764430766, 0.48142373856568027, 0.47627342370298803, 0.4808346418932228, 0.4739028419789413, 0.47280682069402896, 0.47430836287358236, 0.47941158078717183, 0.47688053804256925, 0.4788367250590242, 0.47422922957682645, 0.4773729242195164, 0.47849708138948005, 0.4802742362814412, 0.47872444117515894, 0.4780824021950585, 0.47046373278827996, 0.4767567645216427, 0.47832374645010917, 0.4764472353186155, 0.4775311825948545, 0.4810293884721211, 0.47705077307471017, 0.47399774622210084, 0.48045416602846425, 0.4735192840490489, 0.4742173722386079, 0.4779487202472793, 0.47211022985479567, 0.4744624650723901, 0.47549642922677965, 0.4729525214561753, 0.478065733347584, 0.4804414310270324, 0.4729103330455694, 0.47816301243702386, 0.48213589362236775, 0.4798624236907628, 0.4781891479709355, 0.47286553788943403, 0.4748564211009541, 0.47444248408099576, 0.47427689032189946, 0.47603061458766693, 0.4732786586952187, 0.4785388693299606, 0.47227621939287623, 0.47347959576653315, 0.47748156104251743, 0.47698608550530436, 0.47736222395867406, 0.47798591438081717, 0.4761798135978007, 0.4743183110683433, 0.47481952726754073, 0.4765018544501777, 0.47522139822876436, 0.47941613084254814, 0.47548465288075453, 0.4783341480510105, 0.47762822456507925, 0.47414655292324914, 0.4749311795794312, 0.4767986778120383, 0.47632792668039625, 0.4767407670846461, 0.474524495956009, 0.47055347238959705, 0.4730929336726449, 0.4756635149724646, 0.4757244323175683, 0.4790435429133735, 0.4764091145609542, 0.4778466415085244, 0.47368948293722274, 0.47613607927160706, 0.4730411537699542, 0.47321642210748555, 0.4771333532459391, 0.474880862173469, 0.47761374733912554, 0.4738817874715453, 0.4751266859036102, 0.47590247167310373, 0.478157624950041, 0.4795205159781011, 0.4759230344348682, 0.4771989439086305, 0.4786837301957574, 0.4745673936925629, 0.4776847732455924, 0.4801796283385828, 0.48001895274686796, 0.4688351990728763, 0.47761054269903014, 0.48472659352817593, 0.47449248887178563, 0.47451997036202115, 0.4796138366914549, 0.47456336664556126, 0.4763614439248166, 0.47635452379693, 0.4718454240320067, 0.4748619408110433, 0.4812523600385691, 0.4773351188452369, 0.46886557809639257, 0.4794184302853894, 0.4752870500884198, 0.4811181210077825, 0.4803143988577383, 0.4737175743730775, 0.47745566348589796, 0.4794816591538724, 0.47931065761847563, 0.4769976588028709, 0.478098011708204, 0.47684721672439423, 0.47521477232512127, 0.4789406841371552, 0.4790806216199696, 0.47996474565890895, 0.47398286616135216, 0.4804581524264014, 0.4810526404057154, 0.4810260967027741, 0.4796244242579511, 0.47554558618603504, 0.4799871281036952, 0.4742429422106425, 0.47929395394769897, 0.47753352219410994, 0.48071063241620704, 0.4776926822143637, 0.47737765958965417, 0.47566814932908996, 0.4789625481484317, 0.47873460465620976, 0.4743769319392648, 0.47774786389964025, 0.4775139926757536, 0.4737517767635459, 0.4767463967457582, 0.476823437416379, 0.47764693972548233, 0.47737163275232414, 0.48342764413369477, 0.47897365452699264, 0.4737941005797862, 0.47222730399536944, 0.479715306523253, 0.4758825243958942, 0.47561486991293045, 0.4731121411632361, 0.48100240245223014, 0.476873578069716, 0.4802858176680826, 0.4744271518440723, 0.4775087494375029, 0.4783335908014542, 0.4830336430604395, 0.4745973230360812, 0.47581166400336145, 0.4789423203226327, 0.4778732951993043, 0.4737802112352286, 0.4781742094039707, 0.4778741153874436, 0.4734263567604331, 0.47499070105990354, 0.477923633232576, 0.47590146013318124, 0.4732993768077427, 0.4756105665172957, 0.47097648240158574, 0.4760401526481134, 0.4743842369117999, 0.4707210297638313, 0.4744153968824781, 0.4822024324303898, 0.4723529666933691, 0.47437399626113474, 0.4739251552747461, 0.4723414881009309, 0.47862019097883296, 0.47258429688115255, 0.47497520146633543, 0.481486399124775, 0.4745820183120636, 0.4819004657466474, 0.4798848943139911, 0.47490661298316317, 0.4756668848442787, 0.4759315878637938, 0.48230741142645334, 0.47346952394986425, 0.47393577674339926, 0.4749171537572689, 0.47837140432719993, 0.4757983481965786, 0.47368068069848807, 0.47282398073227505, 0.4754741359345151, 0.47744049901207386, 0.4803710230541509, 0.48164252172391614, 0.47258385868778185, 0.4727248439952277, 0.47816202514786227, 0.47470454257801137, 0.4731417954058908, 0.48273017225633463, 0.4778573257037313, 0.483465513414649, 0.47237430585336243, 0.47491746723793604, 0.4729605269554556, 0.4752854077951812, 0.4754455540226893, 0.47899081979232555, 0.4790160409274186, 0.4779631911126747, 0.4781499965199069, 0.4742285263821018, 0.4762582230217275, 0.47890278068266656, 0.47716315119178043, 0.47377284140119463, 0.47635255320347764, 0.47939432490681616, 0.4836594545601134, 0.4733241678783355, 0.4761511396228584, 0.47531929839970893, 0.47292464974881737, 0.4699422476683358, 0.4795543191909917, 0.4735622863278109, 0.474104572005902, 0.4770681005019765, 0.4765439966740415, 0.4728352530878118, 0.4737983278737336, 0.4781035929039669, 0.47884858036251127, 0.4759711832911657, 0.47593195704829605, 0.4748345434912928, 0.4775994967784796, 0.4804628437757397, 0.47484440119114835, 0.4789911901672854, 0.47687639846834945, 0.4817782271680903, 0.47709628103524804, 0.47400745732943655, 0.4712095258220605, 0.47742326113673833, 0.47822527251030916, 0.47451589488943824, 0.4776653398685443, 0.4733965739870153, 0.47849972386962253, 0.4799635061723063, 0.47763781553014667, 0.4723055832640395, 0.47605935821287404, 0.47626211292583853, 0.4787433330401879, 0.47725904344327563, 0.47542288868888255, 0.47739578977915553, 0.475335841200565, 0.4758774866664342, 0.47745085863726555, 0.4787901203679158, 0.4756331510696215, 0.4786035689257653, 0.4722369504108922, 0.4743543630797319, 0.4765377837502005, 0.47519032214390294, 0.4735942124597623, 0.4742055517710074, 0.4752250785945691, 0.47439297372034717, 0.48070627906941454, 0.4715793092490602, 0.47667579192052767, 0.4739272643935084, 0.4760371982645003, 0.47935435457954734, 0.4749008537620121, 0.48068683879418717, 0.47410264365611315, 0.47600286668943764, 0.47169425605106363, 0.4751115008565153, 0.47306991058245657, 0.47652936426713893, 0.4774698277038975, 0.479288070379497, 0.4793631617996639, 0.47743797601335336, 0.4726055541871242, 0.47623366716493515, 0.47949693286408096, 0.4763779282844804, 0.4784426182837477, 0.4773003354512033, 0.4800988121285231, 0.48063172628252443, 0.47776425146769713, 0.47552268952980553, 0.4759714672284808, 0.47550394375425253, 0.47596441131087885, 0.47906973494613236, 0.47472149081561327, 0.475285427546895, 0.47288958106450923, 0.47674692554590775, 0.47674451977334376, 0.478958913387948, 0.4787142945787838, 0.4787974884021123, 0.4761510914269232, 0.47988752172198457, 0.4785575943925814, 0.47424594322003727, 0.4753109429241227, 0.4730664657462541, 0.47908182772515384, 0.47393050150454985, 0.4741279215073648, 0.4770008419176279, 0.47868312174763095, 0.4744589138844532, 0.4717863208196257, 0.47615229835955475, 0.4783533283710587, 0.4730238144363143, 0.4755017700294517, 0.47885299574318807, 0.47006265997490587, 0.4753978923756054, 0.47312328530183706, 0.47665902985941966, 0.4777582842785718, 0.4783127595104194, 0.4746303058471923, 0.4799371925049421, 0.47675318565605496, 0.4783959006875167, 0.4809801884493543, 0.4766682928968522, 0.4733548809101248, 0.47795379302228713, 0.476688405056349, 0.4794905137662783, 0.4748472129583759, 0.4806689409852339, 0.47923173124294555, 0.4764984929900456, 0.4796468307868746, 0.4756053909739796, 0.47510182001306395, 0.4762646797210022, 0.4738427958938254, 0.4743221133242767, 0.47307959731824867, 0.4756675259484498, 0.476597278542111, 0.47448009307903444, 0.48128124068833716, 0.47654645726903844, 0.4730873268375655, 0.474647625741255, 0.4781390011237392, 0.47708808847875417, 0.4725876705810319, 0.4765697637014815, 0.47388205860231514, 0.4754206248804012, 0.47317927121104575, 0.476894482391596, 0.47463550344475075, 0.47748102892924427, 0.4762720197855198, 0.4766677325634252, 0.4793867422744896, 0.47448433150822666, 0.4786445903777327, 0.4714567370346412, 0.47679402491465595, 0.47733076724381135, 0.47327797479966405, 0.4799682942765908, 0.4772553619434345, 0.47562934059487955, 0.47522377015389194, 0.4810918080487633, 0.4760653929098125, 0.4743078585245401, 0.4751954587110513, 0.47242667892780144, 0.47803945819040505, 0.47358187618391395, 0.47589413768112876, 0.47552411853232535, 0.47883030930880915, 0.47504734841027507, 0.4770373149790496, 0.4780315885681031, 0.47757682039216953, 0.47343866497692244, 0.47626961721941896, 0.4758116895279515, 0.47833132201246037, 0.4796711310261649, 0.47561154781809123, 0.4770815350578753, 0.4802380325079231, 0.48042529739530865, 0.4751510981468053, 0.46907137188265546, 0.47552443018807916, 0.476328345668844, 0.48102777982245015, 0.47624399937695533, 0.4733321702966962, 0.4730897139973634, 0.4759039744079292, 0.4792939597615041, 0.47893917013490633, 0.4773804164037391, 0.48160542782183463, 0.47553725340073666, 0.47922005126170025, 0.4740570438205868, 0.47418173626461546, 0.4747111495826408, 0.47847315872125123, 0.4764223623413777, 0.47329351604398023, 0.4779556366587784, 0.47948956544894356, 0.483430839335458, 0.4744370863247324, 0.4748497641458691, 0.48318492631323173, 0.4729742438497745, 0.4744627568323806, 0.4739120181855495, 0.47733090585552934, 0.47597317633988495, 0.47536534639452493, 0.4791102976343513, 0.4748113033441085, 0.47251179666700927, 0.4785677936411789, 0.4725149884373743, 0.4799189774830494, 0.47866922360297337, 0.47706862996995003, 0.47860290506243436, 0.4762450773629658, 0.4816126392350115, 0.47641205025900374, 0.4749876385290802, 0.4791401148124317, 0.4736371768961297, 0.4762582607001082, 0.4772673327052715, 0.4738908735246056, 0.4762828510175187, 0.4754938865195521, 0.4745365675771581, 0.4780932431011466, 0.4811888412359955, 0.4747228345347577, 0.4775339369364285, 0.4818020492620927, 0.4750742970194143, 0.480312509153104, 0.47888067488775254, 0.4768230503183043, 0.4750875590695783, 0.4779300823277528, 0.4742722676114376, 0.4803611632498309, 0.4765973374998812, 0.47971394150443425, 0.4774119537340512, 0.4807734795336702, 0.47292451879246644, 0.4779957251422964, 0.473601958646901, 0.47798382224312275, 0.47796637639627915, 0.47606074030580964, 0.4757276066125394, 0.48031390453256195, 0.4734988910879439, 0.47794058062715694, 0.47511373926240097, 0.47669637767201656, 0.47699997837005914, 0.48285924452406354, 0.4760108015816081, 0.47260648212101514, 0.47659011385493694, 0.4794617753247199, 0.47439514798549043, 0.48039442656281484, 0.47732620952012944, 0.47830823573183123, 0.473968470973129, 0.4762470184243962, 0.4748246938927889, 0.47510585262242344, 0.46914362553636274, 0.47535697167001856, 0.47889893495504027, 0.4752992095456074, 0.4756585430508171, 0.4730159320579308, 0.4803456583928033, 0.47876496779842426, 0.47712563193769925, 0.4771212161281946, 0.47960326074916315, 0.47361521094381676, 0.4761303642765552, 0.4791865529438558, 0.4758846025617791, 0.47517526822922845, 0.4781676544873527, 0.4761255227068963, 0.47760307024894544, 0.47283469962751384, 0.4790077820147813, 0.4814903223007863, 0.47547317159427105, 0.47746642401852285, 0.4735933931348304, 0.4715092473906841, 0.47850739668658326, 0.4744215921496937, 0.4767558854138648, 0.47163075398820425, 0.4769990377987505, 0.4699648943978326, 0.47342643901391596, 0.4797135321561443, 0.474105615995576, 0.472314469019313, 0.4772465496179847, 0.4776828703196014, 0.4726412688830678, 0.47754106511607924, 0.4765641949493738, 0.47680530977181973, 0.47166983007123314, 0.474920954193043, 0.47616776100145874, 0.47550529405173814, 0.4765729071047554, 0.47770169820583513, 0.47373241893708795, 0.4737643772029364, 0.47417326407922866, 0.4792285882112273, 0.47827031770966577, 0.47730232923617055, 0.4805600338012355, 0.47264223707178454, 0.4725695738300467, 0.4765219099637209, 0.4770932480977845, 0.4732598094293631, 0.4786862888875152, 0.47993884133919473, 0.47571059118675446, 0.47522483887658873, 0.4820019153507509, 0.4749660269432576]\n",
      "10000\n"
     ]
    }
   ],
   "source": [
    "\n",
    "pred = []\n",
    "#temp = data\n",
    "\n",
    "for i in np.arange(10000):\n",
    "    X = [3, 5.5, 60]\n",
    "    sample = bootstrap_sampling(data)\n",
    "    beta = linear_regression(sample)\n",
    "    pred.append(predict(beta,X))\n",
    "print(pred)\n",
    "print(len(pred))"
   ]
  },
  {
   "cell_type": "code",
   "execution_count": 192,
   "metadata": {
    "tags": []
   },
   "outputs": [
    {
     "name": "stdout",
     "output_type": "stream",
     "text": [
      "0.4749660269432576\n"
     ]
    },
    {
     "data": {
      "image/png": "[encoded data removed]",
      "text/plain": [
       "<Figure size 432x288 with 1 Axes>"
      ]
     },
     "metadata": {
      "needs_background": "light"
     },
     "output_type": "display_data"
    }
   ],
   "source": [
    "x_pred = predict(beta,X)\n",
    "print(x_pred)\n",
    "pred = [x_pred-a for a in pred]\n",
    "#print(pred)\n",
    "plt.hist(pred,bins = 30)\n",
    "plt.show()"
   ]
  },
  {
   "cell_type": "code",
   "execution_count": 193,
   "metadata": {
    "tags": []
   },
   "outputs": [
    {
     "name": "stdout",
     "output_type": "stream",
     "text": [
      "-0.00493942802657879\n",
      "0.0019111434276515627\n",
      "CI  0.47305488351560604 0.4799054549698364\n"
     ]
    }
   ],
   "source": [
    "print(np.percentile(pred,10))\n",
    "print(np.percentile(pred,90))\n",
    "print(\"CI \",x_pred - np.percentile(pred,90), x_pred - np.percentile(pred,10))"
   ]
  },
  {
   "cell_type": "code",
   "execution_count": 194,
   "metadata": {
    "tags": []
   },
   "outputs": [
    {
     "data": {
      "text/plain": [
       "Ellipsis"
      ]
     },
     "execution_count": 194,
     "metadata": {},
     "output_type": "execute_result"
    }
   ],
   "source": [
    "..."
   ]
  },
  {
   "cell_type": "markdown",
   "metadata": {},
   "source": [
    "<!-- END QUESTION -->\n",
    "\n",
    "<!-- BEGIN QUESTION -->\n",
    "\n",
    "Boston Data Sunday Magazine has a weekly article commenting on housing units around Boston and gives their recommendation of whether an housing unit is a good purchase or not (assume binary recommendation, either one (\"buy\") or zero (\"no-buy\")). Fortunately we have gained some insider information and understand that they make recommendations based on `AGE` (proportion of owner-occupied units built prior to 1940), `DIS` (weighted distances to ﬁve Boston employment centers), `RAD` (index of accessibility to radial highways) and `TAX` (full-value property-tax rate per $10,000).\n",
    "\n",
    "Suppose their binary buy/no-buy recommendations for the 506 housing units in the `housing.csv` is given below as variable `recommend_buy_data`. We want to model their recommmendation as a logistic regression problem, where the probability of recommending \"buy\" is given by\n",
    "$$\n",
    "    \\mathbb{P} [\\text{Recommend Buy} | X] = \\frac{e^{\\gamma_0 + \\gamma_1 X_{AGE} + \\gamma_2 X_{DIS} + \\gamma_3 X_{RAD} + \\gamma_4 X_{TAX}}}{ 1 + e^{\\gamma_0 + \\gamma_1 X_{AGE} + \\gamma_2 X_{DIS} + \\gamma_3 X_{RAD} + \\gamma_4 X_{TAX}}}.\n",
    "$$"
   ]
  },
  {
   "cell_type": "code",
   "execution_count": 195,
   "metadata": {
    "scrolled": false
   },
   "outputs": [
    {
     "data": {
      "text/html": [
       "<div>\n",
       "<style scoped>\n",
       "    .dataframe tbody tr th:only-of-type {\n",
       "        vertical-align: middle;\n",
       "    }\n",
       "\n",
       "    .dataframe tbody tr th {\n",
       "        vertical-align: top;\n",
       "    }\n",
       "\n",
       "    .dataframe thead th {\n",
       "        text-align: right;\n",
       "    }\n",
       "</style>\n",
       "<table border=\"1\" class=\"dataframe\">\n",
       "  <thead>\n",
       "    <tr style=\"text-align: right;\">\n",
       "      <th></th>\n",
       "      <th>AGE</th>\n",
       "      <th>DIS</th>\n",
       "      <th>RAD</th>\n",
       "      <th>TAX</th>\n",
       "    </tr>\n",
       "  </thead>\n",
       "  <tbody>\n",
       "    <tr>\n",
       "      <th>0</th>\n",
       "      <td>65.2</td>\n",
       "      <td>4.0900</td>\n",
       "      <td>1</td>\n",
       "      <td>296.0</td>\n",
       "    </tr>\n",
       "    <tr>\n",
       "      <th>1</th>\n",
       "      <td>78.9</td>\n",
       "      <td>4.9671</td>\n",
       "      <td>2</td>\n",
       "      <td>242.0</td>\n",
       "    </tr>\n",
       "    <tr>\n",
       "      <th>2</th>\n",
       "      <td>61.1</td>\n",
       "      <td>4.9671</td>\n",
       "      <td>2</td>\n",
       "      <td>242.0</td>\n",
       "    </tr>\n",
       "    <tr>\n",
       "      <th>3</th>\n",
       "      <td>45.8</td>\n",
       "      <td>6.0622</td>\n",
       "      <td>3</td>\n",
       "      <td>222.0</td>\n",
       "    </tr>\n",
       "    <tr>\n",
       "      <th>4</th>\n",
       "      <td>54.2</td>\n",
       "      <td>6.0622</td>\n",
       "      <td>3</td>\n",
       "      <td>222.0</td>\n",
       "    </tr>\n",
       "    <tr>\n",
       "      <th>...</th>\n",
       "      <td>...</td>\n",
       "      <td>...</td>\n",
       "      <td>...</td>\n",
       "      <td>...</td>\n",
       "    </tr>\n",
       "    <tr>\n",
       "      <th>501</th>\n",
       "      <td>69.1</td>\n",
       "      <td>2.4786</td>\n",
       "      <td>1</td>\n",
       "      <td>273.0</td>\n",
       "    </tr>\n",
       "    <tr>\n",
       "      <th>502</th>\n",
       "      <td>76.7</td>\n",
       "      <td>2.2875</td>\n",
       "      <td>1</td>\n",
       "      <td>273.0</td>\n",
       "    </tr>\n",
       "    <tr>\n",
       "      <th>503</th>\n",
       "      <td>91.0</td>\n",
       "      <td>2.1675</td>\n",
       "      <td>1</td>\n",
       "      <td>273.0</td>\n",
       "    </tr>\n",
       "    <tr>\n",
       "      <th>504</th>\n",
       "      <td>89.3</td>\n",
       "      <td>2.3889</td>\n",
       "      <td>1</td>\n",
       "      <td>273.0</td>\n",
       "    </tr>\n",
       "    <tr>\n",
       "      <th>505</th>\n",
       "      <td>80.8</td>\n",
       "      <td>2.5050</td>\n",
       "      <td>1</td>\n",
       "      <td>273.0</td>\n",
       "    </tr>\n",
       "  </tbody>\n",
       "</table>\n",
       "<p>506 rows × 4 columns</p>\n",
       "</div>"
      ],
      "text/plain": [
       "      AGE     DIS  RAD    TAX\n",
       "0    65.2  4.0900    1  296.0\n",
       "1    78.9  4.9671    2  242.0\n",
       "2    61.1  4.9671    2  242.0\n",
       "3    45.8  6.0622    3  222.0\n",
       "4    54.2  6.0622    3  222.0\n",
       "..    ...     ...  ...    ...\n",
       "501  69.1  2.4786    1  273.0\n",
       "502  76.7  2.2875    1  273.0\n",
       "503  91.0  2.1675    1  273.0\n",
       "504  89.3  2.3889    1  273.0\n",
       "505  80.8  2.5050    1  273.0\n",
       "\n",
       "[506 rows x 4 columns]"
      ]
     },
     "execution_count": 195,
     "metadata": {},
     "output_type": "execute_result"
    }
   ],
   "source": [
    "recommend_buy_data = [0, 0, 1, 1, 1, 1, 1, 1, 0, 1, 1, 1, 1, 1, 0, 0, 0, 0, 0, 0, 0, 0, 0, 0, 0, 0, 0, 0, 0, 0, 0, 0, 1, 0, 0, 0, 0, 1, 1, 1, 0, 1, 0, 1, 1, 1, 1, 1, 0, 0, 1, 1, 1, 0, 1, 1, 1, 1, 0, 0, 0, 1, 1, 1, 1, 1, 1, 1, 0, 1, 1, 1, 1, 1, 0, 0, 0, 1, 0, 1, 1, 1, 1, 1, 1, 1, 1, 1, 1, 0, 0, 0, 0, 0, 0, 0, 0, 0, 0, 1, 1, 0, 1, 1, 1, 0, 0, 1, 0, 0, 0, 1, 0, 0, 0, 1, 1, 0, 1, 0, 0, 0, 0, 0, 0, 0, 0, 0, 0, 0, 0, 0, 0, 0, 0, 0, 1, 1, 0, 0, 0, 0, 1, 0, 0, 0, 1, 0, 0, 0, 0, 0, 0, 0, 0, 0, 0, 0, 0, 0, 1, 0, 0, 0, 0, 1, 0, 0, 0, 0, 0, 0, 0, 0, 0, 0, 0, 1, 0, 1, 0, 0, 1, 1, 0, 1, 0, 0, 1, 1, 0, 1, 1, 1, 1, 1, 0, 1, 0, 1, 1, 1, 1, 1, 1, 1, 0, 1, 0, 1, 1, 1, 1, 1, 1, 0, 0, 0, 0, 1, 1, 0, 0, 0, 1, 1, 1, 1, 0, 1, 0, 0, 1, 1, 1, 1, 0, 1, 1, 0, 1, 1, 0, 1, 1, 1, 0, 1, 1, 1, 1, 1, 1, 1, 1, 1, 1, 0, 0, 0, 1, 0, 1, 0, 0, 1, 1, 1, 0, 0, 1, 1, 0, 1, 1, 0, 1, 0, 0, 0, 0, 0, 0, 0, 0, 1, 1, 1, 1, 1, 0, 0, 1, 1, 1, 1, 1, 1, 1, 0, 1, 1, 1, 1, 0, 1, 0, 1, 0, 1, 0, 0, 1, 1, 0, 0, 0, 1, 1, 0, 1, 1, 0, 0, 1, 1, 1, 1, 1, 1, 1, 1, 1, 1, 1, 0, 1, 1, 1, 1, 1, 1, 0, 1, 1, 1, 1, 0, 1, 1, 1, 1, 0, 1, 1, 0, 1, 1, 1, 1, 1, 1, 1, 1, 1, 1, 1, 1, 1, 1, 1, 1, 1, 1, 1, 1, 1, 1, 1, 1, 1, 1, 1, 0, 1, 1, 1, 1, 1, 1, 1, 1, 1, 1, 1, 1, 1, 1, 1, 1, 1, 1, 1, 1, 1, 1, 1, 1, 1, 1, 1, 1, 1, 1, 1, 1, 1, 1, 1, 1, 1, 1, 1, 0, 1, 1, 1, 1, 1, 0, 1, 1, 1, 0, 1, 1, 0, 1, 1, 1, 1, 1, 1, 1, 1, 1, 1, 1, 1, 1, 1, 1, 1, 0, 1, 1, 1, 1, 1, 1, 1, 1, 1, 1, 1, 1, 0, 1, 1, 1, 1, 1, 1, 1, 1, 0, 1, 1, 0, 0, 1, 1, 1, 1, 1, 1, 1, 1, 0, 0, 0, 0, 1, 1, 0, 1, 0, 1, 0, 0, 0, 0, 0, 1, 1, 1]\n",
    "\n",
    "data = pd.read_csv(\"housing.csv\", delim_whitespace=True)\n",
    "data = data[[\"AGE\", \"DIS\", \"RAD\", \"TAX\"]]\n",
    "data"
   ]
  },
  {
   "cell_type": "markdown",
   "metadata": {},
   "source": [
    "7. Conduct a logistic regression using `sklearn.linear_model.LogisticRegression` (https://scikit-learn.org/stable/modules/generated/sklearn.linear_model.LogisticRegression.html), and estimate the probability that Boston Data Sunday Magazine would recomendation buying this housing unit with the following data: `[AGE, DIS, RAD, TAX] = [30, 4.5, 3, 230]`."
   ]
  },
  {
   "cell_type": "code",
   "execution_count": 196,
   "metadata": {
    "tags": []
   },
   "outputs": [
    {
     "name": "stdout",
     "output_type": "stream",
     "text": [
      "(506, 4)\n",
      "506\n",
      "[[0.40288181 0.59711819]]\n"
     ]
    },
    {
     "data": {
      "text/plain": [
       "0.7727272727272727"
      ]
     },
     "execution_count": 196,
     "metadata": {},
     "output_type": "execute_result"
    }
   ],
   "source": [
    "clf = LogisticRegression(random_state=0).fit(data, recommend_buy_data)\n",
    "print(data.shape)\n",
    "print(len(recommend_buy_data))\n",
    "a = clf.predict([[30, 4.5, 3, 230]])\n",
    "print(clf.predict_proba([[30, 4.5, 3, 230]]))\n",
    "clf.score(data, recommend_buy_data)"
   ]
  },
  {
   "cell_type": "markdown",
   "metadata": {},
   "source": [
    "<!-- END QUESTION -->\n",
    "\n"
   ]
  },
  {
   "cell_type": "code",
   "execution_count": null,
   "metadata": {},
   "outputs": [],
   "source": []
  },
  {
   "cell_type": "markdown",
   "metadata": {
    "deletable": false,
    "editable": false
   },
   "source": [
    "---\n",
    "\n",
    "To double-check your work, the cell below will rerun all of the autograder tests."
   ]
  },
  {
   "cell_type": "code",
   "execution_count": 197,
   "metadata": {
    "deletable": false,
    "editable": false
   },
   "outputs": [
    {
     "data": {
      "text/plain": [
       "p4-1 results: All test cases passed!\n",
       "\n",
       "p4-2 results: All test cases passed!\n",
       "\n",
       "p4-3 results: All test cases passed!"
      ]
     },
     "execution_count": 197,
     "metadata": {},
     "output_type": "execute_result"
    }
   ],
   "source": [
    "grader.check_all()"
   ]
  },
  {
   "cell_type": "markdown",
   "metadata": {
    "deletable": false,
    "editable": false
   },
   "source": [
    "## Submission\n",
    "\n",
    "Make sure you have run all cells in your notebook in order before running the cell below, so that all images/graphs appear in the output. The cell below will generate a zip file for you to submit. **Please save before exporting!**\n",
    "\n",
    "Please download the zip file after running the cell below, then upload the zip file to GradeScope for submission. You can also download your notebook as an IPYNB file for the submission. Please also export your notebook as a PDF file (Use **Command/Control + P** if you have issues with the native export as PDF feature). **Please upload and submit both the IPYNB file and the PDF via Gradescope (entry code: GEWXGD).**"
   ]
  },
  {
   "cell_type": "code",
   "execution_count": 198,
   "metadata": {
    "deletable": false,
    "editable": false
   },
   "outputs": [
    {
     "data": {
      "text/html": [
       "\n",
       "            <p>Your submission has been exported. Click <a href=\"Homework #5_2022_05_02T10_04_02_345636.zip\" download=\"Homework #5_2022_05_02T10_04_02_345636.zip\" target=\"_blank\">here</a>\n",
       "            to download the zip file.</p>\n",
       "            "
      ],
      "text/plain": [
       "<IPython.core.display.HTML object>"
      ]
     },
     "metadata": {},
     "output_type": "display_data"
    }
   ],
   "source": [
    "# Save your notebook first, then run this cell to export your submission.\n",
    "grader.export(pdf=False)"
   ]
  },
  {
   "cell_type": "markdown",
   "metadata": {},
   "source": [
    " "
   ]
  }
 ],
 "metadata": {
  "kernelspec": {
   "display_name": "Python 3",
   "language": "python",
   "name": "python3"
  },
  "language_info": {
   "codemirror_mode": {
    "name": "ipython",
    "version": 3
   },
   "file_extension": ".py",
   "mimetype": "text/x-python",
   "name": "python",
   "nbconvert_exporter": "python",
   "pygments_lexer": "ipython3",
   "version": "3.8.8"
  },
  "latex_envs": {
   "LaTeX_envs_menu_present": true,
   "autoclose": false,
   "autocomplete": true,
   "bibliofile": "biblio.bib",
   "cite_by": "apalike",
   "current_citInitial": 1,
   "eqLabelWithNumbers": true,
   "eqNumInitial": 1,
   "hotkeys": {
    "equation": "Ctrl-E",
    "itemize": "Ctrl-I"
   },
   "labels_anchors": false,
   "latex_user_defs": false,
   "report_style_numbering": false,
   "user_envs_cfg": false
  },
  "otter": {
   "tests": {
    "p4-1": {
     "name": "p4-1",
     "points": null,
     "suites": [
      {
       "cases": [
        {
         "code": ">>> data = pd.read_csv(\"housing.csv\", delim_whitespace=True)\n>>> data = data[[\"NOX\", \"RAD\", \"INDUS\", \"AGE\"]]\n>>> len(linear_regression(data[:100])) == 4\nTrue",
         "hidden": false,
         "locked": false
        },
        {
         "code": ">>> data = pd.read_csv(\"housing.csv\", delim_whitespace=True)\n>>> data = data[[\"NOX\", \"RAD\", \"INDUS\", \"AGE\"]]\n>>> np.allclose(\n...     linear_regression(data[:100]),\n...     np.array([4.18571357e-01, -6.56173031e-04,  2.26581560e-03,  1.02865569e-05]))\nTrue",
         "hidden": false,
         "locked": false
        }
       ],
       "scored": true,
       "setup": "",
       "teardown": "",
       "type": "doctest"
      }
     ]
    },
    "p4-2": {
     "name": "p4-2",
     "points": null,
     "suites": [
      {
       "cases": [
        {
         "code": ">>> predict(np.array([0.3, 0.002, 0.006, 0.00001]), np.array([3, 5.5, 60])) == 0.375\nTrue",
         "hidden": false,
         "locked": false
        }
       ],
       "scored": true,
       "setup": "",
       "teardown": "",
       "type": "doctest"
      }
     ]
    },
    "p4-3": {
     "name": "p4-3",
     "points": null,
     "suites": [
      {
       "cases": [
        {
         "code": ">>> data = pd.read_csv(\"housing.csv\", delim_whitespace=True)\n>>> data = data[[\"NOX\", \"RAD\", \"INDUS\", \"AGE\"]]\n>>> isinstance(bootstrap_sampling(data), pd.core.frame.DataFrame)\nTrue",
         "hidden": false,
         "locked": false
        }
       ],
       "scored": true,
       "setup": "",
       "teardown": "",
       "type": "doctest"
      }
     ]
    }
   }
  },
  "varInspector": {
   "cols": {
    "lenName": 16,
    "lenType": 16,
    "lenVar": 40
   },
   "kernels_config": {
    "python": {
     "delete_cmd_postfix": "",
     "delete_cmd_prefix": "del ",
     "library": "var_list.py",
     "varRefreshCmd": "print(var_dic_list())"
    },
    "r": {
     "delete_cmd_postfix": ") ",
     "delete_cmd_prefix": "rm(",
     "library": "var_list.r",
     "varRefreshCmd": "cat(var_dic_list()) "
    }
   },
   "types_to_exclude": [
    "module",
    "function",
    "builtin_function_or_method",
    "instance",
    "_Feature"
   ],
   "window_display": false
  }
 },
 "nbformat": 4,
 "nbformat_minor": 4
}
